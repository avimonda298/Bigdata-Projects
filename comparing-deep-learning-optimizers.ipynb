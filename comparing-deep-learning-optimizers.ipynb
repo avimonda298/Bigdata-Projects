{
 "cells": [
  {
   "cell_type": "markdown",
   "id": "9b365bd8",
   "metadata": {
    "papermill": {
     "duration": 0.009049,
     "end_time": "2023-02-26T04:21:36.336479",
     "exception": false,
     "start_time": "2023-02-26T04:21:36.327430",
     "status": "completed"
    },
    "tags": []
   },
   "source": [
    "<div style=\"text-align: left; background-color: #BB4ED8 ; font-family: Trebuchet MS; color: white; padding: 15px; line-height:1;border-radius:1px; margin-bottom: 0em; text-align: center; font-size: 25px\">Optimizers Performance Comparison</div>\n"
   ]
  },
  {
   "cell_type": "markdown",
   "id": "70defdd7",
   "metadata": {
    "papermill": {
     "duration": 0.005564,
     "end_time": "2023-02-26T04:21:36.348515",
     "exception": false,
     "start_time": "2023-02-26T04:21:36.342951",
     "status": "completed"
    },
    "tags": []
   },
   "source": [
    "### <div style=\"text-align: left; background-color: #AA4EB8 ; font-family: Trebuchet MS; color: white; padding: 15px; line-height:1;border-radius:1px; margin-bottom: 0em; text-align: center; font-size: 25px\">IMPORTING LIBRARIES📚</div>"
   ]
  },
  {
   "cell_type": "code",
   "execution_count": 1,
   "id": "51174ab5",
   "metadata": {
    "execution": {
     "iopub.execute_input": "2023-02-26T04:21:36.362278Z",
     "iopub.status.busy": "2023-02-26T04:21:36.361801Z",
     "iopub.status.idle": "2023-02-26T04:21:44.244971Z",
     "shell.execute_reply": "2023-02-26T04:21:44.243456Z"
    },
    "papermill": {
     "duration": 7.893842,
     "end_time": "2023-02-26T04:21:44.248255",
     "exception": false,
     "start_time": "2023-02-26T04:21:36.354413",
     "status": "completed"
    },
    "tags": []
   },
   "outputs": [],
   "source": [
    "import tensorflow as tf\n",
    "from tensorflow.keras.datasets import mnist\n",
    "from tensorflow.keras.models import Sequential\n",
    "from tensorflow.keras.layers import Conv2D, MaxPooling2D\n",
    "from tensorflow.keras.layers import Dense, Dropout,Flatten\n",
    "import matplotlib.pyplot as plt\n",
    "import os, gc"
   ]
  },
  {
   "cell_type": "markdown",
   "id": "cd6149e7",
   "metadata": {
    "papermill": {
     "duration": 0.005758,
     "end_time": "2023-02-26T04:21:44.260162",
     "exception": false,
     "start_time": "2023-02-26T04:21:44.254404",
     "status": "completed"
    },
    "tags": []
   },
   "source": [
    "### <div style=\"text-align: left; background-color: #BB4ED8 ; font-family: Trebuchet MS; color: white; padding: 15px; line-height:1;border-radius:1px; margin-bottom: 0em; text-align: center; font-size: 25px\">LOADING DATA👓</div>"
   ]
  },
  {
   "cell_type": "code",
   "execution_count": 2,
   "id": "fda5f912",
   "metadata": {
    "execution": {
     "iopub.execute_input": "2023-02-26T04:21:44.275424Z",
     "iopub.status.busy": "2023-02-26T04:21:44.274502Z",
     "iopub.status.idle": "2023-02-26T04:21:44.826647Z",
     "shell.execute_reply": "2023-02-26T04:21:44.825158Z"
    },
    "papermill": {
     "duration": 0.563549,
     "end_time": "2023-02-26T04:21:44.829889",
     "exception": false,
     "start_time": "2023-02-26T04:21:44.266340",
     "status": "completed"
    },
    "tags": []
   },
   "outputs": [
    {
     "name": "stdout",
     "output_type": "stream",
     "text": [
      "Downloading data from https://storage.googleapis.com/tensorflow/tf-keras-datasets/mnist.npz\n",
      "11493376/11490434 [==============================] - 0s 0us/step\n",
      "11501568/11490434 [==============================] - 0s 0us/step\n"
     ]
    }
   ],
   "source": [
    "(X_train,y_train),(X_test,y_test)=mnist.load_data()"
   ]
  },
  {
   "cell_type": "markdown",
   "id": "d3054e2c",
   "metadata": {
    "papermill": {
     "duration": 0.006204,
     "end_time": "2023-02-26T04:21:44.842690",
     "exception": false,
     "start_time": "2023-02-26T04:21:44.836486",
     "status": "completed"
    },
    "tags": []
   },
   "source": [
    "### <div style=\"text-align: left; background-color: #BB4ED8 ; font-family: Trebuchet MS; color: white; padding: 15px; line-height:1;border-radius:1px; margin-bottom: 0em; text-align: center; font-size: 20px\">DATA RESHAPE </div>"
   ]
  },
  {
   "cell_type": "code",
   "execution_count": 3,
   "id": "614e8103",
   "metadata": {
    "execution": {
     "iopub.execute_input": "2023-02-26T04:21:44.857751Z",
     "iopub.status.busy": "2023-02-26T04:21:44.857251Z",
     "iopub.status.idle": "2023-02-26T04:21:45.041357Z",
     "shell.execute_reply": "2023-02-26T04:21:45.039762Z"
    },
    "papermill": {
     "duration": 0.195402,
     "end_time": "2023-02-26T04:21:45.044626",
     "exception": false,
     "start_time": "2023-02-26T04:21:44.849224",
     "status": "completed"
    },
    "tags": []
   },
   "outputs": [],
   "source": [
    "X_train=X_train.reshape(X_train.shape[0],28,28,1)\n",
    "X_test=X_test.reshape(X_test.shape[0],28,28,1)\n",
    "X_train=X_train.astype('float32')\n",
    "X_test=X_test.astype('float32')\n",
    "X_train /=255\n",
    "X_test /=255\n",
    "y_train=tf.keras.utils.to_categorical(y_train)#,num_classes=)\n",
    "y_test=tf.keras.utils.to_categorical(y_test)#, num_classes)"
   ]
  },
  {
   "cell_type": "markdown",
   "id": "d9543d6d",
   "metadata": {
    "papermill": {
     "duration": 0.006346,
     "end_time": "2023-02-26T04:21:45.057874",
     "exception": false,
     "start_time": "2023-02-26T04:21:45.051528",
     "status": "completed"
    },
    "tags": []
   },
   "source": [
    "### <div style=\"text-align: left; background-color: #BB4ED8 ; font-family: Trebuchet MS; color: white; padding: 15px; line-height:1;border-radius:1px; margin-bottom: 0em; text-align: center; font-size: 20px\">BUILD OPTIMIZER CALL</div>"
   ]
  },
  {
   "cell_type": "code",
   "execution_count": 4,
   "id": "52089ffd",
   "metadata": {
    "execution": {
     "iopub.execute_input": "2023-02-26T04:21:45.073717Z",
     "iopub.status.busy": "2023-02-26T04:21:45.073242Z",
     "iopub.status.idle": "2023-02-26T04:21:45.084605Z",
     "shell.execute_reply": "2023-02-26T04:21:45.083055Z"
    },
    "papermill": {
     "duration": 0.022811,
     "end_time": "2023-02-26T04:21:45.087568",
     "exception": false,
     "start_time": "2023-02-26T04:21:45.064757",
     "status": "completed"
    },
    "tags": []
   },
   "outputs": [],
   "source": [
    "def build_optimizer(op):\n",
    "    model=tf.keras.Sequential()\n",
    "    model.add(tf.keras.Input(shape=(28,28,1)))\n",
    "    model.add(tf.keras.layers.Conv2D(filters=32, kernel_size=(3,3), strides=1, activation='relu'))\n",
    "    model.add(tf.keras.layers.MaxPool2D())\n",
    "    model.add(tf.keras.layers.Conv2D(filters=64, kernel_size=(3,3), strides=1, activation='relu'))\n",
    "    model.add(tf.keras.layers.Dropout(0.25))\n",
    "    model.add(tf.keras.layers.Flatten())\n",
    "    model.add(tf.keras.layers.Dense(128, activation='relu'))\n",
    "    model.add(tf.keras.layers.Dense(256, activation='relu'))\n",
    "    model.add(tf.keras.layers.Dropout(0.5))\n",
    "    model.add(tf.keras.layers.Dense(10, activation='softmax'))\n",
    "    model.compile(optimizer=op, loss='binary_crossentropy', metrics=['accuracy'])\n",
    "    return model"
   ]
  },
  {
   "cell_type": "markdown",
   "id": "c531cabb",
   "metadata": {
    "papermill": {
     "duration": 0.006483,
     "end_time": "2023-02-26T04:21:45.101081",
     "exception": false,
     "start_time": "2023-02-26T04:21:45.094598",
     "status": "completed"
    },
    "tags": []
   },
   "source": [
    "### <div style=\"text-align: left; background-color: #AA4EB8 ; font-family: Trebuchet MS; color: white; padding: 15px; line-height:1;border-radius:1px; margin-bottom: 0em; text-align: center; font-size: 25px\">COMPARING EACH OPTIMIZER ACCURACY</div>"
   ]
  },
  {
   "cell_type": "code",
   "execution_count": 5,
   "id": "a3474421",
   "metadata": {
    "execution": {
     "iopub.execute_input": "2023-02-26T04:21:45.116954Z",
     "iopub.status.busy": "2023-02-26T04:21:45.116477Z",
     "iopub.status.idle": "2023-02-26T04:36:28.517784Z",
     "shell.execute_reply": "2023-02-26T04:36:28.516438Z"
    },
    "papermill": {
     "duration": 883.414322,
     "end_time": "2023-02-26T04:36:28.522294",
     "exception": false,
     "start_time": "2023-02-26T04:21:45.107972",
     "status": "completed"
    },
    "tags": []
   },
   "outputs": [
    {
     "name": "stdout",
     "output_type": "stream",
     "text": [
      "Accuracy for:  Adam\n",
      "\n",
      "\n",
      "Epoch 1/5\n",
      "938/938 [==============================] - 35s 36ms/step - loss: 0.0428 - accuracy: 0.9271 - val_loss: 0.0083 - val_accuracy: 0.9862\n",
      "Epoch 2/5\n",
      "938/938 [==============================] - 34s 36ms/step - loss: 0.0106 - accuracy: 0.9849 - val_loss: 0.0065 - val_accuracy: 0.9896\n",
      "Epoch 3/5\n",
      "938/938 [==============================] - 33s 35ms/step - loss: 0.0072 - accuracy: 0.9896 - val_loss: 0.0073 - val_accuracy: 0.9880\n",
      "Epoch 4/5\n",
      "938/938 [==============================] - 33s 35ms/step - loss: 0.0053 - accuracy: 0.9919 - val_loss: 0.0057 - val_accuracy: 0.9904\n",
      "Epoch 5/5\n",
      "938/938 [==============================] - 33s 35ms/step - loss: 0.0046 - accuracy: 0.9928 - val_loss: 0.0053 - val_accuracy: 0.9910\n",
      "\n",
      "\n",
      "Accuracy for:  RMSprop\n",
      "\n",
      "\n",
      "Epoch 1/5\n",
      "938/938 [==============================] - 36s 38ms/step - loss: 0.0357 - accuracy: 0.9398 - val_loss: 0.0082 - val_accuracy: 0.9859\n",
      "Epoch 2/5\n",
      "938/938 [==============================] - 35s 37ms/step - loss: 0.0095 - accuracy: 0.9861 - val_loss: 0.0065 - val_accuracy: 0.9884\n",
      "Epoch 3/5\n",
      "938/938 [==============================] - 35s 38ms/step - loss: 0.0074 - accuracy: 0.9891 - val_loss: 0.0080 - val_accuracy: 0.9878\n",
      "Epoch 4/5\n",
      "938/938 [==============================] - 35s 38ms/step - loss: 0.0064 - accuracy: 0.9905 - val_loss: 0.0059 - val_accuracy: 0.9907\n",
      "Epoch 5/5\n",
      "938/938 [==============================] - 35s 38ms/step - loss: 0.0058 - accuracy: 0.9917 - val_loss: 0.0053 - val_accuracy: 0.9916\n",
      "\n",
      "\n",
      "Accuracy for:  Adadelta\n",
      "\n",
      "\n",
      "Epoch 1/5\n",
      "938/938 [==============================] - 35s 37ms/step - loss: 0.6662 - accuracy: 0.1044 - val_loss: 0.6244 - val_accuracy: 0.0888\n",
      "Epoch 2/5\n",
      "938/938 [==============================] - 33s 36ms/step - loss: 0.5303 - accuracy: 0.1082 - val_loss: 0.3944 - val_accuracy: 0.0975\n",
      "Epoch 3/5\n",
      "938/938 [==============================] - 34s 36ms/step - loss: 0.3706 - accuracy: 0.1117 - val_loss: 0.3304 - val_accuracy: 0.1104\n",
      "Epoch 4/5\n",
      "938/938 [==============================] - 34s 36ms/step - loss: 0.3523 - accuracy: 0.1167 - val_loss: 0.3257 - val_accuracy: 0.1587\n",
      "Epoch 5/5\n",
      "938/938 [==============================] - 34s 36ms/step - loss: 0.3481 - accuracy: 0.1220 - val_loss: 0.3223 - val_accuracy: 0.2527\n",
      "\n",
      "\n",
      "Accuracy for:  Adagrad\n",
      "\n",
      "\n",
      "Epoch 1/5\n",
      "938/938 [==============================] - 34s 35ms/step - loss: 0.4993 - accuracy: 0.1142 - val_loss: 0.3245 - val_accuracy: 0.1059\n",
      "Epoch 2/5\n",
      "938/938 [==============================] - 32s 35ms/step - loss: 0.3404 - accuracy: 0.1386 - val_loss: 0.3134 - val_accuracy: 0.4786\n",
      "Epoch 3/5\n",
      "938/938 [==============================] - 32s 35ms/step - loss: 0.3267 - accuracy: 0.1889 - val_loss: 0.2991 - val_accuracy: 0.6379\n",
      "Epoch 4/5\n",
      "938/938 [==============================] - 32s 34ms/step - loss: 0.3097 - accuracy: 0.2701 - val_loss: 0.2781 - val_accuracy: 0.6783\n",
      "Epoch 5/5\n",
      "938/938 [==============================] - 32s 35ms/step - loss: 0.2874 - accuracy: 0.3699 - val_loss: 0.2478 - val_accuracy: 0.7149\n",
      "\n",
      "\n",
      "Accuracy for:  SGD\n",
      "\n",
      "\n",
      "Epoch 1/5\n",
      "938/938 [==============================] - 33s 34ms/step - loss: 0.3673 - accuracy: 0.1761 - val_loss: 0.2782 - val_accuracy: 0.7187\n",
      "Epoch 2/5\n",
      "938/938 [==============================] - 33s 35ms/step - loss: 0.2389 - accuracy: 0.5319 - val_loss: 0.1446 - val_accuracy: 0.8334\n",
      "Epoch 3/5\n",
      "938/938 [==============================] - 32s 34ms/step - loss: 0.1579 - accuracy: 0.7356 - val_loss: 0.0958 - val_accuracy: 0.8729\n",
      "Epoch 4/5\n",
      "938/938 [==============================] - 32s 34ms/step - loss: 0.1227 - accuracy: 0.8056 - val_loss: 0.0756 - val_accuracy: 0.8930\n",
      "Epoch 5/5\n",
      "938/938 [==============================] - 32s 34ms/step - loss: 0.1038 - accuracy: 0.8392 - val_loss: 0.0644 - val_accuracy: 0.9060\n",
      "\n",
      "\n"
     ]
    }
   ],
   "source": [
    "optimizers=['Adam', 'RMSprop','Adadelta', 'Adagrad',  'SGD']\n",
    "opt_res=[]\n",
    "model_res=[]\n",
    "for i in optimizers:\n",
    "    model=build_optimizer(i)\n",
    "    print(\"Accuracy for: \",i)\n",
    "    print(\"\\n\")\n",
    "    history=model.fit(X_train,y_train, epochs=5, batch_size=64,verbose=1, validation_data=(X_test, y_test))\n",
    "    print(\"\\n\")\n",
    "    gc.collect()\n",
    "    model_res.append(history)\n",
    "    opt_res.append(history.history['accuracy'])\n",
    "    "
   ]
  },
  {
   "cell_type": "markdown",
   "id": "362b5a11",
   "metadata": {
    "papermill": {
     "duration": 0.889529,
     "end_time": "2023-02-26T04:36:30.227815",
     "exception": false,
     "start_time": "2023-02-26T04:36:29.338286",
     "status": "completed"
    },
    "tags": []
   },
   "source": [
    "### <div style=\"text-align: left; background-color: #BB4ED8 ; font-family: Trebuchet MS; color: white; padding: 15px; line-height:1;border-radius:1px; margin-bottom: 0em; text-align: center; font-size: 20px\">CONCLUSION</div>"
   ]
  },
  {
   "cell_type": "markdown",
   "id": "6db2604a",
   "metadata": {
    "papermill": {
     "duration": 0.798021,
     "end_time": "2023-02-26T04:36:31.916882",
     "exception": false,
     "start_time": "2023-02-26T04:36:31.118861",
     "status": "completed"
    },
    "tags": []
   },
   "source": [
    "The results of the Adam optimizer are generally better than every other optimization algorithms, have faster computation time, and require fewer parameters for tuning. Because of all that, Adam is recommended as the default optimizer for most of the applications. Choosing the Adam optimizer for your application might give you the best probability of getting the best results"
   ]
  },
  {
   "cell_type": "markdown",
   "id": "de713139",
   "metadata": {
    "papermill": {
     "duration": 0.785066,
     "end_time": "2023-02-26T04:36:33.598012",
     "exception": false,
     "start_time": "2023-02-26T04:36:32.812946",
     "status": "completed"
    },
    "tags": []
   },
   "source": [
    "### <div style=\"text-align: left; background-color: #BB4ED8 ; font-family: Trebuchet MS; color: white; padding: 15px; line-height:1;border-radius:1px; margin-bottom: 0em; text-align: center; font-size: 25px\">PLOTTING OPTIMIZERS ACCURACY</div>"
   ]
  },
  {
   "cell_type": "code",
   "execution_count": 6,
   "id": "e76816fa",
   "metadata": {
    "execution": {
     "iopub.execute_input": "2023-02-26T04:36:35.268835Z",
     "iopub.status.busy": "2023-02-26T04:36:35.268344Z",
     "iopub.status.idle": "2023-02-26T04:36:35.609391Z",
     "shell.execute_reply": "2023-02-26T04:36:35.607893Z"
    },
    "papermill": {
     "duration": 1.237974,
     "end_time": "2023-02-26T04:36:35.612140",
     "exception": false,
     "start_time": "2023-02-26T04:36:34.374166",
     "status": "completed"
    },
    "tags": []
   },
   "outputs": [
    {
     "data": {
      "image/png": "[encoded data removed]",
      "text/plain": [
       "<Figure size 1080x720 with 1 Axes>"
      ]
     },
     "metadata": {
      "needs_background": "light"
     },
     "output_type": "display_data"
    }
   ],
   "source": [
    "fully_nested = [list(zip(*[(ix+1,y) for ix,y in enumerate(x)])) for x in opt_res]\n",
    "names = ['sublist%d'%(i+1) for i in range(len(fully_nested))]\n",
    "\n",
    "fig = plt.figure(figsize=(15,10))\n",
    "\n",
    "for l in fully_nested:\n",
    "    plt.plot(*l)\n",
    "\n",
    "plt.xlabel(\"Epochs\")\n",
    "plt.ylabel(\"Accuracy\")\n",
    "plt.legend(optimizers, fontsize=9, loc = 'upper right', bbox_to_anchor=(1.1, 1.01))\n",
    "plt.title(\"Optimizer Performance Comparison\", fontsize=25)\n",
    "plt.show()"
   ]
  },
  {
   "cell_type": "markdown",
   "id": "97f8351b",
   "metadata": {
    "papermill": {
     "duration": 0.83016,
     "end_time": "2023-02-26T04:36:37.296457",
     "exception": false,
     "start_time": "2023-02-26T04:36:36.466297",
     "status": "completed"
    },
    "tags": []
   },
   "source": [
    "### <div style=\"text-align: left; background-color: #BB4ED8 ; font-family: Trebuchet MS; color: white; padding: 15px; line-height:1;border-radius:1px; margin-bottom: 0em; text-align: center; font-size: 20px\">MODEL EVALUATION</div>"
   ]
  },
  {
   "cell_type": "code",
   "execution_count": 7,
   "id": "0dea0375",
   "metadata": {
    "execution": {
     "iopub.execute_input": "2023-02-26T04:36:38.993521Z",
     "iopub.status.busy": "2023-02-26T04:36:38.992991Z",
     "iopub.status.idle": "2023-02-26T04:36:46.638205Z",
     "shell.execute_reply": "2023-02-26T04:36:46.637250Z"
    },
    "papermill": {
     "duration": 8.448767,
     "end_time": "2023-02-26T04:36:46.641870",
     "exception": false,
     "start_time": "2023-02-26T04:36:38.193103",
     "status": "completed"
    },
    "tags": []
   },
   "outputs": [
    {
     "name": "stdout",
     "output_type": "stream",
     "text": [
      "Evaluate on test data\n",
      "Adam\n",
      "157/157 [==============================] - 1s 9ms/step - loss: 0.0644 - accuracy: 0.9060\n",
      "RMSprop\n",
      "157/157 [==============================] - 1s 9ms/step - loss: 0.0644 - accuracy: 0.9060\n",
      "Adadelta\n",
      "157/157 [==============================] - 1s 9ms/step - loss: 0.0644 - accuracy: 0.9060\n",
      "Adagrad\n",
      "157/157 [==============================] - 1s 9ms/step - loss: 0.0644 - accuracy: 0.9060\n",
      "SGD\n",
      "157/157 [==============================] - 1s 9ms/step - loss: 0.0644 - accuracy: 0.9060\n",
      "Generate predictions for 3 samples\n",
      "predictions: [[1.1989533e-05 6.5919958e-06 7.8039557e-06 7.4425865e-05 1.9430565e-06\n",
      "  8.4110206e-06 1.8467145e-07 9.9978894e-01 7.4729442e-06 9.2326656e-05]\n",
      " [2.0681680e-03 1.1290683e-03 9.5720768e-01 7.9159755e-03 7.2585908e-06\n",
      "  2.1265347e-02 6.7445696e-03 8.1711033e-07 3.6595962e-03 1.5933275e-06]\n",
      " [3.8362199e-05 9.9346584e-01 1.6135601e-03 7.9860800e-04 1.8560418e-04\n",
      "  2.9107608e-04 1.0517610e-03 1.0460563e-03 1.0337657e-03 4.7528741e-04]]\n"
     ]
    }
   ],
   "source": [
    "# Evaluate the model on the test data using `evaluate`\n",
    "print(\"Evaluate on test data\")\n",
    "for y in optimizers:\n",
    "    print(y)\n",
    "    model.evaluate(X_test, y_test, batch_size=64)\n",
    "\n",
    "# on new data using `predict`\n",
    "print(\"Generate predictions for 3 samples\")\n",
    "predictions = model.predict(X_test[:3])\n",
    "print(\"predictions:\", predictions[:4])"
   ]
  },
  {
   "cell_type": "markdown",
   "id": "06d46eb7",
   "metadata": {
    "papermill": {
     "duration": 0.814792,
     "end_time": "2023-02-26T04:36:48.351893",
     "exception": false,
     "start_time": "2023-02-26T04:36:47.537101",
     "status": "completed"
    },
    "tags": []
   },
   "source": [
    "### <div style=\"text-align: left; background-color: #BB4ED8 ; font-family: Trebuchet MS; color: white; padding: 15px; line-height:1;border-radius:1px; margin-bottom: 0em; text-align: center; font-size: 20px\">BUILD OPTIMIZER MODEL FOR LEARNING RATE 1</div>"
   ]
  },
  {
   "cell_type": "code",
   "execution_count": 8,
   "id": "c4159fb5",
   "metadata": {
    "execution": {
     "iopub.execute_input": "2023-02-26T04:36:50.072067Z",
     "iopub.status.busy": "2023-02-26T04:36:50.071029Z",
     "iopub.status.idle": "2023-02-26T04:36:50.080699Z",
     "shell.execute_reply": "2023-02-26T04:36:50.079665Z"
    },
    "papermill": {
     "duration": 0.915613,
     "end_time": "2023-02-26T04:36:50.083498",
     "exception": false,
     "start_time": "2023-02-26T04:36:49.167885",
     "status": "completed"
    },
    "tags": []
   },
   "outputs": [],
   "source": [
    "def build_optimizer_learning_rate(op):\n",
    "    modell=tf.keras.Sequential()\n",
    "    modell.add(tf.keras.Input(shape=(28,28,1)))\n",
    "    modell.add(tf.keras.layers.Conv2D(filters=32, kernel_size=(3,3), strides=1, activation='relu'))\n",
    "    modell.add(tf.keras.layers.MaxPool2D())\n",
    "    modell.add(tf.keras.layers.Conv2D(filters=64, kernel_size=(3,3), strides=1, activation='relu'))\n",
    "    modell.add(tf.keras.layers.Dropout(0.25))\n",
    "    modell.add(tf.keras.layers.Flatten())\n",
    "    modell.add(tf.keras.layers.Dense(128, activation='relu'))\n",
    "    modell.add(tf.keras.layers.Dense(256, activation='relu'))\n",
    "    modell.add(tf.keras.layers.Dropout(0.5))\n",
    "    modell.add(tf.keras.layers.Dense(10, activation='softmax'))\n",
    "    modell.compile(optimizer=op, loss='binary_crossentropy', metrics=['accuracy'])\n",
    "    return modell"
   ]
  },
  {
   "cell_type": "markdown",
   "id": "1f159b49",
   "metadata": {
    "papermill": {
     "duration": 0.905406,
     "end_time": "2023-02-26T04:36:51.807159",
     "exception": false,
     "start_time": "2023-02-26T04:36:50.901753",
     "status": "completed"
    },
    "tags": []
   },
   "source": [
    "### <div style=\"text-align: left; background-color: #BB4ED8 ; font-family: Trebuchet MS; color: white; padding: 15px; line-height:1;border-radius:1px; margin-bottom: 0em; text-align: center; font-size: 20px\">CHANGED LEARNING TO 1 FOR EACH OPTIMIZER</div>"
   ]
  },
  {
   "cell_type": "code",
   "execution_count": 9,
   "id": "fe751ae8",
   "metadata": {
    "execution": {
     "iopub.execute_input": "2023-02-26T04:36:53.510904Z",
     "iopub.status.busy": "2023-02-26T04:36:53.510462Z",
     "iopub.status.idle": "2023-02-26T04:50:57.677848Z",
     "shell.execute_reply": "2023-02-26T04:50:57.676612Z"
    },
    "papermill": {
     "duration": 845.070479,
     "end_time": "2023-02-26T04:50:57.681012",
     "exception": false,
     "start_time": "2023-02-26T04:36:52.610533",
     "status": "completed"
    },
    "tags": []
   },
   "outputs": [
    {
     "name": "stdout",
     "output_type": "stream",
     "text": [
      "Checking Accuracy when tuning learning_rate to 1: <keras.optimizer_v2.adam.Adam object at 0x7f82e42b7c90>\n",
      "\n",
      "\n",
      "Epoch 1/5\n",
      "938/938 [==============================] - 35s 36ms/step - loss: 205915.3438 - accuracy: 0.1019 - val_loss: 0.3286 - val_accuracy: 0.0974\n",
      "Epoch 2/5\n",
      "938/938 [==============================] - 33s 35ms/step - loss: 0.3310 - accuracy: 0.1020 - val_loss: 0.3351 - val_accuracy: 0.1028\n",
      "Epoch 3/5\n",
      "938/938 [==============================] - 33s 35ms/step - loss: 0.3319 - accuracy: 0.0987 - val_loss: 0.3334 - val_accuracy: 0.0980\n",
      "Epoch 4/5\n",
      "938/938 [==============================] - 33s 35ms/step - loss: 0.3319 - accuracy: 0.1024 - val_loss: 0.3335 - val_accuracy: 0.0982\n",
      "Epoch 5/5\n",
      "938/938 [==============================] - 33s 35ms/step - loss: 0.3320 - accuracy: 0.1023 - val_loss: 0.3339 - val_accuracy: 0.0982\n",
      "\n",
      "\n",
      "Checking Accuracy when tuning learning_rate to 1: <keras.optimizer_v2.rmsprop.RMSprop object at 0x7f82e42e3550>\n",
      "\n",
      "\n",
      "Epoch 1/5\n",
      "938/938 [==============================] - 37s 38ms/step - loss: 99246160.0000 - accuracy: 0.0994 - val_loss: 0.3715 - val_accuracy: 0.1009\n",
      "Epoch 2/5\n",
      "938/938 [==============================] - 35s 38ms/step - loss: 0.3412 - accuracy: 0.0983 - val_loss: 0.3401 - val_accuracy: 0.0958\n",
      "Epoch 3/5\n",
      "938/938 [==============================] - 36s 38ms/step - loss: 0.3412 - accuracy: 0.0994 - val_loss: 0.3509 - val_accuracy: 0.1135\n",
      "Epoch 4/5\n",
      "938/938 [==============================] - 36s 38ms/step - loss: 0.3415 - accuracy: 0.0991 - val_loss: 0.3405 - val_accuracy: 0.1010\n",
      "Epoch 5/5\n",
      "938/938 [==============================] - 35s 38ms/step - loss: 0.3411 - accuracy: 0.1009 - val_loss: 0.3419 - val_accuracy: 0.0980\n",
      "\n",
      "\n",
      "Checking Accuracy when tuning learning_rate to 1: <keras.optimizer_v2.adadelta.Adadelta object at 0x7f82e42e3110>\n",
      "\n",
      "\n",
      "Epoch 1/5\n",
      "938/938 [==============================] - 35s 37ms/step - loss: 0.0650 - accuracy: 0.8887 - val_loss: 0.0167 - val_accuracy: 0.9726\n",
      "Epoch 2/5\n",
      "938/938 [==============================] - 34s 36ms/step - loss: 0.0178 - accuracy: 0.9727 - val_loss: 0.0097 - val_accuracy: 0.9829\n",
      "Epoch 3/5\n",
      "938/938 [==============================] - 34s 36ms/step - loss: 0.0119 - accuracy: 0.9820 - val_loss: 0.0087 - val_accuracy: 0.9858\n",
      "Epoch 4/5\n",
      "938/938 [==============================] - 34s 36ms/step - loss: 0.0092 - accuracy: 0.9862 - val_loss: 0.0072 - val_accuracy: 0.9875\n",
      "Epoch 5/5\n",
      "938/938 [==============================] - 34s 36ms/step - loss: 0.0074 - accuracy: 0.9890 - val_loss: 0.0061 - val_accuracy: 0.9907\n",
      "\n",
      "\n",
      "Checking Accuracy when tuning learning_rate to 1: <keras.optimizer_v2.adagrad.Adagrad object at 0x7f82e4201f90>\n",
      "\n",
      "\n",
      "Epoch 1/5\n",
      "938/938 [==============================] - 34s 36ms/step - loss: 0.1070 - accuracy: 0.7596 - val_loss: 0.0199 - val_accuracy: 0.9707\n",
      "Epoch 2/5\n",
      "938/938 [==============================] - 33s 35ms/step - loss: 0.0177 - accuracy: 0.9734 - val_loss: 0.0093 - val_accuracy: 0.9839\n",
      "Epoch 3/5\n",
      "938/938 [==============================] - 33s 35ms/step - loss: 0.0123 - accuracy: 0.9815 - val_loss: 0.0080 - val_accuracy: 0.9865\n",
      "Epoch 4/5\n",
      "938/938 [==============================] - 33s 35ms/step - loss: 0.0096 - accuracy: 0.9854 - val_loss: 0.0098 - val_accuracy: 0.9833\n",
      "Epoch 5/5\n",
      "938/938 [==============================] - 33s 35ms/step - loss: 0.0080 - accuracy: 0.9881 - val_loss: 0.0068 - val_accuracy: 0.9894\n",
      "\n",
      "\n",
      "Checking Accuracy when tuning learning_rate to 1: <keras.optimizer_v2.gradient_descent.SGD object at 0x7f82e4216850>\n",
      "\n",
      "\n",
      "Epoch 1/5\n",
      "938/938 [==============================] - 33s 34ms/step - loss: 0.0566 - accuracy: 0.9011 - val_loss: 0.0168 - val_accuracy: 0.9722\n",
      "Epoch 2/5\n",
      "938/938 [==============================] - 32s 34ms/step - loss: 0.0158 - accuracy: 0.9764 - val_loss: 0.0081 - val_accuracy: 0.9857\n",
      "Epoch 3/5\n",
      "938/938 [==============================] - 32s 34ms/step - loss: 0.0106 - accuracy: 0.9838 - val_loss: 0.0075 - val_accuracy: 0.9875\n",
      "Epoch 4/5\n",
      "938/938 [==============================] - 32s 34ms/step - loss: 0.0082 - accuracy: 0.9882 - val_loss: 0.0066 - val_accuracy: 0.9877\n",
      "Epoch 5/5\n",
      "938/938 [==============================] - 32s 34ms/step - loss: 0.0067 - accuracy: 0.9900 - val_loss: 0.0102 - val_accuracy: 0.9835\n",
      "\n",
      "\n"
     ]
    }
   ],
   "source": [
    "optl_res=[]\n",
    "optimizers=[tf.keras.optimizers.Adam(learning_rate=1), tf.keras.optimizers.RMSprop(learning_rate=1),tf.keras.optimizers.Adadelta(learning_rate=1), tf.keras.optimizers.Adagrad(learning_rate=1), tf.keras.optimizers.SGD(learning_rate=1)]\n",
    "for i in optimizers:\n",
    "    modell=build_optimizer_learning_rate(i)\n",
    "    print(\"Checking Accuracy when tuning learning_rate to 1:\",i)\n",
    "    print(\"\\n\")\n",
    "    hist=modell.fit(X_train,y_train, epochs=5, batch_size=64,verbose=1, validation_data=(X_test, y_test))\n",
    "    print(\"\\n\")\n",
    "    gc.collect()\n",
    "    optl_res.append(hist.history['accuracy'])"
   ]
  },
  {
   "cell_type": "markdown",
   "id": "1f98b5c5",
   "metadata": {
    "papermill": {
     "duration": 1.734249,
     "end_time": "2023-02-26T04:51:01.105626",
     "exception": false,
     "start_time": "2023-02-26T04:50:59.371377",
     "status": "completed"
    },
    "tags": []
   },
   "source": [
    "### <div style=\"text-align: left; background-color: #BB4ED8 ; font-family: Trebuchet MS; color: white; padding: 15px; line-height:1;border-radius:1px; margin-bottom: 0em; text-align: center; font-size: 20px\">Conclusion</div>"
   ]
  },
  {
   "cell_type": "markdown",
   "id": "35010c60",
   "metadata": {
    "papermill": {
     "duration": 1.853728,
     "end_time": "2023-02-26T04:51:04.687955",
     "exception": false,
     "start_time": "2023-02-26T04:51:02.834227",
     "status": "completed"
    },
    "tags": []
   },
   "source": [
    "The results of the learning rate changed to 1 optimization algorithms accuracy dropped drastically. "
   ]
  },
  {
   "cell_type": "markdown",
   "id": "a2a4b131",
   "metadata": {
    "papermill": {
     "duration": 1.694512,
     "end_time": "2023-02-26T04:51:08.021875",
     "exception": false,
     "start_time": "2023-02-26T04:51:06.327363",
     "status": "completed"
    },
    "tags": []
   },
   "source": [
    "### <div style=\"text-align: left; background-color: #BB4ED8 ; font-family: Trebuchet MS; color: white; padding: 15px; line-height:1;border-radius:1px; margin-bottom: 0em; text-align: center; font-size: 20px\">PLOTTING OPTIMIZERS ACCURACY WHEN LEARNING RATE 1 </div>"
   ]
  },
  {
   "cell_type": "code",
   "execution_count": 10,
   "id": "6f8879ac",
   "metadata": {
    "execution": {
     "iopub.execute_input": "2023-02-26T04:51:11.477437Z",
     "iopub.status.busy": "2023-02-26T04:51:11.477000Z",
     "iopub.status.idle": "2023-02-26T04:51:11.813513Z",
     "shell.execute_reply": "2023-02-26T04:51:11.812008Z"
    },
    "papermill": {
     "duration": 2.077923,
     "end_time": "2023-02-26T04:51:11.816645",
     "exception": false,
     "start_time": "2023-02-26T04:51:09.738722",
     "status": "completed"
    },
    "tags": []
   },
   "outputs": [
    {
     "data": {
      "image/png": "[encoded data removed]",
      "text/plain": [
       "<Figure size 1080x720 with 1 Axes>"
      ]
     },
     "metadata": {
      "needs_background": "light"
     },
     "output_type": "display_data"
    }
   ],
   "source": [
    "fully_nested = [list(zip(*[(ix+1,y) for ix,y in enumerate(x)])) for x in optl_res]\n",
    "names = ['sublist%d'%(i+1) for i in range(len(fully_nested))]\n",
    "\n",
    "fig = plt.figure(figsize=(15,10))\n",
    "\n",
    "for l in fully_nested:\n",
    "    plt.plot(*l)\n",
    "\n",
    "plt.xlabel(\"Epochs\")\n",
    "plt.ylabel(\"Accuracy\")\n",
    "plt.legend(optimizers, fontsize=9, loc = 'upper right', bbox_to_anchor=(1.1, 1.01))\n",
    "plt.title(\"Optimizer Performance Comparison\", fontsize=25)\n",
    "plt.show()"
   ]
  },
  {
   "cell_type": "markdown",
   "id": "657ad90c",
   "metadata": {
    "papermill": {
     "duration": 1.86763,
     "end_time": "2023-02-26T04:51:15.416498",
     "exception": false,
     "start_time": "2023-02-26T04:51:13.548868",
     "status": "completed"
    },
    "tags": []
   },
   "source": [
    "### <div style=\"text-align: left; background-color: #BB4ED8 ; font-family: Trebuchet MS; color: white; padding: 15px; line-height:1;border-radius:1px; margin-bottom: 0em; text-align: center; font-size: 20px\">MODEL EVALUATION</div>"
   ]
  },
  {
   "cell_type": "code",
   "execution_count": 11,
   "id": "f6432510",
   "metadata": {
    "execution": {
     "iopub.execute_input": "2023-02-26T04:51:18.795496Z",
     "iopub.status.busy": "2023-02-26T04:51:18.794840Z",
     "iopub.status.idle": "2023-02-26T04:51:26.188589Z",
     "shell.execute_reply": "2023-02-26T04:51:26.185837Z"
    },
    "papermill": {
     "duration": 9.142451,
     "end_time": "2023-02-26T04:51:26.192024",
     "exception": false,
     "start_time": "2023-02-26T04:51:17.049573",
     "status": "completed"
    },
    "tags": []
   },
   "outputs": [
    {
     "name": "stdout",
     "output_type": "stream",
     "text": [
      "Evaluate on test data\n",
      "<keras.optimizer_v2.adam.Adam object at 0x7f82e42b7c90>\n",
      "157/157 [==============================] - 1s 9ms/step - loss: 0.0102 - accuracy: 0.9835\n",
      "<keras.optimizer_v2.rmsprop.RMSprop object at 0x7f82e42e3550>\n",
      "157/157 [==============================] - 1s 9ms/step - loss: 0.0102 - accuracy: 0.9835\n",
      "<keras.optimizer_v2.adadelta.Adadelta object at 0x7f82e42e3110>\n",
      "157/157 [==============================] - 1s 9ms/step - loss: 0.0102 - accuracy: 0.9835\n",
      "<keras.optimizer_v2.adagrad.Adagrad object at 0x7f82e4201f90>\n",
      "157/157 [==============================] - 1s 9ms/step - loss: 0.0102 - accuracy: 0.9835\n",
      "<keras.optimizer_v2.gradient_descent.SGD object at 0x7f82e4216850>\n",
      "157/157 [==============================] - 1s 9ms/step - loss: 0.0102 - accuracy: 0.9835\n",
      "Generate predictions for 3 samples\n",
      "predictions: [[3.9560230e-17 8.2162813e-14 4.1111015e-14 5.5180449e-14 9.1642062e-15\n",
      "  2.6944632e-16 6.5981273e-18 1.0000000e+00 2.8252399e-15 5.3988389e-15]\n",
      " [1.0989338e-13 2.7971479e-12 1.0000000e+00 3.0085409e-16 1.8373503e-14\n",
      "  6.1829525e-16 2.8546898e-12 6.0649592e-16 2.5678402e-16 7.5431028e-15]\n",
      " [9.5299989e-14 1.0000000e+00 1.1701374e-12 2.0753272e-13 1.2168997e-11\n",
      "  1.8904875e-12 1.2696884e-11 3.1148976e-11 4.0301042e-13 3.1929934e-12]]\n"
     ]
    }
   ],
   "source": [
    "# Evaluate the model on the test data using `evaluate`\n",
    "print(\"Evaluate on test data\")\n",
    "for y in optimizers:\n",
    "    print(y)\n",
    "    modell.evaluate(X_test, y_test, batch_size=64)\n",
    "\n",
    "# on new data using `predict`\n",
    "print(\"Generate predictions for 3 samples\")\n",
    "predictions = modell.predict(X_test[:3])\n",
    "print(\"predictions:\", predictions[:4])"
   ]
  }
 ],
 "metadata": {
  "kernelspec": {
   "display_name": "Python 3",
   "language": "python",
   "name": "python3"
  },
  "language_info": {
   "codemirror_mode": {
    "name": "ipython",
    "version": 3
   },
   "file_extension": ".py",
   "mimetype": "text/x-python",
   "name": "python",
   "nbconvert_exporter": "python",
   "pygments_lexer": "ipython3",
   "version": "3.7.12"
  },
  "papermill": {
   "default_parameters": {},
   "duration": 1805.28763,
   "end_time": "2023-02-26T04:51:30.606576",
   "environment_variables": {},
   "exception": null,
   "input_path": "__notebook__.ipynb",
   "output_path": "__notebook__.ipynb",
   "parameters": {},
   "start_time": "2023-02-26T04:21:25.318946",
   "version": "2.3.4"
  }
 },
 "nbformat": 4,
 "nbformat_minor": 5
}
