{
 "cells": [
  {
   "cell_type": "markdown",
   "id": "92237f08",
   "metadata": {
    "papermill": {
     "duration": 0.010407,
     "end_time": "2022-08-22T14:11:46.136799",
     "exception": false,
     "start_time": "2022-08-22T14:11:46.126392",
     "status": "completed"
    },
    "tags": []
   },
   "source": [
    "<img src= \"https://www.historic-uk.com/wp-content/uploads/2022/08/country-houses-1366x703.jpg\">"
   ]
  },
  {
   "cell_type": "markdown",
   "id": "a083ec65",
   "metadata": {
    "papermill": {
     "duration": 0.00936,
     "end_time": "2022-08-22T14:11:46.155473",
     "exception": false,
     "start_time": "2022-08-22T14:11:46.146113",
     "status": "completed"
    },
    "tags": []
   },
   "source": [
    "<a id=\"2\"></a>\n",
    "### <div style=\"text-align: left; background-color: #AA4EB8 ; font-family: Trebuchet MS; color: white; padding: 15px; line-height:1;border-radius:1px; margin-bottom: 0em; text-align: center; font-size: 25px\">IMPORTING LIBRARIES📚</div>\n",
    "\n",
    "[For Text: Refer](https://www.kaggle.com/code/avijit298/visualize-and-analyze-data-variety-of-charts/edit)"
   ]
  },
  {
   "cell_type": "code",
   "execution_count": 1,
   "id": "8d564e4d",
   "metadata": {
    "execution": {
     "iopub.execute_input": "2022-08-22T14:11:46.176783Z",
     "iopub.status.busy": "2022-08-22T14:11:46.175599Z",
     "iopub.status.idle": "2022-08-22T14:11:47.365846Z",
     "shell.execute_reply": "2022-08-22T14:11:47.364806Z"
    },
    "id": "yqO-l_J_CtIe",
    "papermill": {
     "duration": 1.204161,
     "end_time": "2022-08-22T14:11:47.368812",
     "exception": false,
     "start_time": "2022-08-22T14:11:46.164651",
     "status": "completed"
    },
    "tags": []
   },
   "outputs": [],
   "source": [
    "# 1.0 Call libraies\n",
    "# 1.1 Data manupulation \n",
    "import numpy as np      # linear algebra\n",
    "import pandas as pd     # data processing, CSV file I/O (e.g. pd.read_csv)\n",
    "from numpy.random import default_rng\n",
    "\n",
    "# 1.2 For plotting \n",
    "import matplotlib.pyplot as plt\n",
    "import seaborn as sns\n",
    "import matplotlib as impl # For creating colormaps\n",
    "\n",
    "# 1.3 For data processing \n",
    "from sklearn.preprocessing import StandardScaler\n",
    "\n",
    "# 1.4 OS related\n",
    "import os\n"
   ]
  },
  {
   "cell_type": "code",
   "execution_count": 2,
   "id": "fb40a51e",
   "metadata": {
    "execution": {
     "iopub.execute_input": "2022-08-22T14:11:47.389386Z",
     "iopub.status.busy": "2022-08-22T14:11:47.388786Z",
     "iopub.status.idle": "2022-08-22T14:11:47.392946Z",
     "shell.execute_reply": "2022-08-22T14:11:47.392302Z"
    },
    "id": "mJokdg2zEt8O",
    "papermill": {
     "duration": 0.016566,
     "end_time": "2022-08-22T14:11:47.394779",
     "exception": false,
     "start_time": "2022-08-22T14:11:47.378213",
     "status": "completed"
    },
    "tags": []
   },
   "outputs": [],
   "source": [
    "# 1.5 From a cell display outputs from multiple commands:\n",
    "from IPython.core.interactiveshell import InteractiveShell\n",
    "InteractiveShell.ast_node_interactivity = \"all\""
   ]
  },
  {
   "cell_type": "markdown",
   "id": "275613d6",
   "metadata": {
    "id": "bHI-JBxGF27r",
    "papermill": {
     "duration": 0.008685,
     "end_time": "2022-08-22T14:11:47.413433",
     "exception": false,
     "start_time": "2022-08-22T14:11:47.404748",
     "status": "completed"
    },
    "tags": []
   },
   "source": [
    "<a id=\"3\"></a>\n",
    "### <div style=\"text-align: left; background-color: #BB4ED8 ; font-family: Trebuchet MS; color: white; padding: 15px; line-height:1;border-radius:1px; margin-bottom: 0em; text-align: center; font-size: 25px\">LOADING DATA👓</div>"
   ]
  },
  {
   "cell_type": "code",
   "execution_count": 3,
   "id": "7fe23514",
   "metadata": {
    "execution": {
     "iopub.execute_input": "2022-08-22T14:11:47.433874Z",
     "iopub.status.busy": "2022-08-22T14:11:47.432945Z",
     "iopub.status.idle": "2022-08-22T14:11:47.459576Z",
     "shell.execute_reply": "2022-08-22T14:11:47.458769Z"
    },
    "id": "xzSQPhD3GJWB",
    "papermill": {
     "duration": 0.039599,
     "end_time": "2022-08-22T14:11:47.462144",
     "exception": false,
     "start_time": "2022-08-22T14:11:47.422545",
     "status": "completed"
    },
    "tags": []
   },
   "outputs": [],
   "source": [
    "# Reading the csv file\n",
    "\n",
    "data =pd.read_csv('../input/best-universities-in-the-united-kingdom/uk_universities.csv')"
   ]
  },
  {
   "cell_type": "markdown",
   "id": "9e34b7e2",
   "metadata": {
    "papermill": {
     "duration": 0.008843,
     "end_time": "2022-08-22T14:11:47.480526",
     "exception": false,
     "start_time": "2022-08-22T14:11:47.471683",
     "status": "completed"
    },
    "tags": []
   },
   "source": [
    "<a id=\"4\"></a>\n",
    "### <div style=\"text-align: left; background-color: #BB4ED8 ; font-family: Trebuchet MS; color: white; padding: 15px; line-height:1;border-radius:1px; margin-bottom: 0em; text-align: center; font-size: 20px\">DATA EXPLORATION </div>"
   ]
  },
  {
   "cell_type": "code",
   "execution_count": 4,
   "id": "348ca493",
   "metadata": {
    "execution": {
     "iopub.execute_input": "2022-08-22T14:11:47.501080Z",
     "iopub.status.busy": "2022-08-22T14:11:47.500368Z",
     "iopub.status.idle": "2022-08-22T14:11:47.535855Z",
     "shell.execute_reply": "2022-08-22T14:11:47.535025Z"
    },
    "executionInfo": {
     "elapsed": 10,
     "status": "ok",
     "timestamp": 1660661500942,
     "user": {
      "displayName": "Avijit Mondal",
      "userId": "08674227392784076944"
     },
     "user_tz": -330
    },
    "id": "8tECvbsHH_c5",
    "outputId": "ba121c2f-65dc-47e2-97d5-66e72d440f38",
    "papermill": {
     "duration": 0.048169,
     "end_time": "2022-08-22T14:11:47.537744",
     "exception": false,
     "start_time": "2022-08-22T14:11:47.489575",
     "status": "completed"
    },
    "tags": []
   },
   "outputs": [
    {
     "data": {
      "text/html": [
       "<div>\n",
       "<style scoped>\n",
       "    .dataframe tbody tr th:only-of-type {\n",
       "        vertical-align: middle;\n",
       "    }\n",
       "\n",
       "    .dataframe tbody tr th {\n",
       "        vertical-align: top;\n",
       "    }\n",
       "\n",
       "    .dataframe thead th {\n",
       "        text-align: right;\n",
       "    }\n",
       "</style>\n",
       "<table border=\"1\" class=\"dataframe\">\n",
       "  <thead>\n",
       "    <tr style=\"text-align: right;\">\n",
       "      <th></th>\n",
       "      <th>University_name</th>\n",
       "      <th>Region</th>\n",
       "      <th>Founded_year</th>\n",
       "      <th>Motto</th>\n",
       "      <th>UK_rank</th>\n",
       "      <th>World_rank</th>\n",
       "      <th>CWUR_score</th>\n",
       "      <th>Minimum_IELTS_score</th>\n",
       "      <th>UG_average_fees_(in_pounds)</th>\n",
       "      <th>PG_average_fees_(in_pounds)</th>\n",
       "      <th>...</th>\n",
       "      <th>Student_satisfaction</th>\n",
       "      <th>Student_enrollment</th>\n",
       "      <th>Academic_staff</th>\n",
       "      <th>Control_type</th>\n",
       "      <th>Academic_Calender</th>\n",
       "      <th>Campus_setting</th>\n",
       "      <th>Estimated_cost_of_living_per_year_(in_pounds)</th>\n",
       "      <th>Latitude</th>\n",
       "      <th>Longitude</th>\n",
       "      <th>Website</th>\n",
       "    </tr>\n",
       "  </thead>\n",
       "  <tbody>\n",
       "    <tr>\n",
       "      <th>0</th>\n",
       "      <td>University of Cambridge</td>\n",
       "      <td>East of England</td>\n",
       "      <td>1209</td>\n",
       "      <td>From here, light and sacred draughts</td>\n",
       "      <td>1</td>\n",
       "      <td>4</td>\n",
       "      <td>94.1</td>\n",
       "      <td>6.5</td>\n",
       "      <td>21750</td>\n",
       "      <td>23187</td>\n",
       "      <td>...</td>\n",
       "      <td>85.50%</td>\n",
       "      <td>20,000-24,999</td>\n",
       "      <td>over-5,000</td>\n",
       "      <td>Public</td>\n",
       "      <td>Trimesters</td>\n",
       "      <td>Urban</td>\n",
       "      <td>12000</td>\n",
       "      <td>52.2054</td>\n",
       "      <td>0.1132</td>\n",
       "      <td>www.cam.ac.uk</td>\n",
       "    </tr>\n",
       "    <tr>\n",
       "      <th>1</th>\n",
       "      <td>University of Oxford</td>\n",
       "      <td>South East England</td>\n",
       "      <td>1096</td>\n",
       "      <td>The Lord is my light</td>\n",
       "      <td>2</td>\n",
       "      <td>2</td>\n",
       "      <td>93.3</td>\n",
       "      <td>6.5</td>\n",
       "      <td>21770</td>\n",
       "      <td>19888</td>\n",
       "      <td>...</td>\n",
       "      <td>86.50%</td>\n",
       "      <td>25,000-29,999</td>\n",
       "      <td>over-5,000</td>\n",
       "      <td>Public</td>\n",
       "      <td>Trimesters</td>\n",
       "      <td>Urban</td>\n",
       "      <td>11500</td>\n",
       "      <td>51.7548</td>\n",
       "      <td>-1.2544</td>\n",
       "      <td>www.ox.ac.uk</td>\n",
       "    </tr>\n",
       "    <tr>\n",
       "      <th>2</th>\n",
       "      <td>University of St Andrews</td>\n",
       "      <td>Scotland</td>\n",
       "      <td>1413</td>\n",
       "      <td>Ever to excel</td>\n",
       "      <td>3</td>\n",
       "      <td>86</td>\n",
       "      <td>75.8</td>\n",
       "      <td>6.5</td>\n",
       "      <td>17040</td>\n",
       "      <td>15440</td>\n",
       "      <td>...</td>\n",
       "      <td>87.90%</td>\n",
       "      <td>10,000-14,999</td>\n",
       "      <td>1,000-1,499</td>\n",
       "      <td>Public</td>\n",
       "      <td>Semesters</td>\n",
       "      <td>Suburban</td>\n",
       "      <td>12000</td>\n",
       "      <td>56.3417</td>\n",
       "      <td>-2.7943</td>\n",
       "      <td>www.st-andrews.ac.uk</td>\n",
       "    </tr>\n",
       "    <tr>\n",
       "      <th>3</th>\n",
       "      <td>Imperial College London</td>\n",
       "      <td>London</td>\n",
       "      <td>1907</td>\n",
       "      <td>Knowledge is the adornment and safeguard of th...</td>\n",
       "      <td>4</td>\n",
       "      <td>8</td>\n",
       "      <td>86.6</td>\n",
       "      <td>6.5</td>\n",
       "      <td>23500</td>\n",
       "      <td>29900</td>\n",
       "      <td>...</td>\n",
       "      <td>77.90%</td>\n",
       "      <td>15,000-19,999</td>\n",
       "      <td>4,000-4,499</td>\n",
       "      <td>Public</td>\n",
       "      <td>Continuous</td>\n",
       "      <td>Urban</td>\n",
       "      <td>10700</td>\n",
       "      <td>51.4988</td>\n",
       "      <td>-0.1749</td>\n",
       "      <td>www.ic.ac.uk</td>\n",
       "    </tr>\n",
       "    <tr>\n",
       "      <th>4</th>\n",
       "      <td>Loughborough University</td>\n",
       "      <td>East Midlands</td>\n",
       "      <td>1966</td>\n",
       "      <td>With Truth, Knowledge and Labour</td>\n",
       "      <td>5</td>\n",
       "      <td>404</td>\n",
       "      <td>72.8</td>\n",
       "      <td>5.5</td>\n",
       "      <td>16400</td>\n",
       "      <td>16400</td>\n",
       "      <td>...</td>\n",
       "      <td>85.80%</td>\n",
       "      <td>15,000-19,999</td>\n",
       "      <td>1,500-1,999</td>\n",
       "      <td>Public</td>\n",
       "      <td>Semesters</td>\n",
       "      <td>Suburban</td>\n",
       "      <td>9398</td>\n",
       "      <td>52.7650</td>\n",
       "      <td>-1.2321</td>\n",
       "      <td>www.lboro.ac.uk/</td>\n",
       "    </tr>\n",
       "  </tbody>\n",
       "</table>\n",
       "<p>5 rows × 21 columns</p>\n",
       "</div>"
      ],
      "text/plain": [
       "            University_name              Region  Founded_year  \\\n",
       "0   University of Cambridge     East of England          1209   \n",
       "1      University of Oxford  South East England          1096   \n",
       "2  University of St Andrews            Scotland          1413   \n",
       "3   Imperial College London              London          1907   \n",
       "4   Loughborough University       East Midlands          1966   \n",
       "\n",
       "                                               Motto  UK_rank  World_rank  \\\n",
       "0               From here, light and sacred draughts        1           4   \n",
       "1                               The Lord is my light        2           2   \n",
       "2                                      Ever to excel        3          86   \n",
       "3  Knowledge is the adornment and safeguard of th...        4           8   \n",
       "4                   With Truth, Knowledge and Labour        5         404   \n",
       "\n",
       "   CWUR_score  Minimum_IELTS_score  UG_average_fees_(in_pounds)  \\\n",
       "0        94.1                  6.5                        21750   \n",
       "1        93.3                  6.5                        21770   \n",
       "2        75.8                  6.5                        17040   \n",
       "3        86.6                  6.5                        23500   \n",
       "4        72.8                  5.5                        16400   \n",
       "\n",
       "   PG_average_fees_(in_pounds)  ... Student_satisfaction Student_enrollment  \\\n",
       "0                        23187  ...               85.50%      20,000-24,999   \n",
       "1                        19888  ...               86.50%      25,000-29,999   \n",
       "2                        15440  ...               87.90%      10,000-14,999   \n",
       "3                        29900  ...               77.90%      15,000-19,999   \n",
       "4                        16400  ...               85.80%      15,000-19,999   \n",
       "\n",
       "  Academic_staff Control_type Academic_Calender Campus_setting  \\\n",
       "0     over-5,000       Public        Trimesters          Urban   \n",
       "1     over-5,000       Public        Trimesters          Urban   \n",
       "2    1,000-1,499       Public         Semesters       Suburban   \n",
       "3    4,000-4,499       Public        Continuous          Urban   \n",
       "4    1,500-1,999       Public         Semesters       Suburban   \n",
       "\n",
       "  Estimated_cost_of_living_per_year_(in_pounds)  Latitude  Longitude  \\\n",
       "0                                         12000   52.2054     0.1132   \n",
       "1                                         11500   51.7548    -1.2544   \n",
       "2                                         12000   56.3417    -2.7943   \n",
       "3                                         10700   51.4988    -0.1749   \n",
       "4                                          9398   52.7650    -1.2321   \n",
       "\n",
       "                Website  \n",
       "0         www.cam.ac.uk  \n",
       "1          www.ox.ac.uk  \n",
       "2  www.st-andrews.ac.uk  \n",
       "3          www.ic.ac.uk  \n",
       "4      www.lboro.ac.uk/  \n",
       "\n",
       "[5 rows x 21 columns]"
      ]
     },
     "execution_count": 4,
     "metadata": {},
     "output_type": "execute_result"
    },
    {
     "data": {
      "text/plain": [
       "University_name                                   object\n",
       "Region                                            object\n",
       "Founded_year                                       int64\n",
       "Motto                                             object\n",
       "UK_rank                                            int64\n",
       "World_rank                                         int64\n",
       "CWUR_score                                       float64\n",
       "Minimum_IELTS_score                              float64\n",
       "UG_average_fees_(in_pounds)                        int64\n",
       "PG_average_fees_(in_pounds)                        int64\n",
       "International_students                            object\n",
       "Student_satisfaction                              object\n",
       "Student_enrollment                                object\n",
       "Academic_staff                                    object\n",
       "Control_type                                      object\n",
       "Academic_Calender                                 object\n",
       "Campus_setting                                    object\n",
       "Estimated_cost_of_living_per_year_(in_pounds)      int64\n",
       "Latitude                                         float64\n",
       "Longitude                                        float64\n",
       "Website                                           object\n",
       "dtype: object"
      ]
     },
     "execution_count": 4,
     "metadata": {},
     "output_type": "execute_result"
    }
   ],
   "source": [
    "# Displaying the top 5 data\n",
    "data.head(5)\n",
    "\n",
    "# Displaying the data types\n",
    "data.dtypes\n"
   ]
  },
  {
   "cell_type": "code",
   "execution_count": 5,
   "id": "888223d0",
   "metadata": {
    "execution": {
     "iopub.execute_input": "2022-08-22T14:11:47.559450Z",
     "iopub.status.busy": "2022-08-22T14:11:47.559007Z",
     "iopub.status.idle": "2022-08-22T14:11:47.565247Z",
     "shell.execute_reply": "2022-08-22T14:11:47.564167Z"
    },
    "executionInfo": {
     "elapsed": 1019,
     "status": "ok",
     "timestamp": 1660661372990,
     "user": {
      "displayName": "Avijit Mondal",
      "userId": "08674227392784076944"
     },
     "user_tz": -330
    },
    "id": "OGIvrMlzIXwW",
    "outputId": "c87be331-b1a2-4a0c-b214-09995eec15da",
    "papermill": {
     "duration": 0.019672,
     "end_time": "2022-08-22T14:11:47.567394",
     "exception": false,
     "start_time": "2022-08-22T14:11:47.547722",
     "status": "completed"
    },
    "tags": []
   },
   "outputs": [
    {
     "data": {
      "text/plain": [
       "(131, 21)"
      ]
     },
     "execution_count": 5,
     "metadata": {},
     "output_type": "execute_result"
    }
   ],
   "source": [
    "# Calculate the no of rows and columns\n",
    "data.shape"
   ]
  },
  {
   "cell_type": "code",
   "execution_count": 6,
   "id": "86d4f11a",
   "metadata": {
    "execution": {
     "iopub.execute_input": "2022-08-22T14:11:47.588999Z",
     "iopub.status.busy": "2022-08-22T14:11:47.588378Z",
     "iopub.status.idle": "2022-08-22T14:11:47.610567Z",
     "shell.execute_reply": "2022-08-22T14:11:47.609699Z"
    },
    "executionInfo": {
     "elapsed": 793,
     "status": "ok",
     "timestamp": 1660661435930,
     "user": {
      "displayName": "Avijit Mondal",
      "userId": "08674227392784076944"
     },
     "user_tz": -330
    },
    "id": "oSOHvJfrIl7o",
    "outputId": "9445e404-be74-467d-b0ee-73c4e7bb28c5",
    "papermill": {
     "duration": 0.035422,
     "end_time": "2022-08-22T14:11:47.612842",
     "exception": false,
     "start_time": "2022-08-22T14:11:47.577420",
     "status": "completed"
    },
    "tags": []
   },
   "outputs": [
    {
     "name": "stdout",
     "output_type": "stream",
     "text": [
      "<class 'pandas.core.frame.DataFrame'>\n",
      "RangeIndex: 131 entries, 0 to 130\n",
      "Data columns (total 21 columns):\n",
      " #   Column                                         Non-Null Count  Dtype  \n",
      "---  ------                                         --------------  -----  \n",
      " 0   University_name                                131 non-null    object \n",
      " 1   Region                                         131 non-null    object \n",
      " 2   Founded_year                                   131 non-null    int64  \n",
      " 3   Motto                                          114 non-null    object \n",
      " 4   UK_rank                                        131 non-null    int64  \n",
      " 5   World_rank                                     131 non-null    int64  \n",
      " 6   CWUR_score                                     84 non-null     float64\n",
      " 7   Minimum_IELTS_score                            131 non-null    float64\n",
      " 8   UG_average_fees_(in_pounds)                    131 non-null    int64  \n",
      " 9   PG_average_fees_(in_pounds)                    131 non-null    int64  \n",
      " 10  International_students                         131 non-null    object \n",
      " 11  Student_satisfaction                           131 non-null    object \n",
      " 12  Student_enrollment                             131 non-null    object \n",
      " 13  Academic_staff                                 131 non-null    object \n",
      " 14  Control_type                                   131 non-null    object \n",
      " 15  Academic_Calender                              105 non-null    object \n",
      " 16  Campus_setting                                 113 non-null    object \n",
      " 17  Estimated_cost_of_living_per_year_(in_pounds)  131 non-null    int64  \n",
      " 18  Latitude                                       131 non-null    float64\n",
      " 19  Longitude                                      131 non-null    float64\n",
      " 20  Website                                        131 non-null    object \n",
      "dtypes: float64(4), int64(6), object(11)\n",
      "memory usage: 21.6+ KB\n"
     ]
    }
   ],
   "source": [
    "# Dataframe information\n",
    "data.info()"
   ]
  },
  {
   "cell_type": "markdown",
   "id": "dd028211",
   "metadata": {
    "papermill": {
     "duration": 0.009447,
     "end_time": "2022-08-22T14:11:47.632916",
     "exception": false,
     "start_time": "2022-08-22T14:11:47.623469",
     "status": "completed"
    },
    "tags": []
   },
   "source": [
    "\n",
    "<a id=\"5\"></a>\n",
    "### <div style=\"color:#0D8D39; \">Pandas top commands exploring data</div>[Click here](https://www.analyticsvidhya.com/blog/2021/06/top-15-pandas-data-exploration-functions)"
   ]
  },
  {
   "cell_type": "code",
   "execution_count": 7,
   "id": "021ab2f5",
   "metadata": {
    "execution": {
     "iopub.execute_input": "2022-08-22T14:11:47.654359Z",
     "iopub.status.busy": "2022-08-22T14:11:47.653661Z",
     "iopub.status.idle": "2022-08-22T14:11:47.700582Z",
     "shell.execute_reply": "2022-08-22T14:11:47.699404Z"
    },
    "executionInfo": {
     "elapsed": 779,
     "status": "ok",
     "timestamp": 1660919081788,
     "user": {
      "displayName": "Avijit Mondal",
      "userId": "08674227392784076944"
     },
     "user_tz": -330
    },
    "id": "yd_Vzue0wZ4u",
    "outputId": "8d074ab4-8306-4d01-dc9e-078a74152ded",
    "papermill": {
     "duration": 0.059978,
     "end_time": "2022-08-22T14:11:47.702550",
     "exception": false,
     "start_time": "2022-08-22T14:11:47.642572",
     "status": "completed"
    },
    "tags": []
   },
   "outputs": [
    {
     "data": {
      "text/plain": [
       "University_name                                  False\n",
       "Region                                           False\n",
       "Founded_year                                     False\n",
       "Motto                                             True\n",
       "UK_rank                                          False\n",
       "World_rank                                       False\n",
       "CWUR_score                                        True\n",
       "Minimum_IELTS_score                              False\n",
       "UG_average_fees_(in_pounds)                      False\n",
       "PG_average_fees_(in_pounds)                      False\n",
       "International_students                           False\n",
       "Student_satisfaction                             False\n",
       "Student_enrollment                               False\n",
       "Academic_staff                                   False\n",
       "Control_type                                     False\n",
       "Academic_Calender                                 True\n",
       "Campus_setting                                    True\n",
       "Estimated_cost_of_living_per_year_(in_pounds)    False\n",
       "Latitude                                         False\n",
       "Longitude                                        False\n",
       "Website                                          False\n",
       "dtype: bool"
      ]
     },
     "execution_count": 7,
     "metadata": {},
     "output_type": "execute_result"
    },
    {
     "data": {
      "text/html": [
       "<div>\n",
       "<style scoped>\n",
       "    .dataframe tbody tr th:only-of-type {\n",
       "        vertical-align: middle;\n",
       "    }\n",
       "\n",
       "    .dataframe tbody tr th {\n",
       "        vertical-align: top;\n",
       "    }\n",
       "\n",
       "    .dataframe thead th {\n",
       "        text-align: right;\n",
       "    }\n",
       "</style>\n",
       "<table border=\"1\" class=\"dataframe\">\n",
       "  <thead>\n",
       "    <tr style=\"text-align: right;\">\n",
       "      <th></th>\n",
       "      <th>Founded_year</th>\n",
       "      <th>UK_rank</th>\n",
       "      <th>World_rank</th>\n",
       "      <th>CWUR_score</th>\n",
       "      <th>Minimum_IELTS_score</th>\n",
       "      <th>UG_average_fees_(in_pounds)</th>\n",
       "      <th>PG_average_fees_(in_pounds)</th>\n",
       "      <th>Estimated_cost_of_living_per_year_(in_pounds)</th>\n",
       "      <th>Latitude</th>\n",
       "      <th>Longitude</th>\n",
       "    </tr>\n",
       "  </thead>\n",
       "  <tbody>\n",
       "    <tr>\n",
       "      <th>count</th>\n",
       "      <td>131.000000</td>\n",
       "      <td>131.000000</td>\n",
       "      <td>131.00000</td>\n",
       "      <td>84.000000</td>\n",
       "      <td>131.000000</td>\n",
       "      <td>131.000000</td>\n",
       "      <td>131.000000</td>\n",
       "      <td>131.000000</td>\n",
       "      <td>131.000000</td>\n",
       "      <td>131.000000</td>\n",
       "    </tr>\n",
       "    <tr>\n",
       "      <th>mean</th>\n",
       "      <td>1925.221374</td>\n",
       "      <td>65.900763</td>\n",
       "      <td>1097.59542</td>\n",
       "      <td>73.960714</td>\n",
       "      <td>4.946565</td>\n",
       "      <td>12537.450382</td>\n",
       "      <td>13099.763359</td>\n",
       "      <td>8644.732824</td>\n",
       "      <td>52.749708</td>\n",
       "      <td>-1.673287</td>\n",
       "    </tr>\n",
       "    <tr>\n",
       "      <th>std</th>\n",
       "      <td>139.040187</td>\n",
       "      <td>37.922158</td>\n",
       "      <td>1145.00106</td>\n",
       "      <td>6.351473</td>\n",
       "      <td>0.617850</td>\n",
       "      <td>2555.318861</td>\n",
       "      <td>3106.398149</td>\n",
       "      <td>1579.049538</td>\n",
       "      <td>1.638257</td>\n",
       "      <td>1.503049</td>\n",
       "    </tr>\n",
       "    <tr>\n",
       "      <th>min</th>\n",
       "      <td>1096.000000</td>\n",
       "      <td>1.000000</td>\n",
       "      <td>2.00000</td>\n",
       "      <td>65.900000</td>\n",
       "      <td>4.000000</td>\n",
       "      <td>8350.000000</td>\n",
       "      <td>6000.000000</td>\n",
       "      <td>5500.000000</td>\n",
       "      <td>50.171300</td>\n",
       "      <td>-6.675200</td>\n",
       "    </tr>\n",
       "    <tr>\n",
       "      <th>25%</th>\n",
       "      <td>1896.000000</td>\n",
       "      <td>33.500000</td>\n",
       "      <td>196.00000</td>\n",
       "      <td>68.675000</td>\n",
       "      <td>4.500000</td>\n",
       "      <td>10758.000000</td>\n",
       "      <td>11250.000000</td>\n",
       "      <td>7710.500000</td>\n",
       "      <td>51.499700</td>\n",
       "      <td>-2.748000</td>\n",
       "    </tr>\n",
       "    <tr>\n",
       "      <th>50%</th>\n",
       "      <td>1966.000000</td>\n",
       "      <td>65.000000</td>\n",
       "      <td>691.00000</td>\n",
       "      <td>72.600000</td>\n",
       "      <td>4.500000</td>\n",
       "      <td>12000.000000</td>\n",
       "      <td>12500.000000</td>\n",
       "      <td>8217.000000</td>\n",
       "      <td>52.407400</td>\n",
       "      <td>-1.551600</td>\n",
       "    </tr>\n",
       "    <tr>\n",
       "      <th>75%</th>\n",
       "      <td>1992.000000</td>\n",
       "      <td>98.000000</td>\n",
       "      <td>1569.00000</td>\n",
       "      <td>77.700000</td>\n",
       "      <td>5.500000</td>\n",
       "      <td>13825.000000</td>\n",
       "      <td>14182.500000</td>\n",
       "      <td>9457.500000</td>\n",
       "      <td>53.608500</td>\n",
       "      <td>-0.388150</td>\n",
       "    </tr>\n",
       "    <tr>\n",
       "      <th>max</th>\n",
       "      <td>2013.000000</td>\n",
       "      <td>131.000000</td>\n",
       "      <td>5253.00000</td>\n",
       "      <td>94.100000</td>\n",
       "      <td>6.500000</td>\n",
       "      <td>23500.000000</td>\n",
       "      <td>29900.000000</td>\n",
       "      <td>15000.000000</td>\n",
       "      <td>57.164800</td>\n",
       "      <td>1.296700</td>\n",
       "    </tr>\n",
       "  </tbody>\n",
       "</table>\n",
       "</div>"
      ],
      "text/plain": [
       "       Founded_year     UK_rank  World_rank  CWUR_score  Minimum_IELTS_score  \\\n",
       "count    131.000000  131.000000   131.00000   84.000000           131.000000   \n",
       "mean    1925.221374   65.900763  1097.59542   73.960714             4.946565   \n",
       "std      139.040187   37.922158  1145.00106    6.351473             0.617850   \n",
       "min     1096.000000    1.000000     2.00000   65.900000             4.000000   \n",
       "25%     1896.000000   33.500000   196.00000   68.675000             4.500000   \n",
       "50%     1966.000000   65.000000   691.00000   72.600000             4.500000   \n",
       "75%     1992.000000   98.000000  1569.00000   77.700000             5.500000   \n",
       "max     2013.000000  131.000000  5253.00000   94.100000             6.500000   \n",
       "\n",
       "       UG_average_fees_(in_pounds)  PG_average_fees_(in_pounds)  \\\n",
       "count                   131.000000                   131.000000   \n",
       "mean                  12537.450382                 13099.763359   \n",
       "std                    2555.318861                  3106.398149   \n",
       "min                    8350.000000                  6000.000000   \n",
       "25%                   10758.000000                 11250.000000   \n",
       "50%                   12000.000000                 12500.000000   \n",
       "75%                   13825.000000                 14182.500000   \n",
       "max                   23500.000000                 29900.000000   \n",
       "\n",
       "       Estimated_cost_of_living_per_year_(in_pounds)    Latitude   Longitude  \n",
       "count                                     131.000000  131.000000  131.000000  \n",
       "mean                                     8644.732824   52.749708   -1.673287  \n",
       "std                                      1579.049538    1.638257    1.503049  \n",
       "min                                      5500.000000   50.171300   -6.675200  \n",
       "25%                                      7710.500000   51.499700   -2.748000  \n",
       "50%                                      8217.000000   52.407400   -1.551600  \n",
       "75%                                      9457.500000   53.608500   -0.388150  \n",
       "max                                     15000.000000   57.164800    1.296700  "
      ]
     },
     "execution_count": 7,
     "metadata": {},
     "output_type": "execute_result"
    },
    {
     "data": {
      "text/plain": [
       "University_name                                   object\n",
       "Region                                            object\n",
       "Founded_year                                       int64\n",
       "Motto                                             object\n",
       "UK_rank                                            int64\n",
       "World_rank                                        object\n",
       "CWUR_score                                       float64\n",
       "Minimum_IELTS_score                              float64\n",
       "UG_average_fees_(in_pounds)                        int64\n",
       "PG_average_fees_(in_pounds)                        int64\n",
       "International_students                            object\n",
       "Student_satisfaction                              object\n",
       "Student_enrollment                                object\n",
       "Academic_staff                                    object\n",
       "Control_type                                      object\n",
       "Academic_Calender                                 object\n",
       "Campus_setting                                    object\n",
       "Estimated_cost_of_living_per_year_(in_pounds)      int64\n",
       "Latitude                                         float64\n",
       "Longitude                                        float64\n",
       "Website                                           object\n",
       "dtype: object"
      ]
     },
     "execution_count": 7,
     "metadata": {},
     "output_type": "execute_result"
    }
   ],
   "source": [
    "# 1.0.0 Check for the missing values\n",
    "data.isna().any()\n",
    "\n",
    "# 1.0.1   describe method computes some summary statistics\n",
    "data.describe()\n",
    "\n",
    "#1.0.2    Python object to a particular datatype \n",
    "data['World_rank'] = data['World_rank'].astype('object')\n",
    "data.dtypes"
   ]
  },
  {
   "cell_type": "code",
   "execution_count": 8,
   "id": "3fa85cc0",
   "metadata": {
    "execution": {
     "iopub.execute_input": "2022-08-22T14:11:47.725795Z",
     "iopub.status.busy": "2022-08-22T14:11:47.725381Z",
     "iopub.status.idle": "2022-08-22T14:11:47.747029Z",
     "shell.execute_reply": "2022-08-22T14:11:47.746321Z"
    },
    "id": "EkywnDHvDz2L",
    "papermill": {
     "duration": 0.035462,
     "end_time": "2022-08-22T14:11:47.748762",
     "exception": false,
     "start_time": "2022-08-22T14:11:47.713300",
     "status": "completed"
    },
    "tags": []
   },
   "outputs": [
    {
     "data": {
      "text/plain": [
       "University_name                                  131\n",
       "Region                                            12\n",
       "Founded_year                                      70\n",
       "Motto                                            113\n",
       "UK_rank                                          119\n",
       "World_rank                                       130\n",
       "CWUR_score                                        73\n",
       "Minimum_IELTS_score                                5\n",
       "UG_average_fees_(in_pounds)                       83\n",
       "PG_average_fees_(in_pounds)                       80\n",
       "International_students                           107\n",
       "Student_satisfaction                              82\n",
       "Student_enrollment                                16\n",
       "Academic_staff                                    18\n",
       "Control_type                                       2\n",
       "Academic_Calender                                  5\n",
       "Campus_setting                                     3\n",
       "Estimated_cost_of_living_per_year_(in_pounds)     36\n",
       "Latitude                                         131\n",
       "Longitude                                        131\n",
       "Website                                          131\n",
       "dtype: int64"
      ]
     },
     "execution_count": 8,
     "metadata": {},
     "output_type": "execute_result"
    },
    {
     "data": {
      "text/plain": [
       "University of Cambridge           1\n",
       "Abertay University                1\n",
       "Glasgow Caledonian University     1\n",
       "Birmingham City University        1\n",
       "University of Gloucestershire     1\n",
       "                                 ..\n",
       "University of Reading             1\n",
       "University of Sussex              1\n",
       "University of Essex               1\n",
       "University of Strathclyde         1\n",
       "Ravensbourne University London    1\n",
       "Name: University_name, Length: 131, dtype: int64"
      ]
     },
     "execution_count": 8,
     "metadata": {},
     "output_type": "execute_result"
    },
    {
     "data": {
      "text/plain": [
       "196     2\n",
       "4       1\n",
       "2386    1\n",
       "2190    1\n",
       "1284    1\n",
       "       ..\n",
       "607     1\n",
       "164     1\n",
       "140     1\n",
       "403     1\n",
       "2759    1\n",
       "Name: World_rank, Length: 130, dtype: int64"
      ]
     },
     "execution_count": 8,
     "metadata": {},
     "output_type": "execute_result"
    }
   ],
   "source": [
    "# 1.10 Categorical data value counts\n",
    "#     Or number of levels per category\n",
    "data.nunique()\n",
    "data.University_name.value_counts()\n",
    "data[\"World_rank\"].value_counts()\n"
   ]
  },
  {
   "cell_type": "markdown",
   "id": "d43072f2",
   "metadata": {
    "papermill": {
     "duration": 0.010869,
     "end_time": "2022-08-22T14:11:47.770704",
     "exception": false,
     "start_time": "2022-08-22T14:11:47.759835",
     "status": "completed"
    },
    "tags": []
   },
   "source": [
    "<a id=\"5\"></a>\n",
    "### <div style=\"text-align: left; background-color: #BB4ED8 ; font-family: Trebuchet MS; color: white; padding: 15px; line-height:1;border-radius:1px; margin-bottom: 0em; text-align: center; font-size: 20px\">DATA ANALYSIS & VISUALIZATION</div>[Refer Tutorial](https://pandas.pydata.org/docs/user_guide/visualization.html)"
   ]
  },
  {
   "cell_type": "markdown",
   "id": "23c3ead6",
   "metadata": {
    "id": "9ko5ixhVg3zL",
    "papermill": {
     "duration": 0.010748,
     "end_time": "2022-08-22T14:11:47.792682",
     "exception": false,
     "start_time": "2022-08-22T14:11:47.781934",
     "status": "completed"
    },
    "tags": []
   },
   "source": [
    "<h2 style=\"color:#0D8D39 ;font-size: 15px \"><b>Highest world_rank universities"
   ]
  },
  {
   "cell_type": "code",
   "execution_count": 9,
   "id": "842bcab3",
   "metadata": {
    "execution": {
     "iopub.execute_input": "2022-08-22T14:11:47.816594Z",
     "iopub.status.busy": "2022-08-22T14:11:47.816183Z",
     "iopub.status.idle": "2022-08-22T14:11:47.846605Z",
     "shell.execute_reply": "2022-08-22T14:11:47.845828Z"
    },
    "id": "bL_vw6IwgAPS",
    "papermill": {
     "duration": 0.044809,
     "end_time": "2022-08-22T14:11:47.848436",
     "exception": false,
     "start_time": "2022-08-22T14:11:47.803627",
     "status": "completed"
    },
    "tags": []
   },
   "outputs": [
    {
     "data": {
      "text/html": [
       "<div>\n",
       "<style scoped>\n",
       "    .dataframe tbody tr th:only-of-type {\n",
       "        vertical-align: middle;\n",
       "    }\n",
       "\n",
       "    .dataframe tbody tr th {\n",
       "        vertical-align: top;\n",
       "    }\n",
       "\n",
       "    .dataframe thead th {\n",
       "        text-align: right;\n",
       "    }\n",
       "</style>\n",
       "<table border=\"1\" class=\"dataframe\">\n",
       "  <thead>\n",
       "    <tr style=\"text-align: right;\">\n",
       "      <th></th>\n",
       "      <th>University_name</th>\n",
       "      <th>Region</th>\n",
       "      <th>Founded_year</th>\n",
       "      <th>Motto</th>\n",
       "      <th>UK_rank</th>\n",
       "      <th>World_rank</th>\n",
       "      <th>CWUR_score</th>\n",
       "      <th>Minimum_IELTS_score</th>\n",
       "      <th>UG_average_fees_(in_pounds)</th>\n",
       "      <th>PG_average_fees_(in_pounds)</th>\n",
       "      <th>...</th>\n",
       "      <th>Student_satisfaction</th>\n",
       "      <th>Student_enrollment</th>\n",
       "      <th>Academic_staff</th>\n",
       "      <th>Control_type</th>\n",
       "      <th>Academic_Calender</th>\n",
       "      <th>Campus_setting</th>\n",
       "      <th>Estimated_cost_of_living_per_year_(in_pounds)</th>\n",
       "      <th>Latitude</th>\n",
       "      <th>Longitude</th>\n",
       "      <th>Website</th>\n",
       "    </tr>\n",
       "  </thead>\n",
       "  <tbody>\n",
       "    <tr>\n",
       "      <th>80</th>\n",
       "      <td>York St John University</td>\n",
       "      <td>Yorkshire and the Humber</td>\n",
       "      <td>1841</td>\n",
       "      <td>They may have life and have it more abundantly</td>\n",
       "      <td>81</td>\n",
       "      <td>2643</td>\n",
       "      <td>NaN</td>\n",
       "      <td>5.5</td>\n",
       "      <td>10000</td>\n",
       "      <td>10000</td>\n",
       "      <td>...</td>\n",
       "      <td>79.90%</td>\n",
       "      <td>6,000-6,999</td>\n",
       "      <td>300-399</td>\n",
       "      <td>Public</td>\n",
       "      <td>NaN</td>\n",
       "      <td>Urban</td>\n",
       "      <td>8000</td>\n",
       "      <td>53.9663</td>\n",
       "      <td>-1.0829</td>\n",
       "      <td>www.yorksj.ac.uk/</td>\n",
       "    </tr>\n",
       "    <tr>\n",
       "      <th>129</th>\n",
       "      <td>Wrexham Glyndwr University</td>\n",
       "      <td>Wales</td>\n",
       "      <td>2008</td>\n",
       "      <td>Confidence through Education</td>\n",
       "      <td>130</td>\n",
       "      <td>2397</td>\n",
       "      <td>NaN</td>\n",
       "      <td>4.5</td>\n",
       "      <td>10250</td>\n",
       "      <td>10500</td>\n",
       "      <td>...</td>\n",
       "      <td>74.30%</td>\n",
       "      <td>5,000-5,999</td>\n",
       "      <td>200-299</td>\n",
       "      <td>Public</td>\n",
       "      <td>NaN</td>\n",
       "      <td>Urban</td>\n",
       "      <td>7771</td>\n",
       "      <td>53.0526</td>\n",
       "      <td>-3.0062</td>\n",
       "      <td>www.glyndwr.ac.uk/</td>\n",
       "    </tr>\n",
       "    <tr>\n",
       "      <th>107</th>\n",
       "      <td>University of the West of Scotland</td>\n",
       "      <td>Scotland</td>\n",
       "      <td>1897</td>\n",
       "      <td>To achieve through hard work</td>\n",
       "      <td>108</td>\n",
       "      <td>1905</td>\n",
       "      <td>66.9</td>\n",
       "      <td>4.5</td>\n",
       "      <td>11000</td>\n",
       "      <td>11000</td>\n",
       "      <td>...</td>\n",
       "      <td>78.00%</td>\n",
       "      <td>15,000-19,999</td>\n",
       "      <td>600-699</td>\n",
       "      <td>Public</td>\n",
       "      <td>Trimesters</td>\n",
       "      <td>Urban</td>\n",
       "      <td>8000</td>\n",
       "      <td>55.7782</td>\n",
       "      <td>-4.1041</td>\n",
       "      <td>www.uws.ac.uk</td>\n",
       "    </tr>\n",
       "    <tr>\n",
       "      <th>57</th>\n",
       "      <td>University of the West of England</td>\n",
       "      <td>South West England</td>\n",
       "      <td>1992</td>\n",
       "      <td>Light, Liberty, Learning</td>\n",
       "      <td>58</td>\n",
       "      <td>469</td>\n",
       "      <td>68.8</td>\n",
       "      <td>4.5</td>\n",
       "      <td>11250</td>\n",
       "      <td>11250</td>\n",
       "      <td>...</td>\n",
       "      <td>83.10%</td>\n",
       "      <td>25,000-29,999</td>\n",
       "      <td>1,500-1,999</td>\n",
       "      <td>Public</td>\n",
       "      <td>Semesters</td>\n",
       "      <td>Suburban</td>\n",
       "      <td>8217</td>\n",
       "      <td>51.5006</td>\n",
       "      <td>-2.5474</td>\n",
       "      <td>www.uwe.ac.uk</td>\n",
       "    </tr>\n",
       "    <tr>\n",
       "      <th>79</th>\n",
       "      <td>University of the Arts London</td>\n",
       "      <td>London</td>\n",
       "      <td>1986</td>\n",
       "      <td>First among artists</td>\n",
       "      <td>79</td>\n",
       "      <td>459</td>\n",
       "      <td>NaN</td>\n",
       "      <td>5.5</td>\n",
       "      <td>15950</td>\n",
       "      <td>17250</td>\n",
       "      <td>...</td>\n",
       "      <td>70.10%</td>\n",
       "      <td>15,000-19,999</td>\n",
       "      <td>2,000-2,499</td>\n",
       "      <td>Public</td>\n",
       "      <td>NaN</td>\n",
       "      <td>NaN</td>\n",
       "      <td>12000</td>\n",
       "      <td>51.5178</td>\n",
       "      <td>-0.1164</td>\n",
       "      <td>www.arts.ac.uk/</td>\n",
       "    </tr>\n",
       "  </tbody>\n",
       "</table>\n",
       "<p>5 rows × 21 columns</p>\n",
       "</div>"
      ],
      "text/plain": [
       "                        University_name                    Region  \\\n",
       "80              York St John University  Yorkshire and the Humber   \n",
       "129          Wrexham Glyndwr University                     Wales   \n",
       "107  University of the West of Scotland                  Scotland   \n",
       "57    University of the West of England        South West England   \n",
       "79        University of the Arts London                    London   \n",
       "\n",
       "     Founded_year                                           Motto  UK_rank  \\\n",
       "80           1841  They may have life and have it more abundantly       81   \n",
       "129          2008                    Confidence through Education      130   \n",
       "107          1897                    To achieve through hard work      108   \n",
       "57           1992                        Light, Liberty, Learning       58   \n",
       "79           1986                             First among artists       79   \n",
       "\n",
       "    World_rank  CWUR_score  Minimum_IELTS_score  UG_average_fees_(in_pounds)  \\\n",
       "80        2643         NaN                  5.5                        10000   \n",
       "129       2397         NaN                  4.5                        10250   \n",
       "107       1905        66.9                  4.5                        11000   \n",
       "57         469        68.8                  4.5                        11250   \n",
       "79         459         NaN                  5.5                        15950   \n",
       "\n",
       "     PG_average_fees_(in_pounds)  ... Student_satisfaction Student_enrollment  \\\n",
       "80                         10000  ...               79.90%        6,000-6,999   \n",
       "129                        10500  ...               74.30%        5,000-5,999   \n",
       "107                        11000  ...               78.00%      15,000-19,999   \n",
       "57                         11250  ...               83.10%      25,000-29,999   \n",
       "79                         17250  ...               70.10%      15,000-19,999   \n",
       "\n",
       "    Academic_staff Control_type Academic_Calender Campus_setting  \\\n",
       "80         300-399       Public               NaN          Urban   \n",
       "129        200-299       Public               NaN          Urban   \n",
       "107        600-699       Public        Trimesters          Urban   \n",
       "57     1,500-1,999       Public         Semesters       Suburban   \n",
       "79     2,000-2,499       Public               NaN            NaN   \n",
       "\n",
       "    Estimated_cost_of_living_per_year_(in_pounds)  Latitude  Longitude  \\\n",
       "80                                           8000   53.9663    -1.0829   \n",
       "129                                          7771   53.0526    -3.0062   \n",
       "107                                          8000   55.7782    -4.1041   \n",
       "57                                           8217   51.5006    -2.5474   \n",
       "79                                          12000   51.5178    -0.1164   \n",
       "\n",
       "                Website  \n",
       "80    www.yorksj.ac.uk/  \n",
       "129  www.glyndwr.ac.uk/  \n",
       "107       www.uws.ac.uk  \n",
       "57        www.uwe.ac.uk  \n",
       "79      www.arts.ac.uk/  \n",
       "\n",
       "[5 rows x 21 columns]"
      ]
     },
     "execution_count": 9,
     "metadata": {},
     "output_type": "execute_result"
    }
   ],
   "source": [
    "# 1.1.1 sort rows using the sort_values method\n",
    "\n",
    "df=data.sort_values(['University_name','World_rank'], ascending=[False, True]).head()\n",
    "df.head()"
   ]
  },
  {
   "cell_type": "markdown",
   "id": "a582ce1a",
   "metadata": {
    "id": "wY00puvf8IXP",
    "papermill": {
     "duration": 0.011531,
     "end_time": "2022-08-22T14:11:47.871887",
     "exception": false,
     "start_time": "2022-08-22T14:11:47.860356",
     "status": "completed"
    },
    "tags": []
   },
   "source": [
    "#### Plotting"
   ]
  },
  {
   "cell_type": "code",
   "execution_count": 10,
   "id": "6918652f",
   "metadata": {
    "execution": {
     "iopub.execute_input": "2022-08-22T14:11:47.897996Z",
     "iopub.status.busy": "2022-08-22T14:11:47.897246Z",
     "iopub.status.idle": "2022-08-22T14:11:48.236695Z",
     "shell.execute_reply": "2022-08-22T14:11:48.235981Z"
    },
    "executionInfo": {
     "elapsed": 967,
     "status": "ok",
     "timestamp": 1660929083059,
     "user": {
      "displayName": "Avijit Mondal",
      "userId": "08674227392784076944"
     },
     "user_tz": -330
    },
    "id": "hVR786iG8R4a",
    "outputId": "8d30f384-6fa8-424b-ce73-be3eea11872c",
    "papermill": {
     "duration": 0.355091,
     "end_time": "2022-08-22T14:11:48.238638",
     "exception": false,
     "start_time": "2022-08-22T14:11:47.883547",
     "status": "completed"
    },
    "tags": []
   },
   "outputs": [
    {
     "data": {
      "image/png": "[encoded data removed]",
      "text/plain": [
       "<Figure size 432x288 with 1 Axes>"
      ]
     },
     "metadata": {
      "needs_background": "light"
     },
     "output_type": "display_data"
    }
   ],
   "source": [
    "# 1.1.2 world_rank in plot\n",
    "df.plot(kind='bar', title=\"distribution world_rank\");"
   ]
  },
  {
   "cell_type": "markdown",
   "id": "5b7abf73",
   "metadata": {
    "id": "6M7pFbV8jOXH",
    "papermill": {
     "duration": 0.011036,
     "end_time": "2022-08-22T14:11:48.261276",
     "exception": false,
     "start_time": "2022-08-22T14:11:48.250240",
     "status": "completed"
    },
    "tags": []
   },
   "source": [
    "<h2 style=\"color:#0D8D39 ;font-size: 15px \"><b>Lowest expensive Universities"
   ]
  },
  {
   "cell_type": "code",
   "execution_count": 11,
   "id": "ee8cfaa3",
   "metadata": {
    "execution": {
     "iopub.execute_input": "2022-08-22T14:11:48.289816Z",
     "iopub.status.busy": "2022-08-22T14:11:48.287483Z",
     "iopub.status.idle": "2022-08-22T14:11:48.301019Z",
     "shell.execute_reply": "2022-08-22T14:11:48.299880Z"
    },
    "executionInfo": {
     "elapsed": 5,
     "status": "ok",
     "timestamp": 1660920591315,
     "user": {
      "displayName": "Avijit Mondal",
      "userId": "08674227392784076944"
     },
     "user_tz": -330
    },
    "id": "KFf58n08js1n",
    "outputId": "be91244d-53fa-43a1-e06f-0a42518dcbb3",
    "papermill": {
     "duration": 0.029505,
     "end_time": "2022-08-22T14:11:48.303164",
     "exception": false,
     "start_time": "2022-08-22T14:11:48.273659",
     "status": "completed"
    },
    "tags": []
   },
   "outputs": [
    {
     "data": {
      "text/plain": [
       "University_name\n",
       "Abertay University             6500.0\n",
       "Aberystwyth University         7771.0\n",
       "Anglia Ruskin University       9415.0\n",
       "Arts University Bournemouth    6000.0\n",
       "Aston University               6000.0\n",
       "Name: Estimated_cost_of_living_per_year_(in_pounds), dtype: float64"
      ]
     },
     "execution_count": 11,
     "metadata": {},
     "output_type": "execute_result"
    }
   ],
   "source": [
    "expensive = data.groupby(\"University_name\")[\"Estimated_cost_of_living_per_year_(in_pounds)\"].mean()\n",
    "expensive.head()\n"
   ]
  },
  {
   "cell_type": "markdown",
   "id": "dafff2cc",
   "metadata": {
    "id": "gxvjmmgC8lhQ",
    "papermill": {
     "duration": 0.012404,
     "end_time": "2022-08-22T14:11:48.329393",
     "exception": false,
     "start_time": "2022-08-22T14:11:48.316989",
     "status": "completed"
    },
    "tags": []
   },
   "source": [
    "#### Plotting"
   ]
  },
  {
   "cell_type": "code",
   "execution_count": 12,
   "id": "e154ec26",
   "metadata": {
    "execution": {
     "iopub.execute_input": "2022-08-22T14:11:48.356864Z",
     "iopub.status.busy": "2022-08-22T14:11:48.356469Z",
     "iopub.status.idle": "2022-08-22T14:11:49.948593Z",
     "shell.execute_reply": "2022-08-22T14:11:49.947540Z"
    },
    "executionInfo": {
     "elapsed": 3633,
     "status": "ok",
     "timestamp": 1660929190362,
     "user": {
      "displayName": "Avijit Mondal",
      "userId": "08674227392784076944"
     },
     "user_tz": -330
    },
    "id": "ELjKwrxz8g2I",
    "outputId": "b5d97f7e-512c-46c3-c71b-161e2c58cb43",
    "papermill": {
     "duration": 1.607994,
     "end_time": "2022-08-22T14:11:49.951487",
     "exception": false,
     "start_time": "2022-08-22T14:11:48.343493",
     "status": "completed"
    },
    "tags": []
   },
   "outputs": [
    {
     "data": {
      "image/png": "[encoded data removed]",
      "text/plain": [
       "<Figure size 720x432 with 1 Axes>"
      ]
     },
     "metadata": {
      "needs_background": "light"
     },
     "output_type": "display_data"
    }
   ],
   "source": [
    "expensive.plot(kind = 'bar',\n",
    "           figsize = (10,6),\n",
    "           title = \"Distribution Expensive university\");"
   ]
  },
  {
   "cell_type": "markdown",
   "id": "e91be998",
   "metadata": {
    "id": "L4Johf3gmgTk",
    "papermill": {
     "duration": 0.016791,
     "end_time": "2022-08-22T14:11:49.988395",
     "exception": false,
     "start_time": "2022-08-22T14:11:49.971604",
     "status": "completed"
    },
    "tags": []
   },
   "source": [
    "<h2 style=\"color:#0D8D39 ;font-size: 15px \"><b> Maximum PG course Fees and Living cost"
   ]
  },
  {
   "cell_type": "code",
   "execution_count": 13,
   "id": "b1c83d9c",
   "metadata": {
    "execution": {
     "iopub.execute_input": "2022-08-22T14:11:50.020393Z",
     "iopub.status.busy": "2022-08-22T14:11:50.019931Z",
     "iopub.status.idle": "2022-08-22T14:11:50.032359Z",
     "shell.execute_reply": "2022-08-22T14:11:50.031229Z"
    },
    "executionInfo": {
     "elapsed": 666,
     "status": "ok",
     "timestamp": 1660926884866,
     "user": {
      "displayName": "Avijit Mondal",
      "userId": "08674227392784076944"
     },
     "user_tz": -330
    },
    "id": "96kJQxBwmtla",
    "outputId": "92be4110-e9d3-40b2-d48a-cb20414798d2",
    "papermill": {
     "duration": 0.029307,
     "end_time": "2022-08-22T14:11:50.034266",
     "exception": false,
     "start_time": "2022-08-22T14:11:50.004959",
     "status": "completed"
    },
    "tags": []
   },
   "outputs": [
    {
     "data": {
      "text/plain": [
       "29900"
      ]
     },
     "execution_count": 13,
     "metadata": {},
     "output_type": "execute_result"
    },
    {
     "data": {
      "text/plain": [
       "15000"
      ]
     },
     "execution_count": 13,
     "metadata": {},
     "output_type": "execute_result"
    }
   ],
   "source": [
    "# 1.0.1 Maximum PG_average_fees\n",
    "pl1=data[\"PG_average_fees_(in_pounds)\"].max()\n",
    "pl1\n",
    "\n",
    "# 1.0.2 Maximum Estimated_cost_of_living_per_year\n",
    "pl2=data[\"Estimated_cost_of_living_per_year_(in_pounds)\"].max()\n",
    "pl2\n",
    "\n",
    "## 1.0.3 Highest score \n",
    "pl3=data[data.CWUR_score == data.CWUR_score.max()]\n",
    "## 1.0.4 PG average fees\n",
    "pl4=data[\"PG_average_fees_(in_pounds)\"].value_counts()"
   ]
  },
  {
   "cell_type": "markdown",
   "id": "26fcd40c",
   "metadata": {
    "id": "cOcCP34Q8-Vf",
    "papermill": {
     "duration": 0.013479,
     "end_time": "2022-08-22T14:11:50.061533",
     "exception": false,
     "start_time": "2022-08-22T14:11:50.048054",
     "status": "completed"
    },
    "tags": []
   },
   "source": [
    "#### Plotting"
   ]
  },
  {
   "cell_type": "code",
   "execution_count": 14,
   "id": "b24bb849",
   "metadata": {
    "execution": {
     "iopub.execute_input": "2022-08-22T14:11:50.090715Z",
     "iopub.status.busy": "2022-08-22T14:11:50.090322Z",
     "iopub.status.idle": "2022-08-22T14:11:50.549770Z",
     "shell.execute_reply": "2022-08-22T14:11:50.548346Z"
    },
    "id": "p-YNq-Bw9B9b",
    "papermill": {
     "duration": 0.47701,
     "end_time": "2022-08-22T14:11:50.552423",
     "exception": false,
     "start_time": "2022-08-22T14:11:50.075413",
     "status": "completed"
    },
    "tags": []
   },
   "outputs": [
    {
     "data": {
      "image/png": "[encoded data removed]",
      "text/plain": [
       "<Figure size 360x360 with 1 Axes>"
      ]
     },
     "metadata": {
      "needs_background": "light"
     },
     "output_type": "display_data"
    },
    {
     "data": {
      "image/png": "[encoded data removed]",
      "text/plain": [
       "<Figure size 2160x720 with 1 Axes>"
      ]
     },
     "metadata": {
      "needs_background": "light"
     },
     "output_type": "display_data"
    }
   ],
   "source": [
    "## 2.0.1 Highest \n",
    "sns.displot(pl4)\n",
    "\n",
    "## 2.0.2 PG average fees highest to lowest in plot\n",
    "pl3.plot(kind = 'bar',\n",
    "           figsize = (30,10),\n",
    "           title = \"Distribution of PG average fees\");\n",
    "\n"
   ]
  },
  {
   "cell_type": "markdown",
   "id": "77e16231",
   "metadata": {
    "papermill": {
     "duration": 0.014009,
     "end_time": "2022-08-22T14:11:50.581216",
     "exception": false,
     "start_time": "2022-08-22T14:11:50.567207",
     "status": "completed"
    },
    "tags": []
   },
   "source": [
    "<h2 style=\"color:#0D8D39 ;font-size: 15px \"><b> Highest Fees and living cost Universities"
   ]
  },
  {
   "cell_type": "code",
   "execution_count": 15,
   "id": "d346e47c",
   "metadata": {
    "execution": {
     "iopub.execute_input": "2022-08-22T14:11:50.610771Z",
     "iopub.status.busy": "2022-08-22T14:11:50.610042Z",
     "iopub.status.idle": "2022-08-22T14:11:50.746978Z",
     "shell.execute_reply": "2022-08-22T14:11:50.746150Z"
    },
    "executionInfo": {
     "elapsed": 511,
     "status": "ok",
     "timestamp": 1660929952629,
     "user": {
      "displayName": "Avijit Mondal",
      "userId": "08674227392784076944"
     },
     "user_tz": -330
    },
    "id": "3SpBswYWI76m",
    "outputId": "08ab45c6-b760-4f58-dc85-2a5edb5e0732",
    "papermill": {
     "duration": 0.154438,
     "end_time": "2022-08-22T14:11:50.749497",
     "exception": false,
     "start_time": "2022-08-22T14:11:50.595059",
     "status": "completed"
    },
    "tags": []
   },
   "outputs": [
    {
     "data": {
      "image/png": "[encoded data removed]",
      "text/plain": [
       "<Figure size 432x288 with 1 Axes>"
      ]
     },
     "metadata": {
      "needs_background": "light"
     },
     "output_type": "display_data"
    }
   ],
   "source": [
    "\n",
    "## 2.0.3 ploting numpy array\n",
    "plt.plot(pl1, '^r-',  linewidth=5, label='linear axis');\n",
    "plt.title(\"max fees and max leaving cost universities\");\n",
    "plt.xlabel(\"x axis\") ;\n",
    "plt.ylabel(\"y axis\");\n",
    "plt.show();"
   ]
  },
  {
   "cell_type": "markdown",
   "id": "7632824f",
   "metadata": {
    "id": "_TEjbcnB56pk",
    "papermill": {
     "duration": 0.013944,
     "end_time": "2022-08-22T14:11:50.778544",
     "exception": false,
     "start_time": "2022-08-22T14:11:50.764600",
     "status": "completed"
    },
    "tags": []
   },
   "source": [
    "<h2 style=\"color:#0D8D39 ;font-size: 19px \"><b>Minimum column field value"
   ]
  },
  {
   "cell_type": "code",
   "execution_count": 16,
   "id": "b90b7bc8",
   "metadata": {
    "execution": {
     "iopub.execute_input": "2022-08-22T14:11:50.809100Z",
     "iopub.status.busy": "2022-08-22T14:11:50.808462Z",
     "iopub.status.idle": "2022-08-22T14:11:50.832172Z",
     "shell.execute_reply": "2022-08-22T14:11:50.831481Z"
    },
    "id": "8ctjJZXF6JBv",
    "papermill": {
     "duration": 0.04128,
     "end_time": "2022-08-22T14:11:50.834098",
     "exception": false,
     "start_time": "2022-08-22T14:11:50.792818",
     "status": "completed"
    },
    "tags": []
   },
   "outputs": [
    {
     "data": {
      "text/plain": [
       "1"
      ]
     },
     "execution_count": 16,
     "metadata": {},
     "output_type": "execute_result"
    },
    {
     "data": {
      "text/html": [
       "<div>\n",
       "<style scoped>\n",
       "    .dataframe tbody tr th:only-of-type {\n",
       "        vertical-align: middle;\n",
       "    }\n",
       "\n",
       "    .dataframe tbody tr th {\n",
       "        vertical-align: top;\n",
       "    }\n",
       "\n",
       "    .dataframe thead th {\n",
       "        text-align: right;\n",
       "    }\n",
       "</style>\n",
       "<table border=\"1\" class=\"dataframe\">\n",
       "  <thead>\n",
       "    <tr style=\"text-align: right;\">\n",
       "      <th></th>\n",
       "      <th>University_name</th>\n",
       "      <th>Region</th>\n",
       "      <th>Founded_year</th>\n",
       "      <th>Motto</th>\n",
       "      <th>UK_rank</th>\n",
       "      <th>World_rank</th>\n",
       "      <th>CWUR_score</th>\n",
       "      <th>Minimum_IELTS_score</th>\n",
       "      <th>UG_average_fees_(in_pounds)</th>\n",
       "      <th>PG_average_fees_(in_pounds)</th>\n",
       "      <th>...</th>\n",
       "      <th>Student_satisfaction</th>\n",
       "      <th>Student_enrollment</th>\n",
       "      <th>Academic_staff</th>\n",
       "      <th>Control_type</th>\n",
       "      <th>Academic_Calender</th>\n",
       "      <th>Campus_setting</th>\n",
       "      <th>Estimated_cost_of_living_per_year_(in_pounds)</th>\n",
       "      <th>Latitude</th>\n",
       "      <th>Longitude</th>\n",
       "      <th>Website</th>\n",
       "    </tr>\n",
       "  </thead>\n",
       "  <tbody>\n",
       "    <tr>\n",
       "      <th>68</th>\n",
       "      <td>University of Roehampton</td>\n",
       "      <td>London</td>\n",
       "      <td>2004</td>\n",
       "      <td>NaN</td>\n",
       "      <td>69</td>\n",
       "      <td>1273</td>\n",
       "      <td>65.9</td>\n",
       "      <td>4.5</td>\n",
       "      <td>12000</td>\n",
       "      <td>12500</td>\n",
       "      <td>...</td>\n",
       "      <td>77.20%</td>\n",
       "      <td>10,000-14,999</td>\n",
       "      <td>500-599</td>\n",
       "      <td>Public</td>\n",
       "      <td>Semesters</td>\n",
       "      <td>Urban</td>\n",
       "      <td>9500</td>\n",
       "      <td>51.4581</td>\n",
       "      <td>-0.2445</td>\n",
       "      <td>www.roehampton.ac.uk</td>\n",
       "    </tr>\n",
       "  </tbody>\n",
       "</table>\n",
       "<p>1 rows × 21 columns</p>\n",
       "</div>"
      ],
      "text/plain": [
       "             University_name  Region  Founded_year Motto  UK_rank World_rank  \\\n",
       "68  University of Roehampton  London          2004   NaN       69       1273   \n",
       "\n",
       "    CWUR_score  Minimum_IELTS_score  UG_average_fees_(in_pounds)  \\\n",
       "68        65.9                  4.5                        12000   \n",
       "\n",
       "    PG_average_fees_(in_pounds)  ... Student_satisfaction Student_enrollment  \\\n",
       "68                        12500  ...               77.20%      10,000-14,999   \n",
       "\n",
       "   Academic_staff Control_type Academic_Calender Campus_setting  \\\n",
       "68        500-599       Public         Semesters          Urban   \n",
       "\n",
       "   Estimated_cost_of_living_per_year_(in_pounds)  Latitude  Longitude  \\\n",
       "68                                          9500   51.4581    -0.2445   \n",
       "\n",
       "                 Website  \n",
       "68  www.roehampton.ac.uk  \n",
       "\n",
       "[1 rows x 21 columns]"
      ]
     },
     "execution_count": 16,
     "metadata": {},
     "output_type": "execute_result"
    }
   ],
   "source": [
    "## 2.0.1 Minimum world rank\n",
    "s1=data.UK_rank.min()\n",
    "s1\n",
    "## 2.0.2 lowest score \n",
    "df=data[data.CWUR_score == data.CWUR_score.min()]\n",
    "df.head()\n"
   ]
  },
  {
   "cell_type": "markdown",
   "id": "e6a49a7d",
   "metadata": {
    "papermill": {
     "duration": 0.014108,
     "end_time": "2022-08-22T14:11:50.862580",
     "exception": false,
     "start_time": "2022-08-22T14:11:50.848472",
     "status": "completed"
    },
    "tags": []
   },
   "source": [
    "**Plotting**"
   ]
  },
  {
   "cell_type": "code",
   "execution_count": 17,
   "id": "67ad2103",
   "metadata": {
    "execution": {
     "iopub.execute_input": "2022-08-22T14:11:50.892955Z",
     "iopub.status.busy": "2022-08-22T14:11:50.892375Z",
     "iopub.status.idle": "2022-08-22T14:11:51.160316Z",
     "shell.execute_reply": "2022-08-22T14:11:51.159569Z"
    },
    "executionInfo": {
     "elapsed": 1339,
     "status": "ok",
     "timestamp": 1660930150715,
     "user": {
      "displayName": "Avijit Mondal",
      "userId": "08674227392784076944"
     },
     "user_tz": -330
    },
    "id": "dl0iJRJ3JMDK",
    "outputId": "7c45bddb-3cb6-4d0d-8175-89d3c7a2282e",
    "papermill": {
     "duration": 0.285599,
     "end_time": "2022-08-22T14:11:51.162228",
     "exception": false,
     "start_time": "2022-08-22T14:11:50.876629",
     "status": "completed"
    },
    "tags": []
   },
   "outputs": [
    {
     "data": {
      "image/png": "[encoded data removed]",
      "text/plain": [
       "<Figure size 2160x720 with 1 Axes>"
      ]
     },
     "metadata": {
      "needs_background": "light"
     },
     "output_type": "display_data"
    }
   ],
   "source": [
    "## 2.0.2\n",
    "df.plot(kind = 'bar',\n",
    "           figsize = (30,10),\n",
    "           title = \"Distribution of minimum CWUR_score\");"
   ]
  },
  {
   "cell_type": "markdown",
   "id": "91323820",
   "metadata": {
    "id": "tYfdE5RifaQA",
    "papermill": {
     "duration": 0.017141,
     "end_time": "2022-08-22T14:11:51.195069",
     "exception": false,
     "start_time": "2022-08-22T14:11:51.177928",
     "status": "completed"
    },
    "tags": []
   },
   "source": [
    "<a id=\"5\"></a>\n",
    "### <div style=\"color:#0D8D39 \">Filtering table data [loc] </div>[Slicing & Indexing: Refer](https://pandas.pydata.org/docs/user_guide/indexing.html)"
   ]
  },
  {
   "cell_type": "code",
   "execution_count": 18,
   "id": "4d7e20f1",
   "metadata": {
    "execution": {
     "iopub.execute_input": "2022-08-22T14:11:51.227279Z",
     "iopub.status.busy": "2022-08-22T14:11:51.226661Z",
     "iopub.status.idle": "2022-08-22T14:11:51.286053Z",
     "shell.execute_reply": "2022-08-22T14:11:51.285269Z"
    },
    "id": "m7Ho6HCQfqkw",
    "papermill": {
     "duration": 0.078319,
     "end_time": "2022-08-22T14:11:51.288653",
     "exception": false,
     "start_time": "2022-08-22T14:11:51.210334",
     "status": "completed"
    },
    "tags": []
   },
   "outputs": [
    {
     "data": {
      "text/html": [
       "<div>\n",
       "<style scoped>\n",
       "    .dataframe tbody tr th:only-of-type {\n",
       "        vertical-align: middle;\n",
       "    }\n",
       "\n",
       "    .dataframe tbody tr th {\n",
       "        vertical-align: top;\n",
       "    }\n",
       "\n",
       "    .dataframe thead th {\n",
       "        text-align: right;\n",
       "    }\n",
       "</style>\n",
       "<table border=\"1\" class=\"dataframe\">\n",
       "  <thead>\n",
       "    <tr style=\"text-align: right;\">\n",
       "      <th></th>\n",
       "      <th>University_name</th>\n",
       "      <th>Region</th>\n",
       "      <th>Founded_year</th>\n",
       "      <th>Motto</th>\n",
       "      <th>UK_rank</th>\n",
       "      <th>World_rank</th>\n",
       "      <th>CWUR_score</th>\n",
       "      <th>Minimum_IELTS_score</th>\n",
       "      <th>UG_average_fees_(in_pounds)</th>\n",
       "      <th>PG_average_fees_(in_pounds)</th>\n",
       "      <th>...</th>\n",
       "      <th>Student_satisfaction</th>\n",
       "      <th>Student_enrollment</th>\n",
       "      <th>Academic_staff</th>\n",
       "      <th>Control_type</th>\n",
       "      <th>Academic_Calender</th>\n",
       "      <th>Campus_setting</th>\n",
       "      <th>Estimated_cost_of_living_per_year_(in_pounds)</th>\n",
       "      <th>Latitude</th>\n",
       "      <th>Longitude</th>\n",
       "      <th>Website</th>\n",
       "    </tr>\n",
       "  </thead>\n",
       "  <tbody>\n",
       "    <tr>\n",
       "      <th>1</th>\n",
       "      <td>University of Oxford</td>\n",
       "      <td>South East England</td>\n",
       "      <td>1096</td>\n",
       "      <td>The Lord is my light</td>\n",
       "      <td>2</td>\n",
       "      <td>2</td>\n",
       "      <td>93.3</td>\n",
       "      <td>6.5</td>\n",
       "      <td>21770</td>\n",
       "      <td>19888</td>\n",
       "      <td>...</td>\n",
       "      <td>86.50%</td>\n",
       "      <td>25,000-29,999</td>\n",
       "      <td>over-5,000</td>\n",
       "      <td>Public</td>\n",
       "      <td>Trimesters</td>\n",
       "      <td>Urban</td>\n",
       "      <td>11500</td>\n",
       "      <td>51.7548</td>\n",
       "      <td>-1.2544</td>\n",
       "      <td>www.ox.ac.uk</td>\n",
       "    </tr>\n",
       "    <tr>\n",
       "      <th>2</th>\n",
       "      <td>University of St Andrews</td>\n",
       "      <td>Scotland</td>\n",
       "      <td>1413</td>\n",
       "      <td>Ever to excel</td>\n",
       "      <td>3</td>\n",
       "      <td>86</td>\n",
       "      <td>75.8</td>\n",
       "      <td>6.5</td>\n",
       "      <td>17040</td>\n",
       "      <td>15440</td>\n",
       "      <td>...</td>\n",
       "      <td>87.90%</td>\n",
       "      <td>10,000-14,999</td>\n",
       "      <td>1,000-1,499</td>\n",
       "      <td>Public</td>\n",
       "      <td>Semesters</td>\n",
       "      <td>Suburban</td>\n",
       "      <td>12000</td>\n",
       "      <td>56.3417</td>\n",
       "      <td>-2.7943</td>\n",
       "      <td>www.st-andrews.ac.uk</td>\n",
       "    </tr>\n",
       "    <tr>\n",
       "      <th>3</th>\n",
       "      <td>Imperial College London</td>\n",
       "      <td>London</td>\n",
       "      <td>1907</td>\n",
       "      <td>Knowledge is the adornment and safeguard of th...</td>\n",
       "      <td>4</td>\n",
       "      <td>8</td>\n",
       "      <td>86.6</td>\n",
       "      <td>6.5</td>\n",
       "      <td>23500</td>\n",
       "      <td>29900</td>\n",
       "      <td>...</td>\n",
       "      <td>77.90%</td>\n",
       "      <td>15,000-19,999</td>\n",
       "      <td>4,000-4,499</td>\n",
       "      <td>Public</td>\n",
       "      <td>Continuous</td>\n",
       "      <td>Urban</td>\n",
       "      <td>10700</td>\n",
       "      <td>51.4988</td>\n",
       "      <td>-0.1749</td>\n",
       "      <td>www.ic.ac.uk</td>\n",
       "    </tr>\n",
       "    <tr>\n",
       "      <th>4</th>\n",
       "      <td>Loughborough University</td>\n",
       "      <td>East Midlands</td>\n",
       "      <td>1966</td>\n",
       "      <td>With Truth, Knowledge and Labour</td>\n",
       "      <td>5</td>\n",
       "      <td>404</td>\n",
       "      <td>72.8</td>\n",
       "      <td>5.5</td>\n",
       "      <td>16400</td>\n",
       "      <td>16400</td>\n",
       "      <td>...</td>\n",
       "      <td>85.80%</td>\n",
       "      <td>15,000-19,999</td>\n",
       "      <td>1,500-1,999</td>\n",
       "      <td>Public</td>\n",
       "      <td>Semesters</td>\n",
       "      <td>Suburban</td>\n",
       "      <td>9398</td>\n",
       "      <td>52.7650</td>\n",
       "      <td>-1.2321</td>\n",
       "      <td>www.lboro.ac.uk/</td>\n",
       "    </tr>\n",
       "  </tbody>\n",
       "</table>\n",
       "<p>4 rows × 21 columns</p>\n",
       "</div>"
      ],
      "text/plain": [
       "            University_name              Region  Founded_year  \\\n",
       "1      University of Oxford  South East England          1096   \n",
       "2  University of St Andrews            Scotland          1413   \n",
       "3   Imperial College London              London          1907   \n",
       "4   Loughborough University       East Midlands          1966   \n",
       "\n",
       "                                               Motto  UK_rank World_rank  \\\n",
       "1                               The Lord is my light        2          2   \n",
       "2                                      Ever to excel        3         86   \n",
       "3  Knowledge is the adornment and safeguard of th...        4          8   \n",
       "4                   With Truth, Knowledge and Labour        5        404   \n",
       "\n",
       "   CWUR_score  Minimum_IELTS_score  UG_average_fees_(in_pounds)  \\\n",
       "1        93.3                  6.5                        21770   \n",
       "2        75.8                  6.5                        17040   \n",
       "3        86.6                  6.5                        23500   \n",
       "4        72.8                  5.5                        16400   \n",
       "\n",
       "   PG_average_fees_(in_pounds)  ... Student_satisfaction Student_enrollment  \\\n",
       "1                        19888  ...               86.50%      25,000-29,999   \n",
       "2                        15440  ...               87.90%      10,000-14,999   \n",
       "3                        29900  ...               77.90%      15,000-19,999   \n",
       "4                        16400  ...               85.80%      15,000-19,999   \n",
       "\n",
       "  Academic_staff Control_type Academic_Calender Campus_setting  \\\n",
       "1     over-5,000       Public        Trimesters          Urban   \n",
       "2    1,000-1,499       Public         Semesters       Suburban   \n",
       "3    4,000-4,499       Public        Continuous          Urban   \n",
       "4    1,500-1,999       Public         Semesters       Suburban   \n",
       "\n",
       "  Estimated_cost_of_living_per_year_(in_pounds)  Latitude  Longitude  \\\n",
       "1                                         11500   51.7548    -1.2544   \n",
       "2                                         12000   56.3417    -2.7943   \n",
       "3                                         10700   51.4988    -0.1749   \n",
       "4                                          9398   52.7650    -1.2321   \n",
       "\n",
       "                Website  \n",
       "1          www.ox.ac.uk  \n",
       "2  www.st-andrews.ac.uk  \n",
       "3          www.ic.ac.uk  \n",
       "4      www.lboro.ac.uk/  \n",
       "\n",
       "[4 rows x 21 columns]"
      ]
     },
     "execution_count": 18,
     "metadata": {},
     "output_type": "execute_result"
    },
    {
     "data": {
      "text/html": [
       "<div>\n",
       "<style scoped>\n",
       "    .dataframe tbody tr th:only-of-type {\n",
       "        vertical-align: middle;\n",
       "    }\n",
       "\n",
       "    .dataframe tbody tr th {\n",
       "        vertical-align: top;\n",
       "    }\n",
       "\n",
       "    .dataframe thead th {\n",
       "        text-align: right;\n",
       "    }\n",
       "</style>\n",
       "<table border=\"1\" class=\"dataframe\">\n",
       "  <thead>\n",
       "    <tr style=\"text-align: right;\">\n",
       "      <th></th>\n",
       "      <th>University_name</th>\n",
       "      <th>Region</th>\n",
       "      <th>Founded_year</th>\n",
       "      <th>Motto</th>\n",
       "      <th>UK_rank</th>\n",
       "      <th>World_rank</th>\n",
       "      <th>CWUR_score</th>\n",
       "      <th>Minimum_IELTS_score</th>\n",
       "      <th>UG_average_fees_(in_pounds)</th>\n",
       "      <th>PG_average_fees_(in_pounds)</th>\n",
       "      <th>...</th>\n",
       "      <th>Student_satisfaction</th>\n",
       "      <th>Student_enrollment</th>\n",
       "      <th>Academic_staff</th>\n",
       "      <th>Control_type</th>\n",
       "      <th>Academic_Calender</th>\n",
       "      <th>Campus_setting</th>\n",
       "      <th>Estimated_cost_of_living_per_year_(in_pounds)</th>\n",
       "      <th>Latitude</th>\n",
       "      <th>Longitude</th>\n",
       "      <th>Website</th>\n",
       "    </tr>\n",
       "  </thead>\n",
       "  <tbody>\n",
       "    <tr>\n",
       "      <th>5</th>\n",
       "      <td>London School of Economics and Political Science</td>\n",
       "      <td>London</td>\n",
       "      <td>1895</td>\n",
       "      <td>To know the causes of things</td>\n",
       "      <td>6</td>\n",
       "      <td>23</td>\n",
       "      <td>76.3</td>\n",
       "      <td>6.5</td>\n",
       "      <td>17040</td>\n",
       "      <td>24500</td>\n",
       "      <td>...</td>\n",
       "      <td>68.50%</td>\n",
       "      <td>10,000-14,999</td>\n",
       "      <td>1,500-1,999</td>\n",
       "      <td>Public</td>\n",
       "      <td>Semesters</td>\n",
       "      <td>Urban</td>\n",
       "      <td>12000</td>\n",
       "      <td>51.5144</td>\n",
       "      <td>-0.1165</td>\n",
       "      <td>www.lse.ac.uk</td>\n",
       "    </tr>\n",
       "    <tr>\n",
       "      <th>6</th>\n",
       "      <td>Durham University</td>\n",
       "      <td>North East England</td>\n",
       "      <td>1832</td>\n",
       "      <td>Her foundations are upon the holy hills</td>\n",
       "      <td>7</td>\n",
       "      <td>70</td>\n",
       "      <td>76.3</td>\n",
       "      <td>5.5</td>\n",
       "      <td>14900</td>\n",
       "      <td>18000</td>\n",
       "      <td>...</td>\n",
       "      <td>75.00%</td>\n",
       "      <td>15,000-19,999</td>\n",
       "      <td>1,500-1,999</td>\n",
       "      <td>Public</td>\n",
       "      <td>Trimesters</td>\n",
       "      <td>Urban</td>\n",
       "      <td>8000</td>\n",
       "      <td>54.7650</td>\n",
       "      <td>-1.5782</td>\n",
       "      <td>www.dur.ac.uk</td>\n",
       "    </tr>\n",
       "    <tr>\n",
       "      <th>7</th>\n",
       "      <td>Lancaster University</td>\n",
       "      <td>North West England</td>\n",
       "      <td>1964</td>\n",
       "      <td>Truth lies open to all</td>\n",
       "      <td>8</td>\n",
       "      <td>130</td>\n",
       "      <td>76.1</td>\n",
       "      <td>5.5</td>\n",
       "      <td>14940</td>\n",
       "      <td>14200</td>\n",
       "      <td>...</td>\n",
       "      <td>79.30%</td>\n",
       "      <td>10,000-14,999</td>\n",
       "      <td>2,000-2,499</td>\n",
       "      <td>Public</td>\n",
       "      <td>Trimesters</td>\n",
       "      <td>Rural</td>\n",
       "      <td>8500</td>\n",
       "      <td>54.0104</td>\n",
       "      <td>-2.7877</td>\n",
       "      <td>www.lancs.ac.uk</td>\n",
       "    </tr>\n",
       "    <tr>\n",
       "      <th>8</th>\n",
       "      <td>University College London</td>\n",
       "      <td>London</td>\n",
       "      <td>1826</td>\n",
       "      <td>Let all come who by merit most deserve reward</td>\n",
       "      <td>9</td>\n",
       "      <td>14</td>\n",
       "      <td>88.0</td>\n",
       "      <td>6.5</td>\n",
       "      <td>15660</td>\n",
       "      <td>17250</td>\n",
       "      <td>...</td>\n",
       "      <td>75.40%</td>\n",
       "      <td>40,000-44,999</td>\n",
       "      <td>over-5,000</td>\n",
       "      <td>Public</td>\n",
       "      <td>Other</td>\n",
       "      <td>Urban</td>\n",
       "      <td>11500</td>\n",
       "      <td>51.5246</td>\n",
       "      <td>-0.1340</td>\n",
       "      <td>www.ucl.ac.uk</td>\n",
       "    </tr>\n",
       "    <tr>\n",
       "      <th>9</th>\n",
       "      <td>University of Warwick</td>\n",
       "      <td>West Midlands</td>\n",
       "      <td>1965</td>\n",
       "      <td>Mind Moves matter</td>\n",
       "      <td>10</td>\n",
       "      <td>80</td>\n",
       "      <td>79.3</td>\n",
       "      <td>5.5</td>\n",
       "      <td>15820</td>\n",
       "      <td>24500</td>\n",
       "      <td>...</td>\n",
       "      <td>79.20%</td>\n",
       "      <td>25,000-29,999</td>\n",
       "      <td>2,500-2,999</td>\n",
       "      <td>Public</td>\n",
       "      <td>Trimesters</td>\n",
       "      <td>Suburban</td>\n",
       "      <td>9580</td>\n",
       "      <td>52.3793</td>\n",
       "      <td>-1.5615</td>\n",
       "      <td>www.warwick.ac.uk</td>\n",
       "    </tr>\n",
       "  </tbody>\n",
       "</table>\n",
       "<p>5 rows × 21 columns</p>\n",
       "</div>"
      ],
      "text/plain": [
       "                                    University_name              Region  \\\n",
       "5  London School of Economics and Political Science              London   \n",
       "6                                 Durham University  North East England   \n",
       "7                              Lancaster University  North West England   \n",
       "8                         University College London              London   \n",
       "9                             University of Warwick       West Midlands   \n",
       "\n",
       "   Founded_year                                          Motto  UK_rank  \\\n",
       "5          1895                   To know the causes of things        6   \n",
       "6          1832        Her foundations are upon the holy hills        7   \n",
       "7          1964                         Truth lies open to all        8   \n",
       "8          1826  Let all come who by merit most deserve reward        9   \n",
       "9          1965                              Mind Moves matter       10   \n",
       "\n",
       "  World_rank  CWUR_score  Minimum_IELTS_score  UG_average_fees_(in_pounds)  \\\n",
       "5         23        76.3                  6.5                        17040   \n",
       "6         70        76.3                  5.5                        14900   \n",
       "7        130        76.1                  5.5                        14940   \n",
       "8         14        88.0                  6.5                        15660   \n",
       "9         80        79.3                  5.5                        15820   \n",
       "\n",
       "   PG_average_fees_(in_pounds)  ... Student_satisfaction Student_enrollment  \\\n",
       "5                        24500  ...               68.50%      10,000-14,999   \n",
       "6                        18000  ...               75.00%      15,000-19,999   \n",
       "7                        14200  ...               79.30%      10,000-14,999   \n",
       "8                        17250  ...               75.40%      40,000-44,999   \n",
       "9                        24500  ...               79.20%      25,000-29,999   \n",
       "\n",
       "  Academic_staff Control_type Academic_Calender Campus_setting  \\\n",
       "5    1,500-1,999       Public         Semesters          Urban   \n",
       "6    1,500-1,999       Public        Trimesters          Urban   \n",
       "7    2,000-2,499       Public        Trimesters          Rural   \n",
       "8     over-5,000       Public             Other          Urban   \n",
       "9    2,500-2,999       Public        Trimesters       Suburban   \n",
       "\n",
       "  Estimated_cost_of_living_per_year_(in_pounds)  Latitude  Longitude  \\\n",
       "5                                         12000   51.5144    -0.1165   \n",
       "6                                          8000   54.7650    -1.5782   \n",
       "7                                          8500   54.0104    -2.7877   \n",
       "8                                         11500   51.5246    -0.1340   \n",
       "9                                          9580   52.3793    -1.5615   \n",
       "\n",
       "             Website  \n",
       "5      www.lse.ac.uk  \n",
       "6      www.dur.ac.uk  \n",
       "7    www.lancs.ac.uk  \n",
       "8      www.ucl.ac.uk  \n",
       "9  www.warwick.ac.uk  \n",
       "\n",
       "[5 rows x 21 columns]"
      ]
     },
     "execution_count": 18,
     "metadata": {},
     "output_type": "execute_result"
    },
    {
     "data": {
      "text/html": [
       "<div>\n",
       "<style scoped>\n",
       "    .dataframe tbody tr th:only-of-type {\n",
       "        vertical-align: middle;\n",
       "    }\n",
       "\n",
       "    .dataframe tbody tr th {\n",
       "        vertical-align: top;\n",
       "    }\n",
       "\n",
       "    .dataframe thead th {\n",
       "        text-align: right;\n",
       "    }\n",
       "</style>\n",
       "<table border=\"1\" class=\"dataframe\">\n",
       "  <thead>\n",
       "    <tr style=\"text-align: right;\">\n",
       "      <th></th>\n",
       "      <th>University_name</th>\n",
       "      <th>Region</th>\n",
       "      <th>Founded_year</th>\n",
       "      <th>Motto</th>\n",
       "      <th>UK_rank</th>\n",
       "      <th>World_rank</th>\n",
       "      <th>CWUR_score</th>\n",
       "      <th>Minimum_IELTS_score</th>\n",
       "      <th>UG_average_fees_(in_pounds)</th>\n",
       "      <th>PG_average_fees_(in_pounds)</th>\n",
       "      <th>...</th>\n",
       "      <th>Student_satisfaction</th>\n",
       "      <th>Student_enrollment</th>\n",
       "      <th>Academic_staff</th>\n",
       "      <th>Control_type</th>\n",
       "      <th>Academic_Calender</th>\n",
       "      <th>Campus_setting</th>\n",
       "      <th>Estimated_cost_of_living_per_year_(in_pounds)</th>\n",
       "      <th>Latitude</th>\n",
       "      <th>Longitude</th>\n",
       "      <th>Website</th>\n",
       "    </tr>\n",
       "  </thead>\n",
       "  <tbody>\n",
       "    <tr>\n",
       "      <th>4</th>\n",
       "      <td>Loughborough University</td>\n",
       "      <td>East Midlands</td>\n",
       "      <td>1966</td>\n",
       "      <td>With Truth, Knowledge and Labour</td>\n",
       "      <td>5</td>\n",
       "      <td>404</td>\n",
       "      <td>72.8</td>\n",
       "      <td>5.5</td>\n",
       "      <td>16400</td>\n",
       "      <td>16400</td>\n",
       "      <td>...</td>\n",
       "      <td>85.80%</td>\n",
       "      <td>15,000-19,999</td>\n",
       "      <td>1,500-1,999</td>\n",
       "      <td>Public</td>\n",
       "      <td>Semesters</td>\n",
       "      <td>Suburban</td>\n",
       "      <td>9398</td>\n",
       "      <td>52.7650</td>\n",
       "      <td>-1.2321</td>\n",
       "      <td>www.lboro.ac.uk/</td>\n",
       "    </tr>\n",
       "    <tr>\n",
       "      <th>5</th>\n",
       "      <td>London School of Economics and Political Science</td>\n",
       "      <td>London</td>\n",
       "      <td>1895</td>\n",
       "      <td>To know the causes of things</td>\n",
       "      <td>6</td>\n",
       "      <td>23</td>\n",
       "      <td>76.3</td>\n",
       "      <td>6.5</td>\n",
       "      <td>17040</td>\n",
       "      <td>24500</td>\n",
       "      <td>...</td>\n",
       "      <td>68.50%</td>\n",
       "      <td>10,000-14,999</td>\n",
       "      <td>1,500-1,999</td>\n",
       "      <td>Public</td>\n",
       "      <td>Semesters</td>\n",
       "      <td>Urban</td>\n",
       "      <td>12000</td>\n",
       "      <td>51.5144</td>\n",
       "      <td>-0.1165</td>\n",
       "      <td>www.lse.ac.uk</td>\n",
       "    </tr>\n",
       "  </tbody>\n",
       "</table>\n",
       "<p>2 rows × 21 columns</p>\n",
       "</div>"
      ],
      "text/plain": [
       "                                    University_name         Region  \\\n",
       "4                           Loughborough University  East Midlands   \n",
       "5  London School of Economics and Political Science         London   \n",
       "\n",
       "   Founded_year                             Motto  UK_rank World_rank  \\\n",
       "4          1966  With Truth, Knowledge and Labour        5        404   \n",
       "5          1895      To know the causes of things        6         23   \n",
       "\n",
       "   CWUR_score  Minimum_IELTS_score  UG_average_fees_(in_pounds)  \\\n",
       "4        72.8                  5.5                        16400   \n",
       "5        76.3                  6.5                        17040   \n",
       "\n",
       "   PG_average_fees_(in_pounds)  ... Student_satisfaction Student_enrollment  \\\n",
       "4                        16400  ...               85.80%      15,000-19,999   \n",
       "5                        24500  ...               68.50%      10,000-14,999   \n",
       "\n",
       "  Academic_staff Control_type Academic_Calender Campus_setting  \\\n",
       "4    1,500-1,999       Public         Semesters       Suburban   \n",
       "5    1,500-1,999       Public         Semesters          Urban   \n",
       "\n",
       "  Estimated_cost_of_living_per_year_(in_pounds)  Latitude  Longitude  \\\n",
       "4                                          9398   52.7650    -1.2321   \n",
       "5                                         12000   51.5144    -0.1165   \n",
       "\n",
       "            Website  \n",
       "4  www.lboro.ac.uk/  \n",
       "5     www.lse.ac.uk  \n",
       "\n",
       "[2 rows x 21 columns]"
      ]
     },
     "execution_count": 18,
     "metadata": {},
     "output_type": "execute_result"
    },
    {
     "data": {
      "text/plain": [
       "Index(['University_name', 'Region', 'Founded_year', 'Motto', 'UK_rank',\n",
       "       'World_rank', 'CWUR_score', 'Minimum_IELTS_score',\n",
       "       'UG_average_fees_(in_pounds)', 'PG_average_fees_(in_pounds)',\n",
       "       'International_students', 'Student_satisfaction', 'Student_enrollment',\n",
       "       'Academic_staff', 'Control_type', 'Academic_Calender', 'Campus_setting',\n",
       "       'Estimated_cost_of_living_per_year_(in_pounds)', 'Latitude',\n",
       "       'Longitude', 'Website'],\n",
       "      dtype='object')"
      ]
     },
     "execution_count": 18,
     "metadata": {},
     "output_type": "execute_result"
    }
   ],
   "source": [
    "# 1.0.0 Slicing  rows and columns based \n",
    "data.loc[1:4]\n",
    "data.loc[5:9]\n",
    "\n",
    "# 1.0.1 sort index\n",
    "data.sort_index().loc[4:5]\n",
    "data.columns\n",
    "#1.0.2 show data where age >53 and 'Daily Internet Usage' >133\n",
    "dd=data.loc[(data['Founded_year'] >1966) & (data['UK_rank'] >6)]\n"
   ]
  },
  {
   "cell_type": "code",
   "execution_count": 19,
   "id": "ef74ad40",
   "metadata": {
    "execution": {
     "iopub.execute_input": "2022-08-22T14:11:51.322751Z",
     "iopub.status.busy": "2022-08-22T14:11:51.322355Z",
     "iopub.status.idle": "2022-08-22T14:11:51.442706Z",
     "shell.execute_reply": "2022-08-22T14:11:51.441908Z"
    },
    "executionInfo": {
     "elapsed": 489,
     "status": "ok",
     "timestamp": 1660931038135,
     "user": {
      "displayName": "Avijit Mondal",
      "userId": "08674227392784076944"
     },
     "user_tz": -330
    },
    "id": "BSQyzm_TLiMX",
    "outputId": "a1948033-a6ee-472a-8f7d-5a5a90053ffe",
    "papermill": {
     "duration": 0.140117,
     "end_time": "2022-08-22T14:11:51.444925",
     "exception": false,
     "start_time": "2022-08-22T14:11:51.304808",
     "status": "completed"
    },
    "tags": []
   },
   "outputs": [
    {
     "data": {
      "image/png": "[encoded data removed]",
      "text/plain": [
       "<Figure size 432x288 with 1 Axes>"
      ]
     },
     "metadata": {
      "needs_background": "light"
     },
     "output_type": "display_data"
    }
   ],
   "source": [
    "# 3.0.0 ploting data of age >53 and 'Daily Internet Usage' >133\n",
    "plt.plot((data['Founded_year'] >1966), (data['UK_rank'] >6), linewidth=5, label='rank and year');\n"
   ]
  },
  {
   "cell_type": "markdown",
   "id": "b308fb15",
   "metadata": {
    "id": "E6Qb6yiZnGsX",
    "papermill": {
     "duration": 0.016372,
     "end_time": "2022-08-22T14:11:51.482194",
     "exception": false,
     "start_time": "2022-08-22T14:11:51.465822",
     "status": "completed"
    },
    "tags": []
   },
   "source": [
    "<a id=\"5\"></a>\n",
    "### <div style=\"color:#0D8D39 \">Filtering table data [iloc] </div>[Slicing & Indexing: Refer](https://pandas.pydata.org/docs/user_guide/indexing.html)\n"
   ]
  },
  {
   "cell_type": "code",
   "execution_count": 20,
   "id": "0b666309",
   "metadata": {
    "execution": {
     "iopub.execute_input": "2022-08-22T14:11:51.517456Z",
     "iopub.status.busy": "2022-08-22T14:11:51.516822Z",
     "iopub.status.idle": "2022-08-22T14:11:51.552787Z",
     "shell.execute_reply": "2022-08-22T14:11:51.551885Z"
    },
    "id": "ZsOo_6GonOKH",
    "papermill": {
     "duration": 0.055801,
     "end_time": "2022-08-22T14:11:51.554566",
     "exception": false,
     "start_time": "2022-08-22T14:11:51.498765",
     "status": "completed"
    },
    "tags": []
   },
   "outputs": [
    {
     "data": {
      "text/html": [
       "<div>\n",
       "<style scoped>\n",
       "    .dataframe tbody tr th:only-of-type {\n",
       "        vertical-align: middle;\n",
       "    }\n",
       "\n",
       "    .dataframe tbody tr th {\n",
       "        vertical-align: top;\n",
       "    }\n",
       "\n",
       "    .dataframe thead th {\n",
       "        text-align: right;\n",
       "    }\n",
       "</style>\n",
       "<table border=\"1\" class=\"dataframe\">\n",
       "  <thead>\n",
       "    <tr style=\"text-align: right;\">\n",
       "      <th></th>\n",
       "      <th>University_name</th>\n",
       "      <th>Region</th>\n",
       "      <th>Founded_year</th>\n",
       "      <th>Motto</th>\n",
       "      <th>UK_rank</th>\n",
       "      <th>World_rank</th>\n",
       "      <th>CWUR_score</th>\n",
       "      <th>Minimum_IELTS_score</th>\n",
       "      <th>UG_average_fees_(in_pounds)</th>\n",
       "      <th>PG_average_fees_(in_pounds)</th>\n",
       "      <th>...</th>\n",
       "      <th>Student_satisfaction</th>\n",
       "      <th>Student_enrollment</th>\n",
       "      <th>Academic_staff</th>\n",
       "      <th>Control_type</th>\n",
       "      <th>Academic_Calender</th>\n",
       "      <th>Campus_setting</th>\n",
       "      <th>Estimated_cost_of_living_per_year_(in_pounds)</th>\n",
       "      <th>Latitude</th>\n",
       "      <th>Longitude</th>\n",
       "      <th>Website</th>\n",
       "    </tr>\n",
       "  </thead>\n",
       "  <tbody>\n",
       "    <tr>\n",
       "      <th>0</th>\n",
       "      <td>University of Cambridge</td>\n",
       "      <td>East of England</td>\n",
       "      <td>1209</td>\n",
       "      <td>From here, light and sacred draughts</td>\n",
       "      <td>1</td>\n",
       "      <td>4</td>\n",
       "      <td>94.1</td>\n",
       "      <td>6.5</td>\n",
       "      <td>21750</td>\n",
       "      <td>23187</td>\n",
       "      <td>...</td>\n",
       "      <td>85.50%</td>\n",
       "      <td>20,000-24,999</td>\n",
       "      <td>over-5,000</td>\n",
       "      <td>Public</td>\n",
       "      <td>Trimesters</td>\n",
       "      <td>Urban</td>\n",
       "      <td>12000</td>\n",
       "      <td>52.2054</td>\n",
       "      <td>0.1132</td>\n",
       "      <td>www.cam.ac.uk</td>\n",
       "    </tr>\n",
       "    <tr>\n",
       "      <th>1</th>\n",
       "      <td>University of Oxford</td>\n",
       "      <td>South East England</td>\n",
       "      <td>1096</td>\n",
       "      <td>The Lord is my light</td>\n",
       "      <td>2</td>\n",
       "      <td>2</td>\n",
       "      <td>93.3</td>\n",
       "      <td>6.5</td>\n",
       "      <td>21770</td>\n",
       "      <td>19888</td>\n",
       "      <td>...</td>\n",
       "      <td>86.50%</td>\n",
       "      <td>25,000-29,999</td>\n",
       "      <td>over-5,000</td>\n",
       "      <td>Public</td>\n",
       "      <td>Trimesters</td>\n",
       "      <td>Urban</td>\n",
       "      <td>11500</td>\n",
       "      <td>51.7548</td>\n",
       "      <td>-1.2544</td>\n",
       "      <td>www.ox.ac.uk</td>\n",
       "    </tr>\n",
       "    <tr>\n",
       "      <th>2</th>\n",
       "      <td>University of St Andrews</td>\n",
       "      <td>Scotland</td>\n",
       "      <td>1413</td>\n",
       "      <td>Ever to excel</td>\n",
       "      <td>3</td>\n",
       "      <td>86</td>\n",
       "      <td>75.8</td>\n",
       "      <td>6.5</td>\n",
       "      <td>17040</td>\n",
       "      <td>15440</td>\n",
       "      <td>...</td>\n",
       "      <td>87.90%</td>\n",
       "      <td>10,000-14,999</td>\n",
       "      <td>1,000-1,499</td>\n",
       "      <td>Public</td>\n",
       "      <td>Semesters</td>\n",
       "      <td>Suburban</td>\n",
       "      <td>12000</td>\n",
       "      <td>56.3417</td>\n",
       "      <td>-2.7943</td>\n",
       "      <td>www.st-andrews.ac.uk</td>\n",
       "    </tr>\n",
       "  </tbody>\n",
       "</table>\n",
       "<p>3 rows × 21 columns</p>\n",
       "</div>"
      ],
      "text/plain": [
       "            University_name              Region  Founded_year  \\\n",
       "0   University of Cambridge     East of England          1209   \n",
       "1      University of Oxford  South East England          1096   \n",
       "2  University of St Andrews            Scotland          1413   \n",
       "\n",
       "                                  Motto  UK_rank World_rank  CWUR_score  \\\n",
       "0  From here, light and sacred draughts        1          4        94.1   \n",
       "1                  The Lord is my light        2          2        93.3   \n",
       "2                         Ever to excel        3         86        75.8   \n",
       "\n",
       "   Minimum_IELTS_score  UG_average_fees_(in_pounds)  \\\n",
       "0                  6.5                        21750   \n",
       "1                  6.5                        21770   \n",
       "2                  6.5                        17040   \n",
       "\n",
       "   PG_average_fees_(in_pounds)  ... Student_satisfaction Student_enrollment  \\\n",
       "0                        23187  ...               85.50%      20,000-24,999   \n",
       "1                        19888  ...               86.50%      25,000-29,999   \n",
       "2                        15440  ...               87.90%      10,000-14,999   \n",
       "\n",
       "  Academic_staff Control_type Academic_Calender Campus_setting  \\\n",
       "0     over-5,000       Public        Trimesters          Urban   \n",
       "1     over-5,000       Public        Trimesters          Urban   \n",
       "2    1,000-1,499       Public         Semesters       Suburban   \n",
       "\n",
       "  Estimated_cost_of_living_per_year_(in_pounds)  Latitude  Longitude  \\\n",
       "0                                         12000   52.2054     0.1132   \n",
       "1                                         11500   51.7548    -1.2544   \n",
       "2                                         12000   56.3417    -2.7943   \n",
       "\n",
       "                Website  \n",
       "0         www.cam.ac.uk  \n",
       "1          www.ox.ac.uk  \n",
       "2  www.st-andrews.ac.uk  \n",
       "\n",
       "[3 rows x 21 columns]"
      ]
     },
     "execution_count": 20,
     "metadata": {},
     "output_type": "execute_result"
    },
    {
     "data": {
      "text/html": [
       "<div>\n",
       "<style scoped>\n",
       "    .dataframe tbody tr th:only-of-type {\n",
       "        vertical-align: middle;\n",
       "    }\n",
       "\n",
       "    .dataframe tbody tr th {\n",
       "        vertical-align: top;\n",
       "    }\n",
       "\n",
       "    .dataframe thead th {\n",
       "        text-align: right;\n",
       "    }\n",
       "</style>\n",
       "<table border=\"1\" class=\"dataframe\">\n",
       "  <thead>\n",
       "    <tr style=\"text-align: right;\">\n",
       "      <th></th>\n",
       "      <th>Founded_year</th>\n",
       "      <th>Motto</th>\n",
       "      <th>UK_rank</th>\n",
       "    </tr>\n",
       "  </thead>\n",
       "  <tbody>\n",
       "    <tr>\n",
       "      <th>1</th>\n",
       "      <td>1096</td>\n",
       "      <td>The Lord is my light</td>\n",
       "      <td>2</td>\n",
       "    </tr>\n",
       "    <tr>\n",
       "      <th>2</th>\n",
       "      <td>1413</td>\n",
       "      <td>Ever to excel</td>\n",
       "      <td>3</td>\n",
       "    </tr>\n",
       "    <tr>\n",
       "      <th>3</th>\n",
       "      <td>1907</td>\n",
       "      <td>Knowledge is the adornment and safeguard of th...</td>\n",
       "      <td>4</td>\n",
       "    </tr>\n",
       "  </tbody>\n",
       "</table>\n",
       "</div>"
      ],
      "text/plain": [
       "   Founded_year                                              Motto  UK_rank\n",
       "1          1096                               The Lord is my light        2\n",
       "2          1413                                      Ever to excel        3\n",
       "3          1907  Knowledge is the adornment and safeguard of th...        4"
      ]
     },
     "execution_count": 20,
     "metadata": {},
     "output_type": "execute_result"
    },
    {
     "data": {
      "text/html": [
       "<div>\n",
       "<style scoped>\n",
       "    .dataframe tbody tr th:only-of-type {\n",
       "        vertical-align: middle;\n",
       "    }\n",
       "\n",
       "    .dataframe tbody tr th {\n",
       "        vertical-align: top;\n",
       "    }\n",
       "\n",
       "    .dataframe thead th {\n",
       "        text-align: right;\n",
       "    }\n",
       "</style>\n",
       "<table border=\"1\" class=\"dataframe\">\n",
       "  <thead>\n",
       "    <tr style=\"text-align: right;\">\n",
       "      <th></th>\n",
       "      <th>Region</th>\n",
       "      <th>Motto</th>\n",
       "    </tr>\n",
       "  </thead>\n",
       "  <tbody>\n",
       "    <tr>\n",
       "      <th>1</th>\n",
       "      <td>South East England</td>\n",
       "      <td>The Lord is my light</td>\n",
       "    </tr>\n",
       "    <tr>\n",
       "      <th>3</th>\n",
       "      <td>London</td>\n",
       "      <td>Knowledge is the adornment and safeguard of th...</td>\n",
       "    </tr>\n",
       "    <tr>\n",
       "      <th>5</th>\n",
       "      <td>London</td>\n",
       "      <td>To know the causes of things</td>\n",
       "    </tr>\n",
       "  </tbody>\n",
       "</table>\n",
       "</div>"
      ],
      "text/plain": [
       "               Region                                              Motto\n",
       "1  South East England                               The Lord is my light\n",
       "3              London  Knowledge is the adornment and safeguard of th...\n",
       "5              London                       To know the causes of things"
      ]
     },
     "execution_count": 20,
     "metadata": {},
     "output_type": "execute_result"
    },
    {
     "data": {
      "text/html": [
       "<div>\n",
       "<style scoped>\n",
       "    .dataframe tbody tr th:only-of-type {\n",
       "        vertical-align: middle;\n",
       "    }\n",
       "\n",
       "    .dataframe tbody tr th {\n",
       "        vertical-align: top;\n",
       "    }\n",
       "\n",
       "    .dataframe thead th {\n",
       "        text-align: right;\n",
       "    }\n",
       "</style>\n",
       "<table border=\"1\" class=\"dataframe\">\n",
       "  <thead>\n",
       "    <tr style=\"text-align: right;\">\n",
       "      <th></th>\n",
       "      <th>UK_rank</th>\n",
       "      <th>World_rank</th>\n",
       "    </tr>\n",
       "  </thead>\n",
       "  <tbody>\n",
       "    <tr>\n",
       "      <th>2</th>\n",
       "      <td>3</td>\n",
       "      <td>86</td>\n",
       "    </tr>\n",
       "    <tr>\n",
       "      <th>3</th>\n",
       "      <td>4</td>\n",
       "      <td>8</td>\n",
       "    </tr>\n",
       "    <tr>\n",
       "      <th>4</th>\n",
       "      <td>5</td>\n",
       "      <td>404</td>\n",
       "    </tr>\n",
       "  </tbody>\n",
       "</table>\n",
       "</div>"
      ],
      "text/plain": [
       "   UK_rank World_rank\n",
       "2        3         86\n",
       "3        4          8\n",
       "4        5        404"
      ]
     },
     "execution_count": 20,
     "metadata": {},
     "output_type": "execute_result"
    }
   ],
   "source": [
    "# 1.1.0 iloc is integer index-based, specify rows and columns by their integer index\n",
    "data.iloc[:3]\n",
    "data.iloc[1:4, 2:5]\n",
    "\n",
    "#1.1.1 integer list slicing\n",
    "data.iloc[[1, 3, 5], [1, 3]]\n",
    "data.iloc[2:5, 4:6]\n"
   ]
  },
  {
   "cell_type": "code",
   "execution_count": 21,
   "id": "98ec03a5",
   "metadata": {
    "execution": {
     "iopub.execute_input": "2022-08-22T14:11:51.591290Z",
     "iopub.status.busy": "2022-08-22T14:11:51.590888Z",
     "iopub.status.idle": "2022-08-22T14:11:51.749326Z",
     "shell.execute_reply": "2022-08-22T14:11:51.748173Z"
    },
    "executionInfo": {
     "elapsed": 825,
     "status": "ok",
     "timestamp": 1660930391247,
     "user": {
      "displayName": "Avijit Mondal",
      "userId": "08674227392784076944"
     },
     "user_tz": -330
    },
    "id": "5_m22O9TKPe3",
    "outputId": "8420eea4-377a-4750-a63f-30a9b85129d2",
    "papermill": {
     "duration": 0.179435,
     "end_time": "2022-08-22T14:11:51.751325",
     "exception": false,
     "start_time": "2022-08-22T14:11:51.571890",
     "status": "completed"
    },
    "tags": []
   },
   "outputs": [
    {
     "data": {
      "image/png": "[encoded data removed]",
      "text/plain": [
       "<Figure size 432x288 with 1 Axes>"
      ]
     },
     "metadata": {
      "needs_background": "light"
     },
     "output_type": "display_data"
    }
   ],
   "source": [
    "# 1.1.1 iloc data in ploting\n",
    "plt.plot(data.iloc[2:5, 4:6], color='g');"
   ]
  },
  {
   "cell_type": "markdown",
   "id": "cb4d3f44",
   "metadata": {
    "papermill": {
     "duration": 0.017071,
     "end_time": "2022-08-22T14:11:51.785721",
     "exception": false,
     "start_time": "2022-08-22T14:11:51.768650",
     "status": "completed"
    },
    "tags": []
   },
   "source": [
    "**Plotting**"
   ]
  },
  {
   "cell_type": "code",
   "execution_count": 22,
   "id": "164113f2",
   "metadata": {
    "execution": {
     "iopub.execute_input": "2022-08-22T14:11:51.822923Z",
     "iopub.status.busy": "2022-08-22T14:11:51.822279Z",
     "iopub.status.idle": "2022-08-22T14:11:54.052759Z",
     "shell.execute_reply": "2022-08-22T14:11:54.051626Z"
    },
    "id": "irz85x9FFq6w",
    "papermill": {
     "duration": 2.251919,
     "end_time": "2022-08-22T14:11:54.054975",
     "exception": false,
     "start_time": "2022-08-22T14:11:51.803056",
     "status": "completed"
    },
    "tags": []
   },
   "outputs": [
    {
     "data": {
      "image/png": "[encoded data removed]",
      "text/plain": [
       "<Figure size 432x288 with 1 Axes>"
      ]
     },
     "metadata": {
      "needs_background": "light"
     },
     "output_type": "display_data"
    },
    {
     "data": {
      "image/png": "[encoded data removed]",
      "text/plain": [
       "<Figure size 432x288 with 1 Axes>"
      ]
     },
     "metadata": {
      "needs_background": "light"
     },
     "output_type": "display_data"
    }
   ],
   "source": [
    "# 1.1.0   Reading columns\n",
    "df=data[['University_name', 'UK_rank', 'International_students', 'International_students' ]]\n",
    "\n",
    "# 1.1.1 Ploting\n",
    "df.plot(kind='bar');\n",
    "\n",
    "# 1.1.2 \n",
    "df1=data.University_name.value_counts()\n",
    "df.plot(kind='line');\n",
    "\n",
    "# 1.1.3 \n",
    "df2=data['UK_rank'].value_counts().sort_values()\n",
    "df2.plot(kind='bar');"
   ]
  },
  {
   "cell_type": "markdown",
   "id": "1645ed09",
   "metadata": {
    "papermill": {
     "duration": 0.017232,
     "end_time": "2022-08-22T14:11:54.090389",
     "exception": false,
     "start_time": "2022-08-22T14:11:54.073157",
     "status": "completed"
    },
    "tags": []
   },
   "source": [
    "<a id=\"5\"></a>\n",
    "### <div style=\"color:#0D8D39 \">Subploting </div>"
   ]
  },
  {
   "cell_type": "code",
   "execution_count": 23,
   "id": "62f64455",
   "metadata": {
    "execution": {
     "iopub.execute_input": "2022-08-22T14:11:54.128569Z",
     "iopub.status.busy": "2022-08-22T14:11:54.127756Z",
     "iopub.status.idle": "2022-08-22T14:11:56.315511Z",
     "shell.execute_reply": "2022-08-22T14:11:56.314598Z"
    },
    "executionInfo": {
     "elapsed": 5550,
     "status": "ok",
     "timestamp": 1660932055188,
     "user": {
      "displayName": "Avijit Mondal",
      "userId": "08674227392784076944"
     },
     "user_tz": -330
    },
    "id": "ubbH98LuOza3",
    "outputId": "a2d61848-e25d-4586-dabf-219a9f155807",
    "papermill": {
     "duration": 2.209517,
     "end_time": "2022-08-22T14:11:56.317535",
     "exception": false,
     "start_time": "2022-08-22T14:11:54.108018",
     "status": "completed"
    },
    "tags": []
   },
   "outputs": [
    {
     "data": {
      "image/png": "[encoded data removed]",
      "text/plain": [
       "<Figure size 432x288 with 4 Axes>"
      ]
     },
     "metadata": {
      "needs_background": "light"
     },
     "output_type": "display_data"
    }
   ],
   "source": [
    "## 10.0.0 University_name and World_rank in subplot\n",
    "fig,ax =plt.subplots(2,2)\n",
    "ax[0][0].plot(data.University_name,data.World_rank, '^g:');\n",
    "ax[0][0].set_title(\"1st graph\");\n",
    "ax[0][0].set_xlabel(\"x-->\");\n",
    "ax[0][0].set_ylabel(\"y-->\");\n",
    "\n",
    "ax[1][0].plot(data.International_students, data.UK_rank,'^g:', data.Founded_year, data.Region, '^r:', linewidth=5);\n",
    "ax[1][0].set_title(\"2nd graph\");"
   ]
  }
 ],
 "metadata": {
  "kernelspec": {
   "display_name": "Python 3",
   "language": "python",
   "name": "python3"
  },
  "language_info": {
   "codemirror_mode": {
    "name": "ipython",
    "version": 3
   },
   "file_extension": ".py",
   "mimetype": "text/x-python",
   "name": "python",
   "nbconvert_exporter": "python",
   "pygments_lexer": "ipython3",
   "version": "3.7.12"
  },
  "papermill": {
   "default_parameters": {},
   "duration": 19.17505,
   "end_time": "2022-08-22T14:11:57.259650",
   "environment_variables": {},
   "exception": null,
   "input_path": "__notebook__.ipynb",
   "output_path": "__notebook__.ipynb",
   "parameters": {},
   "start_time": "2022-08-22T14:11:38.084600",
   "version": "2.3.4"
  }
 },
 "nbformat": 4,
 "nbformat_minor": 5
}
