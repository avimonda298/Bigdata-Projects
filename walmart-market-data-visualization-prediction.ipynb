{
 "cells": [
  {
   "cell_type": "markdown",
   "id": "18730431",
   "metadata": {
    "id": "IXy6q90Skdpy",
    "papermill": {
     "duration": 0.021693,
     "end_time": "2022-11-10T14:42:42.797039",
     "exception": false,
     "start_time": "2022-11-10T14:42:42.775346",
     "status": "completed"
    },
    "tags": []
   },
   "source": [
    "# <p style=\"background-color:#F19F9F;font-family:newtimeroman;color:#494545;font-size:130%;text-align:center;border-radius:15px 15px;\">Walmart Store Marketdata Analysis</p>\n",
    "![](https://blog.logomyway.com/wp-content/uploads/2017/02/history-of-walmart-and-logo.jpg)\n",
    "\n",
    "   <a id='top'></a>\n",
    "<div class=\"list-group\" id=\"list-tab\" role=\"tablist\">\n",
    "<p style=\"background-color:#682F2F;font-family:newtimeroman;color:#FFF9ED;font-size:150%;text-align:center;border-radius:10px 10px;\">TABLE OF CONTENTS</p>   \n",
    "    \n",
    "* [1. IMPORTING LIBRARIES](#1)\n",
    "    \n",
    "* [2. LOADING DATA](#2)\n",
    "       \n",
    "* [3. DATA EXPLORATORY & CLEANING](#3)\n",
    "* [4. REDUCING MEMORY](#4)\n",
    "* [5. FEATURE ENGINEERING](#5)\n",
    "* [6. DATA VISUALIZATION](#6)          \n",
    "* [7. RANDOMFOREST REGRESSOR](#7)\n",
    "* [8. FEATURE_IMPORTANCE](#8)\n",
    "* [9. GRADIENT BOOSTING](#9)\n",
    "* [10.GBR FEATURE_IMPORTANCE](#8)\n",
    "\n"
   ]
  },
  {
   "cell_type": "markdown",
   "id": "21379f79",
   "metadata": {
    "papermill": {
     "duration": 0.020023,
     "end_time": "2022-11-10T14:42:42.837558",
     "exception": false,
     "start_time": "2022-11-10T14:42:42.817535",
     "status": "completed"
    },
    "tags": []
   },
   "source": [
    "<a id=\"2\"></a>\n",
    "### <div style=\"text-align: left; background-color: #BB4ED8 ; font-family: Trebuchet MS; color: white; padding: 15px; line-height:1;border-radius:1px; margin-bottom: 0em; text-align: center; font-size: 25px\">IMPORTING LIBRARIES📚</div>"
   ]
  },
  {
   "cell_type": "code",
   "execution_count": 1,
   "id": "fdf0917a",
   "metadata": {
    "execution": {
     "iopub.execute_input": "2022-11-10T14:42:42.881080Z",
     "iopub.status.busy": "2022-11-10T14:42:42.880531Z",
     "iopub.status.idle": "2022-11-10T14:42:44.429712Z",
     "shell.execute_reply": "2022-11-10T14:42:44.428760Z"
    },
    "id": "eqQCJ6WhkeyH",
    "papermill": {
     "duration": 1.573539,
     "end_time": "2022-11-10T14:42:44.431975",
     "exception": false,
     "start_time": "2022-11-10T14:42:42.858436",
     "status": "completed"
    },
    "tags": []
   },
   "outputs": [],
   "source": [
    "#1.0.0 Call libraries of dataframe\n",
    "import numpy as np\n",
    "import pandas as pd\n",
    "\n",
    "#1.0.1 import required libraries for visualization\n",
    "import matplotlib.pyplot as plt\n",
    "import seaborn as sn\n",
    "\n",
    "#1.0.2 import required libraries Regression \n",
    "from sklearn.ensemble import RandomForestRegressor, GradientBoostingRegressor \n",
    "from sklearn.inspection import permutation_importance\n",
    "\n",
    "# 1.0.3 Trainig data split and Model pipelining\n",
    "from sklearn.model_selection import train_test_split\n",
    "from sklearn.pipeline import make_pipeline \n",
    "from sklearn.pipeline import Pipeline\n",
    "\n",
    "#1.0.4 import required libraries for Data preprocessing\n",
    "from sklearn.preprocessing import StandardScaler, PowerTransformer\n",
    "\n",
    "# 1.0.5 Model evaluation metrics\n",
    "from sklearn.metrics import mean_squared_error,mean_absolute_error,r2_score,f1_score\n",
    "from sklearn.metrics import median_absolute_error,explained_variance_score\n",
    "\n",
    "# 1.0.4 Dimensionality reduction and noise removal\n",
    "from sklearn.decomposition import PCA\n",
    "\n",
    "#1.0.5 importing xgbclassifier libraries\n",
    "from xgboost.sklearn import XGBRegressor\n",
    "# 1.0.6 Hyperparameter optimization\n",
    "from sklearn.model_selection import GridSearchCV"
   ]
  },
  {
   "cell_type": "markdown",
   "id": "2411486b",
   "metadata": {
    "id": "hcNnGCz2ooF8",
    "papermill": {
     "duration": 0.020495,
     "end_time": "2022-11-10T14:42:44.473199",
     "exception": false,
     "start_time": "2022-11-10T14:42:44.452704",
     "status": "completed"
    },
    "tags": []
   },
   "source": [
    "<a id=\"3\"></a>\n",
    "### <div style=\"text-align: left; background-color: #BB4ED8 ; font-family: Trebuchet MS; color: white; padding: 15px; line-height:1;border-radius:1px; margin-bottom: 0em; text-align: center; font-size: 25px\">Loading Dataset 👓</div>"
   ]
  },
  {
   "cell_type": "code",
   "execution_count": 2,
   "id": "1f42fa2f",
   "metadata": {
    "execution": {
     "iopub.execute_input": "2022-11-10T14:42:44.516610Z",
     "iopub.status.busy": "2022-11-10T14:42:44.516173Z",
     "iopub.status.idle": "2022-11-10T14:42:44.559543Z",
     "shell.execute_reply": "2022-11-10T14:42:44.557603Z"
    },
    "id": "friNPm-toX1d",
    "papermill": {
     "duration": 0.068109,
     "end_time": "2022-11-10T14:42:44.562220",
     "exception": false,
     "start_time": "2022-11-10T14:42:44.494111",
     "status": "completed"
    },
    "tags": []
   },
   "outputs": [],
   "source": [
    "#2.0.0 Reading the csv file\n",
    "wdata=pd.read_csv(\"../input/walmart-sales-dataset-of-45stores/walmart-sales-dataset-of-45stores.csv\")"
   ]
  },
  {
   "cell_type": "markdown",
   "id": "1bd35d88",
   "metadata": {
    "id": "72kCeQqHov5q",
    "papermill": {
     "duration": 0.023292,
     "end_time": "2022-11-10T14:42:44.609715",
     "exception": false,
     "start_time": "2022-11-10T14:42:44.586423",
     "status": "completed"
    },
    "tags": []
   },
   "source": [
    "<a id=\"4\"></a>\n",
    "### <div style=\"text-align: left; background-color: #BB4ED8 ; font-family: Trebuchet MS; color: white; padding: 15px; line-height:1;border-radius:1px; margin-bottom: 0em; text-align: center; font-size: 25px\">DATA EXPLORATORY,CLEANING AND REDUCING MEMORY⚒</div>"
   ]
  },
  {
   "cell_type": "code",
   "execution_count": 3,
   "id": "9fe1d847",
   "metadata": {
    "execution": {
     "iopub.execute_input": "2022-11-10T14:42:44.654354Z",
     "iopub.status.busy": "2022-11-10T14:42:44.654062Z",
     "iopub.status.idle": "2022-11-10T14:42:44.679043Z",
     "shell.execute_reply": "2022-11-10T14:42:44.677041Z"
    },
    "id": "gCETHI89omxj",
    "outputId": "987c922b-9ebd-4e2b-f767-84ab633f7fb7",
    "papermill": {
     "duration": 0.050247,
     "end_time": "2022-11-10T14:42:44.681452",
     "exception": false,
     "start_time": "2022-11-10T14:42:44.631205",
     "status": "completed"
    },
    "tags": []
   },
   "outputs": [
    {
     "data": {
      "text/html": [
       "<div>\n",
       "<style scoped>\n",
       "    .dataframe tbody tr th:only-of-type {\n",
       "        vertical-align: middle;\n",
       "    }\n",
       "\n",
       "    .dataframe tbody tr th {\n",
       "        vertical-align: top;\n",
       "    }\n",
       "\n",
       "    .dataframe thead th {\n",
       "        text-align: right;\n",
       "    }\n",
       "</style>\n",
       "<table border=\"1\" class=\"dataframe\">\n",
       "  <thead>\n",
       "    <tr style=\"text-align: right;\">\n",
       "      <th></th>\n",
       "      <th>Store</th>\n",
       "      <th>Date</th>\n",
       "      <th>Weekly_Sales</th>\n",
       "      <th>Holiday_Flag</th>\n",
       "      <th>Temperature</th>\n",
       "      <th>Fuel_Price</th>\n",
       "      <th>CPI</th>\n",
       "      <th>Unemployment</th>\n",
       "    </tr>\n",
       "  </thead>\n",
       "  <tbody>\n",
       "    <tr>\n",
       "      <th>0</th>\n",
       "      <td>1</td>\n",
       "      <td>05-02-2010</td>\n",
       "      <td>1643690.90</td>\n",
       "      <td>0</td>\n",
       "      <td>42.31</td>\n",
       "      <td>2.572</td>\n",
       "      <td>211.096358</td>\n",
       "      <td>8.106</td>\n",
       "    </tr>\n",
       "    <tr>\n",
       "      <th>1</th>\n",
       "      <td>1</td>\n",
       "      <td>12-02-2010</td>\n",
       "      <td>1641957.44</td>\n",
       "      <td>1</td>\n",
       "      <td>38.51</td>\n",
       "      <td>2.548</td>\n",
       "      <td>211.242170</td>\n",
       "      <td>8.106</td>\n",
       "    </tr>\n",
       "    <tr>\n",
       "      <th>2</th>\n",
       "      <td>1</td>\n",
       "      <td>19-02-2010</td>\n",
       "      <td>1611968.17</td>\n",
       "      <td>0</td>\n",
       "      <td>39.93</td>\n",
       "      <td>2.514</td>\n",
       "      <td>211.289143</td>\n",
       "      <td>8.106</td>\n",
       "    </tr>\n",
       "    <tr>\n",
       "      <th>3</th>\n",
       "      <td>1</td>\n",
       "      <td>26-02-2010</td>\n",
       "      <td>1409727.59</td>\n",
       "      <td>0</td>\n",
       "      <td>46.63</td>\n",
       "      <td>2.561</td>\n",
       "      <td>211.319643</td>\n",
       "      <td>8.106</td>\n",
       "    </tr>\n",
       "    <tr>\n",
       "      <th>4</th>\n",
       "      <td>1</td>\n",
       "      <td>05-03-2010</td>\n",
       "      <td>1554806.68</td>\n",
       "      <td>0</td>\n",
       "      <td>46.50</td>\n",
       "      <td>2.625</td>\n",
       "      <td>211.350143</td>\n",
       "      <td>8.106</td>\n",
       "    </tr>\n",
       "  </tbody>\n",
       "</table>\n",
       "</div>"
      ],
      "text/plain": [
       "   Store        Date  Weekly_Sales  Holiday_Flag  Temperature  Fuel_Price  \\\n",
       "0      1  05-02-2010    1643690.90             0        42.31       2.572   \n",
       "1      1  12-02-2010    1641957.44             1        38.51       2.548   \n",
       "2      1  19-02-2010    1611968.17             0        39.93       2.514   \n",
       "3      1  26-02-2010    1409727.59             0        46.63       2.561   \n",
       "4      1  05-03-2010    1554806.68             0        46.50       2.625   \n",
       "\n",
       "          CPI  Unemployment  \n",
       "0  211.096358         8.106  \n",
       "1  211.242170         8.106  \n",
       "2  211.289143         8.106  \n",
       "3  211.319643         8.106  \n",
       "4  211.350143         8.106  "
      ]
     },
     "execution_count": 3,
     "metadata": {},
     "output_type": "execute_result"
    }
   ],
   "source": [
    "#2.0.1 Displaying the table data\n",
    "wdata.head()"
   ]
  },
  {
   "cell_type": "code",
   "execution_count": 4,
   "id": "2f95d4e1",
   "metadata": {
    "execution": {
     "iopub.execute_input": "2022-11-10T14:42:44.731877Z",
     "iopub.status.busy": "2022-11-10T14:42:44.731543Z",
     "iopub.status.idle": "2022-11-10T14:42:44.740750Z",
     "shell.execute_reply": "2022-11-10T14:42:44.739723Z"
    },
    "id": "qHL3NTSOo_B8",
    "outputId": "6b0ec09f-51a5-45ac-c8db-5d9463cdd7cf",
    "papermill": {
     "duration": 0.035064,
     "end_time": "2022-11-10T14:42:44.742959",
     "exception": false,
     "start_time": "2022-11-10T14:42:44.707895",
     "status": "completed"
    },
    "tags": []
   },
   "outputs": [
    {
     "data": {
      "text/plain": [
       "Store             int64\n",
       "Date             object\n",
       "Weekly_Sales    float64\n",
       "Holiday_Flag      int64\n",
       "Temperature     float64\n",
       "Fuel_Price      float64\n",
       "CPI             float64\n",
       "Unemployment    float64\n",
       "dtype: object"
      ]
     },
     "execution_count": 4,
     "metadata": {},
     "output_type": "execute_result"
    }
   ],
   "source": [
    "#2.0.2 displaying the data types\n",
    "wdata.dtypes"
   ]
  },
  {
   "cell_type": "code",
   "execution_count": 5,
   "id": "2cfff4e1",
   "metadata": {
    "execution": {
     "iopub.execute_input": "2022-11-10T14:42:44.791228Z",
     "iopub.status.busy": "2022-11-10T14:42:44.790116Z",
     "iopub.status.idle": "2022-11-10T14:42:44.798303Z",
     "shell.execute_reply": "2022-11-10T14:42:44.797225Z"
    },
    "id": "kwaqBEN5pENV",
    "outputId": "587132d6-3f04-4ab9-b37d-7d462bf81f12",
    "papermill": {
     "duration": 0.034882,
     "end_time": "2022-11-10T14:42:44.800401",
     "exception": false,
     "start_time": "2022-11-10T14:42:44.765519",
     "status": "completed"
    },
    "tags": []
   },
   "outputs": [
    {
     "data": {
      "text/plain": [
       "(6435, 8)"
      ]
     },
     "execution_count": 5,
     "metadata": {},
     "output_type": "execute_result"
    }
   ],
   "source": [
    "#2.0.3 displaying the dimensions \n",
    "wdata.shape"
   ]
  },
  {
   "cell_type": "code",
   "execution_count": 6,
   "id": "ccdfeeb7",
   "metadata": {
    "execution": {
     "iopub.execute_input": "2022-11-10T14:42:44.846892Z",
     "iopub.status.busy": "2022-11-10T14:42:44.846505Z",
     "iopub.status.idle": "2022-11-10T14:42:44.877043Z",
     "shell.execute_reply": "2022-11-10T14:42:44.876239Z"
    },
    "id": "FYmcTfVREmeX",
    "outputId": "04318de5-7ad8-4a09-f63f-6b4ceceff61f",
    "papermill": {
     "duration": 0.055599,
     "end_time": "2022-11-10T14:42:44.878897",
     "exception": false,
     "start_time": "2022-11-10T14:42:44.823298",
     "status": "completed"
    },
    "tags": []
   },
   "outputs": [
    {
     "name": "stdout",
     "output_type": "stream",
     "text": [
      "<class 'pandas.core.frame.DataFrame'>\n",
      "RangeIndex: 6435 entries, 0 to 6434\n",
      "Data columns (total 8 columns):\n",
      " #   Column        Non-Null Count  Dtype  \n",
      "---  ------        --------------  -----  \n",
      " 0   Store         6435 non-null   int64  \n",
      " 1   Date          6435 non-null   object \n",
      " 2   Weekly_Sales  6435 non-null   float64\n",
      " 3   Holiday_Flag  6435 non-null   int64  \n",
      " 4   Temperature   6435 non-null   float64\n",
      " 5   Fuel_Price    6435 non-null   float64\n",
      " 6   CPI           6435 non-null   float64\n",
      " 7   Unemployment  6435 non-null   float64\n",
      "dtypes: float64(5), int64(2), object(1)\n",
      "memory usage: 402.3+ KB\n"
     ]
    }
   ],
   "source": [
    "#2.0.4 summary of dataframe\n",
    "wdata.info()"
   ]
  },
  {
   "cell_type": "code",
   "execution_count": 7,
   "id": "16eb1078",
   "metadata": {
    "execution": {
     "iopub.execute_input": "2022-11-10T14:42:44.927942Z",
     "iopub.status.busy": "2022-11-10T14:42:44.927097Z",
     "iopub.status.idle": "2022-11-10T14:42:44.956193Z",
     "shell.execute_reply": "2022-11-10T14:42:44.955289Z"
    },
    "id": "3kG8SWP8pM-S",
    "outputId": "ccc40a1a-43ce-42d0-df7e-7e75b4bc7629",
    "papermill": {
     "duration": 0.056285,
     "end_time": "2022-11-10T14:42:44.958465",
     "exception": false,
     "start_time": "2022-11-10T14:42:44.902180",
     "status": "completed"
    },
    "tags": []
   },
   "outputs": [
    {
     "data": {
      "text/html": [
       "<div>\n",
       "<style scoped>\n",
       "    .dataframe tbody tr th:only-of-type {\n",
       "        vertical-align: middle;\n",
       "    }\n",
       "\n",
       "    .dataframe tbody tr th {\n",
       "        vertical-align: top;\n",
       "    }\n",
       "\n",
       "    .dataframe thead th {\n",
       "        text-align: right;\n",
       "    }\n",
       "</style>\n",
       "<table border=\"1\" class=\"dataframe\">\n",
       "  <thead>\n",
       "    <tr style=\"text-align: right;\">\n",
       "      <th></th>\n",
       "      <th>Store</th>\n",
       "      <th>Weekly_Sales</th>\n",
       "      <th>Holiday_Flag</th>\n",
       "      <th>Temperature</th>\n",
       "      <th>Fuel_Price</th>\n",
       "      <th>CPI</th>\n",
       "      <th>Unemployment</th>\n",
       "    </tr>\n",
       "  </thead>\n",
       "  <tbody>\n",
       "    <tr>\n",
       "      <th>count</th>\n",
       "      <td>6435.000000</td>\n",
       "      <td>6.435000e+03</td>\n",
       "      <td>6435.000000</td>\n",
       "      <td>6435.000000</td>\n",
       "      <td>6435.000000</td>\n",
       "      <td>6435.000000</td>\n",
       "      <td>6435.000000</td>\n",
       "    </tr>\n",
       "    <tr>\n",
       "      <th>mean</th>\n",
       "      <td>23.000000</td>\n",
       "      <td>1.046965e+06</td>\n",
       "      <td>0.069930</td>\n",
       "      <td>60.663782</td>\n",
       "      <td>3.358607</td>\n",
       "      <td>171.578394</td>\n",
       "      <td>7.999151</td>\n",
       "    </tr>\n",
       "    <tr>\n",
       "      <th>std</th>\n",
       "      <td>12.988182</td>\n",
       "      <td>5.643666e+05</td>\n",
       "      <td>0.255049</td>\n",
       "      <td>18.444933</td>\n",
       "      <td>0.459020</td>\n",
       "      <td>39.356712</td>\n",
       "      <td>1.875885</td>\n",
       "    </tr>\n",
       "    <tr>\n",
       "      <th>min</th>\n",
       "      <td>1.000000</td>\n",
       "      <td>2.099862e+05</td>\n",
       "      <td>0.000000</td>\n",
       "      <td>-2.060000</td>\n",
       "      <td>2.472000</td>\n",
       "      <td>126.064000</td>\n",
       "      <td>3.879000</td>\n",
       "    </tr>\n",
       "    <tr>\n",
       "      <th>25%</th>\n",
       "      <td>12.000000</td>\n",
       "      <td>5.533501e+05</td>\n",
       "      <td>0.000000</td>\n",
       "      <td>47.460000</td>\n",
       "      <td>2.933000</td>\n",
       "      <td>131.735000</td>\n",
       "      <td>6.891000</td>\n",
       "    </tr>\n",
       "    <tr>\n",
       "      <th>50%</th>\n",
       "      <td>23.000000</td>\n",
       "      <td>9.607460e+05</td>\n",
       "      <td>0.000000</td>\n",
       "      <td>62.670000</td>\n",
       "      <td>3.445000</td>\n",
       "      <td>182.616521</td>\n",
       "      <td>7.874000</td>\n",
       "    </tr>\n",
       "    <tr>\n",
       "      <th>75%</th>\n",
       "      <td>34.000000</td>\n",
       "      <td>1.420159e+06</td>\n",
       "      <td>0.000000</td>\n",
       "      <td>74.940000</td>\n",
       "      <td>3.735000</td>\n",
       "      <td>212.743293</td>\n",
       "      <td>8.622000</td>\n",
       "    </tr>\n",
       "    <tr>\n",
       "      <th>max</th>\n",
       "      <td>45.000000</td>\n",
       "      <td>3.818686e+06</td>\n",
       "      <td>1.000000</td>\n",
       "      <td>100.140000</td>\n",
       "      <td>4.468000</td>\n",
       "      <td>227.232807</td>\n",
       "      <td>14.313000</td>\n",
       "    </tr>\n",
       "  </tbody>\n",
       "</table>\n",
       "</div>"
      ],
      "text/plain": [
       "             Store  Weekly_Sales  Holiday_Flag  Temperature   Fuel_Price  \\\n",
       "count  6435.000000  6.435000e+03   6435.000000  6435.000000  6435.000000   \n",
       "mean     23.000000  1.046965e+06      0.069930    60.663782     3.358607   \n",
       "std      12.988182  5.643666e+05      0.255049    18.444933     0.459020   \n",
       "min       1.000000  2.099862e+05      0.000000    -2.060000     2.472000   \n",
       "25%      12.000000  5.533501e+05      0.000000    47.460000     2.933000   \n",
       "50%      23.000000  9.607460e+05      0.000000    62.670000     3.445000   \n",
       "75%      34.000000  1.420159e+06      0.000000    74.940000     3.735000   \n",
       "max      45.000000  3.818686e+06      1.000000   100.140000     4.468000   \n",
       "\n",
       "               CPI  Unemployment  \n",
       "count  6435.000000   6435.000000  \n",
       "mean    171.578394      7.999151  \n",
       "std      39.356712      1.875885  \n",
       "min     126.064000      3.879000  \n",
       "25%     131.735000      6.891000  \n",
       "50%     182.616521      7.874000  \n",
       "75%     212.743293      8.622000  \n",
       "max     227.232807     14.313000  "
      ]
     },
     "execution_count": 7,
     "metadata": {},
     "output_type": "execute_result"
    }
   ],
   "source": [
    "#2.0.5 The statistics includes summarize\n",
    "wdata.describe()"
   ]
  },
  {
   "cell_type": "markdown",
   "id": "35a95271",
   "metadata": {
    "papermill": {
     "duration": 0.02167,
     "end_time": "2022-11-10T14:42:45.002176",
     "exception": false,
     "start_time": "2022-11-10T14:42:44.980506",
     "status": "completed"
    },
    "tags": []
   },
   "source": [
    "* As per the data  count, mean, std, min, max as well as lower, 50 and upper percentiles. By default the lower percentile is 25 and the upper percentile is 75. The 50 percentile is the same as the median.\n",
    "* For weekly_sales mean 1, std 5 and min 2\n",
    "* For holiday flag min is 0\n",
    "* For Temperature mean is 60 and max 100"
   ]
  },
  {
   "cell_type": "code",
   "execution_count": 8,
   "id": "a86d50ca",
   "metadata": {
    "execution": {
     "iopub.execute_input": "2022-11-10T14:42:45.048752Z",
     "iopub.status.busy": "2022-11-10T14:42:45.048238Z",
     "iopub.status.idle": "2022-11-10T14:42:45.054655Z",
     "shell.execute_reply": "2022-11-10T14:42:45.053688Z"
    },
    "id": "NSrjnH3_pWFi",
    "outputId": "b9191068-336c-4b9d-b524-4076c8031023",
    "papermill": {
     "duration": 0.032641,
     "end_time": "2022-11-10T14:42:45.057028",
     "exception": false,
     "start_time": "2022-11-10T14:42:45.024387",
     "status": "completed"
    },
    "tags": []
   },
   "outputs": [
    {
     "data": {
      "text/plain": [
       "Index(['Store', 'Date', 'Weekly_Sales', 'Holiday_Flag', 'Temperature',\n",
       "       'Fuel_Price', 'CPI', 'Unemployment'],\n",
       "      dtype='object')"
      ]
     },
     "execution_count": 8,
     "metadata": {},
     "output_type": "execute_result"
    }
   ],
   "source": [
    "#2.0.6 The list of columns name\n",
    "wdata.columns"
   ]
  },
  {
   "cell_type": "code",
   "execution_count": 9,
   "id": "c1609cc7",
   "metadata": {
    "execution": {
     "iopub.execute_input": "2022-11-10T14:42:45.103110Z",
     "iopub.status.busy": "2022-11-10T14:42:45.102715Z",
     "iopub.status.idle": "2022-11-10T14:42:45.110191Z",
     "shell.execute_reply": "2022-11-10T14:42:45.109325Z"
    },
    "id": "bWQETEZSpiZi",
    "outputId": "b815d121-c442-400e-e0a4-81bf7c111bac",
    "papermill": {
     "duration": 0.032873,
     "end_time": "2022-11-10T14:42:45.112423",
     "exception": false,
     "start_time": "2022-11-10T14:42:45.079550",
     "status": "completed"
    },
    "tags": []
   },
   "outputs": [
    {
     "data": {
      "text/plain": [
       "0"
      ]
     },
     "execution_count": 9,
     "metadata": {},
     "output_type": "execute_result"
    }
   ],
   "source": [
    "#Checking the NaN in dataset\n",
    "wdata.isna().sum().sum()"
   ]
  },
  {
   "cell_type": "code",
   "execution_count": 10,
   "id": "543a7a0a",
   "metadata": {
    "execution": {
     "iopub.execute_input": "2022-11-10T14:42:45.160955Z",
     "iopub.status.busy": "2022-11-10T14:42:45.159919Z",
     "iopub.status.idle": "2022-11-10T14:42:45.168871Z",
     "shell.execute_reply": "2022-11-10T14:42:45.167480Z"
    },
    "id": "7L3xpsuTrZVS",
    "outputId": "fc39e6eb-7ca3-4309-d56c-b8991fc5d192",
    "papermill": {
     "duration": 0.036172,
     "end_time": "2022-11-10T14:42:45.170957",
     "exception": false,
     "start_time": "2022-11-10T14:42:45.134785",
     "status": "completed"
    },
    "tags": []
   },
   "outputs": [
    {
     "data": {
      "text/plain": [
       "0"
      ]
     },
     "execution_count": 10,
     "metadata": {},
     "output_type": "execute_result"
    }
   ],
   "source": [
    "#Checking the NULL values of columns\n",
    "wdata.isnull().sum().sum()"
   ]
  },
  {
   "cell_type": "code",
   "execution_count": 11,
   "id": "f0167d7d",
   "metadata": {
    "execution": {
     "iopub.execute_input": "2022-11-10T14:42:45.218206Z",
     "iopub.status.busy": "2022-11-10T14:42:45.217827Z",
     "iopub.status.idle": "2022-11-10T14:42:45.230905Z",
     "shell.execute_reply": "2022-11-10T14:42:45.229542Z"
    },
    "id": "-mvDVbxfriey",
    "outputId": "dbd370a6-3e14-4c80-98b8-a5cc32515254",
    "papermill": {
     "duration": 0.039095,
     "end_time": "2022-11-10T14:42:45.232690",
     "exception": false,
     "start_time": "2022-11-10T14:42:45.193595",
     "status": "completed"
    },
    "tags": []
   },
   "outputs": [
    {
     "data": {
      "text/plain": [
       "0"
      ]
     },
     "execution_count": 11,
     "metadata": {},
     "output_type": "execute_result"
    }
   ],
   "source": [
    "#Checking the duplicated data\n",
    "wdata.duplicated().sum()"
   ]
  },
  {
   "cell_type": "code",
   "execution_count": 12,
   "id": "123bbc70",
   "metadata": {
    "execution": {
     "iopub.execute_input": "2022-11-10T14:42:45.278789Z",
     "iopub.status.busy": "2022-11-10T14:42:45.278451Z",
     "iopub.status.idle": "2022-11-10T14:42:45.290267Z",
     "shell.execute_reply": "2022-11-10T14:42:45.289286Z"
    },
    "id": "vwL_clILoyY0",
    "outputId": "c747ef3d-8f42-4256-c86b-7d733d9bf9e9",
    "papermill": {
     "duration": 0.0371,
     "end_time": "2022-11-10T14:42:45.291985",
     "exception": false,
     "start_time": "2022-11-10T14:42:45.254885",
     "status": "completed"
    },
    "tags": []
   },
   "outputs": [
    {
     "data": {
      "text/plain": [
       "1"
      ]
     },
     "execution_count": 12,
     "metadata": {},
     "output_type": "execute_result"
    }
   ],
   "source": [
    "#Checking if a feature is categorical\n",
    "(wdata.nunique()<5).sum()"
   ]
  },
  {
   "cell_type": "code",
   "execution_count": 13,
   "id": "6956a124",
   "metadata": {
    "execution": {
     "iopub.execute_input": "2022-11-10T14:42:45.339430Z",
     "iopub.status.busy": "2022-11-10T14:42:45.338908Z",
     "iopub.status.idle": "2022-11-10T14:42:45.348088Z",
     "shell.execute_reply": "2022-11-10T14:42:45.346308Z"
    },
    "id": "hiRmRhdzpJ0t",
    "outputId": "8b2ff327-3575-4da1-d2ac-75cfc6591b85",
    "papermill": {
     "duration": 0.035855,
     "end_time": "2022-11-10T14:42:45.350192",
     "exception": false,
     "start_time": "2022-11-10T14:42:45.314337",
     "status": "completed"
    },
    "tags": []
   },
   "outputs": [
    {
     "data": {
      "text/plain": [
       "float64    5\n",
       "int64      2\n",
       "object     1\n",
       "dtype: int64"
      ]
     },
     "execution_count": 13,
     "metadata": {},
     "output_type": "execute_result"
    }
   ],
   "source": [
    "#Displaying the datatypes \n",
    "wdata.dtypes.value_counts()"
   ]
  },
  {
   "cell_type": "markdown",
   "id": "5966e6d0",
   "metadata": {
    "papermill": {
     "duration": 0.022998,
     "end_time": "2022-11-10T14:42:45.395579",
     "exception": false,
     "start_time": "2022-11-10T14:42:45.372581",
     "status": "completed"
    },
    "tags": []
   },
   "source": [
    "## <div style=\"text-align: left; background-color:#808080; font-family: Trebuchet MS; color: #800000; padding: 15px; line-height:1;border-radius:1px; margin-bottom: 2em; text-align: center; font-size: 35px\">REDUCING MEMORY</div> "
   ]
  },
  {
   "cell_type": "code",
   "execution_count": 14,
   "id": "a60fe957",
   "metadata": {
    "execution": {
     "iopub.execute_input": "2022-11-10T14:42:45.443286Z",
     "iopub.status.busy": "2022-11-10T14:42:45.441819Z",
     "iopub.status.idle": "2022-11-10T14:42:45.450196Z",
     "shell.execute_reply": "2022-11-10T14:42:45.449402Z"
    },
    "id": "tx1lBhETsPPc",
    "outputId": "f5e33c79-9858-495c-d112-c704e1e62df0",
    "papermill": {
     "duration": 0.033622,
     "end_time": "2022-11-10T14:42:45.451869",
     "exception": false,
     "start_time": "2022-11-10T14:42:45.418247",
     "status": "completed"
    },
    "tags": []
   },
   "outputs": [
    {
     "data": {
      "text/plain": [
       "411968"
      ]
     },
     "execution_count": 14,
     "metadata": {},
     "output_type": "execute_result"
    }
   ],
   "source": [
    "#Memory usages\n",
    "wdata.memory_usage().sum()"
   ]
  },
  {
   "cell_type": "code",
   "execution_count": 15,
   "id": "aeb2c763",
   "metadata": {
    "execution": {
     "iopub.execute_input": "2022-11-10T14:42:45.497852Z",
     "iopub.status.busy": "2022-11-10T14:42:45.497521Z",
     "iopub.status.idle": "2022-11-10T14:42:45.506386Z",
     "shell.execute_reply": "2022-11-10T14:42:45.505152Z"
    },
    "id": "eiDVTGlWpbaC",
    "papermill": {
     "duration": 0.034406,
     "end_time": "2022-11-10T14:42:45.508359",
     "exception": false,
     "start_time": "2022-11-10T14:42:45.473953",
     "status": "completed"
    },
    "tags": []
   },
   "outputs": [],
   "source": [
    "#reducing the memory size\n",
    "\n",
    "wdata[['Store','Holiday_Flag']]=wdata[['Store','Holiday_Flag']].astype('int16')\n",
    "columns=['Weekly_Sales','Temperature','Fuel_Price','CPI','Unemployment']\n",
    "wdata[columns]=wdata[columns].astype('float32')\n",
    "  "
   ]
  },
  {
   "cell_type": "code",
   "execution_count": 16,
   "id": "69dc259d",
   "metadata": {
    "execution": {
     "iopub.execute_input": "2022-11-10T14:42:45.556275Z",
     "iopub.status.busy": "2022-11-10T14:42:45.555934Z",
     "iopub.status.idle": "2022-11-10T14:42:45.563793Z",
     "shell.execute_reply": "2022-11-10T14:42:45.562378Z"
    },
    "id": "uvDOF1yQujXq",
    "outputId": "01398388-9ce4-475d-887e-3fe7fac63ddd",
    "papermill": {
     "duration": 0.035378,
     "end_time": "2022-11-10T14:42:45.566038",
     "exception": false,
     "start_time": "2022-11-10T14:42:45.530660",
     "status": "completed"
    },
    "tags": []
   },
   "outputs": [
    {
     "data": {
      "text/plain": [
       "206048"
      ]
     },
     "execution_count": 16,
     "metadata": {},
     "output_type": "execute_result"
    }
   ],
   "source": [
    "#After optimizing the memory size\n",
    "wdata.memory_usage().sum()"
   ]
  },
  {
   "cell_type": "markdown",
   "id": "5cfcbf7f",
   "metadata": {
    "papermill": {
     "duration": 0.022335,
     "end_time": "2022-11-10T14:42:45.611600",
     "exception": false,
     "start_time": "2022-11-10T14:42:45.589265",
     "status": "completed"
    },
    "tags": []
   },
   "source": [
    "## <div style=\"text-align: left; background-color:#808080; font-family: Trebuchet MS; color: #800000; padding: 15px; line-height:1;border-radius:1px; margin-bottom: 2em; text-align: center; font-size: 35px\">FEATURE ENGINEERING</div> "
   ]
  },
  {
   "cell_type": "code",
   "execution_count": 17,
   "id": "5c8e4bc5",
   "metadata": {
    "execution": {
     "iopub.execute_input": "2022-11-10T14:42:45.659040Z",
     "iopub.status.busy": "2022-11-10T14:42:45.658700Z",
     "iopub.status.idle": "2022-11-10T14:42:45.677667Z",
     "shell.execute_reply": "2022-11-10T14:42:45.676604Z"
    },
    "id": "3I2caw5UEpy1",
    "papermill": {
     "duration": 0.045372,
     "end_time": "2022-11-10T14:42:45.679779",
     "exception": false,
     "start_time": "2022-11-10T14:42:45.634407",
     "status": "completed"
    },
    "tags": []
   },
   "outputs": [],
   "source": [
    "wdata['Date']=pd.to_datetime(wdata['Date'])\n",
    "wdata['Year']=wdata['Date'].dt.year\n",
    "wdata['Month']=wdata['Date'].dt.month\n",
    "wdata['Day']=wdata['Date'].dt.day\n",
    "wdata['MonthYear_value']=wdata['Date'].dt.to_period('M')"
   ]
  },
  {
   "cell_type": "markdown",
   "id": "a1b75120",
   "metadata": {
    "papermill": {
     "duration": 0.022217,
     "end_time": "2022-11-10T14:42:45.724573",
     "exception": false,
     "start_time": "2022-11-10T14:42:45.702356",
     "status": "completed"
    },
    "tags": []
   },
   "source": [
    "Typically in Season Starts:\n",
    "\n",
    "* Spring: March 21 - June 20\n",
    "* Summer: June 21 - September 20\n",
    "* Fall: September 21 - December 20\n",
    "* Winter: December 21 - March 20"
   ]
  },
  {
   "cell_type": "code",
   "execution_count": 18,
   "id": "89ac7e3c",
   "metadata": {
    "execution": {
     "iopub.execute_input": "2022-11-10T14:42:45.771227Z",
     "iopub.status.busy": "2022-11-10T14:42:45.770922Z",
     "iopub.status.idle": "2022-11-10T14:42:45.780638Z",
     "shell.execute_reply": "2022-11-10T14:42:45.779323Z"
    },
    "id": "ZL_LA4KdImm7",
    "papermill": {
     "duration": 0.035777,
     "end_time": "2022-11-10T14:42:45.782981",
     "exception": false,
     "start_time": "2022-11-10T14:42:45.747204",
     "status": "completed"
    },
    "tags": []
   },
   "outputs": [
    {
     "data": {
      "text/plain": [
       "['Store',\n",
       " 'Holiday_Flag',\n",
       " 'Temperature',\n",
       " 'Fuel_Price',\n",
       " 'CPI',\n",
       " 'Unemployment',\n",
       " 'Year',\n",
       " 'Month',\n",
       " 'Day',\n",
       " 'MonthYear_value']"
      ]
     },
     "execution_count": 18,
     "metadata": {},
     "output_type": "execute_result"
    }
   ],
   "source": [
    "#selecting the features \n",
    "wdata.drop(['Date'],axis=1, inplace=True)\n",
    "target='Weekly_Sales'\n",
    "features=[fe for fe in wdata.columns if fe not in target]\n",
    "features"
   ]
  },
  {
   "cell_type": "code",
   "execution_count": 19,
   "id": "239440b9",
   "metadata": {
    "execution": {
     "iopub.execute_input": "2022-11-10T14:42:45.831221Z",
     "iopub.status.busy": "2022-11-10T14:42:45.830878Z",
     "iopub.status.idle": "2022-11-10T14:42:45.845817Z",
     "shell.execute_reply": "2022-11-10T14:42:45.843658Z"
    },
    "papermill": {
     "duration": 0.041897,
     "end_time": "2022-11-10T14:42:45.848248",
     "exception": false,
     "start_time": "2022-11-10T14:42:45.806351",
     "status": "completed"
    },
    "tags": []
   },
   "outputs": [
    {
     "name": "stdout",
     "output_type": "stream",
     "text": [
      "Numerical 0\n",
      "Numerical 1\n",
      "Numerical 2\n",
      "Numerical 3\n",
      "Categorical 4\n",
      "Categorical 5\n",
      "Categorical 6\n",
      "Categorical 7\n",
      "Categorical 8\n",
      "Categorical 9\n"
     ]
    }
   ],
   "source": [
    "#Identifying the categorical and numerical feature\n",
    "nu=wdata[features].nunique().sort_values(ascending=False)\n",
    "cf=[]; nf=[]\n",
    "\n",
    "for x in range(wdata[features].shape[1]):\n",
    "    if nu.values[x]<=45:\n",
    "        print(\"Categorical\",x)\n",
    "        cf.append(nu.index[x])\n",
    "    else:\n",
    "          print(\"Numerical\",x)\n",
    "          nf.append(nu.index[x])"
   ]
  },
  {
   "cell_type": "code",
   "execution_count": 20,
   "id": "280e49b9",
   "metadata": {
    "execution": {
     "iopub.execute_input": "2022-11-10T14:42:45.896004Z",
     "iopub.status.busy": "2022-11-10T14:42:45.895666Z",
     "iopub.status.idle": "2022-11-10T14:42:45.902080Z",
     "shell.execute_reply": "2022-11-10T14:42:45.901102Z"
    },
    "papermill": {
     "duration": 0.032717,
     "end_time": "2022-11-10T14:42:45.904283",
     "exception": false,
     "start_time": "2022-11-10T14:42:45.871566",
     "status": "completed"
    },
    "tags": []
   },
   "outputs": [
    {
     "data": {
      "text/plain": [
       "['Store', 'MonthYear_value', 'Day', 'Month', 'Year', 'Holiday_Flag']"
      ]
     },
     "execution_count": 20,
     "metadata": {},
     "output_type": "execute_result"
    }
   ],
   "source": [
    "#categorical features\n",
    "cf"
   ]
  },
  {
   "cell_type": "code",
   "execution_count": 21,
   "id": "a7152a38",
   "metadata": {
    "execution": {
     "iopub.execute_input": "2022-11-10T14:42:45.952076Z",
     "iopub.status.busy": "2022-11-10T14:42:45.951749Z",
     "iopub.status.idle": "2022-11-10T14:42:45.958031Z",
     "shell.execute_reply": "2022-11-10T14:42:45.956611Z"
    },
    "papermill": {
     "duration": 0.032961,
     "end_time": "2022-11-10T14:42:45.960381",
     "exception": false,
     "start_time": "2022-11-10T14:42:45.927420",
     "status": "completed"
    },
    "tags": []
   },
   "outputs": [
    {
     "data": {
      "text/plain": [
       "['Temperature', 'CPI', 'Fuel_Price', 'Unemployment']"
      ]
     },
     "execution_count": 21,
     "metadata": {},
     "output_type": "execute_result"
    }
   ],
   "source": [
    "#Numerical features\n",
    "nf"
   ]
  },
  {
   "cell_type": "markdown",
   "id": "bedd83f5",
   "metadata": {
    "papermill": {
     "duration": 0.022604,
     "end_time": "2022-11-10T14:42:46.005873",
     "exception": false,
     "start_time": "2022-11-10T14:42:45.983269",
     "status": "completed"
    },
    "tags": []
   },
   "source": [
    "## <div style=\"text-align: left; background-color:#808080; font-family: Trebuchet MS; color: #800000; padding: 15px; line-height:1;border-radius:1px; margin-bottom: 2em; text-align: center; font-size: 35px\"> Data visualization</div> "
   ]
  },
  {
   "cell_type": "markdown",
   "id": "038caf67",
   "metadata": {
    "papermill": {
     "duration": 0.022576,
     "end_time": "2022-11-10T14:42:46.051445",
     "exception": false,
     "start_time": "2022-11-10T14:42:46.028869",
     "status": "completed"
    },
    "tags": []
   },
   "source": [
    "<div style=\"font-family: Segoe UI; line-height: 2; color: #DE3163; text-align: justify;font-size: 25px\">\n",
    "    <b>Visualizing Numerical features:</b>"
   ]
  },
  {
   "cell_type": "code",
   "execution_count": 22,
   "id": "b74e3cd3",
   "metadata": {
    "execution": {
     "iopub.execute_input": "2022-11-10T14:42:46.098778Z",
     "iopub.status.busy": "2022-11-10T14:42:46.098456Z",
     "iopub.status.idle": "2022-11-10T14:42:47.220884Z",
     "shell.execute_reply": "2022-11-10T14:42:47.220157Z"
    },
    "papermill": {
     "duration": 1.148713,
     "end_time": "2022-11-10T14:42:47.222966",
     "exception": false,
     "start_time": "2022-11-10T14:42:46.074253",
     "status": "completed"
    },
    "tags": []
   },
   "outputs": [
    {
     "data": {
      "image/png": "[encoded data removed]",
      "text/plain": [
       "<Figure size 360x360 with 1 Axes>"
      ]
     },
     "metadata": {
      "needs_background": "light"
     },
     "output_type": "display_data"
    },
    {
     "data": {
      "image/png": "[encoded data removed]",
      "text/plain": [
       "<Figure size 360x360 with 1 Axes>"
      ]
     },
     "metadata": {
      "needs_background": "light"
     },
     "output_type": "display_data"
    },
    {
     "data": {
      "image/png": "[encoded data removed]",
      "text/plain": [
       "<Figure size 360x360 with 1 Axes>"
      ]
     },
     "metadata": {
      "needs_background": "light"
     },
     "output_type": "display_data"
    },
    {
     "data": {
      "image/png": "[encoded data removed]",
      "text/plain": [
       "<Figure size 360x360 with 1 Axes>"
      ]
     },
     "metadata": {
      "needs_background": "light"
     },
     "output_type": "display_data"
    }
   ],
   "source": [
    "for i in range(len(nf)):\n",
    "    sn.displot(wdata[nf[i]], kde=True)\n",
    "    \n",
    "plt.tight_layout()\n",
    "plt.show()\n"
   ]
  },
  {
   "cell_type": "markdown",
   "id": "61b1a982",
   "metadata": {
    "papermill": {
     "duration": 0.023933,
     "end_time": "2022-11-10T14:42:47.271465",
     "exception": false,
     "start_time": "2022-11-10T14:42:47.247532",
     "status": "completed"
    },
    "tags": []
   },
   "source": [
    "<div style=\"font-family: Segoe UI; line-height: 2; color: #DE3163; text-align: justify;font-size: 25px\">\n",
    "    <b>Visualizing categorical features:</b>"
   ]
  },
  {
   "cell_type": "code",
   "execution_count": 23,
   "id": "4f6d6aa1",
   "metadata": {
    "execution": {
     "iopub.execute_input": "2022-11-10T14:42:47.321639Z",
     "iopub.status.busy": "2022-11-10T14:42:47.320703Z",
     "iopub.status.idle": "2022-11-10T14:42:48.280657Z",
     "shell.execute_reply": "2022-11-10T14:42:48.279077Z"
    },
    "papermill": {
     "duration": 0.986972,
     "end_time": "2022-11-10T14:42:48.282661",
     "exception": false,
     "start_time": "2022-11-10T14:42:47.295689",
     "status": "completed"
    },
    "tags": []
   },
   "outputs": [
    {
     "data": {
      "image/png": "[encoded data removed]",
      "text/plain": [
       "<Figure size 864x504 with 1 Axes>"
      ]
     },
     "metadata": {
      "needs_background": "light"
     },
     "output_type": "display_data"
    },
    {
     "data": {
      "image/png": "[encoded data removed]",
      "text/plain": [
       "<Figure size 864x504 with 1 Axes>"
      ]
     },
     "metadata": {
      "needs_background": "light"
     },
     "output_type": "display_data"
    },
    {
     "data": {
      "image/png": "[encoded data removed]",
      "text/plain": [
       "<Figure size 864x504 with 1 Axes>"
      ]
     },
     "metadata": {
      "needs_background": "light"
     },
     "output_type": "display_data"
    },
    {
     "data": {
      "image/png": "[encoded data removed]",
      "text/plain": [
       "<Figure size 864x504 with 1 Axes>"
      ]
     },
     "metadata": {
      "needs_background": "light"
     },
     "output_type": "display_data"
    },
    {
     "data": {
      "image/png": "[encoded data removed]",
      "text/plain": [
       "<Figure size 864x504 with 1 Axes>"
      ]
     },
     "metadata": {
      "needs_background": "light"
     },
     "output_type": "display_data"
    }
   ],
   "source": [
    "#Visualizing the categorical feature\n",
    "for x in range(len(cf)):\n",
    "    if cf[x] != 'MonthYear_value':\n",
    "        plt.subplots(figsize=(12,7))\n",
    "        sn.histplot(wdata[cf[x]], kde=True);"
   ]
  },
  {
   "cell_type": "code",
   "execution_count": 24,
   "id": "f06c73b7",
   "metadata": {
    "execution": {
     "iopub.execute_input": "2022-11-10T14:42:48.336455Z",
     "iopub.status.busy": "2022-11-10T14:42:48.336141Z",
     "iopub.status.idle": "2022-11-10T14:42:48.719637Z",
     "shell.execute_reply": "2022-11-10T14:42:48.718695Z"
    },
    "papermill": {
     "duration": 0.412534,
     "end_time": "2022-11-10T14:42:48.721282",
     "exception": false,
     "start_time": "2022-11-10T14:42:48.308748",
     "status": "completed"
    },
    "tags": []
   },
   "outputs": [
    {
     "data": {
      "image/png": "[encoded data removed]",
      "text/plain": [
       "<Figure size 360x360 with 1 Axes>"
      ]
     },
     "metadata": {
      "needs_background": "light"
     },
     "output_type": "display_data"
    }
   ],
   "source": [
    "# Applied the density on target\n",
    "sn.displot(wdata['Weekly_Sales'],kde=True);"
   ]
  },
  {
   "cell_type": "markdown",
   "id": "8a86034c",
   "metadata": {
    "papermill": {
     "duration": 0.026586,
     "end_time": "2022-11-10T14:42:48.774157",
     "exception": false,
     "start_time": "2022-11-10T14:42:48.747571",
     "status": "completed"
    },
    "tags": []
   },
   "source": [
    "<div style=\"font-family: Segoe UI; line-height: 2; color: #DE3163; text-align: justify;font-size: 25px\">\n",
    "<b>TOP 5 weekly sales stores</b>"
   ]
  },
  {
   "cell_type": "code",
   "execution_count": 25,
   "id": "12816cfb",
   "metadata": {
    "execution": {
     "iopub.execute_input": "2022-11-10T14:42:48.828770Z",
     "iopub.status.busy": "2022-11-10T14:42:48.828298Z",
     "iopub.status.idle": "2022-11-10T14:42:48.842993Z",
     "shell.execute_reply": "2022-11-10T14:42:48.841131Z"
    },
    "id": "ezhEM47Tl4u4",
    "outputId": "96b38825-3849-4584-b5eb-2637ab77db95",
    "papermill": {
     "duration": 0.045219,
     "end_time": "2022-11-10T14:42:48.845904",
     "exception": false,
     "start_time": "2022-11-10T14:42:48.800685",
     "status": "completed"
    },
    "tags": []
   },
   "outputs": [
    {
     "name": "stdout",
     "output_type": "stream",
     "text": [
      "\n",
      " TOP 5 stores for weekly sales \n",
      "\n"
     ]
    },
    {
     "data": {
      "text/html": [
       "<div>\n",
       "<style scoped>\n",
       "    .dataframe tbody tr th:only-of-type {\n",
       "        vertical-align: middle;\n",
       "    }\n",
       "\n",
       "    .dataframe tbody tr th {\n",
       "        vertical-align: top;\n",
       "    }\n",
       "\n",
       "    .dataframe thead th {\n",
       "        text-align: right;\n",
       "    }\n",
       "</style>\n",
       "<table border=\"1\" class=\"dataframe\">\n",
       "  <thead>\n",
       "    <tr style=\"text-align: right;\">\n",
       "      <th></th>\n",
       "      <th>Weekly_Sales</th>\n",
       "    </tr>\n",
       "    <tr>\n",
       "      <th>Store</th>\n",
       "      <th></th>\n",
       "    </tr>\n",
       "  </thead>\n",
       "  <tbody>\n",
       "    <tr>\n",
       "      <th>14</th>\n",
       "      <td>317569.952477</td>\n",
       "    </tr>\n",
       "    <tr>\n",
       "      <th>10</th>\n",
       "      <td>302262.077178</td>\n",
       "    </tr>\n",
       "    <tr>\n",
       "      <th>20</th>\n",
       "      <td>275900.566709</td>\n",
       "    </tr>\n",
       "    <tr>\n",
       "      <th>4</th>\n",
       "      <td>266201.450594</td>\n",
       "    </tr>\n",
       "    <tr>\n",
       "      <th>13</th>\n",
       "      <td>265506.987557</td>\n",
       "    </tr>\n",
       "  </tbody>\n",
       "</table>\n",
       "</div>"
      ],
      "text/plain": [
       "        Weekly_Sales\n",
       "Store               \n",
       "14     317569.952477\n",
       "10     302262.077178\n",
       "20     275900.566709\n",
       "4      266201.450594\n",
       "13     265506.987557"
      ]
     },
     "execution_count": 25,
     "metadata": {},
     "output_type": "execute_result"
    }
   ],
   "source": [
    "#grouping and aggreting the data\n",
    "df=wdata.groupby(wdata['Store']).aggregate({'Weekly_Sales': 'std'}).sort_values(by = 'Weekly_Sales',ascending = False)\n",
    "df.reset_index(drop=True)\n",
    "print(\"\\n TOP 5 stores for weekly sales \\n\")\n",
    "df.head(5)"
   ]
  },
  {
   "cell_type": "code",
   "execution_count": 26,
   "id": "ff446860",
   "metadata": {
    "execution": {
     "iopub.execute_input": "2022-11-10T14:42:48.902443Z",
     "iopub.status.busy": "2022-11-10T14:42:48.902131Z",
     "iopub.status.idle": "2022-11-10T14:42:50.451489Z",
     "shell.execute_reply": "2022-11-10T14:42:50.450188Z"
    },
    "id": "ThzHbM_1rpsb",
    "outputId": "860a2f96-31e0-45e2-f7ca-a8ae34982bf9",
    "papermill": {
     "duration": 1.580223,
     "end_time": "2022-11-10T14:42:50.453625",
     "exception": false,
     "start_time": "2022-11-10T14:42:48.873402",
     "status": "completed"
    },
    "tags": []
   },
   "outputs": [
    {
     "data": {
      "text/plain": [
       "<AxesSubplot:xlabel='Store', ylabel='Weekly_Sales'>"
      ]
     },
     "execution_count": 26,
     "metadata": {},
     "output_type": "execute_result"
    },
    {
     "data": {
      "image/png": "[encoded data removed]",
      "text/plain": [
       "<Figure size 864x576 with 1 Axes>"
      ]
     },
     "metadata": {
      "needs_background": "light"
     },
     "output_type": "display_data"
    }
   ],
   "source": [
    "#Displaying the sales data\n",
    "fig,ax=plt.subplots(figsize=(12,8))\n",
    "sn.barplot(x='Store', y='Weekly_Sales',data=wdata)\n"
   ]
  },
  {
   "cell_type": "markdown",
   "id": "f7ffcd93",
   "metadata": {
    "papermill": {
     "duration": 0.026162,
     "end_time": "2022-11-10T14:42:50.506381",
     "exception": false,
     "start_time": "2022-11-10T14:42:50.480219",
     "status": "completed"
    },
    "tags": []
   },
   "source": [
    "<div style=\"font-family: Segoe UI; line-height: 2; color: #800080; text-align: justify;font-size: 25px\">\n",
    "     <b>Conclusion</b>"
   ]
  },
  {
   "cell_type": "markdown",
   "id": "fd1ca021",
   "metadata": {
    "papermill": {
     "duration": 0.026502,
     "end_time": "2022-11-10T14:42:50.559449",
     "exception": false,
     "start_time": "2022-11-10T14:42:50.532947",
     "status": "completed"
    },
    "tags": []
   },
   "source": [
    "After seeing the data analysis,got to know 5th highest sales store\n",
    "* Top 1: store 14\n",
    "* Top 2: store 10\n",
    "* Top 3: store 20\n",
    "* Top 4: store 4 \n",
    "* Tpo 5: store 13"
   ]
  },
  {
   "cell_type": "markdown",
   "id": "8b3124c7",
   "metadata": {
    "id": "T1ukuDpL5jY4",
    "papermill": {
     "duration": 0.026726,
     "end_time": "2022-11-10T14:42:50.612726",
     "exception": false,
     "start_time": "2022-11-10T14:42:50.586000",
     "status": "completed"
    },
    "tags": []
   },
   "source": [
    "<div style=\"font-family: Segoe UI; line-height: 2; color: #008000; text-align: justify;font-size: 25px\">\n",
    " <b>Which year is the Highest Weekly sales?</b>\n"
   ]
  },
  {
   "cell_type": "code",
   "execution_count": 27,
   "id": "843451f4",
   "metadata": {
    "execution": {
     "iopub.execute_input": "2022-11-10T14:42:50.669178Z",
     "iopub.status.busy": "2022-11-10T14:42:50.668794Z",
     "iopub.status.idle": "2022-11-10T14:42:50.682601Z",
     "shell.execute_reply": "2022-11-10T14:42:50.680958Z"
    },
    "id": "HC8YVQMmLor_",
    "outputId": "2c75bdc4-19b7-49b0-a474-2d1d0a0c3430",
    "papermill": {
     "duration": 0.04346,
     "end_time": "2022-11-10T14:42:50.684370",
     "exception": false,
     "start_time": "2022-11-10T14:42:50.640910",
     "status": "completed"
    },
    "tags": []
   },
   "outputs": [
    {
     "name": "stdout",
     "output_type": "stream",
     "text": [
      "\n",
      " Highest weekly sales in year\n"
     ]
    },
    {
     "data": {
      "text/html": [
       "<div>\n",
       "<style scoped>\n",
       "    .dataframe tbody tr th:only-of-type {\n",
       "        vertical-align: middle;\n",
       "    }\n",
       "\n",
       "    .dataframe tbody tr th {\n",
       "        vertical-align: top;\n",
       "    }\n",
       "\n",
       "    .dataframe thead th {\n",
       "        text-align: right;\n",
       "    }\n",
       "</style>\n",
       "<table border=\"1\" class=\"dataframe\">\n",
       "  <thead>\n",
       "    <tr style=\"text-align: right;\">\n",
       "      <th></th>\n",
       "      <th>Year</th>\n",
       "      <th>Weekly_Sales</th>\n",
       "    </tr>\n",
       "  </thead>\n",
       "  <tbody>\n",
       "    <tr>\n",
       "      <th>0</th>\n",
       "      <td>2010</td>\n",
       "      <td>582386.103983</td>\n",
       "    </tr>\n",
       "  </tbody>\n",
       "</table>\n",
       "</div>"
      ],
      "text/plain": [
       "   Year   Weekly_Sales\n",
       "0  2010  582386.103983"
      ]
     },
     "execution_count": 27,
     "metadata": {},
     "output_type": "execute_result"
    }
   ],
   "source": [
    "#Doing the groupby of year and aggreate of sales\n",
    "hs = wdata.groupby(wdata['Year']).aggregate({'Weekly_Sales': 'std'}).reset_index().sort_values(by = 'Weekly_Sales',ascending=False)\n",
    "\n",
    "print(\"\\n Highest weekly sales in year\")\n",
    "hs.head(1)"
   ]
  },
  {
   "cell_type": "markdown",
   "id": "bc5a4a9d",
   "metadata": {
    "papermill": {
     "duration": 0.0266,
     "end_time": "2022-11-10T14:42:50.737993",
     "exception": false,
     "start_time": "2022-11-10T14:42:50.711393",
     "status": "completed"
    },
    "tags": []
   },
   "source": [
    "<div style=\"font-family: Segoe UI; line-height: 2; color: #800080; text-align: justify;font-size: 25px\">\n",
    "     <b>Summary</b>"
   ]
  },
  {
   "cell_type": "markdown",
   "id": "5a2fbf3d",
   "metadata": {
    "papermill": {
     "duration": 0.026722,
     "end_time": "2022-11-10T14:42:50.791635",
     "exception": false,
     "start_time": "2022-11-10T14:42:50.764913",
     "status": "completed"
    },
    "tags": []
   },
   "source": [
    "As per the data, 2010 is the highest sales year in walmart store"
   ]
  },
  {
   "cell_type": "code",
   "execution_count": 28,
   "id": "2c68f6ee",
   "metadata": {
    "execution": {
     "iopub.execute_input": "2022-11-10T14:42:50.849409Z",
     "iopub.status.busy": "2022-11-10T14:42:50.848799Z",
     "iopub.status.idle": "2022-11-10T14:42:51.088764Z",
     "shell.execute_reply": "2022-11-10T14:42:51.088031Z"
    },
    "id": "w2jmq2yRvxce",
    "outputId": "4d1e98ff-a7ac-4166-876d-aa1753d5a430",
    "papermill": {
     "duration": 0.272274,
     "end_time": "2022-11-10T14:42:51.091081",
     "exception": false,
     "start_time": "2022-11-10T14:42:50.818807",
     "status": "completed"
    },
    "tags": []
   },
   "outputs": [
    {
     "data": {
      "image/png": "[encoded data removed]",
      "text/plain": [
       "<Figure size 720x576 with 1 Axes>"
      ]
     },
     "metadata": {
      "needs_background": "light"
     },
     "output_type": "display_data"
    }
   ],
   "source": [
    "#Displaying the yearly sales price\n",
    "fig,ax=plt.subplots(figsize=(10,8))\n",
    "sn.barplot(data=wdata, x='Year', y='Weekly_Sales');"
   ]
  },
  {
   "cell_type": "markdown",
   "id": "682f3ca4",
   "metadata": {
    "id": "JZcmn_rGM2Kk",
    "papermill": {
     "duration": 0.026418,
     "end_time": "2022-11-10T14:42:51.155317",
     "exception": false,
     "start_time": "2022-11-10T14:42:51.128899",
     "status": "completed"
    },
    "tags": []
   },
   "source": [
    "<div style=\"font-family: Segoe UI; line-height: 2; color: #008080; text-align: justify;font-size: 25px\">\n",
    "     <b>Which Month is the Highest sales rate?</b>\n"
   ]
  },
  {
   "cell_type": "code",
   "execution_count": 29,
   "id": "236a4fe9",
   "metadata": {
    "execution": {
     "iopub.execute_input": "2022-11-10T14:42:51.210904Z",
     "iopub.status.busy": "2022-11-10T14:42:51.210602Z",
     "iopub.status.idle": "2022-11-10T14:42:51.223447Z",
     "shell.execute_reply": "2022-11-10T14:42:51.222861Z"
    },
    "id": "5uhloTqaM_qG",
    "outputId": "0e96b70a-5513-4865-a345-f02bda602bd9",
    "papermill": {
     "duration": 0.04269,
     "end_time": "2022-11-10T14:42:51.224980",
     "exception": false,
     "start_time": "2022-11-10T14:42:51.182290",
     "status": "completed"
    },
    "tags": []
   },
   "outputs": [
    {
     "data": {
      "text/html": [
       "<div>\n",
       "<style scoped>\n",
       "    .dataframe tbody tr th:only-of-type {\n",
       "        vertical-align: middle;\n",
       "    }\n",
       "\n",
       "    .dataframe tbody tr th {\n",
       "        vertical-align: top;\n",
       "    }\n",
       "\n",
       "    .dataframe thead th {\n",
       "        text-align: right;\n",
       "    }\n",
       "</style>\n",
       "<table border=\"1\" class=\"dataframe\">\n",
       "  <thead>\n",
       "    <tr style=\"text-align: right;\">\n",
       "      <th></th>\n",
       "      <th>Month</th>\n",
       "      <th>Weekly_Sales</th>\n",
       "    </tr>\n",
       "  </thead>\n",
       "  <tbody>\n",
       "    <tr>\n",
       "      <th>11</th>\n",
       "      <td>12</td>\n",
       "      <td>740396.852305</td>\n",
       "    </tr>\n",
       "    <tr>\n",
       "      <th>10</th>\n",
       "      <td>11</td>\n",
       "      <td>637010.952931</td>\n",
       "    </tr>\n",
       "    <tr>\n",
       "      <th>1</th>\n",
       "      <td>2</td>\n",
       "      <td>560597.378846</td>\n",
       "    </tr>\n",
       "    <tr>\n",
       "      <th>5</th>\n",
       "      <td>6</td>\n",
       "      <td>550777.055000</td>\n",
       "    </tr>\n",
       "    <tr>\n",
       "      <th>9</th>\n",
       "      <td>10</td>\n",
       "      <td>543662.628016</td>\n",
       "    </tr>\n",
       "  </tbody>\n",
       "</table>\n",
       "</div>"
      ],
      "text/plain": [
       "    Month   Weekly_Sales\n",
       "11     12  740396.852305\n",
       "10     11  637010.952931\n",
       "1       2  560597.378846\n",
       "5       6  550777.055000\n",
       "9      10  543662.628016"
      ]
     },
     "execution_count": 29,
     "metadata": {},
     "output_type": "execute_result"
    }
   ],
   "source": [
    "#Finding the month with groupby \n",
    "hsale=wdata.groupby(wdata['Month']).aggregate({'Weekly_Sales': 'std'}).reset_index().sort_values(by = 'Weekly_Sales',ascending=False)\n",
    "hsale.head()\n"
   ]
  },
  {
   "cell_type": "code",
   "execution_count": 30,
   "id": "e2dfaa8b",
   "metadata": {
    "execution": {
     "iopub.execute_input": "2022-11-10T14:42:51.282035Z",
     "iopub.status.busy": "2022-11-10T14:42:51.281346Z",
     "iopub.status.idle": "2022-11-10T14:42:51.826507Z",
     "shell.execute_reply": "2022-11-10T14:42:51.825224Z"
    },
    "id": "PQTHNfrcN9c8",
    "outputId": "ac69d80d-bf0d-4c05-9231-c48bdb5eb59c",
    "papermill": {
     "duration": 0.575906,
     "end_time": "2022-11-10T14:42:51.828676",
     "exception": false,
     "start_time": "2022-11-10T14:42:51.252770",
     "status": "completed"
    },
    "tags": []
   },
   "outputs": [
    {
     "data": {
      "image/png": "[encoded data removed]",
      "text/plain": [
       "<Figure size 432x288 with 1 Axes>"
      ]
     },
     "metadata": {
      "needs_background": "light"
     },
     "output_type": "display_data"
    }
   ],
   "source": [
    "#Displaying the monthly sales rate\n",
    "sn.barplot(data=wdata, x='Month', y='Weekly_Sales');"
   ]
  },
  {
   "cell_type": "markdown",
   "id": "21476a44",
   "metadata": {
    "papermill": {
     "duration": 0.027211,
     "end_time": "2022-11-10T14:42:51.884121",
     "exception": false,
     "start_time": "2022-11-10T14:42:51.856910",
     "status": "completed"
    },
    "tags": []
   },
   "source": [
    "<div style=\"font-family: Segoe UI; line-height: 2; color: #800080; text-align: justify;font-size: 25px\">\n",
    "     <b>Summary</b>"
   ]
  },
  {
   "cell_type": "markdown",
   "id": "238be8d9",
   "metadata": {
    "papermill": {
     "duration": 0.027507,
     "end_time": "2022-11-10T14:42:51.939156",
     "exception": false,
     "start_time": "2022-11-10T14:42:51.911649",
     "status": "completed"
    },
    "tags": []
   },
   "source": [
    "The december winter season is the highest sales rate in Walmart store "
   ]
  },
  {
   "cell_type": "markdown",
   "id": "42ef73c6",
   "metadata": {
    "id": "EBVBuOkNClN6",
    "papermill": {
     "duration": 0.027664,
     "end_time": "2022-11-10T14:42:51.994698",
     "exception": false,
     "start_time": "2022-11-10T14:42:51.967034",
     "status": "completed"
    },
    "tags": []
   },
   "source": [
    "<div style=\"font-family: Segoe UI; line-height: 2; color: #800080; text-align: justify;font-size: 25px\">\n",
    "     <b>Which store is more unemployment rate?</b>"
   ]
  },
  {
   "cell_type": "code",
   "execution_count": 31,
   "id": "49541199",
   "metadata": {
    "execution": {
     "iopub.execute_input": "2022-11-10T14:42:52.053165Z",
     "iopub.status.busy": "2022-11-10T14:42:52.052825Z",
     "iopub.status.idle": "2022-11-10T14:42:52.067696Z",
     "shell.execute_reply": "2022-11-10T14:42:52.066004Z"
    },
    "id": "iPs-w3_nDA15",
    "outputId": "e3696df9-d161-4e79-9db6-9efe6e8b0952",
    "papermill": {
     "duration": 0.048094,
     "end_time": "2022-11-10T14:42:52.070434",
     "exception": false,
     "start_time": "2022-11-10T14:42:52.022340",
     "status": "completed"
    },
    "tags": []
   },
   "outputs": [
    {
     "data": {
      "text/html": [
       "<div>\n",
       "<style scoped>\n",
       "    .dataframe tbody tr th:only-of-type {\n",
       "        vertical-align: middle;\n",
       "    }\n",
       "\n",
       "    .dataframe tbody tr th {\n",
       "        vertical-align: top;\n",
       "    }\n",
       "\n",
       "    .dataframe thead th {\n",
       "        text-align: right;\n",
       "    }\n",
       "</style>\n",
       "<table border=\"1\" class=\"dataframe\">\n",
       "  <thead>\n",
       "    <tr style=\"text-align: right;\">\n",
       "      <th></th>\n",
       "      <th>Store</th>\n",
       "      <th>Unemployment</th>\n",
       "    </tr>\n",
       "  </thead>\n",
       "  <tbody>\n",
       "    <tr>\n",
       "      <th>0</th>\n",
       "      <td>28</td>\n",
       "      <td>1875.656982</td>\n",
       "    </tr>\n",
       "    <tr>\n",
       "      <th>1</th>\n",
       "      <td>38</td>\n",
       "      <td>1875.656982</td>\n",
       "    </tr>\n",
       "    <tr>\n",
       "      <th>2</th>\n",
       "      <td>12</td>\n",
       "      <td>1875.656982</td>\n",
       "    </tr>\n",
       "    <tr>\n",
       "      <th>3</th>\n",
       "      <td>43</td>\n",
       "      <td>1420.677002</td>\n",
       "    </tr>\n",
       "    <tr>\n",
       "      <th>4</th>\n",
       "      <td>34</td>\n",
       "      <td>1420.677002</td>\n",
       "    </tr>\n",
       "    <tr>\n",
       "      <th>5</th>\n",
       "      <td>29</td>\n",
       "      <td>1402.312988</td>\n",
       "    </tr>\n",
       "    <tr>\n",
       "      <th>6</th>\n",
       "      <td>18</td>\n",
       "      <td>1263.876953</td>\n",
       "    </tr>\n",
       "    <tr>\n",
       "      <th>7</th>\n",
       "      <td>35</td>\n",
       "      <td>1256.765991</td>\n",
       "    </tr>\n",
       "    <tr>\n",
       "      <th>8</th>\n",
       "      <td>14</td>\n",
       "      <td>1236.770996</td>\n",
       "    </tr>\n",
       "    <tr>\n",
       "      <th>9</th>\n",
       "      <td>45</td>\n",
       "      <td>1236.770996</td>\n",
       "    </tr>\n",
       "  </tbody>\n",
       "</table>\n",
       "</div>"
      ],
      "text/plain": [
       "   Store  Unemployment\n",
       "0     28   1875.656982\n",
       "1     38   1875.656982\n",
       "2     12   1875.656982\n",
       "3     43   1420.677002\n",
       "4     34   1420.677002\n",
       "5     29   1402.312988\n",
       "6     18   1263.876953\n",
       "7     35   1256.765991\n",
       "8     14   1236.770996\n",
       "9     45   1236.770996"
      ]
     },
     "execution_count": 31,
     "metadata": {},
     "output_type": "execute_result"
    }
   ],
   "source": [
    "#Checking the unemployment rate\n",
    "unemp=wdata['Unemployment'].groupby(wdata['Store']).sum().sort_values(ascending=False).reset_index()\n",
    "unemp.head(10)"
   ]
  },
  {
   "cell_type": "code",
   "execution_count": 32,
   "id": "b79eff42",
   "metadata": {
    "execution": {
     "iopub.execute_input": "2022-11-10T14:42:52.128468Z",
     "iopub.status.busy": "2022-11-10T14:42:52.128172Z",
     "iopub.status.idle": "2022-11-10T14:42:53.722977Z",
     "shell.execute_reply": "2022-11-10T14:42:53.721395Z"
    },
    "id": "YCCf5YKu6C2T",
    "outputId": "70c9d108-9bbc-4ca0-e011-a50e9fa51be7",
    "papermill": {
     "duration": 1.626538,
     "end_time": "2022-11-10T14:42:53.725329",
     "exception": false,
     "start_time": "2022-11-10T14:42:52.098791",
     "status": "completed"
    },
    "tags": []
   },
   "outputs": [
    {
     "data": {
      "image/png": "[encoded data removed]",
      "text/plain": [
       "<Figure size 864x576 with 1 Axes>"
      ]
     },
     "metadata": {
      "needs_background": "light"
     },
     "output_type": "display_data"
    }
   ],
   "source": [
    "#Showing the unemployment rate\n",
    "fig,ax=plt.subplots(figsize=(12,8))\n",
    "sn.barplot(data=wdata, x= 'Store', y='Unemployment');"
   ]
  },
  {
   "cell_type": "markdown",
   "id": "acc3c708",
   "metadata": {
    "papermill": {
     "duration": 0.032757,
     "end_time": "2022-11-10T14:42:53.786707",
     "exception": false,
     "start_time": "2022-11-10T14:42:53.753950",
     "status": "completed"
    },
    "tags": []
   },
   "source": [
    "<div style=\"font-family: Segoe UI; line-height: 2; color: #800080; text-align: justify;font-size: 25px\">\n",
    "     <b>Conclusion</b>"
   ]
  },
  {
   "cell_type": "markdown",
   "id": "123cbc3f",
   "metadata": {
    "papermill": {
     "duration": 0.028232,
     "end_time": "2022-11-10T14:42:53.847371",
     "exception": false,
     "start_time": "2022-11-10T14:42:53.819139",
     "status": "completed"
    },
    "tags": []
   },
   "source": [
    "The walmart store number 28, 38 and 12 are the maximum unemployment rate."
   ]
  },
  {
   "cell_type": "markdown",
   "id": "e5de02d4",
   "metadata": {
    "id": "fPSUOvlU8i9S",
    "papermill": {
     "duration": 0.028117,
     "end_time": "2022-11-10T14:42:53.904011",
     "exception": false,
     "start_time": "2022-11-10T14:42:53.875894",
     "status": "completed"
    },
    "tags": []
   },
   "source": [
    "<div style=\"font-family: Segoe UI; line-height: 2; color: #808000; text-align: justify;font-size: 25px\">\n",
    "    👉 <b>Does Holiday effects weekly sales?</b>\n"
   ]
  },
  {
   "cell_type": "code",
   "execution_count": 33,
   "id": "83d19547",
   "metadata": {
    "execution": {
     "iopub.execute_input": "2022-11-10T14:42:53.962911Z",
     "iopub.status.busy": "2022-11-10T14:42:53.962590Z",
     "iopub.status.idle": "2022-11-10T14:42:54.189596Z",
     "shell.execute_reply": "2022-11-10T14:42:54.188789Z"
    },
    "id": "Wym9ea2g8oYc",
    "outputId": "9a00a168-b9ef-4190-8ca4-8310f1e9de23",
    "papermill": {
     "duration": 0.25893,
     "end_time": "2022-11-10T14:42:54.191676",
     "exception": false,
     "start_time": "2022-11-10T14:42:53.932746",
     "status": "completed"
    },
    "tags": []
   },
   "outputs": [
    {
     "data": {
      "image/png": "[encoded data removed]",
      "text/plain": [
       "<Figure size 432x288 with 1 Axes>"
      ]
     },
     "metadata": {
      "needs_background": "light"
     },
     "output_type": "display_data"
    }
   ],
   "source": [
    "sn.barplot(data=wdata, x=wdata['Holiday_Flag'], y=wdata['Weekly_Sales']);"
   ]
  },
  {
   "cell_type": "markdown",
   "id": "824cf05d",
   "metadata": {
    "id": "RLIfEjrT9Amz",
    "papermill": {
     "duration": 0.027475,
     "end_time": "2022-11-10T14:42:54.257469",
     "exception": false,
     "start_time": "2022-11-10T14:42:54.229994",
     "status": "completed"
    },
    "tags": []
   },
   "source": [
    "<div style=\"font-family: Segoe UI; line-height: 2; color: #800000; text-align: justify;font-size: 25px\">\n",
    "    👉 <b>How does Temparature effects sales?</b>"
   ]
  },
  {
   "cell_type": "code",
   "execution_count": 34,
   "id": "c086aa91",
   "metadata": {
    "execution": {
     "iopub.execute_input": "2022-11-10T14:42:54.314227Z",
     "iopub.status.busy": "2022-11-10T14:42:54.313904Z",
     "iopub.status.idle": "2022-11-10T14:42:54.561742Z",
     "shell.execute_reply": "2022-11-10T14:42:54.560911Z"
    },
    "id": "DOLy6gKP9LN4",
    "outputId": "88913b5b-4d3c-4743-9ecb-05c59178aab6",
    "papermill": {
     "duration": 0.279228,
     "end_time": "2022-11-10T14:42:54.564283",
     "exception": false,
     "start_time": "2022-11-10T14:42:54.285055",
     "status": "completed"
    },
    "tags": []
   },
   "outputs": [
    {
     "data": {
      "image/png": "[encoded data removed]",
      "text/plain": [
       "<Figure size 864x576 with 1 Axes>"
      ]
     },
     "metadata": {
      "needs_background": "light"
     },
     "output_type": "display_data"
    }
   ],
   "source": [
    "fig,ax=plt.subplots(figsize=(12,8))\n",
    "sn.scatterplot(data=wdata, x=wdata['Temperature'], y=wdata['Weekly_Sales']);"
   ]
  },
  {
   "cell_type": "markdown",
   "id": "ae4ae96d",
   "metadata": {
    "papermill": {
     "duration": 0.030288,
     "end_time": "2022-11-10T14:42:54.625801",
     "exception": false,
     "start_time": "2022-11-10T14:42:54.595513",
     "status": "completed"
    },
    "tags": []
   },
   "source": [
    "<div style=\"font-family: Segoe UI; line-height: 2; color: #800080; text-align: justify;font-size: 25px\">\n",
    "     <b>Conclusion</b>"
   ]
  },
  {
   "cell_type": "markdown",
   "id": "ca752de1",
   "metadata": {
    "papermill": {
     "duration": 0.030517,
     "end_time": "2022-11-10T14:42:54.686996",
     "exception": false,
     "start_time": "2022-11-10T14:42:54.656479",
     "status": "completed"
    },
    "tags": []
   },
   "source": [
    "* By checking the plot data, when temparature goes 40, the sales rate goes down.\n",
    "* if temparature goes low, the sales rate goes up."
   ]
  },
  {
   "cell_type": "markdown",
   "id": "8cd7edf0",
   "metadata": {
    "papermill": {
     "duration": 0.031089,
     "end_time": "2022-11-10T14:42:54.748552",
     "exception": false,
     "start_time": "2022-11-10T14:42:54.717463",
     "status": "completed"
    },
    "tags": []
   },
   "source": [
    "<div style=\"text-align: left; background-color:#F19F9F; font-family: Trebuchet MS; color:#494545; padding: 20px; line-height:1.25;border-radius:1px; margin-bottom: 0em; text-align: center; font-size: 40px\">RandomForest Regression</div>"
   ]
  },
  {
   "cell_type": "markdown",
   "id": "aa7ced34",
   "metadata": {
    "papermill": {
     "duration": 0.031412,
     "end_time": "2022-11-10T14:42:54.810877",
     "exception": false,
     "start_time": "2022-11-10T14:42:54.779465",
     "status": "completed"
    },
    "tags": []
   },
   "source": [
    "<div style=\"font-family: Segoe UI; line-height: 2; color: #008080; text-align: justify;font-size: 25px\">\n",
    "     <b>Preparing & spliting model data</b>"
   ]
  },
  {
   "cell_type": "code",
   "execution_count": 35,
   "id": "0f30cdbc",
   "metadata": {
    "execution": {
     "iopub.execute_input": "2022-11-10T14:42:54.872672Z",
     "iopub.status.busy": "2022-11-10T14:42:54.872367Z",
     "iopub.status.idle": "2022-11-10T14:42:54.878295Z",
     "shell.execute_reply": "2022-11-10T14:42:54.877313Z"
    },
    "id": "kb9kruxLw6HZ",
    "papermill": {
     "duration": 0.03936,
     "end_time": "2022-11-10T14:42:54.880269",
     "exception": false,
     "start_time": "2022-11-10T14:42:54.840909",
     "status": "completed"
    },
    "tags": []
   },
   "outputs": [],
   "source": [
    "#Defining the featurematrix(x) and response vector(y)\n",
    "X=wdata.drop(columns=['Weekly_Sales', 'Year', 'Month', 'Day', 'MonthYear_value' ])\n",
    "y=wdata.iloc[:, 1:2]"
   ]
  },
  {
   "cell_type": "code",
   "execution_count": 36,
   "id": "611fb023",
   "metadata": {
    "execution": {
     "iopub.execute_input": "2022-11-10T14:42:54.943727Z",
     "iopub.status.busy": "2022-11-10T14:42:54.942775Z",
     "iopub.status.idle": "2022-11-10T14:42:54.949802Z",
     "shell.execute_reply": "2022-11-10T14:42:54.949096Z"
    },
    "id": "RQ3FClsoMZ7n",
    "papermill": {
     "duration": 0.041169,
     "end_time": "2022-11-10T14:42:54.951987",
     "exception": false,
     "start_time": "2022-11-10T14:42:54.910818",
     "status": "completed"
    },
    "tags": []
   },
   "outputs": [],
   "source": [
    "#we can split X and y into traininig and test sets. we will use 70% training and 30% test data\n",
    "X_train, X_test, y_train, y_test=train_test_split(X,y, test_size=0.3)"
   ]
  },
  {
   "cell_type": "markdown",
   "id": "b74ed959",
   "metadata": {
    "id": "P1AZMLYzt56b",
    "papermill": {
     "duration": 0.03097,
     "end_time": "2022-11-10T14:42:55.014102",
     "exception": false,
     "start_time": "2022-11-10T14:42:54.983132",
     "status": "completed"
    },
    "tags": []
   },
   "source": [
    "<div style=\"font-family: Segoe UI; line-height: 2; color: #800000; text-align: justify;font-size: 25px\">\n",
    "     <b>Model creation and fitting training data</b>"
   ]
  },
  {
   "cell_type": "code",
   "execution_count": 37,
   "id": "5c6f5676",
   "metadata": {
    "execution": {
     "iopub.execute_input": "2022-11-10T14:42:55.078385Z",
     "iopub.status.busy": "2022-11-10T14:42:55.077359Z",
     "iopub.status.idle": "2022-11-10T14:42:56.470812Z",
     "shell.execute_reply": "2022-11-10T14:42:56.469681Z"
    },
    "id": "eG-cj14Yt9XH",
    "outputId": "55da946b-b926-45ab-d5cd-8a753177f572",
    "papermill": {
     "duration": 1.427904,
     "end_time": "2022-11-10T14:42:56.473097",
     "exception": false,
     "start_time": "2022-11-10T14:42:55.045193",
     "status": "completed"
    },
    "tags": []
   },
   "outputs": [
    {
     "data": {
      "text/plain": [
       "RandomForestRegressor(random_state=0)"
      ]
     },
     "execution_count": 37,
     "metadata": {},
     "output_type": "execute_result"
    }
   ],
   "source": [
    "#RandomForest object initialized \n",
    "rf_obj=RandomForestRegressor(n_estimators = 100, random_state = 0)\n",
    "rf_obj.fit(X_train,np.ravel(y_train))"
   ]
  },
  {
   "cell_type": "markdown",
   "id": "d1d15f95",
   "metadata": {
    "papermill": {
     "duration": 0.031449,
     "end_time": "2022-11-10T14:42:56.535954",
     "exception": false,
     "start_time": "2022-11-10T14:42:56.504505",
     "status": "completed"
    },
    "tags": []
   },
   "source": [
    "<div style=\"font-family: Segoe UI; line-height: 2; color: #008000; text-align: justify;font-size: 25px\">\n",
    "     <b>Predicting the sales data</b>"
   ]
  },
  {
   "cell_type": "code",
   "execution_count": 38,
   "id": "93d2de02",
   "metadata": {
    "execution": {
     "iopub.execute_input": "2022-11-10T14:42:56.600284Z",
     "iopub.status.busy": "2022-11-10T14:42:56.599792Z",
     "iopub.status.idle": "2022-11-10T14:42:56.655595Z",
     "shell.execute_reply": "2022-11-10T14:42:56.654266Z"
    },
    "id": "Y9Iqq1yLLPoX",
    "outputId": "4af35ea5-9c3f-4040-9087-1ee337d850f8",
    "papermill": {
     "duration": 0.090754,
     "end_time": "2022-11-10T14:42:56.657793",
     "exception": false,
     "start_time": "2022-11-10T14:42:56.567039",
     "status": "completed"
    },
    "tags": []
   },
   "outputs": [
    {
     "data": {
      "text/plain": [
       "array([ 713068.90625 , 1378305.48625 ,  438706.31125 , ...,\n",
       "       1563370.43375 , 1211195.043125,  606949.085625])"
      ]
     },
     "execution_count": 38,
     "metadata": {},
     "output_type": "execute_result"
    }
   ],
   "source": [
    "#The RF module predicts the data\n",
    "y_pred=rf_obj.predict(X_test)\n",
    "y_pred"
   ]
  },
  {
   "cell_type": "markdown",
   "id": "01207262",
   "metadata": {
    "papermill": {
     "duration": 0.030395,
     "end_time": "2022-11-10T14:42:56.719274",
     "exception": false,
     "start_time": "2022-11-10T14:42:56.688879",
     "status": "completed"
    },
    "tags": []
   },
   "source": [
    "<div style=\"font-family: Segoe UI; line-height: 2; color: #800080; text-align: justify;font-size: 25px\">\n",
    "     <b>Model evaluation & performance </b>"
   ]
  },
  {
   "cell_type": "code",
   "execution_count": 39,
   "id": "a63b233e",
   "metadata": {
    "execution": {
     "iopub.execute_input": "2022-11-10T14:42:56.783546Z",
     "iopub.status.busy": "2022-11-10T14:42:56.783242Z",
     "iopub.status.idle": "2022-11-10T14:42:56.877329Z",
     "shell.execute_reply": "2022-11-10T14:42:56.875689Z"
    },
    "papermill": {
     "duration": 0.128695,
     "end_time": "2022-11-10T14:42:56.879264",
     "exception": false,
     "start_time": "2022-11-10T14:42:56.750569",
     "status": "completed"
    },
    "tags": []
   },
   "outputs": [
    {
     "name": "stdout",
     "output_type": "stream",
     "text": [
      " \n",
      " The training score is: \n",
      " 0.99\n"
     ]
    }
   ],
   "source": [
    "print(\" \\n The training score is: \\n\", round(rf_obj.score(X_train, y_train), 2))"
   ]
  },
  {
   "cell_type": "code",
   "execution_count": 40,
   "id": "d6a16b5e",
   "metadata": {
    "execution": {
     "iopub.execute_input": "2022-11-10T14:42:56.943830Z",
     "iopub.status.busy": "2022-11-10T14:42:56.943337Z",
     "iopub.status.idle": "2022-11-10T14:42:56.954816Z",
     "shell.execute_reply": "2022-11-10T14:42:56.953870Z"
    },
    "id": "BS7F-aIPOnsR",
    "outputId": "e14db9b9-8753-40c6-9809-868aa39c5744",
    "papermill": {
     "duration": 0.046463,
     "end_time": "2022-11-10T14:42:56.957457",
     "exception": false,
     "start_time": "2022-11-10T14:42:56.910994",
     "status": "completed"
    },
    "tags": []
   },
   "outputs": [
    {
     "name": "stdout",
     "output_type": "stream",
     "text": [
      "\n",
      " RandomForestRegression model performance: \n",
      "\n",
      "Mean absolute error(MAE) = 80285.21\n",
      "Mean squared error(MSE) = 25400712695.33\n",
      "Median absolute error = 38953.58\n",
      "Explain variance score = 0.92\n",
      "R2 score = 0.92\n"
     ]
    }
   ],
   "source": [
    "##Showing the evaluation of module and error score\n",
    "print(\"\\n RandomForestRegression model performance: \\n\")\n",
    "print(\"Mean absolute error(MAE) =\", round(mean_absolute_error(y_test, \n",
    "y_pred), 2))\n",
    "print(\"Mean squared error(MSE) =\", round(mean_squared_error(y_test, \n",
    "y_pred), 2)) \n",
    "print(\"Median absolute error =\", round(median_absolute_error(y_test, \n",
    "y_pred), 2)) \n",
    "print(\"Explain variance score =\", round(explained_variance_score(y_test, \n",
    "y_pred), 2))\n",
    "print(\"R2 score =\", round(r2_score(y_test, y_pred), 2))\n",
    "\n"
   ]
  },
  {
   "cell_type": "markdown",
   "id": "7e5d50f1",
   "metadata": {
    "papermill": {
     "duration": 0.030594,
     "end_time": "2022-11-10T14:42:57.019641",
     "exception": false,
     "start_time": "2022-11-10T14:42:56.989047",
     "status": "completed"
    },
    "tags": []
   },
   "source": [
    "<div style=\"font-family: Segoe UI; line-height: 2; color: #800080; text-align: justify;font-size: 25px\">\n",
    "     <b>Conclusion</b>"
   ]
  },
  {
   "cell_type": "markdown",
   "id": "fd3c6b4e",
   "metadata": {
    "papermill": {
     "duration": 0.032632,
     "end_time": "2022-11-10T14:42:57.083161",
     "exception": false,
     "start_time": "2022-11-10T14:42:57.050529",
     "status": "completed"
    },
    "tags": []
   },
   "source": [
    "* The Mean squared error is high.\n",
    "* The Explained variance score is close to 92%\n",
    "* The R2 score is close to 92%, so Model is not overfitting "
   ]
  },
  {
   "cell_type": "markdown",
   "id": "d94d2ca6",
   "metadata": {
    "papermill": {
     "duration": 0.031551,
     "end_time": "2022-11-10T14:42:57.146159",
     "exception": false,
     "start_time": "2022-11-10T14:42:57.114608",
     "status": "completed"
    },
    "tags": []
   },
   "source": [
    "<div style=\"font-family: Segoe UI; line-height: 2; color: #800080; text-align: justify;font-size: 25px\">\n",
    "     <b>MSE and estimators checking in plot</b>"
   ]
  },
  {
   "cell_type": "code",
   "execution_count": 41,
   "id": "23eca803",
   "metadata": {
    "execution": {
     "iopub.execute_input": "2022-11-10T14:42:57.211069Z",
     "iopub.status.busy": "2022-11-10T14:42:57.210499Z",
     "iopub.status.idle": "2022-11-10T14:43:02.463750Z",
     "shell.execute_reply": "2022-11-10T14:43:02.462736Z"
    },
    "papermill": {
     "duration": 5.287645,
     "end_time": "2022-11-10T14:43:02.466036",
     "exception": false,
     "start_time": "2022-11-10T14:42:57.178391",
     "status": "completed"
    },
    "tags": []
   },
   "outputs": [],
   "source": [
    "#took the 100 trees and combining the MSE\n",
    "train_results = []\n",
    "test_results = []\n",
    "list_nb_trees = [5, 10, 15, 30, 45, 60, 80, 100]\n",
    "\n",
    "for nb_trees in list_nb_trees:\n",
    "    rf = RandomForestRegressor(n_estimators=nb_trees)\n",
    "    rf.fit(X_train, np.ravel(y_train))\n",
    "\n",
    "    train_results.append(mean_squared_error(y_train, rf.predict(X_train)))\n",
    "    test_results.append(mean_squared_error(y_test, rf.predict(X_test)))\n",
    "\n"
   ]
  },
  {
   "cell_type": "code",
   "execution_count": 42,
   "id": "2437e2ae",
   "metadata": {
    "execution": {
     "iopub.execute_input": "2022-11-10T14:43:02.529955Z",
     "iopub.status.busy": "2022-11-10T14:43:02.529656Z",
     "iopub.status.idle": "2022-11-10T14:43:02.673148Z",
     "shell.execute_reply": "2022-11-10T14:43:02.672152Z"
    },
    "papermill": {
     "duration": 0.17801,
     "end_time": "2022-11-10T14:43:02.675368",
     "exception": false,
     "start_time": "2022-11-10T14:43:02.497358",
     "status": "completed"
    },
    "tags": []
   },
   "outputs": [
    {
     "data": {
      "image/png": "[encoded data removed]",
      "text/plain": [
       "<Figure size 864x360 with 1 Axes>"
      ]
     },
     "metadata": {
      "needs_background": "light"
     },
     "output_type": "display_data"
    }
   ],
   "source": [
    "#Displaying the MSE error ploting\n",
    "plt.subplots(figsize=(12,5))\n",
    "plt.plot(list_nb_trees, train_results, color=\"r\", linestyle='-', label=\"Training Score\")\n",
    "plt.plot(list_nb_trees, test_results, color=\"g\", linestyle='-', label=\"Testing Score\")\n",
    "plt.title(\"Red:Training Green:Testing\")\n",
    "plt.ylabel('MSE')\n",
    "plt.xlabel('n_estimators')\n",
    "plt.show()"
   ]
  },
  {
   "cell_type": "markdown",
   "id": "29330344",
   "metadata": {
    "papermill": {
     "duration": 0.031025,
     "end_time": "2022-11-10T14:43:02.738159",
     "exception": false,
     "start_time": "2022-11-10T14:43:02.707134",
     "status": "completed"
    },
    "tags": []
   },
   "source": [
    "* The plot data shows from MSE(1.2,5) falling MSE(0.2,15) to estimatores 30\n",
    "* After n_estimatores 40, MSE is constant. "
   ]
  },
  {
   "cell_type": "markdown",
   "id": "92b25744",
   "metadata": {
    "papermill": {
     "duration": 0.031131,
     "end_time": "2022-11-10T14:43:02.800674",
     "exception": false,
     "start_time": "2022-11-10T14:43:02.769543",
     "status": "completed"
    },
    "tags": []
   },
   "source": [
    "* The Testing MSE error shows from MSE(1.2,5) falling MSE(0.2,15) to estimatores 30\n",
    "* After n_estimatores 40, MSE is constant. "
   ]
  },
  {
   "cell_type": "markdown",
   "id": "0bb1732b",
   "metadata": {
    "papermill": {
     "duration": 0.031106,
     "end_time": "2022-11-10T14:43:02.863243",
     "exception": false,
     "start_time": "2022-11-10T14:43:02.832137",
     "status": "completed"
    },
    "tags": []
   },
   "source": [
    "<div style=\"font-family: Segoe UI; line-height: 2; color: #FF0000; text-align: justify;font-size: 25px\">\n",
    "    👉 <b>Evaluating Feature Importance</b>"
   ]
  },
  {
   "cell_type": "code",
   "execution_count": 43,
   "id": "a6f09876",
   "metadata": {
    "execution": {
     "iopub.execute_input": "2022-11-10T14:43:02.928695Z",
     "iopub.status.busy": "2022-11-10T14:43:02.927673Z",
     "iopub.status.idle": "2022-11-10T14:43:02.953702Z",
     "shell.execute_reply": "2022-11-10T14:43:02.952903Z"
    },
    "papermill": {
     "duration": 0.060764,
     "end_time": "2022-11-10T14:43:02.955496",
     "exception": false,
     "start_time": "2022-11-10T14:43:02.894732",
     "status": "completed"
    },
    "tags": []
   },
   "outputs": [
    {
     "data": {
      "text/html": [
       "<div>\n",
       "<style scoped>\n",
       "    .dataframe tbody tr th:only-of-type {\n",
       "        vertical-align: middle;\n",
       "    }\n",
       "\n",
       "    .dataframe tbody tr th {\n",
       "        vertical-align: top;\n",
       "    }\n",
       "\n",
       "    .dataframe thead th {\n",
       "        text-align: right;\n",
       "    }\n",
       "</style>\n",
       "<table border=\"1\" class=\"dataframe\">\n",
       "  <thead>\n",
       "    <tr style=\"text-align: right;\">\n",
       "      <th></th>\n",
       "      <th>index</th>\n",
       "      <th>0</th>\n",
       "    </tr>\n",
       "  </thead>\n",
       "  <tbody>\n",
       "    <tr>\n",
       "      <th>0</th>\n",
       "      <td>Store</td>\n",
       "      <td>0.670952</td>\n",
       "    </tr>\n",
       "    <tr>\n",
       "      <th>1</th>\n",
       "      <td>CPI</td>\n",
       "      <td>0.179590</td>\n",
       "    </tr>\n",
       "    <tr>\n",
       "      <th>2</th>\n",
       "      <td>Unemployment</td>\n",
       "      <td>0.095413</td>\n",
       "    </tr>\n",
       "    <tr>\n",
       "      <th>3</th>\n",
       "      <td>Temperature</td>\n",
       "      <td>0.028178</td>\n",
       "    </tr>\n",
       "    <tr>\n",
       "      <th>4</th>\n",
       "      <td>Fuel_Price</td>\n",
       "      <td>0.021980</td>\n",
       "    </tr>\n",
       "    <tr>\n",
       "      <th>5</th>\n",
       "      <td>Holiday_Flag</td>\n",
       "      <td>0.003887</td>\n",
       "    </tr>\n",
       "  </tbody>\n",
       "</table>\n",
       "</div>"
      ],
      "text/plain": [
       "          index         0\n",
       "0         Store  0.670952\n",
       "1           CPI  0.179590\n",
       "2  Unemployment  0.095413\n",
       "3   Temperature  0.028178\n",
       "4    Fuel_Price  0.021980\n",
       "5  Holiday_Flag  0.003887"
      ]
     },
     "execution_count": 43,
     "metadata": {},
     "output_type": "execute_result"
    }
   ],
   "source": [
    "#Took the feature_importance of RFR\n",
    "reg_feature_imp = pd.Series(rf_obj.feature_importances_,\n",
    "                        index = X_train.columns).sort_values(ascending=False)\n",
    "reg_feature_imp*100\n",
    "reg_feature_imp.reset_index()"
   ]
  },
  {
   "cell_type": "markdown",
   "id": "b024e923",
   "metadata": {
    "papermill": {
     "duration": 0.030933,
     "end_time": "2022-11-10T14:43:03.018146",
     "exception": false,
     "start_time": "2022-11-10T14:43:02.987213",
     "status": "completed"
    },
    "tags": []
   },
   "source": [
    "As per the data\n",
    "1. Store has 67% which is highest feature importances\n",
    "2. Holiday_flag is the lowest feature importance\n"
   ]
  },
  {
   "cell_type": "code",
   "execution_count": 44,
   "id": "3b646f74",
   "metadata": {
    "execution": {
     "iopub.execute_input": "2022-11-10T14:43:03.084874Z",
     "iopub.status.busy": "2022-11-10T14:43:03.084545Z",
     "iopub.status.idle": "2022-11-10T14:43:03.251982Z",
     "shell.execute_reply": "2022-11-10T14:43:03.250555Z"
    },
    "papermill": {
     "duration": 0.20268,
     "end_time": "2022-11-10T14:43:03.253556",
     "exception": false,
     "start_time": "2022-11-10T14:43:03.050876",
     "status": "completed"
    },
    "tags": []
   },
   "outputs": [
    {
     "data": {
      "image/png": "[encoded data removed]",
      "text/plain": [
       "<Figure size 1296x648 with 1 Axes>"
      ]
     },
     "metadata": {
      "needs_background": "light"
     },
     "output_type": "display_data"
    }
   ],
   "source": [
    "#Displaying the feature importances in plot\n",
    "plt.subplots(figsize=(18,9))\n",
    "plt.plot(reg_feature_imp)\n",
    "plt.xlabel(\"X-Variable Scores\")\n",
    "plt.ylabel(\"Y-Variables\")\n",
    "plt.title(\"Feature Importance\")\n",
    "plt.show()"
   ]
  },
  {
   "cell_type": "markdown",
   "id": "4031680d",
   "metadata": {
    "id": "t0Y0jDg6a63A",
    "papermill": {
     "duration": 0.03117,
     "end_time": "2022-11-10T14:43:03.315935",
     "exception": false,
     "start_time": "2022-11-10T14:43:03.284765",
     "status": "completed"
    },
    "tags": []
   },
   "source": [
    "<div style=\"font-family: Segoe UI; line-height: 2; color: #000080; text-align: justify;font-size: 25px\">\n",
    "    <b>Pipeline & Model building</b>\n"
   ]
  },
  {
   "cell_type": "code",
   "execution_count": 45,
   "id": "29bae5d9",
   "metadata": {
    "execution": {
     "iopub.execute_input": "2022-11-10T14:43:03.382219Z",
     "iopub.status.busy": "2022-11-10T14:43:03.380744Z",
     "iopub.status.idle": "2022-11-10T14:43:03.387279Z",
     "shell.execute_reply": "2022-11-10T14:43:03.385914Z"
    },
    "id": "08UYQ1FmbD14",
    "papermill": {
     "duration": 0.042452,
     "end_time": "2022-11-10T14:43:03.389806",
     "exception": false,
     "start_time": "2022-11-10T14:43:03.347354",
     "status": "completed"
    },
    "tags": []
   },
   "outputs": [],
   "source": [
    "#Creating the pipe line for model\n",
    "pipe1=make_pipeline(StandardScaler(),RandomForestRegressor(n_estimators=100, max_depth = 35))"
   ]
  },
  {
   "cell_type": "markdown",
   "id": "ec7c5944",
   "metadata": {
    "papermill": {
     "duration": 0.033238,
     "end_time": "2022-11-10T14:43:03.455773",
     "exception": false,
     "start_time": "2022-11-10T14:43:03.422535",
     "status": "completed"
    },
    "tags": []
   },
   "source": [
    "<div style=\"font-family: Segoe UI; line-height: 2; color: #008080; text-align: justify;font-size: 25px\">\n",
    "     <b>Training the data to model</b>"
   ]
  },
  {
   "cell_type": "code",
   "execution_count": 46,
   "id": "b6f8ed2c",
   "metadata": {
    "execution": {
     "iopub.execute_input": "2022-11-10T14:43:03.523507Z",
     "iopub.status.busy": "2022-11-10T14:43:03.522944Z",
     "iopub.status.idle": "2022-11-10T14:43:04.902748Z",
     "shell.execute_reply": "2022-11-10T14:43:04.901560Z"
    },
    "id": "SN9nL9JFclvo",
    "outputId": "2b34b928-1ce2-4c21-b393-30e44ce91c84",
    "papermill": {
     "duration": 1.416569,
     "end_time": "2022-11-10T14:43:04.905126",
     "exception": false,
     "start_time": "2022-11-10T14:43:03.488557",
     "status": "completed"
    },
    "tags": []
   },
   "outputs": [],
   "source": [
    "#Training the data to ML module\n",
    "pipe1.fit(X_train, np.ravel(y_train));"
   ]
  },
  {
   "cell_type": "code",
   "execution_count": 47,
   "id": "19baf5d9",
   "metadata": {
    "execution": {
     "iopub.execute_input": "2022-11-10T14:43:04.970157Z",
     "iopub.status.busy": "2022-11-10T14:43:04.969860Z",
     "iopub.status.idle": "2022-11-10T14:43:05.026393Z",
     "shell.execute_reply": "2022-11-10T14:43:05.024854Z"
    },
    "id": "7NCEbwSxc5NX",
    "outputId": "bdf90cf8-c8f6-443f-ace4-c6644877b97c",
    "papermill": {
     "duration": 0.091728,
     "end_time": "2022-11-10T14:43:05.028685",
     "exception": false,
     "start_time": "2022-11-10T14:43:04.936957",
     "status": "completed"
    },
    "tags": []
   },
   "outputs": [
    {
     "data": {
      "text/plain": [
       "array([ 713993.846875 , 1365966.08     ,  438742.9046875, ...,\n",
       "       1572345.5775   , 1223562.86125  ,  612315.126875 ])"
      ]
     },
     "execution_count": 47,
     "metadata": {},
     "output_type": "execute_result"
    }
   ],
   "source": [
    "#Predicting the result of sales\n",
    "prob_pipe1=pipe1.predict(X_test)\n",
    "prob_pipe1"
   ]
  },
  {
   "cell_type": "code",
   "execution_count": 48,
   "id": "7ff130d2",
   "metadata": {
    "execution": {
     "iopub.execute_input": "2022-11-10T14:43:05.094519Z",
     "iopub.status.busy": "2022-11-10T14:43:05.094217Z",
     "iopub.status.idle": "2022-11-10T14:43:05.152491Z",
     "shell.execute_reply": "2022-11-10T14:43:05.150990Z"
    },
    "id": "OTvfnIv8d-m4",
    "outputId": "5ef476b9-901e-4208-cd5a-f8d35e6bc5b5",
    "papermill": {
     "duration": 0.094223,
     "end_time": "2022-11-10T14:43:05.155407",
     "exception": false,
     "start_time": "2022-11-10T14:43:05.061184",
     "status": "completed"
    },
    "tags": []
   },
   "outputs": [
    {
     "data": {
      "text/plain": [
       "1.0"
      ]
     },
     "execution_count": 48,
     "metadata": {},
     "output_type": "execute_result"
    }
   ],
   "source": [
    "#Displaying the score of train data\n",
    "pipe1.score(X_test,prob_pipe1)"
   ]
  },
  {
   "cell_type": "markdown",
   "id": "30c62996",
   "metadata": {
    "papermill": {
     "duration": 0.031842,
     "end_time": "2022-11-10T14:43:05.219568",
     "exception": false,
     "start_time": "2022-11-10T14:43:05.187726",
     "status": "completed"
    },
    "tags": []
   },
   "source": [
    "<div style=\"font-family: Segoe UI; line-height: 2; color: #800000; text-align: justify;font-size: 25px\">\n",
    "    <b>Model evaluation & Performance</b>"
   ]
  },
  {
   "cell_type": "code",
   "execution_count": 49,
   "id": "f3fd6ffe",
   "metadata": {
    "execution": {
     "iopub.execute_input": "2022-11-10T14:43:05.285283Z",
     "iopub.status.busy": "2022-11-10T14:43:05.284803Z",
     "iopub.status.idle": "2022-11-10T14:43:05.299676Z",
     "shell.execute_reply": "2022-11-10T14:43:05.298238Z"
    },
    "id": "LKSXhCHhdonI",
    "outputId": "8da165f9-5afd-4587-fdb1-4d19f00044b2",
    "papermill": {
     "duration": 0.050065,
     "end_time": "2022-11-10T14:43:05.301631",
     "exception": false,
     "start_time": "2022-11-10T14:43:05.251566",
     "status": "completed"
    },
    "tags": []
   },
   "outputs": [
    {
     "name": "stdout",
     "output_type": "stream",
     "text": [
      "\n",
      " RandomForestRegression pipe & model performance: \n",
      "\n",
      "Mean absolute error(MAE) = 80353.31\n",
      "\n",
      "\n",
      "Mean squared error(MSE) = 25861591873.44\n",
      "\n",
      "\n",
      "Median absolute error = 36924.86\n",
      "\n",
      "\n",
      "Explain variance score = 0.92\n",
      "\n",
      "\n",
      "R2 score = 0.92\n",
      "\n",
      "\n"
     ]
    }
   ],
   "source": [
    "#Showing the evaluation of module and error score\n",
    "print(\"\\n RandomForestRegression pipe & model performance: \\n\")\n",
    "print(\"Mean absolute error(MAE) =\", round(mean_absolute_error(y_test, \n",
    "prob_pipe1), 2))\n",
    "print(\"\\n\")\n",
    "print(\"Mean squared error(MSE) =\", round(mean_squared_error(y_test, \n",
    "prob_pipe1), 2)) \n",
    "print(\"\\n\")\n",
    "print(\"Median absolute error =\", round(median_absolute_error(y_test, \n",
    "prob_pipe1), 2)) \n",
    "print(\"\\n\")\n",
    "print(\"Explain variance score =\", round(explained_variance_score(y_test, \n",
    "prob_pipe1), 2))\n",
    "print(\"\\n\")\n",
    "print(\"R2 score =\", round(r2_score(y_test, prob_pipe1), 2))\n",
    "print(\"\\n\")"
   ]
  },
  {
   "cell_type": "markdown",
   "id": "d9a73378",
   "metadata": {
    "papermill": {
     "duration": 0.033255,
     "end_time": "2022-11-10T14:43:05.367445",
     "exception": false,
     "start_time": "2022-11-10T14:43:05.334190",
     "status": "completed"
    },
    "tags": []
   },
   "source": [
    "* The Mean squared error is high.\n",
    "* The Explained variance score is close to 92%\n",
    "* The R2 score is close to 92%, so Model is not overfitting "
   ]
  },
  {
   "cell_type": "markdown",
   "id": "cac8d500",
   "metadata": {
    "papermill": {
     "duration": 0.032716,
     "end_time": "2022-11-10T14:43:05.433526",
     "exception": false,
     "start_time": "2022-11-10T14:43:05.400810",
     "status": "completed"
    },
    "tags": []
   },
   "source": [
    "<div style=\"font-family: Segoe UI; line-height: 2; color: #800000; text-align: justify;font-size: 25px\">\n",
    "    <b>The Mead Squared Error in ploting</b>"
   ]
  },
  {
   "cell_type": "code",
   "execution_count": 50,
   "id": "be722b4a",
   "metadata": {
    "execution": {
     "iopub.execute_input": "2022-11-10T14:43:05.499341Z",
     "iopub.status.busy": "2022-11-10T14:43:05.498999Z",
     "iopub.status.idle": "2022-11-10T14:43:07.877448Z",
     "shell.execute_reply": "2022-11-10T14:43:07.876168Z"
    },
    "papermill": {
     "duration": 2.41424,
     "end_time": "2022-11-10T14:43:07.879802",
     "exception": false,
     "start_time": "2022-11-10T14:43:05.465562",
     "status": "completed"
    },
    "tags": []
   },
   "outputs": [],
   "source": [
    "#The 100 trees predicting values are combining of train data\n",
    "train_results = []\n",
    "test_results = []\n",
    "list_nb_trees = [5, 10, 15, 30, 45, 60, 80, 100]\n",
    "\n",
    "for nb_trees in list_nb_trees:\n",
    "    rfpipe=make_pipeline(StandardScaler(),RandomForestRegressor(n_estimators=nb_trees, max_depth = 5))\n",
    "    rfpipe.fit(X_train, np.ravel(y_train))\n",
    "\n",
    "    train_results.append(mean_squared_error(y_train, rfpipe.predict(X_train)))\n",
    "    test_results.append(mean_squared_error(y_test, rfpipe.predict(X_test)))\n"
   ]
  },
  {
   "cell_type": "code",
   "execution_count": 51,
   "id": "da617aab",
   "metadata": {
    "execution": {
     "iopub.execute_input": "2022-11-10T14:43:07.998896Z",
     "iopub.status.busy": "2022-11-10T14:43:07.997771Z",
     "iopub.status.idle": "2022-11-10T14:43:08.166058Z",
     "shell.execute_reply": "2022-11-10T14:43:08.164134Z"
    },
    "papermill": {
     "duration": 0.255348,
     "end_time": "2022-11-10T14:43:08.168532",
     "exception": false,
     "start_time": "2022-11-10T14:43:07.913184",
     "status": "completed"
    },
    "tags": []
   },
   "outputs": [
    {
     "data": {
      "image/png": "[encoded data removed]",
      "text/plain": [
       "<Figure size 1080x576 with 1 Axes>"
      ]
     },
     "metadata": {
      "needs_background": "light"
     },
     "output_type": "display_data"
    }
   ],
   "source": [
    "#Displaying The MSE and N-Estimatores tree of traing data\n",
    "plt.subplots(figsize=(15,8))\n",
    "plt.plot(list_nb_trees, train_results, color=\"r\", linestyle='-', label=\"Training Score\")\n",
    "plt.plot(list_nb_trees, test_results, color=\"g\", linestyle='-', label=\"Testing Score\")\n",
    "plt.title(\"Traing score and Testing Score\")\n",
    "plt.ylabel('MSE')\n",
    "plt.xlabel('n_estimators')\n",
    "plt.show()"
   ]
  },
  {
   "cell_type": "markdown",
   "id": "1019fb9b",
   "metadata": {
    "id": "OCWNvFvZiqRf",
    "papermill": {
     "duration": 0.03287,
     "end_time": "2022-11-10T14:43:08.234576",
     "exception": false,
     "start_time": "2022-11-10T14:43:08.201706",
     "status": "completed"
    },
    "tags": []
   },
   "source": [
    "<div style=\"text-align: left; background-color:#F19F9F; font-family: Trebuchet MS; color:#494545; padding: 20px; line-height:1.25;border-radius:1px; margin-bottom: 0em; text-align: center; font-size: 40px\">RandomForest Regression and PowerTransformer </div>\n",
    "   \n"
   ]
  },
  {
   "cell_type": "code",
   "execution_count": 52,
   "id": "9cbb1f57",
   "metadata": {
    "execution": {
     "iopub.execute_input": "2022-11-10T14:43:08.301687Z",
     "iopub.status.busy": "2022-11-10T14:43:08.301360Z",
     "iopub.status.idle": "2022-11-10T14:43:08.306529Z",
     "shell.execute_reply": "2022-11-10T14:43:08.305309Z"
    },
    "id": "Q2yepAB4izaA",
    "papermill": {
     "duration": 0.041509,
     "end_time": "2022-11-10T14:43:08.308917",
     "exception": false,
     "start_time": "2022-11-10T14:43:08.267408",
     "status": "completed"
    },
    "tags": []
   },
   "outputs": [],
   "source": [
    "#creating the pipe line of powerTransformer and RFregressor\n",
    "pipe2=make_pipeline(StandardScaler(), PowerTransformer(standardize = True),RandomForestRegressor(n_estimators=100, max_depth = 10))"
   ]
  },
  {
   "cell_type": "code",
   "execution_count": 53,
   "id": "47ce66c3",
   "metadata": {
    "execution": {
     "iopub.execute_input": "2022-11-10T14:43:08.378895Z",
     "iopub.status.busy": "2022-11-10T14:43:08.378578Z",
     "iopub.status.idle": "2022-11-10T14:43:09.467350Z",
     "shell.execute_reply": "2022-11-10T14:43:09.466436Z"
    },
    "id": "dzQcAwgHjlDE",
    "outputId": "4ff91307-35be-46a7-d2ff-3e2c90be36c1",
    "papermill": {
     "duration": 1.126634,
     "end_time": "2022-11-10T14:43:09.469252",
     "exception": false,
     "start_time": "2022-11-10T14:43:08.342618",
     "status": "completed"
    },
    "tags": []
   },
   "outputs": [
    {
     "data": {
      "text/plain": [
       "Pipeline(steps=[('standardscaler', StandardScaler()),\n",
       "                ('powertransformer', PowerTransformer()),\n",
       "                ('randomforestregressor', RandomForestRegressor(max_depth=10))])"
      ]
     },
     "execution_count": 53,
     "metadata": {},
     "output_type": "execute_result"
    }
   ],
   "source": [
    "#Training the model\n",
    "pipe2.fit(X_train,np.ravel(y_train))"
   ]
  },
  {
   "cell_type": "code",
   "execution_count": 54,
   "id": "1f5598fb",
   "metadata": {
    "execution": {
     "iopub.execute_input": "2022-11-10T14:43:09.537154Z",
     "iopub.status.busy": "2022-11-10T14:43:09.536605Z",
     "iopub.status.idle": "2022-11-10T14:43:09.574786Z",
     "shell.execute_reply": "2022-11-10T14:43:09.573401Z"
    },
    "id": "LaCsKi8PjqJB",
    "papermill": {
     "duration": 0.074452,
     "end_time": "2022-11-10T14:43:09.576791",
     "exception": false,
     "start_time": "2022-11-10T14:43:09.502339",
     "status": "completed"
    },
    "tags": []
   },
   "outputs": [
    {
     "data": {
      "text/plain": [
       "array([ 760020.64855476, 1324283.41445843,  435019.74838114, ...,\n",
       "       1595586.8915264 , 1230266.90314482,  619906.14801145])"
      ]
     },
     "execution_count": 54,
     "metadata": {},
     "output_type": "execute_result"
    }
   ],
   "source": [
    "#Predicting the training data\n",
    "pipe_ypred=pipe2.predict(X_test)\n",
    "pipe_ypred"
   ]
  },
  {
   "cell_type": "markdown",
   "id": "d0858960",
   "metadata": {
    "papermill": {
     "duration": 0.03305,
     "end_time": "2022-11-10T14:43:09.643243",
     "exception": false,
     "start_time": "2022-11-10T14:43:09.610193",
     "status": "completed"
    },
    "tags": []
   },
   "source": [
    "<div style=\"font-family: Segoe UI; line-height: 2; color: #800000; text-align: justify;font-size: 25px\">\n",
    "    <b>Model evaluation & performance</b>"
   ]
  },
  {
   "cell_type": "code",
   "execution_count": 55,
   "id": "a5abe237",
   "metadata": {
    "execution": {
     "iopub.execute_input": "2022-11-10T14:43:09.712240Z",
     "iopub.status.busy": "2022-11-10T14:43:09.711910Z",
     "iopub.status.idle": "2022-11-10T14:43:09.726905Z",
     "shell.execute_reply": "2022-11-10T14:43:09.725385Z"
    },
    "id": "HMPqM6_ikIKJ",
    "outputId": "24cd283b-0aca-49e9-9a53-99c2f8e6de91",
    "papermill": {
     "duration": 0.052199,
     "end_time": "2022-11-10T14:43:09.728890",
     "exception": false,
     "start_time": "2022-11-10T14:43:09.676691",
     "status": "completed"
    },
    "tags": []
   },
   "outputs": [
    {
     "name": "stdout",
     "output_type": "stream",
     "text": [
      "\n",
      " RandomForestRegression PowerTransformer & model performance: \n",
      "\n",
      "Mean absolute error(MAE) = 84226.62\n",
      "\n",
      "\n",
      "Mean squared error(MSE) = 27912015495.46\n",
      "\n",
      "\n",
      "Median absolute error = 43356.42\n",
      "\n",
      "\n",
      "Explain variance score = 0.91\n",
      "\n",
      "\n",
      "R2 score = 0.91\n",
      "\n",
      "\n"
     ]
    }
   ],
   "source": [
    "print(\"\\n RandomForestRegression PowerTransformer & model performance: \\n\")\n",
    "print(\"Mean absolute error(MAE) =\", round(mean_absolute_error(y_test, \n",
    "pipe_ypred), 2))\n",
    "print(\"\\n\")\n",
    "print(\"Mean squared error(MSE) =\", round(mean_squared_error(y_test, \n",
    "pipe_ypred), 2)) \n",
    "print(\"\\n\")\n",
    "print(\"Median absolute error =\", round(median_absolute_error(y_test, \n",
    "pipe_ypred), 2)) \n",
    "print(\"\\n\")\n",
    "print(\"Explain variance score =\", round(explained_variance_score(y_test, \n",
    "pipe_ypred), 2))\n",
    "print(\"\\n\")\n",
    "print(\"R2 score =\", round(r2_score(y_test, pipe_ypred), 2))\n",
    "print(\"\\n\")"
   ]
  },
  {
   "cell_type": "markdown",
   "id": "fc23c0af",
   "metadata": {
    "papermill": {
     "duration": 0.03307,
     "end_time": "2022-11-10T14:43:09.795613",
     "exception": false,
     "start_time": "2022-11-10T14:43:09.762543",
     "status": "completed"
    },
    "tags": []
   },
   "source": [
    "<div style=\"font-family: Segoe UI; line-height: 2; color: #808800; text-align: justify;font-size: 25px\">\n",
    "    <b>The MSE error ploting</b>"
   ]
  },
  {
   "cell_type": "code",
   "execution_count": 56,
   "id": "977a08b3",
   "metadata": {
    "execution": {
     "iopub.execute_input": "2022-11-10T14:43:09.863751Z",
     "iopub.status.busy": "2022-11-10T14:43:09.863149Z",
     "iopub.status.idle": "2022-11-10T14:43:14.235266Z",
     "shell.execute_reply": "2022-11-10T14:43:14.234270Z"
    },
    "papermill": {
     "duration": 4.409476,
     "end_time": "2022-11-10T14:43:14.237672",
     "exception": false,
     "start_time": "2022-11-10T14:43:09.828196",
     "status": "completed"
    },
    "tags": []
   },
   "outputs": [],
   "source": [
    "#Combining the MSE of 100 trees of training data\n",
    "train_results = []\n",
    "test_results = []\n",
    "list_nb_trees = [5, 10, 15, 30, 45, 60, 80, 100]\n",
    "for nb_trees in list_nb_trees:\n",
    "    rfpipe2=make_pipeline(StandardScaler(), PowerTransformer(standardize = True),RandomForestRegressor(n_estimators=nb_trees, max_depth = 10))\n",
    "    rfpipe2.fit(X_train,np.ravel(y_train))\n",
    "\n",
    "    train_results.append(mean_squared_error(y_train, rfpipe2.predict(X_train)))\n",
    "    test_results.append(mean_squared_error(y_test, rfpipe2.predict(X_test)))\n",
    "\n"
   ]
  },
  {
   "cell_type": "code",
   "execution_count": 57,
   "id": "b4fe5a8d",
   "metadata": {
    "execution": {
     "iopub.execute_input": "2022-11-10T14:43:14.307358Z",
     "iopub.status.busy": "2022-11-10T14:43:14.307045Z",
     "iopub.status.idle": "2022-11-10T14:43:14.440601Z",
     "shell.execute_reply": "2022-11-10T14:43:14.439860Z"
    },
    "papermill": {
     "duration": 0.170559,
     "end_time": "2022-11-10T14:43:14.442581",
     "exception": false,
     "start_time": "2022-11-10T14:43:14.272022",
     "status": "completed"
    },
    "tags": []
   },
   "outputs": [
    {
     "data": {
      "image/png": "[encoded data removed]",
      "text/plain": [
       "<Figure size 720x432 with 1 Axes>"
      ]
     },
     "metadata": {
      "needs_background": "light"
     },
     "output_type": "display_data"
    }
   ],
   "source": [
    "#The MSE and Training score data\n",
    "plt.subplots(figsize=(10,6))\n",
    "plt.plot(list_nb_trees, train_results, 'r--^', label = \"Training score\")\n",
    "plt.plot(list_nb_trees, test_results, 'g--^', label=\"Testing Score\")\n",
    "plt.title(\"The Testing and Traing score\")\n",
    "plt.ylabel('MSE')\n",
    "plt.xlabel('n_estimators')\n",
    "plt.show()"
   ]
  },
  {
   "cell_type": "markdown",
   "id": "82adbf33",
   "metadata": {
    "papermill": {
     "duration": 0.034151,
     "end_time": "2022-11-10T14:43:14.511864",
     "exception": false,
     "start_time": "2022-11-10T14:43:14.477713",
     "status": "completed"
    },
    "tags": []
   },
   "source": [
    "<div style=\"font-family: Segoe UI; line-height: 2; color: ##800080; text-align: justify;font-size: 25px\">\n",
    "    <b>Evaluating Feature Importance</b>"
   ]
  },
  {
   "cell_type": "code",
   "execution_count": 58,
   "id": "72125e5f",
   "metadata": {
    "execution": {
     "iopub.execute_input": "2022-11-10T14:43:14.582913Z",
     "iopub.status.busy": "2022-11-10T14:43:14.582353Z",
     "iopub.status.idle": "2022-11-10T14:43:14.604719Z",
     "shell.execute_reply": "2022-11-10T14:43:14.603795Z"
    },
    "papermill": {
     "duration": 0.05933,
     "end_time": "2022-11-10T14:43:14.606873",
     "exception": false,
     "start_time": "2022-11-10T14:43:14.547543",
     "status": "completed"
    },
    "tags": []
   },
   "outputs": [
    {
     "data": {
      "text/plain": [
       "Store           0.664557\n",
       "Holiday_Flag    0.004026\n",
       "Temperature     0.027688\n",
       "Fuel_Price      0.022784\n",
       "CPI             0.175010\n",
       "Unemployment    0.105936\n",
       "dtype: float64"
      ]
     },
     "execution_count": 58,
     "metadata": {},
     "output_type": "execute_result"
    }
   ],
   "source": [
    "#Thw feature importances of x_train data\n",
    "feature_imp = pd.Series(pipe1.steps[1][1].feature_importances_,\n",
    "                        index = X_train.columns)\n",
    "feature_imp"
   ]
  },
  {
   "cell_type": "markdown",
   "id": "46a52ff3",
   "metadata": {
    "id": "POafXqd_kqAy",
    "papermill": {
     "duration": 0.033352,
     "end_time": "2022-11-10T14:43:14.674979",
     "exception": false,
     "start_time": "2022-11-10T14:43:14.641627",
     "status": "completed"
    },
    "tags": []
   },
   "source": [
    "<div style=\"text-align: left; background-color:#F19F9F; font-family: Trebuchet MS; color:#800080; padding: 20px; line-height:1.25;border-radius:1px; margin-bottom: 0em; text-align: center; font-size: 40px\">Gradient Boosting regression</div>"
   ]
  },
  {
   "cell_type": "code",
   "execution_count": 59,
   "id": "0cd769d9",
   "metadata": {
    "execution": {
     "iopub.execute_input": "2022-11-10T14:43:14.743756Z",
     "iopub.status.busy": "2022-11-10T14:43:14.742800Z",
     "iopub.status.idle": "2022-11-10T14:43:14.748650Z",
     "shell.execute_reply": "2022-11-10T14:43:14.747543Z"
    },
    "id": "oC0OzWJ2ksAo",
    "papermill": {
     "duration": 0.043013,
     "end_time": "2022-11-10T14:43:14.751478",
     "exception": false,
     "start_time": "2022-11-10T14:43:14.708465",
     "status": "completed"
    },
    "tags": []
   },
   "outputs": [],
   "source": [
    "#Defining the gradient boosting parameters\n",
    "params = {\n",
    "    \"n_estimators\": 100,\n",
    "    \"max_depth\": 4,\n",
    "    \"min_samples_split\": 5,\n",
    "    \"learning_rate\": 0.01,\n",
    "    \"loss\": \"squared_error\",\n",
    "}"
   ]
  },
  {
   "cell_type": "markdown",
   "id": "c8763e31",
   "metadata": {
    "id": "FslXwD8wlEZZ",
    "papermill": {
     "duration": 0.033713,
     "end_time": "2022-11-10T14:43:14.819796",
     "exception": false,
     "start_time": "2022-11-10T14:43:14.786083",
     "status": "completed"
    },
    "tags": []
   },
   "source": [
    "<div style=\"font-family: Segoe UI; line-height: 2; color: #800000; text-align: justify;font-size: 25px\">\n",
    "   <b>Fitting the training data</b>\n"
   ]
  },
  {
   "cell_type": "code",
   "execution_count": 60,
   "id": "0395592c",
   "metadata": {
    "execution": {
     "iopub.execute_input": "2022-11-10T14:43:14.890270Z",
     "iopub.status.busy": "2022-11-10T14:43:14.889805Z",
     "iopub.status.idle": "2022-11-10T14:43:15.594277Z",
     "shell.execute_reply": "2022-11-10T14:43:15.593393Z"
    },
    "id": "6GjmUMeYlILR",
    "outputId": "53a81324-3ef1-495d-d30b-2f13b783bc22",
    "papermill": {
     "duration": 0.741568,
     "end_time": "2022-11-10T14:43:15.596157",
     "exception": false,
     "start_time": "2022-11-10T14:43:14.854589",
     "status": "completed"
    },
    "tags": []
   },
   "outputs": [
    {
     "data": {
      "text/plain": [
       "GradientBoostingRegressor(learning_rate=0.01, max_depth=4, min_samples_split=5)"
      ]
     },
     "execution_count": 60,
     "metadata": {},
     "output_type": "execute_result"
    }
   ],
   "source": [
    "#Creating the GBR object\n",
    "grig=GradientBoostingRegressor(**params)\n",
    "#Training the model\n",
    "grig.fit(X_train,np.ravel(y_train))"
   ]
  },
  {
   "cell_type": "code",
   "execution_count": 61,
   "id": "d8a8ad2d",
   "metadata": {
    "execution": {
     "iopub.execute_input": "2022-11-10T14:43:15.665515Z",
     "iopub.status.busy": "2022-11-10T14:43:15.664350Z",
     "iopub.status.idle": "2022-11-10T14:43:15.677596Z",
     "shell.execute_reply": "2022-11-10T14:43:15.676057Z"
    },
    "id": "vE7Dfj16lfCC",
    "papermill": {
     "duration": 0.050106,
     "end_time": "2022-11-10T14:43:15.679877",
     "exception": false,
     "start_time": "2022-11-10T14:43:15.629771",
     "status": "completed"
    },
    "tags": []
   },
   "outputs": [
    {
     "name": "stdout",
     "output_type": "stream",
     "text": [
      "\n",
      " Prediction result: \n",
      "\n",
      " [1044194.19630023 1179633.54132323  739757.02855202 ... 1362836.96351292\n",
      " 1044630.656431    888098.39612796]\n"
     ]
    }
   ],
   "source": [
    "#Predicting the result\n",
    "gr_pred=grig.predict(X_test)\n",
    "print(\"\\n Prediction result: \\n\\n\",gr_pred)"
   ]
  },
  {
   "cell_type": "markdown",
   "id": "238fddfd",
   "metadata": {
    "papermill": {
     "duration": 0.033979,
     "end_time": "2022-11-10T14:43:15.748038",
     "exception": false,
     "start_time": "2022-11-10T14:43:15.714059",
     "status": "completed"
    },
    "tags": []
   },
   "source": [
    "<div style=\"font-family: Segoe UI; line-height: 2; color: #808000; text-align: justify;font-size: 25px\">\n",
    "    <b>Model evaluation & Performance</b>"
   ]
  },
  {
   "cell_type": "code",
   "execution_count": 62,
   "id": "6ddcf9d8",
   "metadata": {
    "execution": {
     "iopub.execute_input": "2022-11-10T14:43:15.819111Z",
     "iopub.status.busy": "2022-11-10T14:43:15.818772Z",
     "iopub.status.idle": "2022-11-10T14:43:15.832672Z",
     "shell.execute_reply": "2022-11-10T14:43:15.831505Z"
    },
    "id": "Q5_YdK_9l_dw",
    "outputId": "994aae82-b38d-4ff6-d17c-7602c6450a81",
    "papermill": {
     "duration": 0.053214,
     "end_time": "2022-11-10T14:43:15.835457",
     "exception": false,
     "start_time": "2022-11-10T14:43:15.782243",
     "status": "completed"
    },
    "tags": []
   },
   "outputs": [
    {
     "name": "stdout",
     "output_type": "stream",
     "text": [
      "\n",
      " RandomForestRegression Gradient Boosting& model performance: \n",
      "\n",
      "Mean absolute error(MAE) = 297622.95\n",
      "\n",
      "\n",
      "Mean squared error(MSE) = 143436527243.39\n",
      "\n",
      "\n",
      "Median absolute error = 274678.69\n",
      "\n",
      "\n",
      "Explain variance score = 0.56\n",
      "\n",
      "\n",
      "R2 score = 0.56\n",
      "\n",
      "\n"
     ]
    }
   ],
   "source": [
    "#Model evaluation and performance\n",
    "print(\"\\n RandomForestRegression Gradient Boosting& model performance: \\n\")\n",
    "print(\"Mean absolute error(MAE) =\", round(mean_absolute_error(y_test, \n",
    "gr_pred), 2))\n",
    "print(\"\\n\")\n",
    "print(\"Mean squared error(MSE) =\", round(mean_squared_error(y_test, \n",
    "gr_pred), 2)) \n",
    "print(\"\\n\")\n",
    "print(\"Median absolute error =\", round(median_absolute_error(y_test, \n",
    "gr_pred), 2)) \n",
    "print(\"\\n\")\n",
    "print(\"Explain variance score =\", round(explained_variance_score(y_test, \n",
    "gr_pred), 2))\n",
    "print(\"\\n\")\n",
    "print(\"R2 score =\", round(r2_score(y_test, gr_pred), 2))\n",
    "print(\"\\n\")"
   ]
  },
  {
   "cell_type": "markdown",
   "id": "b9f33721",
   "metadata": {
    "papermill": {
     "duration": 0.034528,
     "end_time": "2022-11-10T14:43:15.905342",
     "exception": false,
     "start_time": "2022-11-10T14:43:15.870814",
     "status": "completed"
    },
    "tags": []
   },
   "source": [
    "* The Mean squared error is high.\n",
    "* The Explained variance score is close to 57%\n",
    "* The R2 score is close to 57%, so Model is not good "
   ]
  },
  {
   "cell_type": "markdown",
   "id": "f6a3e8b9",
   "metadata": {
    "id": "w3L2UHInmaOo",
    "papermill": {
     "duration": 0.034221,
     "end_time": "2022-11-10T14:43:15.974309",
     "exception": false,
     "start_time": "2022-11-10T14:43:15.940088",
     "status": "completed"
    },
    "tags": []
   },
   "source": [
    "<div style=\"font-family: Segoe UI; line-height: 2; color: #008080; text-align: justify;font-size: 25px\">\n",
    "    👉 <b>Gradient Boosting MSE error plotting</b>"
   ]
  },
  {
   "cell_type": "code",
   "execution_count": 63,
   "id": "81bfa198",
   "metadata": {
    "execution": {
     "iopub.execute_input": "2022-11-10T14:43:16.045064Z",
     "iopub.status.busy": "2022-11-10T14:43:16.044491Z",
     "iopub.status.idle": "2022-11-10T14:43:21.679326Z",
     "shell.execute_reply": "2022-11-10T14:43:21.678732Z"
    },
    "papermill": {
     "duration": 5.672599,
     "end_time": "2022-11-10T14:43:21.681140",
     "exception": false,
     "start_time": "2022-11-10T14:43:16.008541",
     "status": "completed"
    },
    "tags": []
   },
   "outputs": [
    {
     "data": {
      "image/png": "[encoded data removed]",
      "text/plain": [
       "<Figure size 720x432 with 1 Axes>"
      ]
     },
     "metadata": {
      "needs_background": "light"
     },
     "output_type": "display_data"
    }
   ],
   "source": [
    "#Taking the MSE combining result of 100 trees for train and test data\n",
    "train_results = []\n",
    "test_results = []\n",
    "list_nb_trees = [5, 10, 15, 30, 45, 60, 80, 100]\n",
    "\n",
    "for nb_trees in list_nb_trees:\n",
    "    grig=GradientBoostingRegressor(n_estimators=nb_trees,max_depth=10)\n",
    "    grig.fit(X_train,np.ravel(y_train))\n",
    "\n",
    "    train_results.append(mean_squared_error(y_train, grig.predict(X_train)))\n",
    "    test_results.append(mean_squared_error(y_test, grig.predict(X_test)))\n",
    "plt.subplots(figsize=(10,6))\n",
    "plt.plot(list_nb_trees, train_results, color=\"r\", label=\"Training Score\")\n",
    "plt.plot(list_nb_trees, test_results, color=\"g\", label=\"Testing Score\")\n",
    "plt.title('MSE->RED: Training score Green: Testing score')\n",
    "plt.ylabel('MSE')\n",
    "plt.xlabel('n_estimators')\n",
    "plt.show()"
   ]
  },
  {
   "cell_type": "markdown",
   "id": "1e7cf7e7",
   "metadata": {
    "papermill": {
     "duration": 0.034553,
     "end_time": "2022-11-10T14:43:21.750184",
     "exception": false,
     "start_time": "2022-11-10T14:43:21.715631",
     "status": "completed"
    },
    "tags": []
   },
   "source": [
    "<div style=\"font-family: Segoe UI; line-height: 2; color: ##800080; text-align: justify;font-size: 20px\">\n",
    "    <b>Evaluating GradientBoosting Feature Importance</b>"
   ]
  },
  {
   "cell_type": "code",
   "execution_count": 64,
   "id": "9bd2edaa",
   "metadata": {
    "execution": {
     "iopub.execute_input": "2022-11-10T14:43:21.818987Z",
     "iopub.status.busy": "2022-11-10T14:43:21.818464Z",
     "iopub.status.idle": "2022-11-10T14:43:21.827166Z",
     "shell.execute_reply": "2022-11-10T14:43:21.826358Z"
    },
    "papermill": {
     "duration": 0.045207,
     "end_time": "2022-11-10T14:43:21.829074",
     "exception": false,
     "start_time": "2022-11-10T14:43:21.783867",
     "status": "completed"
    },
    "tags": []
   },
   "outputs": [
    {
     "data": {
      "text/plain": [
       "Store           64.875269\n",
       "CPI             17.046211\n",
       "Unemployment    12.848537\n",
       "Temperature      2.526798\n",
       "Fuel_Price       2.425817\n",
       "Holiday_Flag     0.277368\n",
       "dtype: float64"
      ]
     },
     "execution_count": 64,
     "metadata": {},
     "output_type": "execute_result"
    }
   ],
   "source": [
    "#Thw feature importances of x_train data\n",
    "feature_imp = pd.Series(grig.feature_importances_,\n",
    "                        index = X_train.columns).sort_values(ascending=False)\n",
    "feature_imp*100"
   ]
  },
  {
   "cell_type": "code",
   "execution_count": 65,
   "id": "c4556c92",
   "metadata": {
    "execution": {
     "iopub.execute_input": "2022-11-10T14:43:21.899793Z",
     "iopub.status.busy": "2022-11-10T14:43:21.899487Z",
     "iopub.status.idle": "2022-11-10T14:43:22.181745Z",
     "shell.execute_reply": "2022-11-10T14:43:22.181008Z"
    },
    "papermill": {
     "duration": 0.319683,
     "end_time": "2022-11-10T14:43:22.183922",
     "exception": false,
     "start_time": "2022-11-10T14:43:21.864239",
     "status": "completed"
    },
    "tags": []
   },
   "outputs": [
    {
     "data": {
      "image/png": "[encoded data removed]",
      "text/plain": [
       "<Figure size 432x288 with 1 Axes>"
      ]
     },
     "metadata": {
      "needs_background": "light"
     },
     "output_type": "display_data"
    }
   ],
   "source": [
    "importances = grig.feature_importances_\n",
    "std = np.std([grig.feature_importances_ for tree in grig.estimators_], axis=0)\n",
    "indices = np.argsort(importances)\n",
    "\n",
    "# Plot the feature importances of the forest\n",
    "feature_names = [f\"feature {i}\" for i in range(X_train.shape[1])]\n",
    "forest_importances = pd.Series(importances, index=feature_names)\n",
    "\n",
    "fig, ax = plt.subplots()\n",
    "forest_importances.plot.barh(yerr=std, ax=ax)\n",
    "ax.set_title(\"Feature importances using MDI\")\n",
    "ax.set_ylabel(\"Mean decrease in impurity\")\n",
    "fig.tight_layout()"
   ]
  },
  {
   "cell_type": "code",
   "execution_count": 66,
   "id": "34957548",
   "metadata": {
    "execution": {
     "iopub.execute_input": "2022-11-10T14:43:22.256304Z",
     "iopub.status.busy": "2022-11-10T14:43:22.255796Z",
     "iopub.status.idle": "2022-11-10T14:43:22.391777Z",
     "shell.execute_reply": "2022-11-10T14:43:22.391061Z"
    },
    "papermill": {
     "duration": 0.173964,
     "end_time": "2022-11-10T14:43:22.393724",
     "exception": false,
     "start_time": "2022-11-10T14:43:22.219760",
     "status": "completed"
    },
    "tags": []
   },
   "outputs": [
    {
     "data": {
      "image/png": "[encoded data removed]",
      "text/plain": [
       "<Figure size 432x288 with 1 Axes>"
      ]
     },
     "metadata": {
      "needs_background": "light"
     },
     "output_type": "display_data"
    }
   ],
   "source": [
    "#Displaying the feature_importances data\n",
    "sn.barplot(x= feature_imp*100, y = feature_imp.index)\n",
    "plt.xlabel(\"Variable Scores\")\n",
    "plt.ylabel(\"Variables\")\n",
    "plt.title(\"Feature Importance\")\n",
    "plt.show()"
   ]
  },
  {
   "cell_type": "markdown",
   "id": "72b19444",
   "metadata": {
    "papermill": {
     "duration": 0.035094,
     "end_time": "2022-11-10T14:43:22.466978",
     "exception": false,
     "start_time": "2022-11-10T14:43:22.431884",
     "status": "completed"
    },
    "tags": []
   },
   "source": [
    "<div style=\"font-family: Segoe UI; line-height: 2; color: #800000; text-align: justify;font-size: 25px\">\n",
    "   <b>XGBClassifier and GridSearchCV</b>"
   ]
  },
  {
   "cell_type": "code",
   "execution_count": 67,
   "id": "e795cbd1",
   "metadata": {
    "execution": {
     "iopub.execute_input": "2022-11-10T14:43:22.539879Z",
     "iopub.status.busy": "2022-11-10T14:43:22.539340Z",
     "iopub.status.idle": "2022-11-10T14:43:22.543445Z",
     "shell.execute_reply": "2022-11-10T14:43:22.542882Z"
    },
    "papermill": {
     "duration": 0.042716,
     "end_time": "2022-11-10T14:43:22.545117",
     "exception": false,
     "start_time": "2022-11-10T14:43:22.502401",
     "status": "completed"
    },
    "tags": []
   },
   "outputs": [],
   "source": [
    "#Defining parameter \n",
    "param_tuning = {\n",
    "        'learning_rate': [0.01, 0.1],\n",
    "        'max_depth': [3, 5],\n",
    "        'min_child_weight': [1, 3],\n",
    "        'subsample': [0.5, 0.7],\n",
    "        'colsample_bytree': [0.5, 0.7],\n",
    "        'n_estimators' : [100, 200],\n",
    "        'objective': ['reg:squarederror']\n",
    "    }"
   ]
  },
  {
   "cell_type": "code",
   "execution_count": 68,
   "id": "399a3092",
   "metadata": {
    "execution": {
     "iopub.execute_input": "2022-11-10T14:43:22.616093Z",
     "iopub.status.busy": "2022-11-10T14:43:22.615780Z",
     "iopub.status.idle": "2022-11-10T14:43:22.621472Z",
     "shell.execute_reply": "2022-11-10T14:43:22.620403Z"
    },
    "papermill": {
     "duration": 0.043276,
     "end_time": "2022-11-10T14:43:22.623284",
     "exception": false,
     "start_time": "2022-11-10T14:43:22.580008",
     "status": "completed"
    },
    "tags": []
   },
   "outputs": [],
   "source": [
    "gsearch = GridSearchCV(estimator = XGBRegressor(),\n",
    "                           param_grid = param_tuning,                        \n",
    "                           scoring = 'neg_mean_absolute_error', #MAE\n",
    "                           #scoring = 'neg_mean_squared_error',  #MSE\n",
    "                           cv = 2,\n",
    "                           n_jobs = -1,\n",
    "                           verbose = 1)"
   ]
  },
  {
   "cell_type": "code",
   "execution_count": 69,
   "id": "838bdf41",
   "metadata": {
    "execution": {
     "iopub.execute_input": "2022-11-10T14:43:22.694804Z",
     "iopub.status.busy": "2022-11-10T14:43:22.694472Z",
     "iopub.status.idle": "2022-11-10T14:43:42.329956Z",
     "shell.execute_reply": "2022-11-10T14:43:42.329128Z"
    },
    "papermill": {
     "duration": 19.673707,
     "end_time": "2022-11-10T14:43:42.332135",
     "exception": false,
     "start_time": "2022-11-10T14:43:22.658428",
     "status": "completed"
    },
    "tags": []
   },
   "outputs": [
    {
     "name": "stdout",
     "output_type": "stream",
     "text": [
      "Fitting 2 folds for each of 64 candidates, totalling 128 fits\n"
     ]
    },
    {
     "data": {
      "text/plain": [
       "GridSearchCV(cv=2,\n",
       "             estimator=XGBRegressor(base_score=None, booster=None,\n",
       "                                    callbacks=None, colsample_bylevel=None,\n",
       "                                    colsample_bynode=None,\n",
       "                                    colsample_bytree=None,\n",
       "                                    early_stopping_rounds=None,\n",
       "                                    enable_categorical=False, eval_metric=None,\n",
       "                                    gamma=None, gpu_id=None, grow_policy=None,\n",
       "                                    importance_type=None,\n",
       "                                    interaction_constraints=None,\n",
       "                                    learning_rate=None, max_bin=None,\n",
       "                                    max_cat...\n",
       "                                    n_jobs=None, num_parallel_tree=None,\n",
       "                                    predictor=None, random_state=None,\n",
       "                                    reg_alpha=None, reg_lambda=None, ...),\n",
       "             n_jobs=-1,\n",
       "             param_grid={'colsample_bytree': [0.5, 0.7],\n",
       "                         'learning_rate': [0.01, 0.1], 'max_depth': [3, 5],\n",
       "                         'min_child_weight': [1, 3], 'n_estimators': [100, 200],\n",
       "                         'objective': ['reg:squarederror'],\n",
       "                         'subsample': [0.5, 0.7]},\n",
       "             scoring='neg_mean_absolute_error', verbose=1)"
      ]
     },
     "execution_count": 69,
     "metadata": {},
     "output_type": "execute_result"
    }
   ],
   "source": [
    "#Training the model\n",
    "\n",
    "gsearch.fit(X_train,y_train)"
   ]
  },
  {
   "cell_type": "code",
   "execution_count": 70,
   "id": "29dce5a8",
   "metadata": {
    "execution": {
     "iopub.execute_input": "2022-11-10T14:43:42.407101Z",
     "iopub.status.busy": "2022-11-10T14:43:42.406128Z",
     "iopub.status.idle": "2022-11-10T14:43:42.412653Z",
     "shell.execute_reply": "2022-11-10T14:43:42.412039Z"
    },
    "papermill": {
     "duration": 0.045826,
     "end_time": "2022-11-10T14:43:42.414247",
     "exception": false,
     "start_time": "2022-11-10T14:43:42.368421",
     "status": "completed"
    },
    "tags": []
   },
   "outputs": [
    {
     "data": {
      "text/plain": [
       "-85556.41796875"
      ]
     },
     "execution_count": 70,
     "metadata": {},
     "output_type": "execute_result"
    }
   ],
   "source": [
    "gsearch.best_score_"
   ]
  },
  {
   "cell_type": "code",
   "execution_count": 71,
   "id": "8f2c2ea7",
   "metadata": {
    "execution": {
     "iopub.execute_input": "2022-11-10T14:43:42.485609Z",
     "iopub.status.busy": "2022-11-10T14:43:42.485167Z",
     "iopub.status.idle": "2022-11-10T14:43:42.491301Z",
     "shell.execute_reply": "2022-11-10T14:43:42.490199Z"
    },
    "papermill": {
     "duration": 0.043738,
     "end_time": "2022-11-10T14:43:42.492956",
     "exception": false,
     "start_time": "2022-11-10T14:43:42.449218",
     "status": "completed"
    },
    "tags": []
   },
   "outputs": [
    {
     "data": {
      "text/plain": [
       "{'colsample_bytree': 0.7,\n",
       " 'learning_rate': 0.1,\n",
       " 'max_depth': 5,\n",
       " 'min_child_weight': 1,\n",
       " 'n_estimators': 200,\n",
       " 'objective': 'reg:squarederror',\n",
       " 'subsample': 0.7}"
      ]
     },
     "execution_count": 71,
     "metadata": {},
     "output_type": "execute_result"
    }
   ],
   "source": [
    "gsearch.best_params_"
   ]
  },
  {
   "cell_type": "code",
   "execution_count": 72,
   "id": "79ecfbe1",
   "metadata": {
    "execution": {
     "iopub.execute_input": "2022-11-10T14:43:42.564003Z",
     "iopub.status.busy": "2022-11-10T14:43:42.563649Z",
     "iopub.status.idle": "2022-11-10T14:43:42.577673Z",
     "shell.execute_reply": "2022-11-10T14:43:42.576575Z"
    },
    "papermill": {
     "duration": 0.054124,
     "end_time": "2022-11-10T14:43:42.581629",
     "exception": false,
     "start_time": "2022-11-10T14:43:42.527505",
     "status": "completed"
    },
    "tags": []
   },
   "outputs": [
    {
     "data": {
      "text/plain": [
       "array([ 692887.06, 1372483.9 ,  467602.4 , ..., 1593895.5 , 1170626.1 ,\n",
       "        591429.8 ], dtype=float32)"
      ]
     },
     "execution_count": 72,
     "metadata": {},
     "output_type": "execute_result"
    }
   ],
   "source": [
    "xgb_pred=gsearch.predict(X_test)\n",
    "xgb_pred"
   ]
  },
  {
   "cell_type": "code",
   "execution_count": 73,
   "id": "a5f5afb3",
   "metadata": {
    "execution": {
     "iopub.execute_input": "2022-11-10T14:43:42.655147Z",
     "iopub.status.busy": "2022-11-10T14:43:42.654858Z",
     "iopub.status.idle": "2022-11-10T14:43:42.664571Z",
     "shell.execute_reply": "2022-11-10T14:43:42.663483Z"
    },
    "papermill": {
     "duration": 0.049577,
     "end_time": "2022-11-10T14:43:42.667370",
     "exception": false,
     "start_time": "2022-11-10T14:43:42.617793",
     "status": "completed"
    },
    "tags": []
   },
   "outputs": [
    {
     "data": {
      "text/plain": [
       "19394263000.0"
      ]
     },
     "execution_count": 73,
     "metadata": {},
     "output_type": "execute_result"
    }
   ],
   "source": [
    "mean_squared_error(y_test,xgb_pred)"
   ]
  },
  {
   "cell_type": "markdown",
   "id": "b0368eab",
   "metadata": {
    "papermill": {
     "duration": 0.03507,
     "end_time": "2022-11-10T14:43:42.738139",
     "exception": false,
     "start_time": "2022-11-10T14:43:42.703069",
     "status": "completed"
    },
    "tags": []
   },
   "source": [
    "### <div style=\"text-align: left; background-color:#CFD9F1 ; font-family: Trebuchet MS; color: #0A3399; padding: 15px; line-height:1;border-radius:1px; margin-bottom: 0em; text-align: center; font-size: 25px\">Xgboost hyperparameter tuning link given below</div>"
   ]
  },
  {
   "cell_type": "markdown",
   "id": "7551ef8f",
   "metadata": {
    "papermill": {
     "duration": 0.035608,
     "end_time": "2022-11-10T14:43:42.808956",
     "exception": false,
     "start_time": "2022-11-10T14:43:42.773348",
     "status": "completed"
    },
    "tags": []
   },
   "source": [
    "[Xgboost hyperparameter tuning Click here](https://www.kaggle.com/code/avijit298/xgboost-hyperparameter-tuning)"
   ]
  },
  {
   "cell_type": "markdown",
   "id": "4e3907f4",
   "metadata": {
    "papermill": {
     "duration": 0.034836,
     "end_time": "2022-11-10T14:43:42.880744",
     "exception": false,
     "start_time": "2022-11-10T14:43:42.845908",
     "status": "completed"
    },
    "tags": []
   },
   "source": [
    "\n",
    "<div style=\"border-radius:10px;\n",
    "            border :#0A0104 solid;\n",
    "            padding: 15px;\n",
    "            background-color:#FFF0F5 ;\n",
    "           font-size:110%;\n",
    "            text-align: left\">\n",
    "<p style=\"font-family:newtimeroman;font-size:130%;text-align:center;border-radius:20px 20px;\"> If you liked this Notebook, please do upvote.<br> If you have any questions, feel free to comment!<br> ✨Best Wishes✨</p>"
   ]
  },
  {
   "cell_type": "markdown",
   "id": "caf96253",
   "metadata": {
    "papermill": {
     "duration": 0.036482,
     "end_time": "2022-11-10T14:43:42.951415",
     "exception": false,
     "start_time": "2022-11-10T14:43:42.914933",
     "status": "completed"
    },
    "tags": []
   },
   "source": [
    "![https://jessieslegacy.com/wp-content/uploads/2014/01/thankyou_ikit.png](https://jessieslegacy.com/wp-content/uploads/2014/01/thankyou_ikit.png)"
   ]
  }
 ],
 "metadata": {
  "kernelspec": {
   "display_name": "Python 3",
   "language": "python",
   "name": "python3"
  },
  "language_info": {
   "codemirror_mode": {
    "name": "ipython",
    "version": 3
   },
   "file_extension": ".py",
   "mimetype": "text/x-python",
   "name": "python",
   "nbconvert_exporter": "python",
   "pygments_lexer": "ipython3",
   "version": "3.7.12"
  },
  "papermill": {
   "default_parameters": {},
   "duration": 70.269038,
   "end_time": "2022-11-10T14:43:45.606379",
   "environment_variables": {},
   "exception": null,
   "input_path": "__notebook__.ipynb",
   "output_path": "__notebook__.ipynb",
   "parameters": {},
   "start_time": "2022-11-10T14:42:35.337341",
   "version": "2.3.4"
  }
 },
 "nbformat": 4,
 "nbformat_minor": 5
}
