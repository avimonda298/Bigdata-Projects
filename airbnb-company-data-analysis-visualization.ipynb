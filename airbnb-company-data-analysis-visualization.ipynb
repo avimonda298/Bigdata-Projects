{
 "cells": [
  {
   "cell_type": "markdown",
   "id": "5e40c253",
   "metadata": {
    "papermill": {
     "duration": 0.022279,
     "end_time": "2022-09-15T14:43:32.950968",
     "exception": false,
     "start_time": "2022-09-15T14:43:32.928689",
     "status": "completed"
    },
    "tags": []
   },
   "source": [
    "<img src= \"https://digital.hbs.edu/platform-digit/wp-content/uploads/sites/2/2019/10/airbnb-678x381.png\">"
   ]
  },
  {
   "cell_type": "markdown",
   "id": "8d850633",
   "metadata": {
    "papermill": {
     "duration": 0.018573,
     "end_time": "2022-09-15T14:43:32.989366",
     "exception": false,
     "start_time": "2022-09-15T14:43:32.970793",
     "status": "completed"
    },
    "tags": []
   },
   "source": [
    "<h2>What is Airbnb?</h2>\n",
    "<h>Airbnb was founded in 2008 as a platform enabling locals to list their homes for short term rental and travelers to have a lodging option alternative to hotels. Today, it is a 2.6 billion dollar travel empire (Business Insider 2018) and the largest provider of rooms available to travelers (Airbnb: 3M, three times as much as Mariott’s 1M) (Str 2019). Along with homes for rent, Airbnb.com allows its users to search through “Experiences”, which include pre-arranged multi destination trips, “Restaurants,” and recently even “Animals,” which stands for experiences where travelers can meet and interact with animals local to their travel destination (e.g., Zoo visit). </h>"
   ]
  },
  {
   "cell_type": "markdown",
   "id": "58e06fbc",
   "metadata": {
    "papermill": {
     "duration": 0.014334,
     "end_time": "2022-09-15T14:43:33.021987",
     "exception": false,
     "start_time": "2022-09-15T14:43:33.007653",
     "status": "completed"
    },
    "tags": []
   },
   "source": [
    " <a id='top'></a>\n",
    "<div class=\"list-group\" id=\"list-tab\" role=\"tablist\">\n",
    "    \n",
    "<div style=\"text-align: left; background-color: #BB4ED8 ; font-family: Trebuchet MS; color: white; padding: 15px; line-height:1;border-radius:1px; margin-bottom: 0em; text-align: center; font-size: 25px\">TABLE OF CONTENTS📝</div>\n",
    "    \n",
    "* [1. OBJECTIVES OF NOTEBOOK](#1)\n",
    "    \n",
    "* [2. IMPORTING LIBRARIES](#2)\n",
    "    \n",
    "* [3. LOADING DATA SET](#3)\n",
    "    \n",
    "* [4. DATA CLEANING & EXPLORATORY](#4)\n",
    "    \n",
    "* [5. DATA VISUALIZATION & ANALYSIS WITH GROUPBY](#5)\n",
    "      "
   ]
  },
  {
   "cell_type": "markdown",
   "id": "d20d77ab",
   "metadata": {
    "papermill": {
     "duration": 0.01645,
     "end_time": "2022-09-15T14:43:33.052382",
     "exception": false,
     "start_time": "2022-09-15T14:43:33.035932",
     "status": "completed"
    },
    "tags": []
   },
   "source": [
    "<a id=\"2\"></a>\n",
    "### <div style=\"text-align: left; background-color: #BB4ED8 ; font-family: Trebuchet MS; color: white; padding: 15px; line-height:1;border-radius:1px; margin-bottom: 0em; text-align: center; font-size: 25px\">IMPORTING LIBRARIES📚</div>"
   ]
  },
  {
   "cell_type": "code",
   "execution_count": 1,
   "id": "160f250e",
   "metadata": {
    "execution": {
     "iopub.execute_input": "2022-09-15T14:43:33.086093Z",
     "iopub.status.busy": "2022-09-15T14:43:33.085470Z",
     "iopub.status.idle": "2022-09-15T14:43:34.308156Z",
     "shell.execute_reply": "2022-09-15T14:43:34.306896Z"
    },
    "executionInfo": {
     "elapsed": 1209,
     "status": "ok",
     "timestamp": 1662739638858,
     "user": {
      "displayName": "Avijit Mondal",
      "userId": "08674227392784076944"
     },
     "user_tz": -330
    },
    "id": "7rgpTCahSkab",
    "papermill": {
     "duration": 1.244616,
     "end_time": "2022-09-15T14:43:34.311168",
     "exception": false,
     "start_time": "2022-09-15T14:43:33.066552",
     "status": "completed"
    },
    "tags": []
   },
   "outputs": [],
   "source": [
    "\n",
    "# 1.0 Call libraries\n",
    "# 1.1 For data manipulations\n",
    "import numpy as np\n",
    "import pandas as pd\n",
    "from numpy.random import default_rng\n",
    "\n",
    "# 1.2 For plotting\n",
    "import matplotlib.pyplot as plt\n",
    "import seaborn as sns\n",
    "import matplotlib as mpl     # For creating colormaps\n",
    "\n",
    "# 1.3 For data processing\n",
    "from sklearn.preprocessing import StandardScaler\n",
    "\n",
    "# 1.4 OS related\n",
    "import os\n",
    "\n",
    "# 1.5 Misc facilities\n",
    "from collections import Counter\n",
    "import time, sys, gc"
   ]
  },
  {
   "cell_type": "code",
   "execution_count": 2,
   "id": "90aa6cea",
   "metadata": {
    "execution": {
     "iopub.execute_input": "2022-09-15T14:43:34.340289Z",
     "iopub.status.busy": "2022-09-15T14:43:34.339554Z",
     "iopub.status.idle": "2022-09-15T14:43:34.343984Z",
     "shell.execute_reply": "2022-09-15T14:43:34.343151Z"
    },
    "id": "lVw3wgYSeW4b",
    "papermill": {
     "duration": 0.021859,
     "end_time": "2022-09-15T14:43:34.346230",
     "exception": false,
     "start_time": "2022-09-15T14:43:34.324371",
     "status": "completed"
    },
    "tags": []
   },
   "outputs": [],
   "source": [
    "#1.6 From a cell display outputs from multiple commands:\n",
    "from IPython.core.interactiveshell import InteractiveShell\n",
    "InteractiveShell.ast_node_interactivity = \"all\""
   ]
  },
  {
   "cell_type": "markdown",
   "id": "d6de60d7",
   "metadata": {
    "id": "qhuMCePcfAuI",
    "papermill": {
     "duration": 0.012756,
     "end_time": "2022-09-15T14:43:34.372322",
     "exception": false,
     "start_time": "2022-09-15T14:43:34.359566",
     "status": "completed"
    },
    "tags": []
   },
   "source": [
    "\n",
    "<a id=\"3\"></a>\n",
    "### <div style=\"text-align: left; background-color: #BB4ED8 ; font-family: Trebuchet MS; color: white; padding: 15px; line-height:1;border-radius:1px; margin-bottom: 0em; text-align: center; font-size: 25px\">Loading Data set👓</div>"
   ]
  },
  {
   "cell_type": "code",
   "execution_count": 3,
   "id": "48a725fd",
   "metadata": {
    "execution": {
     "iopub.execute_input": "2022-09-15T14:43:34.400523Z",
     "iopub.status.busy": "2022-09-15T14:43:34.400069Z",
     "iopub.status.idle": "2022-09-15T14:43:35.632360Z",
     "shell.execute_reply": "2022-09-15T14:43:35.631238Z"
    },
    "executionInfo": {
     "elapsed": 2887,
     "status": "ok",
     "timestamp": 1662739673047,
     "user": {
      "displayName": "Avijit Mondal",
      "userId": "08674227392784076944"
     },
     "user_tz": -330
    },
    "id": "1TjFt5bVgN2J",
    "outputId": "5b6cace0-6a25-41eb-e2b4-0d8afe538c4a",
    "papermill": {
     "duration": 1.250031,
     "end_time": "2022-09-15T14:43:35.635386",
     "exception": false,
     "start_time": "2022-09-15T14:43:34.385355",
     "status": "completed"
    },
    "tags": []
   },
   "outputs": [],
   "source": [
    "# Reading the csv file\n",
    "data=pd.read_csv('../input/airbnbopendata/Airbnb_Open_Data.csv',low_memory=False)"
   ]
  },
  {
   "cell_type": "markdown",
   "id": "f6e2e933",
   "metadata": {
    "id": "sG2IpVW8gu35",
    "papermill": {
     "duration": 0.013099,
     "end_time": "2022-09-15T14:43:35.662088",
     "exception": false,
     "start_time": "2022-09-15T14:43:35.648989",
     "status": "completed"
    },
    "tags": []
   },
   "source": [
    "<a id=\"4\"></a>\n",
    "### <div style=\"text-align: left; background-color: #BB4ED8 ; font-family: Trebuchet MS; color: white; padding: 15px; line-height:1;border-radius:1px; margin-bottom: 0em; text-align: center; font-size: 25px\">DATA EXPLORATORY & CLEANING⚒</div>"
   ]
  },
  {
   "cell_type": "code",
   "execution_count": 4,
   "id": "ee54c720",
   "metadata": {
    "execution": {
     "iopub.execute_input": "2022-09-15T14:43:35.690174Z",
     "iopub.status.busy": "2022-09-15T14:43:35.689465Z",
     "iopub.status.idle": "2022-09-15T14:43:35.704036Z",
     "shell.execute_reply": "2022-09-15T14:43:35.702935Z"
    },
    "papermill": {
     "duration": 0.031708,
     "end_time": "2022-09-15T14:43:35.706874",
     "exception": false,
     "start_time": "2022-09-15T14:43:35.675166",
     "status": "completed"
    },
    "tags": []
   },
   "outputs": [
    {
     "data": {
      "text/plain": [
       "id                                  int64\n",
       "NAME                               object\n",
       "host id                             int64\n",
       "host_identity_verified             object\n",
       "host name                          object\n",
       "neighbourhood group                object\n",
       "neighbourhood                      object\n",
       "lat                               float64\n",
       "long                              float64\n",
       "country                            object\n",
       "country code                       object\n",
       "instant_bookable                   object\n",
       "cancellation_policy                object\n",
       "room type                          object\n",
       "Construction year                 float64\n",
       "price                              object\n",
       "service fee                        object\n",
       "minimum nights                    float64\n",
       "number of reviews                 float64\n",
       "last review                        object\n",
       "reviews per month                 float64\n",
       "review rate number                float64\n",
       "calculated host listings count    float64\n",
       "availability 365                  float64\n",
       "house_rules                        object\n",
       "license                            object\n",
       "dtype: object"
      ]
     },
     "execution_count": 4,
     "metadata": {},
     "output_type": "execute_result"
    }
   ],
   "source": [
    "##Displaying the data types\n",
    "data.dtypes"
   ]
  },
  {
   "cell_type": "code",
   "execution_count": 5,
   "id": "8c52b1db",
   "metadata": {
    "execution": {
     "iopub.execute_input": "2022-09-15T14:43:35.735771Z",
     "iopub.status.busy": "2022-09-15T14:43:35.735377Z",
     "iopub.status.idle": "2022-09-15T14:43:35.776131Z",
     "shell.execute_reply": "2022-09-15T14:43:35.775190Z"
    },
    "executionInfo": {
     "elapsed": 493,
     "status": "ok",
     "timestamp": 1662722966006,
     "user": {
      "displayName": "Avijit Mondal",
      "userId": "08674227392784076944"
     },
     "user_tz": -330
    },
    "id": "djX-uV0thXo3",
    "outputId": "fec209ba-1bfd-4e2e-aa45-ae208a07ebf7",
    "papermill": {
     "duration": 0.058242,
     "end_time": "2022-09-15T14:43:35.778864",
     "exception": false,
     "start_time": "2022-09-15T14:43:35.720622",
     "status": "completed"
    },
    "tags": []
   },
   "outputs": [
    {
     "data": {
      "text/plain": [
       "Index(['id', 'NAME', 'host id', 'host_identity_verified', 'host name',\n",
       "       'neighbourhood group', 'neighbourhood', 'lat', 'long', 'country',\n",
       "       'country code', 'instant_bookable', 'cancellation_policy', 'room type',\n",
       "       'Construction year', 'price', 'service fee', 'minimum nights',\n",
       "       'number of reviews', 'last review', 'reviews per month',\n",
       "       'review rate number', 'calculated host listings count',\n",
       "       'availability 365', 'house_rules', 'license'],\n",
       "      dtype='object')"
      ]
     },
     "execution_count": 5,
     "metadata": {},
     "output_type": "execute_result"
    },
    {
     "data": {
      "text/html": [
       "<div>\n",
       "<style scoped>\n",
       "    .dataframe tbody tr th:only-of-type {\n",
       "        vertical-align: middle;\n",
       "    }\n",
       "\n",
       "    .dataframe tbody tr th {\n",
       "        vertical-align: top;\n",
       "    }\n",
       "\n",
       "    .dataframe thead th {\n",
       "        text-align: right;\n",
       "    }\n",
       "</style>\n",
       "<table border=\"1\" class=\"dataframe\">\n",
       "  <thead>\n",
       "    <tr style=\"text-align: right;\">\n",
       "      <th></th>\n",
       "      <th>id</th>\n",
       "      <th>NAME</th>\n",
       "      <th>host id</th>\n",
       "      <th>host_identity_verified</th>\n",
       "      <th>host name</th>\n",
       "      <th>neighbourhood group</th>\n",
       "      <th>neighbourhood</th>\n",
       "      <th>lat</th>\n",
       "      <th>long</th>\n",
       "      <th>country</th>\n",
       "      <th>...</th>\n",
       "      <th>service fee</th>\n",
       "      <th>minimum nights</th>\n",
       "      <th>number of reviews</th>\n",
       "      <th>last review</th>\n",
       "      <th>reviews per month</th>\n",
       "      <th>review rate number</th>\n",
       "      <th>calculated host listings count</th>\n",
       "      <th>availability 365</th>\n",
       "      <th>house_rules</th>\n",
       "      <th>license</th>\n",
       "    </tr>\n",
       "  </thead>\n",
       "  <tbody>\n",
       "    <tr>\n",
       "      <th>0</th>\n",
       "      <td>1001254</td>\n",
       "      <td>Clean &amp; quiet apt home by the park</td>\n",
       "      <td>80014485718</td>\n",
       "      <td>unconfirmed</td>\n",
       "      <td>Madaline</td>\n",
       "      <td>Brooklyn</td>\n",
       "      <td>Kensington</td>\n",
       "      <td>40.64749</td>\n",
       "      <td>-73.97237</td>\n",
       "      <td>United States</td>\n",
       "      <td>...</td>\n",
       "      <td>$193</td>\n",
       "      <td>10.0</td>\n",
       "      <td>9.0</td>\n",
       "      <td>10/19/2021</td>\n",
       "      <td>0.21</td>\n",
       "      <td>4.0</td>\n",
       "      <td>6.0</td>\n",
       "      <td>286.0</td>\n",
       "      <td>Clean up and treat the home the way you'd like...</td>\n",
       "      <td>NaN</td>\n",
       "    </tr>\n",
       "    <tr>\n",
       "      <th>1</th>\n",
       "      <td>1002102</td>\n",
       "      <td>Skylit Midtown Castle</td>\n",
       "      <td>52335172823</td>\n",
       "      <td>verified</td>\n",
       "      <td>Jenna</td>\n",
       "      <td>Manhattan</td>\n",
       "      <td>Midtown</td>\n",
       "      <td>40.75362</td>\n",
       "      <td>-73.98377</td>\n",
       "      <td>United States</td>\n",
       "      <td>...</td>\n",
       "      <td>$28</td>\n",
       "      <td>30.0</td>\n",
       "      <td>45.0</td>\n",
       "      <td>5/21/2022</td>\n",
       "      <td>0.38</td>\n",
       "      <td>4.0</td>\n",
       "      <td>2.0</td>\n",
       "      <td>228.0</td>\n",
       "      <td>Pet friendly but please confirm with me if the...</td>\n",
       "      <td>NaN</td>\n",
       "    </tr>\n",
       "    <tr>\n",
       "      <th>2</th>\n",
       "      <td>1002403</td>\n",
       "      <td>THE VILLAGE OF HARLEM....NEW YORK !</td>\n",
       "      <td>78829239556</td>\n",
       "      <td>NaN</td>\n",
       "      <td>Elise</td>\n",
       "      <td>Manhattan</td>\n",
       "      <td>Harlem</td>\n",
       "      <td>40.80902</td>\n",
       "      <td>-73.94190</td>\n",
       "      <td>United States</td>\n",
       "      <td>...</td>\n",
       "      <td>$124</td>\n",
       "      <td>3.0</td>\n",
       "      <td>0.0</td>\n",
       "      <td>NaN</td>\n",
       "      <td>NaN</td>\n",
       "      <td>5.0</td>\n",
       "      <td>1.0</td>\n",
       "      <td>352.0</td>\n",
       "      <td>I encourage you to use my kitchen, cooking and...</td>\n",
       "      <td>NaN</td>\n",
       "    </tr>\n",
       "    <tr>\n",
       "      <th>3</th>\n",
       "      <td>1002755</td>\n",
       "      <td>NaN</td>\n",
       "      <td>85098326012</td>\n",
       "      <td>unconfirmed</td>\n",
       "      <td>Garry</td>\n",
       "      <td>Brooklyn</td>\n",
       "      <td>Clinton Hill</td>\n",
       "      <td>40.68514</td>\n",
       "      <td>-73.95976</td>\n",
       "      <td>United States</td>\n",
       "      <td>...</td>\n",
       "      <td>$74</td>\n",
       "      <td>30.0</td>\n",
       "      <td>270.0</td>\n",
       "      <td>7/5/2019</td>\n",
       "      <td>4.64</td>\n",
       "      <td>4.0</td>\n",
       "      <td>1.0</td>\n",
       "      <td>322.0</td>\n",
       "      <td>NaN</td>\n",
       "      <td>NaN</td>\n",
       "    </tr>\n",
       "    <tr>\n",
       "      <th>4</th>\n",
       "      <td>1003689</td>\n",
       "      <td>Entire Apt: Spacious Studio/Loft by central park</td>\n",
       "      <td>92037596077</td>\n",
       "      <td>verified</td>\n",
       "      <td>Lyndon</td>\n",
       "      <td>Manhattan</td>\n",
       "      <td>East Harlem</td>\n",
       "      <td>40.79851</td>\n",
       "      <td>-73.94399</td>\n",
       "      <td>United States</td>\n",
       "      <td>...</td>\n",
       "      <td>$41</td>\n",
       "      <td>10.0</td>\n",
       "      <td>9.0</td>\n",
       "      <td>11/19/2018</td>\n",
       "      <td>0.10</td>\n",
       "      <td>3.0</td>\n",
       "      <td>1.0</td>\n",
       "      <td>289.0</td>\n",
       "      <td>Please no smoking in the house, porch or on th...</td>\n",
       "      <td>NaN</td>\n",
       "    </tr>\n",
       "  </tbody>\n",
       "</table>\n",
       "<p>5 rows × 26 columns</p>\n",
       "</div>"
      ],
      "text/plain": [
       "        id                                              NAME      host id  \\\n",
       "0  1001254                Clean & quiet apt home by the park  80014485718   \n",
       "1  1002102                             Skylit Midtown Castle  52335172823   \n",
       "2  1002403               THE VILLAGE OF HARLEM....NEW YORK !  78829239556   \n",
       "3  1002755                                               NaN  85098326012   \n",
       "4  1003689  Entire Apt: Spacious Studio/Loft by central park  92037596077   \n",
       "\n",
       "  host_identity_verified host name neighbourhood group neighbourhood  \\\n",
       "0            unconfirmed  Madaline            Brooklyn    Kensington   \n",
       "1               verified     Jenna           Manhattan       Midtown   \n",
       "2                    NaN     Elise           Manhattan        Harlem   \n",
       "3            unconfirmed     Garry            Brooklyn  Clinton Hill   \n",
       "4               verified    Lyndon           Manhattan   East Harlem   \n",
       "\n",
       "        lat      long        country  ... service fee minimum nights  \\\n",
       "0  40.64749 -73.97237  United States  ...       $193            10.0   \n",
       "1  40.75362 -73.98377  United States  ...        $28            30.0   \n",
       "2  40.80902 -73.94190  United States  ...       $124             3.0   \n",
       "3  40.68514 -73.95976  United States  ...        $74            30.0   \n",
       "4  40.79851 -73.94399  United States  ...        $41            10.0   \n",
       "\n",
       "  number of reviews last review  reviews per month review rate number  \\\n",
       "0               9.0  10/19/2021               0.21                4.0   \n",
       "1              45.0   5/21/2022               0.38                4.0   \n",
       "2               0.0         NaN                NaN                5.0   \n",
       "3             270.0    7/5/2019               4.64                4.0   \n",
       "4               9.0  11/19/2018               0.10                3.0   \n",
       "\n",
       "  calculated host listings count  availability 365  \\\n",
       "0                            6.0             286.0   \n",
       "1                            2.0             228.0   \n",
       "2                            1.0             352.0   \n",
       "3                            1.0             322.0   \n",
       "4                            1.0             289.0   \n",
       "\n",
       "                                         house_rules license  \n",
       "0  Clean up and treat the home the way you'd like...     NaN  \n",
       "1  Pet friendly but please confirm with me if the...     NaN  \n",
       "2  I encourage you to use my kitchen, cooking and...     NaN  \n",
       "3                                                NaN     NaN  \n",
       "4  Please no smoking in the house, porch or on th...     NaN  \n",
       "\n",
       "[5 rows x 26 columns]"
      ]
     },
     "execution_count": 5,
     "metadata": {},
     "output_type": "execute_result"
    }
   ],
   "source": [
    "## Displaying the columns names\n",
    "data.columns\n",
    "\n",
    "##Displaying the table data\n",
    "data.head()\n"
   ]
  },
  {
   "cell_type": "code",
   "execution_count": 6,
   "id": "5de1d5c6",
   "metadata": {
    "execution": {
     "iopub.execute_input": "2022-09-15T14:43:35.808955Z",
     "iopub.status.busy": "2022-09-15T14:43:35.808579Z",
     "iopub.status.idle": "2022-09-15T14:43:35.917884Z",
     "shell.execute_reply": "2022-09-15T14:43:35.916756Z"
    },
    "id": "_3OZIkkjoxzq",
    "papermill": {
     "duration": 0.127417,
     "end_time": "2022-09-15T14:43:35.920344",
     "exception": false,
     "start_time": "2022-09-15T14:43:35.792927",
     "status": "completed"
    },
    "tags": []
   },
   "outputs": [
    {
     "data": {
      "text/html": [
       "<div>\n",
       "<style scoped>\n",
       "    .dataframe tbody tr th:only-of-type {\n",
       "        vertical-align: middle;\n",
       "    }\n",
       "\n",
       "    .dataframe tbody tr th {\n",
       "        vertical-align: top;\n",
       "    }\n",
       "\n",
       "    .dataframe thead th {\n",
       "        text-align: right;\n",
       "    }\n",
       "</style>\n",
       "<table border=\"1\" class=\"dataframe\">\n",
       "  <thead>\n",
       "    <tr style=\"text-align: right;\">\n",
       "      <th></th>\n",
       "      <th>id</th>\n",
       "      <th>host id</th>\n",
       "      <th>lat</th>\n",
       "      <th>long</th>\n",
       "      <th>Construction year</th>\n",
       "      <th>minimum nights</th>\n",
       "      <th>number of reviews</th>\n",
       "      <th>reviews per month</th>\n",
       "      <th>review rate number</th>\n",
       "      <th>calculated host listings count</th>\n",
       "      <th>availability 365</th>\n",
       "    </tr>\n",
       "  </thead>\n",
       "  <tbody>\n",
       "    <tr>\n",
       "      <th>count</th>\n",
       "      <td>1.025990e+05</td>\n",
       "      <td>1.025990e+05</td>\n",
       "      <td>102591.000000</td>\n",
       "      <td>102591.000000</td>\n",
       "      <td>102385.000000</td>\n",
       "      <td>102190.000000</td>\n",
       "      <td>102416.000000</td>\n",
       "      <td>86720.000000</td>\n",
       "      <td>102273.000000</td>\n",
       "      <td>102280.000000</td>\n",
       "      <td>102151.000000</td>\n",
       "    </tr>\n",
       "    <tr>\n",
       "      <th>mean</th>\n",
       "      <td>2.914623e+07</td>\n",
       "      <td>4.925411e+10</td>\n",
       "      <td>40.728094</td>\n",
       "      <td>-73.949644</td>\n",
       "      <td>2012.487464</td>\n",
       "      <td>8.135845</td>\n",
       "      <td>27.483743</td>\n",
       "      <td>1.374022</td>\n",
       "      <td>3.279106</td>\n",
       "      <td>7.936605</td>\n",
       "      <td>141.133254</td>\n",
       "    </tr>\n",
       "    <tr>\n",
       "      <th>std</th>\n",
       "      <td>1.625751e+07</td>\n",
       "      <td>2.853900e+10</td>\n",
       "      <td>0.055857</td>\n",
       "      <td>0.049521</td>\n",
       "      <td>5.765556</td>\n",
       "      <td>30.553781</td>\n",
       "      <td>49.508954</td>\n",
       "      <td>1.746621</td>\n",
       "      <td>1.284657</td>\n",
       "      <td>32.218780</td>\n",
       "      <td>135.435024</td>\n",
       "    </tr>\n",
       "    <tr>\n",
       "      <th>min</th>\n",
       "      <td>1.001254e+06</td>\n",
       "      <td>1.236005e+08</td>\n",
       "      <td>40.499790</td>\n",
       "      <td>-74.249840</td>\n",
       "      <td>2003.000000</td>\n",
       "      <td>-1223.000000</td>\n",
       "      <td>0.000000</td>\n",
       "      <td>0.010000</td>\n",
       "      <td>1.000000</td>\n",
       "      <td>1.000000</td>\n",
       "      <td>-10.000000</td>\n",
       "    </tr>\n",
       "    <tr>\n",
       "      <th>25%</th>\n",
       "      <td>1.508581e+07</td>\n",
       "      <td>2.458333e+10</td>\n",
       "      <td>40.688740</td>\n",
       "      <td>-73.982580</td>\n",
       "      <td>2007.000000</td>\n",
       "      <td>2.000000</td>\n",
       "      <td>1.000000</td>\n",
       "      <td>0.220000</td>\n",
       "      <td>2.000000</td>\n",
       "      <td>1.000000</td>\n",
       "      <td>3.000000</td>\n",
       "    </tr>\n",
       "    <tr>\n",
       "      <th>50%</th>\n",
       "      <td>2.913660e+07</td>\n",
       "      <td>4.911774e+10</td>\n",
       "      <td>40.722290</td>\n",
       "      <td>-73.954440</td>\n",
       "      <td>2012.000000</td>\n",
       "      <td>3.000000</td>\n",
       "      <td>7.000000</td>\n",
       "      <td>0.740000</td>\n",
       "      <td>3.000000</td>\n",
       "      <td>1.000000</td>\n",
       "      <td>96.000000</td>\n",
       "    </tr>\n",
       "    <tr>\n",
       "      <th>75%</th>\n",
       "      <td>4.320120e+07</td>\n",
       "      <td>7.399650e+10</td>\n",
       "      <td>40.762760</td>\n",
       "      <td>-73.932350</td>\n",
       "      <td>2017.000000</td>\n",
       "      <td>5.000000</td>\n",
       "      <td>30.000000</td>\n",
       "      <td>2.000000</td>\n",
       "      <td>4.000000</td>\n",
       "      <td>2.000000</td>\n",
       "      <td>269.000000</td>\n",
       "    </tr>\n",
       "    <tr>\n",
       "      <th>max</th>\n",
       "      <td>5.736742e+07</td>\n",
       "      <td>9.876313e+10</td>\n",
       "      <td>40.916970</td>\n",
       "      <td>-73.705220</td>\n",
       "      <td>2022.000000</td>\n",
       "      <td>5645.000000</td>\n",
       "      <td>1024.000000</td>\n",
       "      <td>90.000000</td>\n",
       "      <td>5.000000</td>\n",
       "      <td>332.000000</td>\n",
       "      <td>3677.000000</td>\n",
       "    </tr>\n",
       "  </tbody>\n",
       "</table>\n",
       "</div>"
      ],
      "text/plain": [
       "                 id       host id            lat           long  \\\n",
       "count  1.025990e+05  1.025990e+05  102591.000000  102591.000000   \n",
       "mean   2.914623e+07  4.925411e+10      40.728094     -73.949644   \n",
       "std    1.625751e+07  2.853900e+10       0.055857       0.049521   \n",
       "min    1.001254e+06  1.236005e+08      40.499790     -74.249840   \n",
       "25%    1.508581e+07  2.458333e+10      40.688740     -73.982580   \n",
       "50%    2.913660e+07  4.911774e+10      40.722290     -73.954440   \n",
       "75%    4.320120e+07  7.399650e+10      40.762760     -73.932350   \n",
       "max    5.736742e+07  9.876313e+10      40.916970     -73.705220   \n",
       "\n",
       "       Construction year  minimum nights  number of reviews  \\\n",
       "count      102385.000000   102190.000000      102416.000000   \n",
       "mean         2012.487464        8.135845          27.483743   \n",
       "std             5.765556       30.553781          49.508954   \n",
       "min          2003.000000    -1223.000000           0.000000   \n",
       "25%          2007.000000        2.000000           1.000000   \n",
       "50%          2012.000000        3.000000           7.000000   \n",
       "75%          2017.000000        5.000000          30.000000   \n",
       "max          2022.000000     5645.000000        1024.000000   \n",
       "\n",
       "       reviews per month  review rate number  calculated host listings count  \\\n",
       "count       86720.000000       102273.000000                   102280.000000   \n",
       "mean            1.374022            3.279106                        7.936605   \n",
       "std             1.746621            1.284657                       32.218780   \n",
       "min             0.010000            1.000000                        1.000000   \n",
       "25%             0.220000            2.000000                        1.000000   \n",
       "50%             0.740000            3.000000                        1.000000   \n",
       "75%             2.000000            4.000000                        2.000000   \n",
       "max            90.000000            5.000000                      332.000000   \n",
       "\n",
       "       availability 365  \n",
       "count     102151.000000  \n",
       "mean         141.133254  \n",
       "std          135.435024  \n",
       "min          -10.000000  \n",
       "25%            3.000000  \n",
       "50%           96.000000  \n",
       "75%          269.000000  \n",
       "max         3677.000000  "
      ]
     },
     "execution_count": 6,
     "metadata": {},
     "output_type": "execute_result"
    }
   ],
   "source": [
    "##Displaying descriptive statistics of DataFrame\n",
    "data.describe()\n"
   ]
  },
  {
   "cell_type": "code",
   "execution_count": 7,
   "id": "8cac5236",
   "metadata": {
    "execution": {
     "iopub.execute_input": "2022-09-15T14:43:35.951413Z",
     "iopub.status.busy": "2022-09-15T14:43:35.950128Z",
     "iopub.status.idle": "2022-09-15T14:43:36.016831Z",
     "shell.execute_reply": "2022-09-15T14:43:36.015606Z"
    },
    "id": "tdyy3oQfpAJq",
    "papermill": {
     "duration": 0.0853,
     "end_time": "2022-09-15T14:43:36.019628",
     "exception": false,
     "start_time": "2022-09-15T14:43:35.934328",
     "status": "completed"
    },
    "tags": []
   },
   "outputs": [
    {
     "data": {
      "text/plain": [
       "<bound method DataFrame.info of              id                                              NAME  \\\n",
       "0       1001254                Clean & quiet apt home by the park   \n",
       "1       1002102                             Skylit Midtown Castle   \n",
       "2       1002403               THE VILLAGE OF HARLEM....NEW YORK !   \n",
       "3       1002755                                               NaN   \n",
       "4       1003689  Entire Apt: Spacious Studio/Loft by central park   \n",
       "...         ...                                               ...   \n",
       "102594  6092437                        Spare room in Williamsburg   \n",
       "102595  6092990                     Best Location near Columbia U   \n",
       "102596  6093542                    Comfy, bright room in Brooklyn   \n",
       "102597  6094094                  Big Studio-One Stop from Midtown   \n",
       "102598  6094647                              585 sf Luxury Studio   \n",
       "\n",
       "            host id host_identity_verified    host name neighbourhood group  \\\n",
       "0       80014485718            unconfirmed     Madaline            Brooklyn   \n",
       "1       52335172823               verified        Jenna           Manhattan   \n",
       "2       78829239556                    NaN        Elise           Manhattan   \n",
       "3       85098326012            unconfirmed        Garry            Brooklyn   \n",
       "4       92037596077               verified       Lyndon           Manhattan   \n",
       "...             ...                    ...          ...                 ...   \n",
       "102594  12312296767               verified         Krik            Brooklyn   \n",
       "102595  77864383453            unconfirmed        Mifan           Manhattan   \n",
       "102596  69050334417            unconfirmed        Megan            Brooklyn   \n",
       "102597  11160591270            unconfirmed  Christopher              Queens   \n",
       "102598  68170633372            unconfirmed      Rebecca           Manhattan   \n",
       "\n",
       "              neighbourhood       lat      long        country  ...  \\\n",
       "0                Kensington  40.64749 -73.97237  United States  ...   \n",
       "1                   Midtown  40.75362 -73.98377  United States  ...   \n",
       "2                    Harlem  40.80902 -73.94190  United States  ...   \n",
       "3              Clinton Hill  40.68514 -73.95976  United States  ...   \n",
       "4               East Harlem  40.79851 -73.94399  United States  ...   \n",
       "...                     ...       ...       ...            ...  ...   \n",
       "102594         Williamsburg  40.70862 -73.94651  United States  ...   \n",
       "102595  Morningside Heights  40.80460 -73.96545  United States  ...   \n",
       "102596           Park Slope  40.67505 -73.98045  United States  ...   \n",
       "102597     Long Island City  40.74989 -73.93777  United States  ...   \n",
       "102598      Upper West Side  40.76807 -73.98342  United States  ...   \n",
       "\n",
       "       service fee minimum nights number of reviews last review  \\\n",
       "0            $193            10.0               9.0  10/19/2021   \n",
       "1             $28            30.0              45.0   5/21/2022   \n",
       "2            $124             3.0               0.0         NaN   \n",
       "3             $74            30.0             270.0    7/5/2019   \n",
       "4             $41            10.0               9.0  11/19/2018   \n",
       "...            ...            ...               ...         ...   \n",
       "102594       $169             1.0               0.0         NaN   \n",
       "102595       $167             1.0               1.0    7/6/2015   \n",
       "102596       $198             3.0               0.0         NaN   \n",
       "102597       $109             2.0               5.0  10/11/2015   \n",
       "102598       $206             1.0               0.0         NaN   \n",
       "\n",
       "        reviews per month review rate number calculated host listings count  \\\n",
       "0                    0.21                4.0                            6.0   \n",
       "1                    0.38                4.0                            2.0   \n",
       "2                     NaN                5.0                            1.0   \n",
       "3                    4.64                4.0                            1.0   \n",
       "4                    0.10                3.0                            1.0   \n",
       "...                   ...                ...                            ...   \n",
       "102594                NaN                3.0                            1.0   \n",
       "102595               0.02                2.0                            2.0   \n",
       "102596                NaN                5.0                            1.0   \n",
       "102597               0.10                3.0                            1.0   \n",
       "102598                NaN                3.0                            1.0   \n",
       "\n",
       "        availability 365                                        house_rules  \\\n",
       "0                  286.0  Clean up and treat the home the way you'd like...   \n",
       "1                  228.0  Pet friendly but please confirm with me if the...   \n",
       "2                  352.0  I encourage you to use my kitchen, cooking and...   \n",
       "3                  322.0                                                NaN   \n",
       "4                  289.0  Please no smoking in the house, porch or on th...   \n",
       "...                  ...                                                ...   \n",
       "102594             227.0  No Smoking No Parties or Events of any kind Pl...   \n",
       "102595             395.0  House rules: Guests agree to the following ter...   \n",
       "102596             342.0                                                NaN   \n",
       "102597             386.0                                                NaN   \n",
       "102598              69.0                                                NaN   \n",
       "\n",
       "       license  \n",
       "0          NaN  \n",
       "1          NaN  \n",
       "2          NaN  \n",
       "3          NaN  \n",
       "4          NaN  \n",
       "...        ...  \n",
       "102594     NaN  \n",
       "102595     NaN  \n",
       "102596     NaN  \n",
       "102597     NaN  \n",
       "102598     NaN  \n",
       "\n",
       "[102599 rows x 26 columns]>"
      ]
     },
     "execution_count": 7,
     "metadata": {},
     "output_type": "execute_result"
    }
   ],
   "source": [
    "##Displaying summary of DataFrame\n",
    "data.info"
   ]
  },
  {
   "cell_type": "code",
   "execution_count": 8,
   "id": "1cdb8b90",
   "metadata": {
    "execution": {
     "iopub.execute_input": "2022-09-15T14:43:36.050841Z",
     "iopub.status.busy": "2022-09-15T14:43:36.050371Z",
     "iopub.status.idle": "2022-09-15T14:43:36.058069Z",
     "shell.execute_reply": "2022-09-15T14:43:36.056788Z"
    },
    "papermill": {
     "duration": 0.02557,
     "end_time": "2022-09-15T14:43:36.060425",
     "exception": false,
     "start_time": "2022-09-15T14:43:36.034855",
     "status": "completed"
    },
    "tags": []
   },
   "outputs": [
    {
     "data": {
      "text/plain": [
       "(102599, 26)"
      ]
     },
     "execution_count": 8,
     "metadata": {},
     "output_type": "execute_result"
    }
   ],
   "source": [
    "##Calculating dimensions of DataFrame\n",
    "data.shape"
   ]
  },
  {
   "cell_type": "markdown",
   "id": "e29a11d9",
   "metadata": {
    "id": "QYEMiGeLNWR5",
    "papermill": {
     "duration": 0.014272,
     "end_time": "2022-09-15T14:43:36.089222",
     "exception": false,
     "start_time": "2022-09-15T14:43:36.074950",
     "status": "completed"
    },
    "tags": []
   },
   "source": [
    "<div style=\"font-family: Segoe UI; line-height: 2; color: #000000; text-align: justify\">\n",
    "    👉 <b>Removing $ from Price columns:</b>\n"
   ]
  },
  {
   "cell_type": "code",
   "execution_count": 9,
   "id": "e653dee9",
   "metadata": {
    "execution": {
     "iopub.execute_input": "2022-09-15T14:43:36.120706Z",
     "iopub.status.busy": "2022-09-15T14:43:36.119901Z",
     "iopub.status.idle": "2022-09-15T14:43:36.395219Z",
     "shell.execute_reply": "2022-09-15T14:43:36.393893Z"
    },
    "executionInfo": {
     "elapsed": 5,
     "status": "ok",
     "timestamp": 1662739681353,
     "user": {
      "displayName": "Avijit Mondal",
      "userId": "08674227392784076944"
     },
     "user_tz": -330
    },
    "id": "b-_Dm_ompEpD",
    "outputId": "d90879b7-e11f-4051-e853-dcbc69cc4df9",
    "papermill": {
     "duration": 0.294669,
     "end_time": "2022-09-15T14:43:36.398536",
     "exception": false,
     "start_time": "2022-09-15T14:43:36.103867",
     "status": "completed"
    },
    "tags": []
   },
   "outputs": [],
   "source": [
    "## Removing $ from service Fee column\n",
    "#data['service fee']=data['service fee'].str.replace('$','');\n",
    "data['service fee'] = data['service fee'].str.replace(r'\\D','',regex=True)\n",
    "## Removing $ from service Fee column\n",
    "data['price'] = data['price'].str.replace(r'\\D','',regex=True)\n",
    "data['price'] = data['price'].str.strip()\n",
    "#data['price']=data['price'].str.replace('$','');\n",
    "#data['price'] = data['price'].apply(lambda x: type(x).__name__)"
   ]
  },
  {
   "cell_type": "markdown",
   "id": "3094a267",
   "metadata": {
    "id": "L9WTWQ0AsQ1k",
    "papermill": {
     "duration": 0.014204,
     "end_time": "2022-09-15T14:43:36.427775",
     "exception": false,
     "start_time": "2022-09-15T14:43:36.413571",
     "status": "completed"
    },
    "tags": []
   },
   "source": [
    "<div style=\"font-family: Segoe UI; line-height: 2; color: #000000; text-align: justify\">\n",
    "    👉 <b>Checking Duplicates:</b>\n"
   ]
  },
  {
   "cell_type": "code",
   "execution_count": 10,
   "id": "ea9d714c",
   "metadata": {
    "execution": {
     "iopub.execute_input": "2022-09-15T14:43:36.458566Z",
     "iopub.status.busy": "2022-09-15T14:43:36.458106Z",
     "iopub.status.idle": "2022-09-15T14:43:36.674332Z",
     "shell.execute_reply": "2022-09-15T14:43:36.673109Z"
    },
    "executionInfo": {
     "elapsed": 459,
     "status": "ok",
     "timestamp": 1662739684555,
     "user": {
      "displayName": "Avijit Mondal",
      "userId": "08674227392784076944"
     },
     "user_tz": -330
    },
    "id": "D37IxiA6sPl0",
    "outputId": "fa1c2e07-885f-4011-e567-2d18ac953e3f",
    "papermill": {
     "duration": 0.234756,
     "end_time": "2022-09-15T14:43:36.677047",
     "exception": false,
     "start_time": "2022-09-15T14:43:36.442291",
     "status": "completed"
    },
    "tags": []
   },
   "outputs": [
    {
     "data": {
      "text/plain": [
       "False    102058\n",
       "True        541\n",
       "dtype: int64"
      ]
     },
     "execution_count": 10,
     "metadata": {},
     "output_type": "execute_result"
    }
   ],
   "source": [
    "dp=data.duplicated()\n",
    "dp.value_counts()"
   ]
  },
  {
   "cell_type": "markdown",
   "id": "bdcabfe8",
   "metadata": {
    "id": "yF7pqXvYsw0M",
    "papermill": {
     "duration": 0.014271,
     "end_time": "2022-09-15T14:43:36.706032",
     "exception": false,
     "start_time": "2022-09-15T14:43:36.691761",
     "status": "completed"
    },
    "tags": []
   },
   "source": [
    "<div style=\"font-family: Segoe UI; line-height: 2; color: #000000; text-align: justify\">\n",
    "    👉 <b>Removing Duplicates:</b>\n"
   ]
  },
  {
   "cell_type": "code",
   "execution_count": 11,
   "id": "3e4f1f0d",
   "metadata": {
    "execution": {
     "iopub.execute_input": "2022-09-15T14:43:36.736838Z",
     "iopub.status.busy": "2022-09-15T14:43:36.736385Z",
     "iopub.status.idle": "2022-09-15T14:43:37.096214Z",
     "shell.execute_reply": "2022-09-15T14:43:37.094999Z"
    },
    "executionInfo": {
     "elapsed": 488,
     "status": "ok",
     "timestamp": 1662739686787,
     "user": {
      "displayName": "Avijit Mondal",
      "userId": "08674227392784076944"
     },
     "user_tz": -330
    },
    "id": "ip50MU2Fs30W",
    "outputId": "90e2bbc3-ce6e-49dc-fe92-f1c3b6379ddc",
    "papermill": {
     "duration": 0.37844,
     "end_time": "2022-09-15T14:43:37.099046",
     "exception": false,
     "start_time": "2022-09-15T14:43:36.720606",
     "status": "completed"
    },
    "tags": []
   },
   "outputs": [
    {
     "name": "stdout",
     "output_type": "stream",
     "text": [
      "Rows: 102599\n",
      "Columns: 26\n"
     ]
    },
    {
     "data": {
      "text/html": [
       "<div>\n",
       "<style scoped>\n",
       "    .dataframe tbody tr th:only-of-type {\n",
       "        vertical-align: middle;\n",
       "    }\n",
       "\n",
       "    .dataframe tbody tr th {\n",
       "        vertical-align: top;\n",
       "    }\n",
       "\n",
       "    .dataframe thead th {\n",
       "        text-align: right;\n",
       "    }\n",
       "</style>\n",
       "<table border=\"1\" class=\"dataframe\">\n",
       "  <thead>\n",
       "    <tr style=\"text-align: right;\">\n",
       "      <th></th>\n",
       "      <th>id</th>\n",
       "      <th>NAME</th>\n",
       "      <th>host id</th>\n",
       "      <th>host_identity_verified</th>\n",
       "      <th>host name</th>\n",
       "      <th>neighbourhood group</th>\n",
       "      <th>neighbourhood</th>\n",
       "      <th>lat</th>\n",
       "      <th>long</th>\n",
       "      <th>country</th>\n",
       "      <th>...</th>\n",
       "      <th>service fee</th>\n",
       "      <th>minimum nights</th>\n",
       "      <th>number of reviews</th>\n",
       "      <th>last review</th>\n",
       "      <th>reviews per month</th>\n",
       "      <th>review rate number</th>\n",
       "      <th>calculated host listings count</th>\n",
       "      <th>availability 365</th>\n",
       "      <th>house_rules</th>\n",
       "      <th>license</th>\n",
       "    </tr>\n",
       "  </thead>\n",
       "  <tbody>\n",
       "    <tr>\n",
       "      <th>0</th>\n",
       "      <td>1001254</td>\n",
       "      <td>Clean &amp; quiet apt home by the park</td>\n",
       "      <td>80014485718</td>\n",
       "      <td>unconfirmed</td>\n",
       "      <td>Madaline</td>\n",
       "      <td>Brooklyn</td>\n",
       "      <td>Kensington</td>\n",
       "      <td>40.64749</td>\n",
       "      <td>-73.97237</td>\n",
       "      <td>United States</td>\n",
       "      <td>...</td>\n",
       "      <td>193</td>\n",
       "      <td>10.0</td>\n",
       "      <td>9.0</td>\n",
       "      <td>10/19/2021</td>\n",
       "      <td>0.21</td>\n",
       "      <td>4.0</td>\n",
       "      <td>6.0</td>\n",
       "      <td>286.0</td>\n",
       "      <td>Clean up and treat the home the way you'd like...</td>\n",
       "      <td>NaN</td>\n",
       "    </tr>\n",
       "    <tr>\n",
       "      <th>1</th>\n",
       "      <td>1002102</td>\n",
       "      <td>Skylit Midtown Castle</td>\n",
       "      <td>52335172823</td>\n",
       "      <td>verified</td>\n",
       "      <td>Jenna</td>\n",
       "      <td>Manhattan</td>\n",
       "      <td>Midtown</td>\n",
       "      <td>40.75362</td>\n",
       "      <td>-73.98377</td>\n",
       "      <td>United States</td>\n",
       "      <td>...</td>\n",
       "      <td>28</td>\n",
       "      <td>30.0</td>\n",
       "      <td>45.0</td>\n",
       "      <td>5/21/2022</td>\n",
       "      <td>0.38</td>\n",
       "      <td>4.0</td>\n",
       "      <td>2.0</td>\n",
       "      <td>228.0</td>\n",
       "      <td>Pet friendly but please confirm with me if the...</td>\n",
       "      <td>NaN</td>\n",
       "    </tr>\n",
       "    <tr>\n",
       "      <th>2</th>\n",
       "      <td>1002403</td>\n",
       "      <td>THE VILLAGE OF HARLEM....NEW YORK !</td>\n",
       "      <td>78829239556</td>\n",
       "      <td>NaN</td>\n",
       "      <td>Elise</td>\n",
       "      <td>Manhattan</td>\n",
       "      <td>Harlem</td>\n",
       "      <td>40.80902</td>\n",
       "      <td>-73.94190</td>\n",
       "      <td>United States</td>\n",
       "      <td>...</td>\n",
       "      <td>124</td>\n",
       "      <td>3.0</td>\n",
       "      <td>0.0</td>\n",
       "      <td>NaN</td>\n",
       "      <td>NaN</td>\n",
       "      <td>5.0</td>\n",
       "      <td>1.0</td>\n",
       "      <td>352.0</td>\n",
       "      <td>I encourage you to use my kitchen, cooking and...</td>\n",
       "      <td>NaN</td>\n",
       "    </tr>\n",
       "    <tr>\n",
       "      <th>3</th>\n",
       "      <td>1002755</td>\n",
       "      <td>NaN</td>\n",
       "      <td>85098326012</td>\n",
       "      <td>unconfirmed</td>\n",
       "      <td>Garry</td>\n",
       "      <td>Brooklyn</td>\n",
       "      <td>Clinton Hill</td>\n",
       "      <td>40.68514</td>\n",
       "      <td>-73.95976</td>\n",
       "      <td>United States</td>\n",
       "      <td>...</td>\n",
       "      <td>74</td>\n",
       "      <td>30.0</td>\n",
       "      <td>270.0</td>\n",
       "      <td>7/5/2019</td>\n",
       "      <td>4.64</td>\n",
       "      <td>4.0</td>\n",
       "      <td>1.0</td>\n",
       "      <td>322.0</td>\n",
       "      <td>NaN</td>\n",
       "      <td>NaN</td>\n",
       "    </tr>\n",
       "    <tr>\n",
       "      <th>4</th>\n",
       "      <td>1003689</td>\n",
       "      <td>Entire Apt: Spacious Studio/Loft by central park</td>\n",
       "      <td>92037596077</td>\n",
       "      <td>verified</td>\n",
       "      <td>Lyndon</td>\n",
       "      <td>Manhattan</td>\n",
       "      <td>East Harlem</td>\n",
       "      <td>40.79851</td>\n",
       "      <td>-73.94399</td>\n",
       "      <td>United States</td>\n",
       "      <td>...</td>\n",
       "      <td>41</td>\n",
       "      <td>10.0</td>\n",
       "      <td>9.0</td>\n",
       "      <td>11/19/2018</td>\n",
       "      <td>0.10</td>\n",
       "      <td>3.0</td>\n",
       "      <td>1.0</td>\n",
       "      <td>289.0</td>\n",
       "      <td>Please no smoking in the house, porch or on th...</td>\n",
       "      <td>NaN</td>\n",
       "    </tr>\n",
       "    <tr>\n",
       "      <th>...</th>\n",
       "      <td>...</td>\n",
       "      <td>...</td>\n",
       "      <td>...</td>\n",
       "      <td>...</td>\n",
       "      <td>...</td>\n",
       "      <td>...</td>\n",
       "      <td>...</td>\n",
       "      <td>...</td>\n",
       "      <td>...</td>\n",
       "      <td>...</td>\n",
       "      <td>...</td>\n",
       "      <td>...</td>\n",
       "      <td>...</td>\n",
       "      <td>...</td>\n",
       "      <td>...</td>\n",
       "      <td>...</td>\n",
       "      <td>...</td>\n",
       "      <td>...</td>\n",
       "      <td>...</td>\n",
       "      <td>...</td>\n",
       "      <td>...</td>\n",
       "    </tr>\n",
       "    <tr>\n",
       "      <th>102053</th>\n",
       "      <td>57365208</td>\n",
       "      <td>Cozy bright room near Prospect Park</td>\n",
       "      <td>77326652202</td>\n",
       "      <td>unconfirmed</td>\n",
       "      <td>Mariam</td>\n",
       "      <td>Brooklyn</td>\n",
       "      <td>Flatbush</td>\n",
       "      <td>40.64945</td>\n",
       "      <td>-73.96108</td>\n",
       "      <td>United States</td>\n",
       "      <td>...</td>\n",
       "      <td>NaN</td>\n",
       "      <td>7.0</td>\n",
       "      <td>12.0</td>\n",
       "      <td>3/27/2019</td>\n",
       "      <td>0.44</td>\n",
       "      <td>5.0</td>\n",
       "      <td>1.0</td>\n",
       "      <td>0.0</td>\n",
       "      <td>Shoes off Clean After yourself Turn Lights and...</td>\n",
       "      <td>NaN</td>\n",
       "    </tr>\n",
       "    <tr>\n",
       "      <th>102054</th>\n",
       "      <td>57365760</td>\n",
       "      <td>Private Bedroom with Amazing Rooftop View</td>\n",
       "      <td>45936254757</td>\n",
       "      <td>verified</td>\n",
       "      <td>Trey</td>\n",
       "      <td>Brooklyn</td>\n",
       "      <td>Bushwick</td>\n",
       "      <td>40.69872</td>\n",
       "      <td>-73.92718</td>\n",
       "      <td>United States</td>\n",
       "      <td>...</td>\n",
       "      <td>NaN</td>\n",
       "      <td>1.0</td>\n",
       "      <td>19.0</td>\n",
       "      <td>8/31/2017</td>\n",
       "      <td>0.72</td>\n",
       "      <td>3.0</td>\n",
       "      <td>2.0</td>\n",
       "      <td>0.0</td>\n",
       "      <td>#NAME?</td>\n",
       "      <td>NaN</td>\n",
       "    </tr>\n",
       "    <tr>\n",
       "      <th>102055</th>\n",
       "      <td>57366313</td>\n",
       "      <td>Pretty Brooklyn One-Bedroom for 2 to 4 people</td>\n",
       "      <td>23801060917</td>\n",
       "      <td>verified</td>\n",
       "      <td>Michael</td>\n",
       "      <td>Brooklyn</td>\n",
       "      <td>Bedford-Stuyvesant</td>\n",
       "      <td>40.67810</td>\n",
       "      <td>-73.90822</td>\n",
       "      <td>United States</td>\n",
       "      <td>...</td>\n",
       "      <td>NaN</td>\n",
       "      <td>2.0</td>\n",
       "      <td>50.0</td>\n",
       "      <td>6/26/2019</td>\n",
       "      <td>3.12</td>\n",
       "      <td>4.0</td>\n",
       "      <td>2.0</td>\n",
       "      <td>235.0</td>\n",
       "      <td>* Check out: 10am * We made an effort to keep ...</td>\n",
       "      <td>NaN</td>\n",
       "    </tr>\n",
       "    <tr>\n",
       "      <th>102056</th>\n",
       "      <td>57366865</td>\n",
       "      <td>Room &amp; private bathroom in historic Harlem</td>\n",
       "      <td>15593031571</td>\n",
       "      <td>unconfirmed</td>\n",
       "      <td>Shireen</td>\n",
       "      <td>Manhattan</td>\n",
       "      <td>Harlem</td>\n",
       "      <td>40.81248</td>\n",
       "      <td>-73.94317</td>\n",
       "      <td>United States</td>\n",
       "      <td>...</td>\n",
       "      <td>NaN</td>\n",
       "      <td>2.0</td>\n",
       "      <td>0.0</td>\n",
       "      <td>NaN</td>\n",
       "      <td>NaN</td>\n",
       "      <td>1.0</td>\n",
       "      <td>1.0</td>\n",
       "      <td>0.0</td>\n",
       "      <td>Each of us is working and/or going to school a...</td>\n",
       "      <td>NaN</td>\n",
       "    </tr>\n",
       "    <tr>\n",
       "      <th>102057</th>\n",
       "      <td>57367417</td>\n",
       "      <td>Rosalee Stewart</td>\n",
       "      <td>93578954226</td>\n",
       "      <td>verified</td>\n",
       "      <td>Stanley</td>\n",
       "      <td>Manhattan</td>\n",
       "      <td>Harlem</td>\n",
       "      <td>40.81315</td>\n",
       "      <td>-73.94747</td>\n",
       "      <td>United States</td>\n",
       "      <td>...</td>\n",
       "      <td>NaN</td>\n",
       "      <td>4.0</td>\n",
       "      <td>22.0</td>\n",
       "      <td>6/15/2019</td>\n",
       "      <td>0.85</td>\n",
       "      <td>4.0</td>\n",
       "      <td>1.0</td>\n",
       "      <td>238.0</td>\n",
       "      <td>Please remember that this is a residential bui...</td>\n",
       "      <td>NaN</td>\n",
       "    </tr>\n",
       "  </tbody>\n",
       "</table>\n",
       "<p>102058 rows × 26 columns</p>\n",
       "</div>"
      ],
      "text/plain": [
       "              id                                              NAME  \\\n",
       "0        1001254                Clean & quiet apt home by the park   \n",
       "1        1002102                             Skylit Midtown Castle   \n",
       "2        1002403               THE VILLAGE OF HARLEM....NEW YORK !   \n",
       "3        1002755                                               NaN   \n",
       "4        1003689  Entire Apt: Spacious Studio/Loft by central park   \n",
       "...          ...                                               ...   \n",
       "102053  57365208               Cozy bright room near Prospect Park   \n",
       "102054  57365760         Private Bedroom with Amazing Rooftop View   \n",
       "102055  57366313     Pretty Brooklyn One-Bedroom for 2 to 4 people   \n",
       "102056  57366865        Room & private bathroom in historic Harlem   \n",
       "102057  57367417                                   Rosalee Stewart   \n",
       "\n",
       "            host id host_identity_verified host name neighbourhood group  \\\n",
       "0       80014485718            unconfirmed  Madaline            Brooklyn   \n",
       "1       52335172823               verified     Jenna           Manhattan   \n",
       "2       78829239556                    NaN     Elise           Manhattan   \n",
       "3       85098326012            unconfirmed     Garry            Brooklyn   \n",
       "4       92037596077               verified    Lyndon           Manhattan   \n",
       "...             ...                    ...       ...                 ...   \n",
       "102053  77326652202            unconfirmed    Mariam            Brooklyn   \n",
       "102054  45936254757               verified      Trey            Brooklyn   \n",
       "102055  23801060917               verified   Michael            Brooklyn   \n",
       "102056  15593031571            unconfirmed   Shireen           Manhattan   \n",
       "102057  93578954226               verified   Stanley           Manhattan   \n",
       "\n",
       "             neighbourhood       lat      long        country  ...  \\\n",
       "0               Kensington  40.64749 -73.97237  United States  ...   \n",
       "1                  Midtown  40.75362 -73.98377  United States  ...   \n",
       "2                   Harlem  40.80902 -73.94190  United States  ...   \n",
       "3             Clinton Hill  40.68514 -73.95976  United States  ...   \n",
       "4              East Harlem  40.79851 -73.94399  United States  ...   \n",
       "...                    ...       ...       ...            ...  ...   \n",
       "102053            Flatbush  40.64945 -73.96108  United States  ...   \n",
       "102054            Bushwick  40.69872 -73.92718  United States  ...   \n",
       "102055  Bedford-Stuyvesant  40.67810 -73.90822  United States  ...   \n",
       "102056              Harlem  40.81248 -73.94317  United States  ...   \n",
       "102057              Harlem  40.81315 -73.94747  United States  ...   \n",
       "\n",
       "       service fee minimum nights number of reviews last review  \\\n",
       "0              193           10.0               9.0  10/19/2021   \n",
       "1               28           30.0              45.0   5/21/2022   \n",
       "2              124            3.0               0.0         NaN   \n",
       "3               74           30.0             270.0    7/5/2019   \n",
       "4               41           10.0               9.0  11/19/2018   \n",
       "...            ...            ...               ...         ...   \n",
       "102053         NaN            7.0              12.0   3/27/2019   \n",
       "102054         NaN            1.0              19.0   8/31/2017   \n",
       "102055         NaN            2.0              50.0   6/26/2019   \n",
       "102056         NaN            2.0               0.0         NaN   \n",
       "102057         NaN            4.0              22.0   6/15/2019   \n",
       "\n",
       "        reviews per month review rate number calculated host listings count  \\\n",
       "0                    0.21                4.0                            6.0   \n",
       "1                    0.38                4.0                            2.0   \n",
       "2                     NaN                5.0                            1.0   \n",
       "3                    4.64                4.0                            1.0   \n",
       "4                    0.10                3.0                            1.0   \n",
       "...                   ...                ...                            ...   \n",
       "102053               0.44                5.0                            1.0   \n",
       "102054               0.72                3.0                            2.0   \n",
       "102055               3.12                4.0                            2.0   \n",
       "102056                NaN                1.0                            1.0   \n",
       "102057               0.85                4.0                            1.0   \n",
       "\n",
       "        availability 365                                        house_rules  \\\n",
       "0                  286.0  Clean up and treat the home the way you'd like...   \n",
       "1                  228.0  Pet friendly but please confirm with me if the...   \n",
       "2                  352.0  I encourage you to use my kitchen, cooking and...   \n",
       "3                  322.0                                                NaN   \n",
       "4                  289.0  Please no smoking in the house, porch or on th...   \n",
       "...                  ...                                                ...   \n",
       "102053               0.0  Shoes off Clean After yourself Turn Lights and...   \n",
       "102054               0.0                                             #NAME?   \n",
       "102055             235.0  * Check out: 10am * We made an effort to keep ...   \n",
       "102056               0.0  Each of us is working and/or going to school a...   \n",
       "102057             238.0  Please remember that this is a residential bui...   \n",
       "\n",
       "       license  \n",
       "0          NaN  \n",
       "1          NaN  \n",
       "2          NaN  \n",
       "3          NaN  \n",
       "4          NaN  \n",
       "...        ...  \n",
       "102053     NaN  \n",
       "102054     NaN  \n",
       "102055     NaN  \n",
       "102056     NaN  \n",
       "102057     NaN  \n",
       "\n",
       "[102058 rows x 26 columns]"
      ]
     },
     "execution_count": 11,
     "metadata": {},
     "output_type": "execute_result"
    }
   ],
   "source": [
    "#2.0.0 check total row count, before drop duplicates\n",
    "rows=data.shape[0] \n",
    "cols=data.shape[1]\n",
    "print(\"Rows: \" + str(rows))\n",
    "print(\"Columns: \" + str(cols))\n",
    "#2.0.1 drop duplicates\n",
    "data.drop_duplicates()"
   ]
  },
  {
   "cell_type": "markdown",
   "id": "518caa22",
   "metadata": {
    "id": "rbtYYG-C0nnU",
    "papermill": {
     "duration": 0.015055,
     "end_time": "2022-09-15T14:43:37.130122",
     "exception": false,
     "start_time": "2022-09-15T14:43:37.115067",
     "status": "completed"
    },
    "tags": []
   },
   "source": [
    "<div style=\"font-family: Segoe UI; line-height: 2; color: #000000; text-align: justify\">\n",
    "    👉 <b>Checking NaN & Null in DataSet:</b>\n"
   ]
  },
  {
   "cell_type": "code",
   "execution_count": 12,
   "id": "e65bdc61",
   "metadata": {
    "execution": {
     "iopub.execute_input": "2022-09-15T14:43:37.163122Z",
     "iopub.status.busy": "2022-09-15T14:43:37.162688Z",
     "iopub.status.idle": "2022-09-15T14:43:37.308541Z",
     "shell.execute_reply": "2022-09-15T14:43:37.307478Z"
    },
    "executionInfo": {
     "elapsed": 3,
     "status": "ok",
     "timestamp": 1662739690945,
     "user": {
      "displayName": "Avijit Mondal",
      "userId": "08674227392784076944"
     },
     "user_tz": -330
    },
    "id": "rsv2BNMP0seq",
    "outputId": "60eb8517-b6ba-4d09-9ff2-e48e9075f77b",
    "papermill": {
     "duration": 0.165653,
     "end_time": "2022-09-15T14:43:37.311123",
     "exception": false,
     "start_time": "2022-09-15T14:43:37.145470",
     "status": "completed"
    },
    "tags": []
   },
   "outputs": [
    {
     "data": {
      "text/plain": [
       "id                                     0\n",
       "room type                              0\n",
       "host id                                0\n",
       "long                                   8\n",
       "lat                                    8\n",
       "neighbourhood                         16\n",
       "neighbourhood group                   29\n",
       "cancellation_policy                   76\n",
       "instant_bookable                     105\n",
       "country code                         131\n",
       "number of reviews                    183\n",
       "Construction year                    214\n",
       "price                                247\n",
       "NAME                                 250\n",
       "service fee                          273\n",
       "host_identity_verified               289\n",
       "calculated host listings count       319\n",
       "review rate number                   326\n",
       "host name                            406\n",
       "minimum nights                       409\n",
       "availability 365                     448\n",
       "country                              532\n",
       "reviews per month                  15879\n",
       "last review                        15893\n",
       "house_rules                        52131\n",
       "license                           102597\n",
       "dtype: int64"
      ]
     },
     "execution_count": 12,
     "metadata": {},
     "output_type": "execute_result"
    }
   ],
   "source": [
    "#2.0.2 check null\n",
    "dn=data.isnull().sum().sort_values()\n",
    "\n",
    "#2.0.3 Check NaN\n",
    "data.isna().sum().sort_values()\n"
   ]
  },
  {
   "cell_type": "markdown",
   "id": "9bad3467",
   "metadata": {
    "id": "PR2dQ3C4uU0n",
    "papermill": {
     "duration": 0.015154,
     "end_time": "2022-09-15T14:43:37.341756",
     "exception": false,
     "start_time": "2022-09-15T14:43:37.326602",
     "status": "completed"
    },
    "tags": []
   },
   "source": [
    "<div style=\"font-family: Segoe UI; line-height: 2; color: #000000; text-align: justify\">\n",
    "    👉 <b>Removing NaN & Null from dataset.</b>\n"
   ]
  },
  {
   "cell_type": "code",
   "execution_count": 13,
   "id": "d7a25185",
   "metadata": {
    "execution": {
     "iopub.execute_input": "2022-09-15T14:43:37.375155Z",
     "iopub.status.busy": "2022-09-15T14:43:37.374024Z",
     "iopub.status.idle": "2022-09-15T14:43:37.457023Z",
     "shell.execute_reply": "2022-09-15T14:43:37.455867Z"
    },
    "executionInfo": {
     "elapsed": 730,
     "status": "ok",
     "timestamp": 1662739694700,
     "user": {
      "displayName": "Avijit Mondal",
      "userId": "08674227392784076944"
     },
     "user_tz": -330
    },
    "id": "R0nGrA6Zkx4m",
    "papermill": {
     "duration": 0.102687,
     "end_time": "2022-09-15T14:43:37.459945",
     "exception": false,
     "start_time": "2022-09-15T14:43:37.357258",
     "status": "completed"
    },
    "tags": []
   },
   "outputs": [],
   "source": [
    "#2.0.3 update NA with 0\n",
    "data.fillna(0, inplace=True)"
   ]
  },
  {
   "cell_type": "markdown",
   "id": "9757d7b1",
   "metadata": {
    "id": "afCtEmMFw5v-",
    "papermill": {
     "duration": 0.015251,
     "end_time": "2022-09-15T14:43:37.491381",
     "exception": false,
     "start_time": "2022-09-15T14:43:37.476130",
     "status": "completed"
    },
    "tags": []
   },
   "source": [
    "<div style=\"font-family: Segoe UI; line-height: 2; color: #000000; text-align: justify\">\n",
    "    👉 <b>Data type Transformation:</b>\n",
    "    <ul>\n",
    "      <li> <mark><b>Mapping Column dtype to New dtype</li>\n",
    "      <li> <mark><b>Transforming into dtypes</li>\n"
   ]
  },
  {
   "cell_type": "code",
   "execution_count": 14,
   "id": "ceecbc69",
   "metadata": {
    "execution": {
     "iopub.execute_input": "2022-09-15T14:43:37.524091Z",
     "iopub.status.busy": "2022-09-15T14:43:37.523685Z",
     "iopub.status.idle": "2022-09-15T14:43:37.577866Z",
     "shell.execute_reply": "2022-09-15T14:43:37.576759Z"
    },
    "executionInfo": {
     "elapsed": 495,
     "status": "ok",
     "timestamp": 1662739699349,
     "user": {
      "displayName": "Avijit Mondal",
      "userId": "08674227392784076944"
     },
     "user_tz": -330
    },
    "id": "AWJCSVa2yC7q",
    "outputId": "de90bbde-02ef-4ac7-f2b0-db4c7541c0f6",
    "papermill": {
     "duration": 0.073701,
     "end_time": "2022-09-15T14:43:37.580602",
     "exception": false,
     "start_time": "2022-09-15T14:43:37.506901",
     "status": "completed"
    },
    "tags": []
   },
   "outputs": [
    {
     "data": {
      "text/plain": [
       "id                                  int64\n",
       "NAME                               object\n",
       "host id                             int64\n",
       "host_identity_verified             object\n",
       "host name                          object\n",
       "neighbourhood group                object\n",
       "neighbourhood                      object\n",
       "lat                               float64\n",
       "long                              float64\n",
       "country                            object\n",
       "country code                       object\n",
       "instant_bookable                   object\n",
       "cancellation_policy                object\n",
       "room type                          object\n",
       "Construction year                   int64\n",
       "price                               int64\n",
       "service fee                         int64\n",
       "minimum nights                      int64\n",
       "number of reviews                 float64\n",
       "last review                        object\n",
       "reviews per month                 float64\n",
       "review rate number                  int64\n",
       "calculated host listings count    float64\n",
       "availability 365                    int64\n",
       "house_rules                        object\n",
       "license                            object\n",
       "dtype: object"
      ]
     },
     "execution_count": 14,
     "metadata": {},
     "output_type": "execute_result"
    }
   ],
   "source": [
    "#2.0.4 Mapping coulmns with dtype\n",
    "convert_dict = {'Construction year': int, 'price': int,\n",
    "       'service fee': int, 'minimum nights': int, 'review rate number': int,\n",
    "       'availability 365': int}\n",
    "\n",
    "#2.0.5 Transforming dtypes\n",
    "data=data.astype(convert_dict)\n",
    "data.dtypes"
   ]
  },
  {
   "cell_type": "markdown",
   "id": "9dd5d3b0",
   "metadata": {
    "id": "b8SAwrBMxlSq",
    "papermill": {
     "duration": 0.015118,
     "end_time": "2022-09-15T14:43:37.611268",
     "exception": false,
     "start_time": "2022-09-15T14:43:37.596150",
     "status": "completed"
    },
    "tags": []
   },
   "source": [
    "<div style=\"text-align: left; background-color:#F19F9F; font-family: Trebuchet MS; color:#494545; padding: 20px; line-height:1.25;border-radius:1px; margin-bottom: 0em; text-align: center; font-size: 30px\">Analysis market data using Groupby:  </div>\n",
    "    <ul>\n",
    "      <li> <mark><b>Process raw data step by step</li>\n",
    "      <li> <mark><b>Data visualization</li>\n"
   ]
  },
  {
   "cell_type": "markdown",
   "id": "c1a52cfd",
   "metadata": {
    "papermill": {
     "duration": 0.015177,
     "end_time": "2022-09-15T14:43:37.641940",
     "exception": false,
     "start_time": "2022-09-15T14:43:37.626763",
     "status": "completed"
    },
    "tags": []
   },
   "source": [
    "<div style=\"font-family: Segoe UI; line-height: 2; color: #000000; text-align: justify\">\n",
    "    👉 <b>Understanding on groupby:</b>\n",
    "\n",
    "<h></h>\n",
    "\n",
    "Refer Tutorial [Click here]( https://www.geeksforgeeks.org/pandas-groupby/?ref=lbp)\n"
   ]
  },
  {
   "cell_type": "markdown",
   "id": "ad4ed5d3",
   "metadata": {
    "id": "RXxQczGXPFcW",
    "papermill": {
     "duration": 0.015223,
     "end_time": "2022-09-15T14:43:37.672664",
     "exception": false,
     "start_time": "2022-09-15T14:43:37.657441",
     "status": "completed"
    },
    "tags": []
   },
   "source": [
    "<div style=\"font-family: Segoe UI; line-height: 2; color: #000000; text-align: justify\">\n",
    "    👉 <b>Solving Airbnb data Problems:</b>\n",
    "\n",
    "---\n",
    "1.  How does proce varies for each neighbourhood group?\n",
    "2.  How many bookings per year does average place have according to neighborhood ?\n",
    "3. How does the minimum stay effect the service fee ?\n",
    "4. How does the room type effect the price ?\n",
    "5. Does the cancelation policy effect the price ?\n",
    "6. Does the ability to instantly book affect the price ?\n",
    "\n",
    "\n"
   ]
  },
  {
   "cell_type": "markdown",
   "id": "8e16ed45",
   "metadata": {
    "id": "hY9gh0eTR9lC",
    "papermill": {
     "duration": 0.015414,
     "end_time": "2022-09-15T14:43:37.703581",
     "exception": false,
     "start_time": "2022-09-15T14:43:37.688167",
     "status": "completed"
    },
    "tags": []
   },
   "source": [
    "<div style=\"font-family: Segoe UI; line-height: 2; color: #000000; text-align: justify\">\n",
    "    👉 <b>1. How does price varies for each neighbourhood group?</b>"
   ]
  },
  {
   "cell_type": "code",
   "execution_count": 15,
   "id": "333d2753",
   "metadata": {
    "execution": {
     "iopub.execute_input": "2022-09-15T14:43:37.736936Z",
     "iopub.status.busy": "2022-09-15T14:43:37.735829Z",
     "iopub.status.idle": "2022-09-15T14:43:37.754704Z",
     "shell.execute_reply": "2022-09-15T14:43:37.753834Z"
    },
    "executionInfo": {
     "elapsed": 464,
     "status": "ok",
     "timestamp": 1662728029581,
     "user": {
      "displayName": "Avijit Mondal",
      "userId": "08674227392784076944"
     },
     "user_tz": -330
    },
    "id": "zprU3Sn_xoUL",
    "outputId": "49aa6704-039d-4ec6-c815-c27c6bbdc4c2",
    "papermill": {
     "duration": 0.03775,
     "end_time": "2022-09-15T14:43:37.756843",
     "exception": false,
     "start_time": "2022-09-15T14:43:37.719093",
     "status": "completed"
    },
    "tags": []
   },
   "outputs": [
    {
     "data": {
      "text/plain": [
       "neighbourhood group\n",
       "Manhattan        27189434\n",
       "Brooklyn         26158345\n",
       "Queens            8340168\n",
       "Bronx             1698108\n",
       "Staten Island      594515\n",
       "Name: price, dtype: int64"
      ]
     },
     "execution_count": 15,
     "metadata": {},
     "output_type": "execute_result"
    }
   ],
   "source": [
    "##3.0.0 Grouping \n",
    "grp1=data['price'].groupby(data['neighbourhood group']).sum().sort_values(ascending=False)\n",
    "\n",
    "##3.0.1 show filtered data\n",
    "grp1.head()"
   ]
  },
  {
   "cell_type": "markdown",
   "id": "a5cab90a",
   "metadata": {
    "id": "p3Ac-EcXSUHJ",
    "papermill": {
     "duration": 0.015265,
     "end_time": "2022-09-15T14:43:37.787834",
     "exception": false,
     "start_time": "2022-09-15T14:43:37.772569",
     "status": "completed"
    },
    "tags": []
   },
   "source": [
    "<div style=\"font-family: Segoe UI; line-height: 2; color: #000000; text-align: justify\">\n",
    "    👉 <b>1. Bar Plotting:</b>\n"
   ]
  },
  {
   "cell_type": "code",
   "execution_count": 16,
   "id": "2a06a958",
   "metadata": {
    "execution": {
     "iopub.execute_input": "2022-09-15T14:43:37.821374Z",
     "iopub.status.busy": "2022-09-15T14:43:37.820671Z",
     "iopub.status.idle": "2022-09-15T14:43:38.104673Z",
     "shell.execute_reply": "2022-09-15T14:43:38.103262Z"
    },
    "executionInfo": {
     "elapsed": 530,
     "status": "ok",
     "timestamp": 1662730559242,
     "user": {
      "displayName": "Avijit Mondal",
      "userId": "08674227392784076944"
     },
     "user_tz": -330
    },
    "id": "_VbHEjHwSXmk",
    "outputId": "695ff725-a5c8-4054-fa9f-91e5370b81cb",
    "papermill": {
     "duration": 0.304065,
     "end_time": "2022-09-15T14:43:38.107558",
     "exception": false,
     "start_time": "2022-09-15T14:43:37.803493",
     "status": "completed"
    },
    "tags": []
   },
   "outputs": [
    {
     "data": {
      "image/png": "[encoded data removed]",
      "text/plain": [
       "<Figure size 432x288 with 1 Axes>"
      ]
     },
     "metadata": {
      "needs_background": "light"
     },
     "output_type": "display_data"
    }
   ],
   "source": [
    "##3.0.2 bar plotting\n",
    "grp1.plot.bar(ylabel='price', title=\" X:Price  Y:neighbourhood place > relationship\", color='red');"
   ]
  },
  {
   "cell_type": "markdown",
   "id": "900bfe22",
   "metadata": {
    "id": "iXiFP-bHV67q",
    "papermill": {
     "duration": 0.022705,
     "end_time": "2022-09-15T14:43:38.147978",
     "exception": false,
     "start_time": "2022-09-15T14:43:38.125273",
     "status": "completed"
    },
    "tags": []
   },
   "source": [
    "<div style=\"font-family: Segoe UI; line-height: 2; color: #000000; text-align: justify\">\n",
    "    👉 <b>2. How many bookings per year does average place have according to neighborhood?</b>"
   ]
  },
  {
   "cell_type": "code",
   "execution_count": 17,
   "id": "7a8ca4f1",
   "metadata": {
    "execution": {
     "iopub.execute_input": "2022-09-15T14:43:38.183518Z",
     "iopub.status.busy": "2022-09-15T14:43:38.183107Z",
     "iopub.status.idle": "2022-09-15T14:43:38.298458Z",
     "shell.execute_reply": "2022-09-15T14:43:38.297168Z"
    },
    "executionInfo": {
     "elapsed": 626,
     "status": "ok",
     "timestamp": 1662732172264,
     "user": {
      "displayName": "Avijit Mondal",
      "userId": "08674227392784076944"
     },
     "user_tz": -330
    },
    "id": "SFP2vSj3WFyS",
    "outputId": "1a46c657-061d-4975-975c-d691e546c3a7",
    "papermill": {
     "duration": 0.136164,
     "end_time": "2022-09-15T14:43:38.301135",
     "exception": false,
     "start_time": "2022-09-15T14:43:38.164971",
     "status": "completed"
    },
    "tags": []
   },
   "outputs": [
    {
     "data": {
      "text/plain": [
       "neighbourhood group\n",
       "manhatan         325.000000\n",
       "Staten Island    197.063874\n",
       "Bronx            177.983776\n",
       "Queens           161.058265\n",
       "Manhattan        141.540327\n",
       "Brooklyn         129.222886\n",
       "0                124.310345\n",
       "brookln           47.000000\n",
       "Name: Days_booked, dtype: float64"
      ]
     },
     "execution_count": 17,
     "metadata": {},
     "output_type": "execute_result"
    }
   ],
   "source": [
    "#2.0.0 renaming the column\n",
    "data.rename(columns={'availability 365':'Days_booked'},inplace=True)  \n",
    "\n",
    "#2.0.1 checking Days_booked  \n",
    "df=data['Days_booked']\n",
    "\n",
    "#2.0.2 Group by neighborhood with mean\n",
    "grp2=data.groupby(['neighbourhood group']).mean()\n",
    "grp2['Days_booked'].sort_values(ascending=False)"
   ]
  },
  {
   "cell_type": "markdown",
   "id": "9316c141",
   "metadata": {
    "id": "O2sF1SWAimEj",
    "papermill": {
     "duration": 0.015716,
     "end_time": "2022-09-15T14:43:38.333295",
     "exception": false,
     "start_time": "2022-09-15T14:43:38.317579",
     "status": "completed"
    },
    "tags": []
   },
   "source": [
    "<div style=\"font-family: Segoe UI; line-height: 2; color: #000000; text-align: justify\">\n",
    "    👉 <b>2. Pie Chart:</b>\n"
   ]
  },
  {
   "cell_type": "code",
   "execution_count": 18,
   "id": "4df78949",
   "metadata": {
    "execution": {
     "iopub.execute_input": "2022-09-15T14:43:38.367280Z",
     "iopub.status.busy": "2022-09-15T14:43:38.366881Z",
     "iopub.status.idle": "2022-09-15T14:43:38.721575Z",
     "shell.execute_reply": "2022-09-15T14:43:38.720258Z"
    },
    "executionInfo": {
     "elapsed": 1325,
     "status": "ok",
     "timestamp": 1662732300166,
     "user": {
      "displayName": "Avijit Mondal",
      "userId": "08674227392784076944"
     },
     "user_tz": -330
    },
    "id": "QisXLZ4ciz28",
    "outputId": "1034c471-be2c-414b-cc78-2b700eeebad7",
    "papermill": {
     "duration": 0.375021,
     "end_time": "2022-09-15T14:43:38.724343",
     "exception": false,
     "start_time": "2022-09-15T14:43:38.349322",
     "status": "completed"
    },
    "tags": []
   },
   "outputs": [
    {
     "data": {
      "image/png": "[encoded data removed]",
      "text/plain": [
       "<Figure size 576x576 with 1 Axes>"
      ]
     },
     "metadata": {},
     "output_type": "display_data"
    }
   ],
   "source": [
    "#2.0.3 Di\n",
    "grp2.plot.pie(y='Days_booked', figsize=(8,8));"
   ]
  },
  {
   "cell_type": "markdown",
   "id": "3dd939ef",
   "metadata": {
    "id": "QBCx4vhInWhw",
    "papermill": {
     "duration": 0.01728,
     "end_time": "2022-09-15T14:43:38.759815",
     "exception": false,
     "start_time": "2022-09-15T14:43:38.742535",
     "status": "completed"
    },
    "tags": []
   },
   "source": [
    "<div style=\"font-family: Segoe UI; line-height: 2; color: #000000; text-align: justify\">\n",
    "    👉 <b>3. How does the minimum stay effect the service fee?</b>\n"
   ]
  },
  {
   "cell_type": "code",
   "execution_count": 19,
   "id": "a8cbb551",
   "metadata": {
    "execution": {
     "iopub.execute_input": "2022-09-15T14:43:38.795591Z",
     "iopub.status.busy": "2022-09-15T14:43:38.795129Z",
     "iopub.status.idle": "2022-09-15T14:43:39.374586Z",
     "shell.execute_reply": "2022-09-15T14:43:39.373173Z"
    },
    "executionInfo": {
     "elapsed": 988,
     "status": "ok",
     "timestamp": 1662739710209,
     "user": {
      "displayName": "Avijit Mondal",
      "userId": "08674227392784076944"
     },
     "user_tz": -330
    },
    "id": "73nMu_7bnfan",
    "outputId": "0553157b-fcf8-44ae-cb75-e836678d55e6",
    "papermill": {
     "duration": 0.600566,
     "end_time": "2022-09-15T14:43:39.377316",
     "exception": false,
     "start_time": "2022-09-15T14:43:38.776750",
     "status": "completed"
    },
    "tags": []
   },
   "outputs": [
    {
     "data": {
      "image/png": "[encoded data removed]",
      "text/plain": [
       "<Figure size 432x288 with 1 Axes>"
      ]
     },
     "metadata": {
      "needs_background": "light"
     },
     "output_type": "display_data"
    }
   ],
   "source": [
    "#3.0.0 \n",
    "plt.scatter(x=data['service fee'], y=data['minimum nights'], c='green');\n",
    "plt.title(\"minimum stay affect service fee\");\n",
    "plt.xlabel(\"service fee\");\n"
   ]
  },
  {
   "cell_type": "markdown",
   "id": "0e1c2352",
   "metadata": {
    "id": "vFfNou78w6r6",
    "papermill": {
     "duration": 0.017071,
     "end_time": "2022-09-15T14:43:39.412030",
     "exception": false,
     "start_time": "2022-09-15T14:43:39.394959",
     "status": "completed"
    },
    "tags": []
   },
   "source": [
    "<div style=\"font-family: Segoe UI; line-height: 2; color: #000000; text-align: justify\">\n",
    "    👉 <b>4. How does the room type effect the price?</b>\n"
   ]
  },
  {
   "cell_type": "code",
   "execution_count": 20,
   "id": "e5ffe763",
   "metadata": {
    "execution": {
     "iopub.execute_input": "2022-09-15T14:43:39.449033Z",
     "iopub.status.busy": "2022-09-15T14:43:39.448240Z",
     "iopub.status.idle": "2022-09-15T14:43:39.493786Z",
     "shell.execute_reply": "2022-09-15T14:43:39.492604Z"
    },
    "id": "pYaF5bmHxBs-",
    "papermill": {
     "duration": 0.067209,
     "end_time": "2022-09-15T14:43:39.496389",
     "exception": false,
     "start_time": "2022-09-15T14:43:39.429180",
     "status": "completed"
    },
    "tags": []
   },
   "outputs": [
    {
     "data": {
      "text/plain": [
       "room type\n",
       "Entire home/apt    33484405\n",
       "Private room       29031592\n",
       "Shared room         1406505\n",
       "Hotel room            77542\n",
       "Name: price, dtype: int64"
      ]
     },
     "execution_count": 20,
     "metadata": {},
     "output_type": "execute_result"
    }
   ],
   "source": [
    "#4.0.0\n",
    "grp4=data.groupby(data['room type']).sum()\n",
    "grp4['price'].sort_values(ascending=False)"
   ]
  },
  {
   "cell_type": "markdown",
   "id": "5466a39d",
   "metadata": {
    "id": "PGfPesNvyEMh",
    "papermill": {
     "duration": 0.017037,
     "end_time": "2022-09-15T14:43:39.531046",
     "exception": false,
     "start_time": "2022-09-15T14:43:39.514009",
     "status": "completed"
    },
    "tags": []
   },
   "source": [
    "<div style=\"font-family: Segoe UI; line-height: 2; color: #000000; text-align: justify\">\n",
    "    👉 <b>4. Pie Plotting:</b>\n"
   ]
  },
  {
   "cell_type": "code",
   "execution_count": 21,
   "id": "dcbb15fd",
   "metadata": {
    "execution": {
     "iopub.execute_input": "2022-09-15T14:43:39.569069Z",
     "iopub.status.busy": "2022-09-15T14:43:39.568621Z",
     "iopub.status.idle": "2022-09-15T14:43:39.850525Z",
     "shell.execute_reply": "2022-09-15T14:43:39.849178Z"
    },
    "executionInfo": {
     "elapsed": 856,
     "status": "ok",
     "timestamp": 1662737499676,
     "user": {
      "displayName": "Avijit Mondal",
      "userId": "08674227392784076944"
     },
     "user_tz": -330
    },
    "id": "lpTn9Tc44C26",
    "outputId": "aea0a502-2de4-4251-cc0c-966d1245b8c2",
    "papermill": {
     "duration": 0.304496,
     "end_time": "2022-09-15T14:43:39.853389",
     "exception": false,
     "start_time": "2022-09-15T14:43:39.548893",
     "status": "completed"
    },
    "tags": []
   },
   "outputs": [
    {
     "data": {
      "image/png": "[encoded data removed]",
      "text/plain": [
       "<Figure size 576x576 with 1 Axes>"
      ]
     },
     "metadata": {},
     "output_type": "display_data"
    }
   ],
   "source": [
    "grp4.plot.pie(y='price', figsize=(8,8));"
   ]
  },
  {
   "cell_type": "markdown",
   "id": "049a3699",
   "metadata": {
    "id": "PoMA-8eA5itb",
    "papermill": {
     "duration": 0.017568,
     "end_time": "2022-09-15T14:43:39.889143",
     "exception": false,
     "start_time": "2022-09-15T14:43:39.871575",
     "status": "completed"
    },
    "tags": []
   },
   "source": [
    "<div style=\"font-family: Segoe UI; line-height: 2; color: #000000; text-align: justify\">\n",
    "    👉 <b>5. Does the cancelation policy effect the price ?</b>"
   ]
  },
  {
   "cell_type": "code",
   "execution_count": 22,
   "id": "8d3cbdb0",
   "metadata": {
    "execution": {
     "iopub.execute_input": "2022-09-15T14:43:39.926816Z",
     "iopub.status.busy": "2022-09-15T14:43:39.926366Z",
     "iopub.status.idle": "2022-09-15T14:43:39.962151Z",
     "shell.execute_reply": "2022-09-15T14:43:39.960852Z"
    },
    "executionInfo": {
     "elapsed": 619,
     "status": "ok",
     "timestamp": 1662739838433,
     "user": {
      "displayName": "Avijit Mondal",
      "userId": "08674227392784076944"
     },
     "user_tz": -330
    },
    "id": "qJ7LVKHx5nsT",
    "papermill": {
     "duration": 0.058441,
     "end_time": "2022-09-15T14:43:39.965449",
     "exception": false,
     "start_time": "2022-09-15T14:43:39.907008",
     "status": "completed"
    },
    "tags": []
   },
   "outputs": [],
   "source": [
    "#5.0.0 Grouping by catagorical column \n",
    "grp5=data.groupby(data['cancellation_policy']).sum()"
   ]
  },
  {
   "cell_type": "markdown",
   "id": "af731724",
   "metadata": {
    "id": "To7i0N919KSi",
    "papermill": {
     "duration": 0.018,
     "end_time": "2022-09-15T14:43:40.002847",
     "exception": false,
     "start_time": "2022-09-15T14:43:39.984847",
     "status": "completed"
    },
    "tags": []
   },
   "source": [
    "<div style=\"font-family: Segoe UI; line-height: 2; color: #000000; text-align: justify\">\n",
    "    👉 <b>5. Bar Plotting:</b>\n"
   ]
  },
  {
   "cell_type": "code",
   "execution_count": 23,
   "id": "5cde96d7",
   "metadata": {
    "execution": {
     "iopub.execute_input": "2022-09-15T14:43:40.040774Z",
     "iopub.status.busy": "2022-09-15T14:43:40.040077Z",
     "iopub.status.idle": "2022-09-15T14:43:40.263883Z",
     "shell.execute_reply": "2022-09-15T14:43:40.262722Z"
    },
    "executionInfo": {
     "elapsed": 564,
     "status": "ok",
     "timestamp": 1662739841510,
     "user": {
      "displayName": "Avijit Mondal",
      "userId": "08674227392784076944"
     },
     "user_tz": -330
    },
    "id": "oTHJDmam9OEY",
    "outputId": "93ea799d-caa9-480f-afb1-c30ea0faaa63",
    "papermill": {
     "duration": 0.245762,
     "end_time": "2022-09-15T14:43:40.266264",
     "exception": false,
     "start_time": "2022-09-15T14:43:40.020502",
     "status": "completed"
    },
    "tags": []
   },
   "outputs": [
    {
     "data": {
      "image/png": "[encoded data removed]",
      "text/plain": [
       "<Figure size 432x288 with 1 Axes>"
      ]
     },
     "metadata": {
      "needs_background": "light"
     },
     "output_type": "display_data"
    }
   ],
   "source": [
    "#5.0.1\n",
    "grp5['price'].sort_values(ascending=True).plot.bar(y='price', title=\"price and cancelation reletion\", color='r');"
   ]
  },
  {
   "cell_type": "markdown",
   "id": "e09be43d",
   "metadata": {
    "id": "9jnW3iZw9u08",
    "papermill": {
     "duration": 0.017913,
     "end_time": "2022-09-15T14:43:40.302011",
     "exception": false,
     "start_time": "2022-09-15T14:43:40.284098",
     "status": "completed"
    },
    "tags": []
   },
   "source": [
    "<div style=\"font-family: Segoe UI; line-height: 2; color: #000000; text-align: justify\">\n",
    "    👉 <b>5. Pie Plotting:</b>\n"
   ]
  },
  {
   "cell_type": "code",
   "execution_count": 24,
   "id": "38078e74",
   "metadata": {
    "execution": {
     "iopub.execute_input": "2022-09-15T14:43:40.340339Z",
     "iopub.status.busy": "2022-09-15T14:43:40.339539Z",
     "iopub.status.idle": "2022-09-15T14:43:40.600843Z",
     "shell.execute_reply": "2022-09-15T14:43:40.599694Z"
    },
    "executionInfo": {
     "elapsed": 619,
     "status": "ok",
     "timestamp": 1662739847658,
     "user": {
      "displayName": "Avijit Mondal",
      "userId": "08674227392784076944"
     },
     "user_tz": -330
    },
    "id": "Dh3dIIca9zWz",
    "outputId": "78ea7210-fe8b-4f1d-ab81-f66c3059cd87",
    "papermill": {
     "duration": 0.283688,
     "end_time": "2022-09-15T14:43:40.603748",
     "exception": false,
     "start_time": "2022-09-15T14:43:40.320060",
     "status": "completed"
    },
    "tags": []
   },
   "outputs": [
    {
     "data": {
      "image/png": "[encoded data removed]",
      "text/plain": [
       "<Figure size 648x648 with 1 Axes>"
      ]
     },
     "metadata": {},
     "output_type": "display_data"
    }
   ],
   "source": [
    "grp5.plot.pie(y='price', figsize=(9,9));"
   ]
  },
  {
   "cell_type": "markdown",
   "id": "caeb4575",
   "metadata": {
    "id": "eADQmNonskzZ",
    "papermill": {
     "duration": 0.018519,
     "end_time": "2022-09-15T14:43:40.641288",
     "exception": false,
     "start_time": "2022-09-15T14:43:40.622769",
     "status": "completed"
    },
    "tags": []
   },
   "source": [
    "<div style=\"font-family: Segoe UI; line-height: 2; color: #000000; text-align: justify\">\n",
    "    👉 <b>Value_counts & plotting:</b>\n",
    "\n",
    "<h></h>\n",
    "\n",
    "Refer Tutorial [Click here](https://pandas.pydata.org/docs/reference/api/pandas.Series.value_counts.html)"
   ]
  },
  {
   "cell_type": "code",
   "execution_count": 25,
   "id": "1fd55609",
   "metadata": {
    "execution": {
     "iopub.execute_input": "2022-09-15T14:43:40.680475Z",
     "iopub.status.busy": "2022-09-15T14:43:40.680025Z",
     "iopub.status.idle": "2022-09-15T14:43:40.871531Z",
     "shell.execute_reply": "2022-09-15T14:43:40.870631Z"
    },
    "id": "X4NqEuu1pkPR",
    "papermill": {
     "duration": 0.214327,
     "end_time": "2022-09-15T14:43:40.874184",
     "exception": false,
     "start_time": "2022-09-15T14:43:40.659857",
     "status": "completed"
    },
    "tags": []
   },
   "outputs": [
    {
     "data": {
      "image/png": "[encoded data removed]",
      "text/plain": [
       "<Figure size 432x288 with 1 Axes>"
      ]
     },
     "metadata": {
      "needs_background": "light"
     },
     "output_type": "display_data"
    }
   ],
   "source": [
    "## Return of neighbourhood group's unique values\n",
    "data['neighbourhood'].value_counts() ##Default Descending order\n",
    "\n",
    "## value_counts with parameter \n",
    "ng=data['neighbourhood group'].value_counts(normalize=True) \n",
    "##Plotting of neighbourhood group\n",
    "ng.plot(kind='bar');\n"
   ]
  },
  {
   "cell_type": "markdown",
   "id": "a7a2b33a",
   "metadata": {
    "id": "Tjt5AyV60MzH",
    "papermill": {
     "duration": 0.018531,
     "end_time": "2022-09-15T14:43:40.911733",
     "exception": false,
     "start_time": "2022-09-15T14:43:40.893202",
     "status": "completed"
    },
    "tags": []
   },
   "source": [
    "<div style=\"font-family: Segoe UI; line-height: 2; color: #000000; text-align: justify\">\n",
    "    👉 <b>Unique data & Reletionsa:</b>\n",
    "\n",
    "<h></h>\n",
    "\n",
    "Refer Tutorial [Click here]( https://www.geeksforgeeks.org/python-pandas-series-unique/)\n"
   ]
  },
  {
   "cell_type": "code",
   "execution_count": 26,
   "id": "08293ad8",
   "metadata": {
    "execution": {
     "iopub.execute_input": "2022-09-15T14:43:40.952238Z",
     "iopub.status.busy": "2022-09-15T14:43:40.951465Z",
     "iopub.status.idle": "2022-09-15T14:43:41.094440Z",
     "shell.execute_reply": "2022-09-15T14:43:41.093243Z"
    },
    "executionInfo": {
     "elapsed": 471,
     "status": "ok",
     "timestamp": 1662739054929,
     "user": {
      "displayName": "Avijit Mondal",
      "userId": "08674227392784076944"
     },
     "user_tz": -330
    },
    "id": "FcBnU9r40SVu",
    "outputId": "929ebe54-82a1-43ab-8d27-beb175925f16",
    "papermill": {
     "duration": 0.165969,
     "end_time": "2022-09-15T14:43:41.097035",
     "exception": false,
     "start_time": "2022-09-15T14:43:40.931066",
     "status": "completed"
    },
    "tags": []
   },
   "outputs": [
    {
     "data": {
      "image/png": "[encoded data removed]",
      "text/plain": [
       "<Figure size 432x288 with 1 Axes>"
      ]
     },
     "metadata": {
      "needs_background": "light"
     },
     "output_type": "display_data"
    }
   ],
   "source": [
    "## Showing the room type\n",
    "bd=data[['price','room type']].nunique()\n",
    "\n",
    "## Plotting\n",
    "bd.plot(kind='line');"
   ]
  },
  {
   "cell_type": "markdown",
   "id": "de78a9d4",
   "metadata": {
    "papermill": {
     "duration": 0.018883,
     "end_time": "2022-09-15T14:43:41.135375",
     "exception": false,
     "start_time": "2022-09-15T14:43:41.116492",
     "status": "completed"
    },
    "tags": []
   },
   "source": [
    "### <div style=\"text-align: left; background-color:#CFD9F1 ; font-family: Trebuchet MS; color: #0A3399; padding: 15px; line-height:1;border-radius:1px; margin-bottom: 0em; text-align: center; font-size: 25px\">     👉 Comparing reletions among price, neighbourhood group, room type etc </div>"
   ]
  },
  {
   "cell_type": "code",
   "execution_count": 27,
   "id": "f56ed2e9",
   "metadata": {
    "execution": {
     "iopub.execute_input": "2022-09-15T14:43:41.175896Z",
     "iopub.status.busy": "2022-09-15T14:43:41.174867Z",
     "iopub.status.idle": "2022-09-15T14:43:42.142016Z",
     "shell.execute_reply": "2022-09-15T14:43:42.140908Z"
    },
    "papermill": {
     "duration": 0.989943,
     "end_time": "2022-09-15T14:43:42.144368",
     "exception": false,
     "start_time": "2022-09-15T14:43:41.154425",
     "status": "completed"
    },
    "tags": []
   },
   "outputs": [
    {
     "data": {
      "image/png": "[encoded data removed]",
      "text/plain": [
       "<Figure size 1440x1080 with 4 Axes>"
      ]
     },
     "metadata": {
      "needs_background": "light"
     },
     "output_type": "display_data"
    }
   ],
   "source": [
    "ig, ax = plt.subplots(nrows=2, ncols=2, sharey=True, figsize=(20,15))\n",
    "\n",
    "sns.set_palette(\"flare\")\n",
    "\n",
    "tmp_airbnb = data.copy()\n",
    "data['review rate number'] = data['review rate number'].astype(\"category\")\n",
    "\n",
    "sns.boxplot(x='review rate number', y='price', data=tmp_airbnb, ax=ax[0,0]);\n",
    "sns.boxplot(x='neighbourhood group', y='price', data=tmp_airbnb, ax=ax[0,1]);\n",
    "sns.boxplot(x='host_identity_verified', y='price', data=tmp_airbnb, ax=ax[1,0]);\n",
    "sns.boxplot(x='room type', y='price', data=tmp_airbnb, ax=ax[1,1]);\n"
   ]
  },
  {
   "cell_type": "markdown",
   "id": "39f1d0e3",
   "metadata": {
    "papermill": {
     "duration": 0.019774,
     "end_time": "2022-09-15T14:43:42.184640",
     "exception": false,
     "start_time": "2022-09-15T14:43:42.164866",
     "status": "completed"
    },
    "tags": []
   },
   "source": [
    "<div style=\"border-radius:10px;\n",
    "            border :#0A0104 solid;\n",
    "            padding: 15px;\n",
    "            background-color:#FFF0F5 ;\n",
    "           font-size:110%;\n",
    "            text-align: left\">\n",
    "<p style=\"font-family:newtimeroman;font-size:130%;text-align:center;border-radius:20px 20px;\"> If you liked this Notebook, please do upvote.<br> If you have any questions, feel free to comment!<br> ✨Best Wishes✨</p>"
   ]
  },
  {
   "cell_type": "markdown",
   "id": "7849c11d",
   "metadata": {
    "papermill": {
     "duration": 0.020909,
     "end_time": "2022-09-15T14:43:42.226273",
     "exception": false,
     "start_time": "2022-09-15T14:43:42.205364",
     "status": "completed"
    },
    "tags": []
   },
   "source": [
    "![https://jessieslegacy.com/wp-content/uploads/2014/01/thankyou_ikit.png](https://jessieslegacy.com/wp-content/uploads/2014/01/thankyou_ikit.png)"
   ]
  }
 ],
 "metadata": {
  "kernelspec": {
   "display_name": "Python 3",
   "language": "python",
   "name": "python3"
  },
  "language_info": {
   "codemirror_mode": {
    "name": "ipython",
    "version": 3
   },
   "file_extension": ".py",
   "mimetype": "text/x-python",
   "name": "python",
   "nbconvert_exporter": "python",
   "pygments_lexer": "ipython3",
   "version": "3.7.12"
  },
  "papermill": {
   "default_parameters": {},
   "duration": 19.286255,
   "end_time": "2022-09-15T14:43:43.069098",
   "environment_variables": {},
   "exception": null,
   "input_path": "__notebook__.ipynb",
   "output_path": "__notebook__.ipynb",
   "parameters": {},
   "start_time": "2022-09-15T14:43:23.782843",
   "version": "2.3.4"
  }
 },
 "nbformat": 4,
 "nbformat_minor": 5
}
